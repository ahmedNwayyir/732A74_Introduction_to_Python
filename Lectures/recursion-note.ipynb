{
 "cells": [
  {
   "cell_type": "markdown",
   "metadata": {},
   "source": [
    "# Recursion, a worked example [beta]"
   ]
  },
  {
   "cell_type": "markdown",
   "metadata": {},
   "source": [
    "Note written for LiU course 732A74 by Anders Märak Leffler in 2019. The author welcomes comments and questions.\n",
    "\n",
    "[CC-BY-SA 4.0](https://creativecommons.org/licenses/by-sa/4.0/)"
   ]
  },
  {
   "cell_type": "markdown",
   "metadata": {},
   "source": [
    "## Introduction.\n",
    "Recursion is the main way of creating repeated operations in functional programming. It consists of functions calling themselves, instead of using iterative constructs such as `while`- or `for`-loops which implicity require some kind of state. \n",
    "\n",
    "This is generally a more mathematical way of defining operations and many famous mathematical functions, such as the Fibonacci function, have a recursive definition, even though they usually can be implemented iteratively. Below we will use a toy example as a way of introducing linear recursion. This might be of particular interest if you haven't taken undergraduate programming (or theory of computation)."
   ]
  },
  {
   "cell_type": "markdown",
   "metadata": {},
   "source": [
    "**Although there are some self-study questions below, you do not need to hand in this notebook.**"
   ]
  },
  {
   "cell_type": "markdown",
   "metadata": {},
   "source": [
    "### Taking a very imperative view (to start with)\n",
    "\n",
    "Since it is likely that most students who haven't already seen this have an imperative view of these calculations, this note will start \"top down\" with a somewhat practical way of writing linearly recursive functions. This is only to provide an intuition. We will then return to the \"proper\" mathematical identities."
   ]
  },
  {
   "cell_type": "markdown",
   "metadata": {},
   "source": [
    "### Is this useful knowledge outside functional languages?\n",
    "\n",
    "We will be using a toy example, and a favourite of introductory courses. More practical examples of recursive functions or recursive identities abound in eg network optimisation, traversing decision trees (in machine learning), analysing text structure, programs, and the like. It is not also unusual that a recursive identity is given a fast imperative implementation. So whereas Pythonic code seldom overuses explicit recursion, or pure recursive functions (plenty of recursive traversal over tree structures might take place, but not in a purely functional manner), it is useful to know."
   ]
  },
  {
   "cell_type": "markdown",
   "metadata": {},
   "source": [
    "## A worked example"
   ]
  },
  {
   "cell_type": "markdown",
   "metadata": {},
   "source": [
    "Consider the (fairly standard) example of calculating [triangular numbers](https://en.wikipedia.org/wiki/Triangular_number). That is, those satisfying `triangle(n) = 1 + 2 + ... + n`. The goal here is to for any allowed $n$, express `triangle(n)` in terms of `triangle(k)` for some smaller input, and in terms of some \"smallest\" input."
   ]
  },
  {
   "cell_type": "markdown",
   "metadata": {},
   "source": [
    "In the case of numbers it might seem reasonable to use \"the previous number\" as the smaller case. In general, we might have several possible choices. For instance, if we express the classification we get from a binary decision tree as an identity of this kind, we might have to consider subtrees as \"the possible smaller case**s**\". In the case of this recursive identity, we however have only one choice."
   ]
  },
  {
   "cell_type": "markdown",
   "metadata": {},
   "source": [
    "## The trick of \"magic\" reference functions"
   ]
  },
  {
   "cell_type": "markdown",
   "metadata": {},
   "source": [
    "We start writing the function:"
   ]
  },
  {
   "cell_type": "code",
   "execution_count": null,
   "metadata": {},
   "outputs": [],
   "source": [
    "def triangle(n):\n",
    "    pass"
   ]
  },
  {
   "cell_type": "markdown",
   "metadata": {},
   "source": [
    "How do we express the solution in terms of a smaller case? Let's initially suppose, for the sake of argument, that we had provided **a \"magic\" reference function** `triangle_reference` which would always give us the answer for smaller cases. (I refrain from using the word \"oracle\" here, as this might in some settings suggest that the function runs in constant time.)\n",
    "\n",
    "It's not necessarily the case that we can write such a function, but happily for this note we can implement one which enables us to test the code in this case. Otherwise it would be a theoretical construct. From earlier lab work (or lecture notes) we might conclude that it would look somewhat like:"
   ]
  },
  {
   "cell_type": "code",
   "execution_count": null,
   "metadata": {},
   "outputs": [],
   "source": [
    "def triangle_reference(n):\n",
    "    result = 0\n",
    "    for k in range(n+1):\n",
    "        result = result + k\n",
    "    return result       \n",
    "\n",
    "# Or equivalently\n",
    "def triangle_reference(n):\n",
    "    return sum(range(n+1))"
   ]
  },
  {
   "cell_type": "markdown",
   "metadata": {},
   "source": [
    "How would we then start to express `triangle(n)`? If we decided that the \"smaller\" case if we had an input of $n$ was always the penultimate number $n-1$, it might look something like this:"
   ]
  },
  {
   "cell_type": "code",
   "execution_count": null,
   "metadata": {},
   "outputs": [],
   "source": [
    "# This code is not finished yet!\n",
    "def triangle(n):\n",
    "    prev_result = triangle_reference(n-1)    # using magic reference function\n",
    "    # If n=5, prev_result will - magically - be the correct result for n=4.\n",
    "    # What remains is to extend this result and return it.\n",
    "    return \"something good here\" # Return something."
   ]
  },
  {
   "cell_type": "markdown",
   "metadata": {},
   "source": [
    "We might extend this to cover the case $n$ straight away if we see how. \n",
    "\n",
    "In other cases, it might be useful to **write out a few simple cases**, and what they are supposed to return. We take a few examples:\n",
    "\n",
    "`triangle(0) = 0`\n",
    "\n",
    "`triangle(1) = 0 + 1 = 1`\n",
    "\n",
    "`triangle(2) = 0 + 1 + 2 = 3`\n",
    "\n",
    "`triangle(3) = 0 + 1 + 2 + 3 = 6`\n",
    "\n",
    "If we knew the answer for $n=2$ and wanted to extend this into an answer for $n=3$, we see that the difference is adding $3$. If we we knew the answer for $n=1$ and wanted to extend this into an answer for $n=2$ we would add $2$. And so on. \n",
    "\n",
    "If we have it written out we can sometimes (not always, but sometimes) match this up fairly easily:\n",
    "\n",
    "`triangle(2) = 0 + 1 + 2 = 3`\n",
    "\n",
    "`triangle(3) = 0 + 1 + 2 + 3 = 6`\n",
    "\n",
    "So `triangle(3) = (0 + 1 + 2) + 3 = triangle(2) + 3 = 6`.\n",
    "\n",
    "\n",
    "\n",
    "**We can see that for $n>0$ we would get the result by adding $n$.** In our case, the code could now be extended to "
   ]
  },
  {
   "cell_type": "code",
   "execution_count": null,
   "metadata": {},
   "outputs": [],
   "source": [
    "# This code is not finished yet!\n",
    "def triangle(n):\n",
    "    prev_result = triangle_reference(n-1)    # using magic reference function\n",
    "    return prev_result + n"
   ]
  },
  {
   "cell_type": "markdown",
   "metadata": {},
   "source": [
    "This still has a few issues, in terms of our solution.\n",
    "* It only says something about the cases where $n>0$. $n<0$ is irrelevant, but $n = 0$ might turn out to be useful.\n",
    "* Even more obvious is that it contains references to our \"magic\" reference function. We can't depend on such skyhooks. In particular, when we solve problems where we don't have a reference implementation, this will be impossible."
   ]
  },
  {
   "cell_type": "markdown",
   "metadata": {},
   "source": [
    "### A base case"
   ]
  },
  {
   "cell_type": "markdown",
   "metadata": {},
   "source": [
    "Let's say that we needed to cover $n=0$ as well, and thus fix our \"smallest\" input. That is, we add a **base case**. The question then becomes what this should yield. Looking at it mathematically, it seems reasonable that the answer is $0$. This can either be seen directly from the problem statement, or by noting that `triangle(1)` is considered to be 1 + the reference value for $0$. If `triangle(1)` is supposed to return 1, then `triangle(0)` + 1 should be 1."
   ]
  },
  {
   "cell_type": "code",
   "execution_count": null,
   "metadata": {},
   "outputs": [],
   "source": [
    "# This code is not finished yet!\n",
    "def triangle(n):\n",
    "    if n == 0:\n",
    "        return 0\n",
    "    else:\n",
    "        prev_result = triangle_reference(n-1)            # using magic reference function\n",
    "        return prev_result + n"
   ]
  },
  {
   "cell_type": "markdown",
   "metadata": {},
   "source": [
    "### Replacing the magic reference function with..."
   ]
  },
  {
   "cell_type": "markdown",
   "metadata": {},
   "source": [
    "Now we take the scaffolding off, and replace it with our own function:"
   ]
  },
  {
   "cell_type": "code",
   "execution_count": null,
   "metadata": {},
   "outputs": [],
   "source": [
    "# This code is not finished yet!\n",
    "def triangle(n):\n",
    "    if n == 0:\n",
    "        return 0\n",
    "    else:\n",
    "        prev_result = triangle(n-1)            # <- Now using triangle!\n",
    "        return prev_result + n"
   ]
  },
  {
   "cell_type": "markdown",
   "metadata": {},
   "source": [
    "Since we use this only once, we can skip the `prev_result` binding altogether."
   ]
  },
  {
   "cell_type": "code",
   "execution_count": null,
   "metadata": {},
   "outputs": [],
   "source": [
    "def triangle(n):\n",
    "    if n == 0:\n",
    "        return 0\n",
    "    else:\n",
    "        return triangle(n-1)  + n     # prev_result replaced by the expression."
   ]
  },
  {
   "cell_type": "markdown",
   "metadata": {},
   "source": [
    "Try it out. It seems to work."
   ]
  },
  {
   "cell_type": "code",
   "execution_count": null,
   "metadata": {},
   "outputs": [],
   "source": [
    "triangle(0)"
   ]
  },
  {
   "cell_type": "code",
   "execution_count": null,
   "metadata": {},
   "outputs": [],
   "source": [
    "triangle(1)"
   ]
  },
  {
   "cell_type": "code",
   "execution_count": null,
   "metadata": {
    "scrolled": true
   },
   "outputs": [],
   "source": [
    "triangle(5)"
   ]
  },
  {
   "cell_type": "markdown",
   "metadata": {},
   "source": [
    "The leap of faith here is that we trust our `triangle` to calculate the value for $n-1$. We knew that our function would work if we were allowed to consult a magic reference function, but why does it make sense to trust our function now?"
   ]
  },
  {
   "cell_type": "markdown",
   "metadata": {},
   "source": [
    "## How does it work?"
   ]
  },
  {
   "cell_type": "markdown",
   "metadata": {},
   "source": [
    "Why does it seem to work? It might be useful to follow the calls:"
   ]
  },
  {
   "cell_type": "code",
   "execution_count": null,
   "metadata": {
    "scrolled": true
   },
   "outputs": [],
   "source": [
    "# Run this cell!\n",
    "\n",
    "def triangle(n):\n",
    "    print(\"Hey, someone called triangle({})\".format(n))  \n",
    "    if n == 0:\n",
    "        return 0\n",
    "    else:\n",
    "        return triangle(n-1)  + n\n",
    "    \n",
    "triangle(3)"
   ]
  },
  {
   "cell_type": "markdown",
   "metadata": {},
   "source": [
    "This is useful, but it doesn't tell us what happens in terms of return values. How do we generate these?\n",
    "\n",
    "We rewrite the structure slightly, to see what the function calls return."
   ]
  },
  {
   "cell_type": "code",
   "execution_count": null,
   "metadata": {},
   "outputs": [],
   "source": [
    "# Run this cell!\n",
    "\n",
    "def triangle(n):\n",
    "    print(\"Hey, someone called triangle({})\".format(n))  \n",
    "    if n == 0:\n",
    "        retval =0\n",
    "    else:\n",
    "        retval = triangle(n-1)  + n\n",
    "    print(\"Now we're back in triangle({}), and (after possibly adding {}) return {}.\".format(n, n, retval))  \n",
    "    return retval\n",
    "    \n",
    "triangle(3)"
   ]
  },
  {
   "cell_type": "markdown",
   "metadata": {},
   "source": [
    "If we want this to be even more readable, consider the following code, which groups information from the same function call at the same indentation level:"
   ]
  },
  {
   "cell_type": "code",
   "execution_count": null,
   "metadata": {
    "scrolled": true
   },
   "outputs": [],
   "source": [
    "# Run this cell!\n",
    "\n",
    "def triangle(n, indent=0):\n",
    "    print(\" \"*indent, end=\"\")   # Indent the printout for readability.\n",
    "    print(\"Hey, someone called triangle({})\".format(n))    \n",
    "    \n",
    "    if n == 0:\n",
    "        retval = 0\n",
    "    else:\n",
    "        retval = triangle(n-1, indent+1)  + n\n",
    "        \n",
    "        \n",
    "    print(\" \"*indent, end=\"\")   # Indent the printout for readability.\n",
    "    print(\"Now we're back in triangle({}), and (after possibly adding {}) return {}.\".format(n, n, retval))\n",
    "    return retval\n",
    "    \n",
    "triangle(3)"
   ]
  },
  {
   "cell_type": "markdown",
   "metadata": {},
   "source": [
    "Look at the call structure from the innermost call and out. Who called `triangle(0)`? What happened to the return value? What happened to that function call's return value, in turn? And so on."
   ]
  },
  {
   "cell_type": "markdown",
   "metadata": {},
   "source": [
    "[Press enter in this cell and remove the <!-- comments --&gt; in this cell for an unfolding of the expression.]\n",
    "\n",
    "<!--\n",
    "\n",
    "And so on. In the end, the calculation of `triangle(3)` becomes \n",
    "\n",
    "`triangle(3) = \n",
    "triangle(2) + 3 = \n",
    "(triangle(1) + 2) + 3 = \n",
    "((triangle(0) + 1) + 2) + 3 = \n",
    "((0 + 1) + 2) + 3 = \n",
    "(1 + 2) + 3 = \n",
    "3 + 3 = \n",
    "6`.\n",
    "\n",
    "-->"
   ]
  },
  {
   "cell_type": "markdown",
   "metadata": {},
   "source": [
    "### What does it express?\n",
    "\n",
    "Above we see operationally, in the working of the program, that `triangle(n) = triangle(n-1) + n` for $n>0$ and `triangle(0) = 0`. This is actually just a rewriting in Python of the mathematical identity which defines triangle numbers:\n",
    "\n",
    "$triangle(n) = \\left\\{\\begin{matrix}triangle(n-1) + n & n > 0, \\\\\n",
    "0 & \\text{for}\\quad n = 0.\\end{matrix}\\right.$"
   ]
  },
  {
   "cell_type": "markdown",
   "metadata": {},
   "source": [
    "## A note on Pythonisms\n",
    "\n",
    "If `val` is in some sense an \"empty\" value in Python - the number 0, the empty list, the empty string, ... - we will by convention be able to detect it by `not val` being `True`. So the code above could be written"
   ]
  },
  {
   "cell_type": "code",
   "execution_count": null,
   "metadata": {},
   "outputs": [],
   "source": [
    "def triangle(n):\n",
    "    if not n:\n",
    "        return 0\n",
    "    else:\n",
    "        return triangle(n-1) + n"
   ]
  },
  {
   "cell_type": "markdown",
   "metadata": {},
   "source": [
    "Or even simpler"
   ]
  },
  {
   "cell_type": "code",
   "execution_count": null,
   "metadata": {},
   "outputs": [],
   "source": [
    "def triangle(n):\n",
    "    if not n:\n",
    "        return n          # Note that one character changed here.\n",
    "    else:\n",
    "        return triangle(n-1) + n"
   ]
  },
  {
   "cell_type": "markdown",
   "metadata": {},
   "source": [
    "## Summing up the strategy\n",
    "\n",
    "Above we see a few things of note:\n",
    "* A base case. Some smallest case (possibly several), here $n=0$.\n",
    "\n",
    "In many cases in Python this will be the `if not <input variable>` case (the empty list, string, ...). Here we have some fixed value.\n",
    "\n",
    "* Recursive case(s). \n",
    "\n",
    "Find out what the previous case(s) might be, make recursive call(s) and combine or extend the result somehow. As a strategy it might be helpful to make reference to a \"magic\" function until you're done with the code. Here the previous case was fairly obvious, but it might typically be \"every element except the current one we're looking at\", \"the child nodes in the tree\" or the like.\n",
    "\n",
    "(We naturally don't need the reference function. We might as well have used `triangle` immediately. But the \"assume that your function works for smaller values\" step often turns out to be rather hard to grasp at first. Having a more or less concrete \"magic\" other function to outsource this part of the thinking to might help until one has got the hang of this.)\n",
    "\n",
    "* Writing small example calculations on paper. Sometimes it is a surprisingly helpful tool to debug one's ideas before coding.\n",
    "* Tracing function calls. Above we simply print the input values that a function has been called with, and the return values."
   ]
  },
  {
   "cell_type": "markdown",
   "metadata": {},
   "source": [
    "## Matematical aside (not required)\n",
    "\n",
    "This all depends on the structure we're working with having some useful order and some smallest element(s). It's possible to find a smallest natural number, a leaf in the tree or the like. Operationally, that means that we don't have to have infinite loops by definition. It is also useful - indeed required - to find a discrete \"previous case\" to extend (we do not end up with impossible  questions such as \"which is the next real number after $\\pi$?\"). \n",
    "\n",
    "Those who revel in the theory of different kinds of recursion and the theoretical underpinnings of computer science might be interested in the book \"Computability: an introduction to recursive function theory\" by Cutland. At the time of writing, it is available at the LiU library. This is quite outside the scope of this course."
   ]
  },
  {
   "cell_type": "markdown",
   "metadata": {},
   "source": [
    "### Imperative style"
   ]
  },
  {
   "cell_type": "markdown",
   "metadata": {},
   "source": [
    "Above we write the code in a fairly imperative style with `if` statements grouping sequences of instructions together (although the sequences in the end were turned into a single `return` in both branches). Since this is a mathematical identity where we always expect some form of return value, we could of course write it using expressions instead."
   ]
  },
  {
   "cell_type": "code",
   "execution_count": null,
   "metadata": {},
   "outputs": [],
   "source": [
    "def triangle(n):\n",
    "    return 0 if not n else triangle(n-1) + n"
   ]
  },
  {
   "cell_type": "markdown",
   "metadata": {},
   "source": [
    "## Debugging and common mistakes"
   ]
  },
  {
   "cell_type": "markdown",
   "metadata": {},
   "source": [
    "[Note: it might be worth noting that we can cancel all (runaway) computations in Jupyter notebooks and restart the kernel. Note the stop-sign button and Run button above.]"
   ]
  },
  {
   "cell_type": "markdown",
   "metadata": {},
   "source": [
    "The following is a stripped-down version of a a fairly common mistake. What is the problem with it (mathematically), and what might happen?"
   ]
  },
  {
   "cell_type": "code",
   "execution_count": null,
   "metadata": {},
   "outputs": [],
   "source": [
    "def bad_triangle(n):\n",
    "    return bad_triangle(n-1) + n"
   ]
  },
  {
   "cell_type": "markdown",
   "metadata": {},
   "source": [
    "Inserting a `print` call (or an `assert`ion) might help you show what calls are performed. What is the problem?"
   ]
  },
  {
   "cell_type": "code",
   "execution_count": null,
   "metadata": {},
   "outputs": [],
   "source": []
  },
  {
   "cell_type": "markdown",
   "metadata": {},
   "source": [
    "We might also encounter this one:"
   ]
  },
  {
   "cell_type": "code",
   "execution_count": null,
   "metadata": {},
   "outputs": [],
   "source": [
    "def triangle(n):\n",
    "    if not n:\n",
    "        return 0\n",
    "    return triangle(n) + n"
   ]
  },
  {
   "cell_type": "markdown",
   "metadata": {},
   "source": [
    "What is the problem? Read the code carefully!"
   ]
  },
  {
   "cell_type": "code",
   "execution_count": null,
   "metadata": {},
   "outputs": [],
   "source": []
  },
  {
   "cell_type": "markdown",
   "metadata": {},
   "source": [
    "Another version might be the following (as we might rewrite the code above without an else statement):"
   ]
  },
  {
   "cell_type": "code",
   "execution_count": null,
   "metadata": {},
   "outputs": [],
   "source": [
    "def bad_triangle(n):\n",
    "    if n > 0:\n",
    "        return bad_triangle(n-1) + n"
   ]
  },
  {
   "cell_type": "markdown",
   "metadata": {},
   "source": [
    "Since we have almost entirely consistently written our code with if-then-else, it's fairly obvious what is missing here. But it might be useful to try to predict in *what way* this code may fail. Will it be wrong in a way that is different from the one above? Try it out."
   ]
  },
  {
   "cell_type": "code",
   "execution_count": null,
   "metadata": {},
   "outputs": [],
   "source": []
  },
  {
   "cell_type": "markdown",
   "metadata": {},
   "source": [
    "## A note on tail recursive functions"
   ]
  },
  {
   "cell_type": "markdown",
   "metadata": {},
   "source": [
    "Tail recursive functions are those recursive functions where there are no delayed computations before the value is returned. In the code above, we had the line `return triangle(n-1) + n`. Before returning the value, we needed to perform that last addition. This ensures that we can't perform certain optimisations that allow the function to run in constant memory\\*. \n",
    "\n",
    "\n",
    "\\* Python doesn't support tail call optimisation (TCO or TRE) anyway, according to the standard (due to a [design decision](https://neopythonic.blogspot.com/2009/04/tail-recursion-elimination.html) by Guido van Rossum). A testament to Python's flexibility is that can get around this by means of decorators."
   ]
  },
  {
   "cell_type": "markdown",
   "metadata": {},
   "source": [
    "### A tail recursive version of `triangle`\n",
    "\n",
    "Can we rewrite the code above into a solution which achieves the same result, but in a tail recursive fashion? Yes. If we add upp the results along the way, instead of adding them up after the recursive call has finished, we won't have any saved computations. Introducing an accumulator or results parameter allows us to do this in a fairly simple way, at least when we don't need tree recursion."
   ]
  },
  {
   "cell_type": "code",
   "execution_count": null,
   "metadata": {},
   "outputs": [],
   "source": [
    "# Takes a , and has a result parameter.\n",
    "\n",
    "def triangle_it(n, res=???):\n",
    "    if not n:\n",
    "        return res\n",
    "    else:\n",
    "        return triangle_it(????, ????)"
   ]
  },
  {
   "cell_type": "markdown",
   "metadata": {},
   "source": [
    "Note that in the end, we simply return the accumulator/result value. This also gives us a hint about what the value ought to be to start with (if $n=0$, then $res$ should be whatever $triangle\\_it(0)$ ought to be)."
   ]
  },
  {
   "cell_type": "code",
   "execution_count": null,
   "metadata": {},
   "outputs": [],
   "source": [
    "def triangle_it(n, res=0):\n",
    "    if not n:\n",
    "        return res\n",
    "    else:\n",
    "        return triangle_it(????, ????)"
   ]
  },
  {
   "cell_type": "markdown",
   "metadata": {},
   "source": [
    "Thus we get to"
   ]
  },
  {
   "cell_type": "code",
   "execution_count": null,
   "metadata": {},
   "outputs": [],
   "source": [
    "def triangle_it(n, res=0):\n",
    "    if not n:\n",
    "        return res\n",
    "    else:\n",
    "        return triangle_it(n - 1, ???)"
   ]
  },
  {
   "cell_type": "markdown",
   "metadata": {},
   "source": [
    "And finally"
   ]
  },
  {
   "cell_type": "code",
   "execution_count": null,
   "metadata": {},
   "outputs": [],
   "source": [
    "def triangle_it(n, res=0):\n",
    "    if not n:\n",
    "        return res\n",
    "    else:\n",
    "        return triangle_it(n - 1, res + n)"
   ]
  },
  {
   "cell_type": "markdown",
   "metadata": {},
   "source": [
    "It might be helpful to print the values of $n$ and $res$ along a simple call, to understand how this works."
   ]
  },
  {
   "cell_type": "code",
   "execution_count": null,
   "metadata": {},
   "outputs": [],
   "source": []
  },
  {
   "cell_type": "markdown",
   "metadata": {},
   "source": [
    "Note the close relationship between this and the iterative reference function we had earlier in this document. What we have essentially done is to make all the state updates - before the first iteration of the loop `k` has this value and `result` has this value, afterwards they might have some other values - explicit and passed them along as arguments."
   ]
  },
  {
   "cell_type": "markdown",
   "metadata": {},
   "source": [
    "We could of course write a version of the code above which \"counts up\" instead of down. Defining a recursive helper function within the function might be of interest then. You might want to do that as an exercise (no handin required!)."
   ]
  },
  {
   "cell_type": "code",
   "execution_count": null,
   "metadata": {},
   "outputs": [],
   "source": [
    "def triangle_it2(n):\n",
    "    def iter(k, res=0):   \n",
    "        pass # your code here\n",
    "    \n",
    "    return iter(k=0)"
   ]
  }
 ],
 "metadata": {
  "kernelspec": {
   "display_name": "Python 3",
   "language": "python",
   "name": "python3"
  },
  "language_info": {
   "codemirror_mode": {
    "name": "ipython",
    "version": 3
   },
   "file_extension": ".py",
   "mimetype": "text/x-python",
   "name": "python",
   "nbconvert_exporter": "python",
   "pygments_lexer": "ipython3",
   "version": "3.7.2+"
  }
 },
 "nbformat": 4,
 "nbformat_minor": 2
}
