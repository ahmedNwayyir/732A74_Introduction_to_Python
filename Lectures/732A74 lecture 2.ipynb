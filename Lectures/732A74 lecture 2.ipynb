{
 "cells": [
  {
   "cell_type": "markdown",
   "metadata": {},
   "source": [
    "# Lecture 2: Functions and procedural abstraction, FP"
   ]
  },
  {
   "cell_type": "markdown",
   "metadata": {},
   "source": [
    "* Functions\n",
    "* Some brief notes on style, debugging and testing.\n",
    "* Declarative patterns and functional programming.\n",
    "* Presentation by Anders Märak Leffler\n",
    "* Attribution: extends work by Johan Falkenjack.\n",
    "* License: [CC-BY-SA 4.0](https://creativecommons.org/licenses/by-sa/4.0/)"
   ]
  },
  {
   "cell_type": "markdown",
   "metadata": {},
   "source": [
    "# Bonus information"
   ]
  },
  {
   "cell_type": "markdown",
   "metadata": {},
   "source": [
    "* Early [developer preview of Python 3.9](https://www.python.org/downloads/release/python-390a3/) available.\n",
    "* [Terry Jones in memoriam](https://www.bbc.co.uk/news/av/entertainment-arts-51215814/terry-jones-michael-palin-pays-tribute-to-monty-python-star) (watch after lecture, not mandatory)\n",
    "* Labs"
   ]
  },
  {
   "cell_type": "markdown",
   "metadata": {},
   "source": [
    "## Why procedural abstraction?"
   ]
  },
  {
   "cell_type": "code",
   "execution_count": null,
   "metadata": {},
   "outputs": [],
   "source": [
    "# A totally made up script, that goes a little overboard (for demonstration purposes).\n",
    "\n",
    "# First we read the data\n",
    "with ... :\n",
    "    # some lines\n",
    "    \n",
    "# Then remove all the duplicates\n",
    "# ...\n",
    "\n",
    "# Then extract the relevant parameters by some algorithm.\n",
    "\n",
    "# cut and paste\n",
    "# cut and paste  (interacts with values from above)\n",
    "# cut and paste  (interacts with values from above)\n",
    "# cut and paste  (interacts with values from above)\n",
    "\n",
    "\n",
    "# Make sure that model_is_consistent is True iff the model is consistent (with some property).\n",
    "\n",
    "# cut and paste\n",
    "\n",
    "\n",
    "\n",
    "if model_is_consistent:\n",
    "    # Lots of code for plotting.\n",
    "    # (without _any_ procedural abstraction this would be insane!)\n",
    "    \n",
    "\n",
    "# First we read the data\n",
    "with ... :\n",
    "    # some lines\n",
    "    \n",
    "# Then remove all the duplicates\n",
    "# ... (maybe bug? Check later)\n",
    "\n",
    "# Then extract the relevant parameters by some algorithm.\n",
    "\n",
    "# cut and paste\n",
    "# cut and paste  (interacts with values from above)\n",
    "# cut and paste  (interacts with values from above)\n",
    "# cut and paste  (interacts with values from above)\n",
    "\n",
    "\n",
    "# Make sure that model_is_consistent is True iff the model is consistent (with some property).\n",
    "\n",
    "# cut and paste\n",
    "\n",
    "\n",
    "\n",
    "if model_is_consistent:\n",
    "    # Lots of code for plotting. \n",
    "    # (without _any_ procedural abstraction this would be insane!)"
   ]
  },
  {
   "cell_type": "markdown",
   "metadata": {},
   "source": [
    "...and then something goes wrong. Why? Where?"
   ]
  },
  {
   "cell_type": "code",
   "execution_count": 1,
   "metadata": {},
   "outputs": [],
   "source": [
    "# Example, cleaned up.\n",
    "\n",
    "def run_simulation(fname):\n",
    "    \"\"\"Generate a model of data in file fname, and plot it if consistent.\"\"\"\n",
    "    data = read_data(fname) \n",
    "    remove_duplicates(data) \n",
    "    model = extracted_parameters(data)    # change this line to use other algorithm\n",
    "    if model.is_consistent():\n",
    "        plot(data, model)\n",
    "\n",
    "def read_data(fname):\n",
    "    \"\"\"Return the data contents of file named fname.\"\"\"\n",
    "    pass\n",
    "\n",
    "def remove_duplicates(dataset):\n",
    "    \"\"\"Remove duplicates from mutable input dataset, return in format X.\"\"\"\n",
    "    pass\n",
    "\n",
    "def extracted_parameters(dataset):\n",
    "    \"\"\"Return a model based on the dataset, with features XYZ\"\"\"\n",
    "    pass"
   ]
  },
  {
   "cell_type": "code",
   "execution_count": 2,
   "metadata": {},
   "outputs": [
    {
     "name": "stdout",
     "output_type": "stream",
     "text": [
      "Help on function read_data in module __main__:\n",
      "\n",
      "read_data(fname)\n",
      "    Return the data contents of file named fname.\n",
      "\n"
     ]
    }
   ],
   "source": [
    "help(read_data)"
   ]
  },
  {
   "cell_type": "markdown",
   "metadata": {},
   "source": [
    "### Yes, but what does this encapsulation and structuring add?"
   ]
  },
  {
   "cell_type": "markdown",
   "metadata": {},
   "source": [
    "Bad:\n",
    "* Slight overhead. Consider if you call a small function many many times.\n",
    "\n",
    "Good:\n",
    "* Readability.\n",
    "* Testing and debugging.\n",
    "    * Something went wrong. Why? Code, data, an interaction?\n",
    "    * Where did it go wrong?\n",
    "    * Can we trust the individual parts? Test them?\n",
    "    * Copy-paste issues.\n",
    "* Code reuse\n",
    "    * Do this again, with different data source.\n",
    "    * Reuse parts of the program.\n",
    "        * Note: subtle variable issues.\n",
    "        \n",
    "... Etcetera ..."
   ]
  },
  {
   "cell_type": "markdown",
   "metadata": {},
   "source": [
    "Caveats:\n",
    "* Sometimes having only a simple script makes sense.\n",
    "* Sometimes replacing function calls with their code makes *enough* sense from a performance perspective. "
   ]
  },
  {
   "cell_type": "markdown",
   "metadata": {},
   "source": [
    "## Functions in Python"
   ]
  },
  {
   "cell_type": "markdown",
   "metadata": {},
   "source": [
    "* Typically defined with `def` or a `lambda`.\n",
    "* First-class (callable) values. *A function is just an object.*\n",
    "    * Corollary: you can't have two distinct f(x) and f(x,y) [without tricks].\n",
    "* Called by `function_name(<arguments>)`."
   ]
  },
  {
   "cell_type": "code",
   "execution_count": 4,
   "metadata": {},
   "outputs": [],
   "source": [
    "# hungarian\n",
    "def hungarian_method():\n",
    "    print(\"My hovercraft is full of eels.\")\n",
    "\n",
    "def print_args(x):\n",
    "    print(\"I was called with: \", x)\n",
    "    return x"
   ]
  },
  {
   "cell_type": "code",
   "execution_count": 6,
   "metadata": {},
   "outputs": [
    {
     "name": "stdout",
     "output_type": "stream",
     "text": [
      "My hovercraft is full of eels.\n"
     ]
    }
   ],
   "source": [
    "hungarian_method()"
   ]
  },
  {
   "cell_type": "code",
   "execution_count": 7,
   "metadata": {},
   "outputs": [
    {
     "ename": "TypeError",
     "evalue": "hungarian_method() takes 0 positional arguments but 1 was given",
     "output_type": "error",
     "traceback": [
      "\u001b[0;31m---------------------------------------------------------------------------\u001b[0m",
      "\u001b[0;31mTypeError\u001b[0m                                 Traceback (most recent call last)",
      "\u001b[0;32m<ipython-input-7-afcf3f11235f>\u001b[0m in \u001b[0;36m<module>\u001b[0;34m\u001b[0m\n\u001b[0;32m----> 1\u001b[0;31m \u001b[0mhungarian_method\u001b[0m\u001b[0;34m(\u001b[0m\u001b[0;36m123\u001b[0m\u001b[0;34m)\u001b[0m\u001b[0;34m\u001b[0m\u001b[0;34m\u001b[0m\u001b[0m\n\u001b[0m",
      "\u001b[0;31mTypeError\u001b[0m: hungarian_method() takes 0 positional arguments but 1 was given"
     ]
    }
   ],
   "source": [
    "hungarian_method(123)"
   ]
  },
  {
   "cell_type": "code",
   "execution_count": 8,
   "metadata": {},
   "outputs": [
    {
     "name": "stdout",
     "output_type": "stream",
     "text": [
      "I was called with:  99\n"
     ]
    },
    {
     "data": {
      "text/plain": [
       "99"
      ]
     },
     "execution_count": 8,
     "metadata": {},
     "output_type": "execute_result"
    }
   ],
   "source": [
    "# What happens here?\n",
    "print_args(99)"
   ]
  },
  {
   "cell_type": "code",
   "execution_count": 9,
   "metadata": {},
   "outputs": [
    {
     "name": "stdout",
     "output_type": "stream",
     "text": [
      "I was called with:  99\n"
     ]
    },
    {
     "data": {
      "text/plain": [
       "1099"
      ]
     },
     "execution_count": 9,
     "metadata": {},
     "output_type": "execute_result"
    }
   ],
   "source": [
    "# What happens here?\n",
    "print_args(99) + 1000"
   ]
  },
  {
   "cell_type": "code",
   "execution_count": 10,
   "metadata": {},
   "outputs": [
    {
     "name": "stdout",
     "output_type": "stream",
     "text": [
      "My hovercraft is full of eels.\n"
     ]
    },
    {
     "ename": "TypeError",
     "evalue": "unsupported operand type(s) for +: 'NoneType' and 'int'",
     "output_type": "error",
     "traceback": [
      "\u001b[0;31m---------------------------------------------------------------------------\u001b[0m",
      "\u001b[0;31mTypeError\u001b[0m                                 Traceback (most recent call last)",
      "\u001b[0;32m<ipython-input-10-5dc14ce311c2>\u001b[0m in \u001b[0;36m<module>\u001b[0;34m\u001b[0m\n\u001b[0;32m----> 1\u001b[0;31m \u001b[0mhungarian_method\u001b[0m\u001b[0;34m(\u001b[0m\u001b[0;34m)\u001b[0m \u001b[0;34m+\u001b[0m \u001b[0;36m1000\u001b[0m\u001b[0;34m\u001b[0m\u001b[0;34m\u001b[0m\u001b[0m\n\u001b[0m",
      "\u001b[0;31mTypeError\u001b[0m: unsupported operand type(s) for +: 'NoneType' and 'int'"
     ]
    }
   ],
   "source": [
    "hungarian_method() + 1000"
   ]
  },
  {
   "cell_type": "code",
   "execution_count": 11,
   "metadata": {},
   "outputs": [
    {
     "name": "stdout",
     "output_type": "stream",
     "text": [
      "I was called with:  <function hungarian_method at 0x7f2bd14401e0>\n"
     ]
    },
    {
     "data": {
      "text/plain": [
       "<function __main__.hungarian_method()>"
      ]
     },
     "execution_count": 11,
     "metadata": {},
     "output_type": "execute_result"
    }
   ],
   "source": [
    "# What will this do? Crash? Print? Return?\n",
    "print_args(hungarian_method)"
   ]
  },
  {
   "cell_type": "code",
   "execution_count": 12,
   "metadata": {},
   "outputs": [
    {
     "data": {
      "text/plain": [
       "<function __main__.hungarian_method()>"
      ]
     },
     "execution_count": 12,
     "metadata": {},
     "output_type": "execute_result"
    }
   ],
   "source": [
    "hungarian_method"
   ]
  },
  {
   "cell_type": "code",
   "execution_count": 13,
   "metadata": {},
   "outputs": [
    {
     "name": "stdout",
     "output_type": "stream",
     "text": [
      "  3           0 LOAD_GLOBAL              0 (print)\n",
      "              2 LOAD_CONST               1 ('My hovercraft is full of eels.')\n",
      "              4 CALL_FUNCTION            1\n",
      "              6 POP_TOP\n",
      "              8 LOAD_CONST               0 (None)\n",
      "             10 RETURN_VALUE\n"
     ]
    }
   ],
   "source": [
    "import dis\n",
    "dis.dis(hungarian_method)"
   ]
  },
  {
   "cell_type": "code",
   "execution_count": 15,
   "metadata": {},
   "outputs": [],
   "source": [
    "def run_arg(f):\n",
    "    f()\n",
    "    \n"
   ]
  },
  {
   "cell_type": "code",
   "execution_count": 17,
   "metadata": {},
   "outputs": [
    {
     "name": "stdout",
     "output_type": "stream",
     "text": [
      "My hovercraft is full of eels.\n"
     ]
    }
   ],
   "source": [
    "run_arg(hungarian_method)"
   ]
  },
  {
   "cell_type": "code",
   "execution_count": 18,
   "metadata": {
    "scrolled": true
   },
   "outputs": [
    {
     "ename": "TypeError",
     "evalue": "'int' object is not callable",
     "output_type": "error",
     "traceback": [
      "\u001b[0;31m---------------------------------------------------------------------------\u001b[0m",
      "\u001b[0;31mTypeError\u001b[0m                                 Traceback (most recent call last)",
      "\u001b[0;32m<ipython-input-18-c8b737cb4a7b>\u001b[0m in \u001b[0;36m<module>\u001b[0;34m\u001b[0m\n\u001b[0;32m----> 1\u001b[0;31m \u001b[0mrun_arg\u001b[0m\u001b[0;34m(\u001b[0m\u001b[0;36m5\u001b[0m\u001b[0;34m)\u001b[0m\u001b[0;34m\u001b[0m\u001b[0;34m\u001b[0m\u001b[0m\n\u001b[0m",
      "\u001b[0;32m<ipython-input-15-428d41cccbbb>\u001b[0m in \u001b[0;36mrun_arg\u001b[0;34m(f)\u001b[0m\n\u001b[1;32m      1\u001b[0m \u001b[0;32mdef\u001b[0m \u001b[0mrun_arg\u001b[0m\u001b[0;34m(\u001b[0m\u001b[0mf\u001b[0m\u001b[0;34m)\u001b[0m\u001b[0;34m:\u001b[0m\u001b[0;34m\u001b[0m\u001b[0;34m\u001b[0m\u001b[0m\n\u001b[0;32m----> 2\u001b[0;31m     \u001b[0mf\u001b[0m\u001b[0;34m(\u001b[0m\u001b[0;34m)\u001b[0m\u001b[0;34m\u001b[0m\u001b[0;34m\u001b[0m\u001b[0m\n\u001b[0m\u001b[1;32m      3\u001b[0m \u001b[0;34m\u001b[0m\u001b[0m\n",
      "\u001b[0;31mTypeError\u001b[0m: 'int' object is not callable"
     ]
    }
   ],
   "source": [
    "run_arg(5)"
   ]
  },
  {
   "cell_type": "code",
   "execution_count": 20,
   "metadata": {},
   "outputs": [
    {
     "data": {
      "text/plain": [
       "['__annotations__',\n",
       " '__call__',\n",
       " '__class__',\n",
       " '__closure__',\n",
       " '__code__',\n",
       " '__defaults__',\n",
       " '__delattr__',\n",
       " '__dict__',\n",
       " '__dir__',\n",
       " '__doc__',\n",
       " '__eq__',\n",
       " '__format__',\n",
       " '__ge__',\n",
       " '__get__',\n",
       " '__getattribute__',\n",
       " '__globals__',\n",
       " '__gt__',\n",
       " '__hash__',\n",
       " '__init__',\n",
       " '__init_subclass__',\n",
       " '__kwdefaults__',\n",
       " '__le__',\n",
       " '__lt__',\n",
       " '__module__',\n",
       " '__name__',\n",
       " '__ne__',\n",
       " '__new__',\n",
       " '__qualname__',\n",
       " '__reduce__',\n",
       " '__reduce_ex__',\n",
       " '__repr__',\n",
       " '__setattr__',\n",
       " '__sizeof__',\n",
       " '__str__',\n",
       " '__subclasshook__']"
      ]
     },
     "execution_count": 20,
     "metadata": {},
     "output_type": "execute_result"
    }
   ],
   "source": [
    "dir(hungarian_method)"
   ]
  },
  {
   "cell_type": "code",
   "execution_count": 22,
   "metadata": {},
   "outputs": [],
   "source": [
    "hm = hungarian_method"
   ]
  },
  {
   "cell_type": "code",
   "execution_count": 24,
   "metadata": {},
   "outputs": [
    {
     "name": "stdout",
     "output_type": "stream",
     "text": [
      "My hovercraft is full of eels.\n"
     ]
    }
   ],
   "source": [
    "hm()"
   ]
  },
  {
   "cell_type": "code",
   "execution_count": 25,
   "metadata": {},
   "outputs": [
    {
     "data": {
      "text/plain": [
       "True"
      ]
     },
     "execution_count": 25,
     "metadata": {},
     "output_type": "execute_result"
    }
   ],
   "source": [
    "hm is hungarian_method"
   ]
  },
  {
   "cell_type": "code",
   "execution_count": 26,
   "metadata": {},
   "outputs": [
    {
     "data": {
      "text/plain": [
       "'hungarian_method'"
      ]
     },
     "execution_count": 26,
     "metadata": {},
     "output_type": "execute_result"
    }
   ],
   "source": [
    "hm.__name__"
   ]
  },
  {
   "cell_type": "code",
   "execution_count": 29,
   "metadata": {},
   "outputs": [
    {
     "name": "stdout",
     "output_type": "stream",
     "text": [
      "My hovercraft is full of eels.\n",
      "Return value was None\n"
     ]
    }
   ],
   "source": [
    "retval = hungarian_method()\n",
    "print(f\"Return value was {retval}\")"
   ]
  },
  {
   "cell_type": "markdown",
   "metadata": {},
   "source": [
    "* Lambdas contain a single expression, and have implicit return."
   ]
  },
  {
   "cell_type": "code",
   "execution_count": 31,
   "metadata": {},
   "outputs": [],
   "source": [
    "# Single argument lambda\n",
    "sq = lambda x : x**2\n",
    "\n",
    "# Two argument lambda\n",
    "add = lambda x, y : x + y\n",
    "\n",
    "# No argument lambda\n",
    "return_five = lambda : 5"
   ]
  },
  {
   "cell_type": "code",
   "execution_count": 33,
   "metadata": {},
   "outputs": [
    {
     "data": {
      "text/plain": [
       "25"
      ]
     },
     "execution_count": 33,
     "metadata": {},
     "output_type": "execute_result"
    }
   ],
   "source": [
    "sq(5)"
   ]
  },
  {
   "cell_type": "code",
   "execution_count": 34,
   "metadata": {},
   "outputs": [
    {
     "data": {
      "text/plain": [
       "<function __main__.<lambda>(x)>"
      ]
     },
     "execution_count": 34,
     "metadata": {},
     "output_type": "execute_result"
    }
   ],
   "source": [
    "sq"
   ]
  },
  {
   "cell_type": "code",
   "execution_count": 35,
   "metadata": {},
   "outputs": [
    {
     "ename": "SyntaxError",
     "evalue": "invalid syntax (<ipython-input-35-3b4071dca880>, line 2)",
     "output_type": "error",
     "traceback": [
      "\u001b[0;36m  File \u001b[0;32m\"<ipython-input-35-3b4071dca880>\"\u001b[0;36m, line \u001b[0;32m2\u001b[0m\n\u001b[0;31m    bad_lambda = lambda n : while n > 0: n = n - 1\u001b[0m\n\u001b[0m                                ^\u001b[0m\n\u001b[0;31mSyntaxError\u001b[0m\u001b[0;31m:\u001b[0m invalid syntax\n"
     ]
    }
   ],
   "source": [
    "# What can't you do with a lambda?\n",
    "bad_lambda = lambda n : while n > 0: n = n - 1"
   ]
  },
  {
   "cell_type": "markdown",
   "metadata": {},
   "source": [
    "General idea: lambda [vars] : [expression that \"becomes\" a value when evaluated]"
   ]
  },
  {
   "cell_type": "markdown",
   "metadata": {},
   "source": [
    "(Yes you can get around this, even without wrapping your code in a function, but you shouldn't. Use a `def` instead in that case.)"
   ]
  },
  {
   "cell_type": "code",
   "execution_count": null,
   "metadata": {},
   "outputs": [],
   "source": [
    "# Optional task: figure out how to make a lambda that imports the math module, requests an input and \n",
    "# prints the square root of that input when run.\n",
    "\n",
    "# This is really bad style, but might be fun to think about in order to understand the language. \n",
    "# This also suggests another reason as to why your code shouldn't eval(...) user input willy-nilly, as some textbooks\n",
    "# suggest."
   ]
  },
  {
   "cell_type": "markdown",
   "metadata": {},
   "source": [
    "* **When are arguments evaluated?** Applicative-order evaluation."
   ]
  },
  {
   "cell_type": "code",
   "execution_count": 37,
   "metadata": {},
   "outputs": [
    {
     "name": "stdout",
     "output_type": "stream",
     "text": [
      "I was called with:  <function hungarian_method at 0x7f2bd14401e0>\n"
     ]
    },
    {
     "data": {
      "text/plain": [
       "<function __main__.hungarian_method()>"
      ]
     },
     "execution_count": 37,
     "metadata": {},
     "output_type": "execute_result"
    }
   ],
   "source": [
    "# Argument evaluation. \n",
    "\n",
    "print_args(hungarian_method)"
   ]
  },
  {
   "cell_type": "code",
   "execution_count": 38,
   "metadata": {},
   "outputs": [
    {
     "name": "stdout",
     "output_type": "stream",
     "text": [
      "My hovercraft is full of eels.\n",
      "I was called with:  None\n"
     ]
    }
   ],
   "source": [
    "print_args( hungarian_method() )"
   ]
  },
  {
   "cell_type": "code",
   "execution_count": 39,
   "metadata": {},
   "outputs": [
    {
     "name": "stdout",
     "output_type": "stream",
     "text": [
      "My hovercraft is full of eels.\n",
      "--- Didn't really need the value.\n"
     ]
    }
   ],
   "source": [
    "# What happens to unused parameters? Two-arg.\n",
    "def test(arg, use_2nd_arg):\n",
    "    if use_2nd_arg:\n",
    "        print(arg)\n",
    "    else:\n",
    "        print(\"--- Didn't really need the value.\")\n",
    "        \n",
    "test(hungarian_method(), False)  # Don't need the value actually."
   ]
  },
  {
   "cell_type": "markdown",
   "metadata": {},
   "source": [
    "* Keyword arguments. Useful to clarify calls!"
   ]
  },
  {
   "cell_type": "code",
   "execution_count": 41,
   "metadata": {},
   "outputs": [],
   "source": [
    "def identity(x):\n",
    "    return x"
   ]
  },
  {
   "cell_type": "code",
   "execution_count": 44,
   "metadata": {},
   "outputs": [
    {
     "name": "stdout",
     "output_type": "stream",
     "text": [
      "99\n"
     ]
    }
   ],
   "source": [
    "test(use_2nd_arg=True, arg=identity(99))"
   ]
  },
  {
   "cell_type": "markdown",
   "metadata": {},
   "source": [
    "You can combine keyword arguments and regular positional, but positional come first."
   ]
  },
  {
   "cell_type": "markdown",
   "metadata": {},
   "source": [
    "[Note: Core developer Raymond Hettinger argues for (over)using this in [PyCon 2013: Transforming Code into Beautiful, Idiomatic Python](https://youtu.be/OSGv2VnC0go?t=1841)]"
   ]
  },
  {
   "cell_type": "markdown",
   "metadata": {},
   "source": [
    "* Default arguments. Should follow non-default arguments."
   ]
  },
  {
   "cell_type": "code",
   "execution_count": 47,
   "metadata": {},
   "outputs": [],
   "source": [
    "def test(use_2nd_arg, arg=5):\n",
    "    if use_2nd_arg:\n",
    "        print(arg)\n",
    "    else:\n",
    "        print(\"--- Didn't really need the value.\")"
   ]
  },
  {
   "cell_type": "code",
   "execution_count": 46,
   "metadata": {},
   "outputs": [
    {
     "name": "stdout",
     "output_type": "stream",
     "text": [
      "5\n"
     ]
    }
   ],
   "source": [
    "# Try out calling this\n",
    "\n",
    "test(True)"
   ]
  },
  {
   "cell_type": "code",
   "execution_count": 48,
   "metadata": {},
   "outputs": [
    {
     "name": "stdout",
     "output_type": "stream",
     "text": [
      "123123123\n"
     ]
    }
   ],
   "source": [
    "test(True, 123123123)"
   ]
  },
  {
   "cell_type": "code",
   "execution_count": 49,
   "metadata": {
    "scrolled": true
   },
   "outputs": [
    {
     "ename": "TypeError",
     "evalue": "test() missing 1 required positional argument: 'use_2nd_arg'",
     "output_type": "error",
     "traceback": [
      "\u001b[0;31m---------------------------------------------------------------------------\u001b[0m",
      "\u001b[0;31mTypeError\u001b[0m                                 Traceback (most recent call last)",
      "\u001b[0;32m<ipython-input-49-e34c877f2144>\u001b[0m in \u001b[0;36m<module>\u001b[0;34m\u001b[0m\n\u001b[0;32m----> 1\u001b[0;31m \u001b[0mtest\u001b[0m\u001b[0;34m(\u001b[0m\u001b[0marg\u001b[0m \u001b[0;34m=\u001b[0m \u001b[0;36m99\u001b[0m\u001b[0;34m)\u001b[0m\u001b[0;34m\u001b[0m\u001b[0;34m\u001b[0m\u001b[0m\n\u001b[0m",
      "\u001b[0;31mTypeError\u001b[0m: test() missing 1 required positional argument: 'use_2nd_arg'"
     ]
    }
   ],
   "source": [
    "test(arg = 99)"
   ]
  },
  {
   "cell_type": "markdown",
   "metadata": {},
   "source": [
    "Helps with understanding [the documentation](https://docs.python.org/3.7/library/functions.html#print)."
   ]
  },
  {
   "cell_type": "code",
   "execution_count": 50,
   "metadata": {},
   "outputs": [
    {
     "name": "stdout",
     "output_type": "stream",
     "text": [
      "[999, 123]\n",
      "[999, 123, 'bat', 'man']\n"
     ]
    }
   ],
   "source": [
    "# What will happen here?\n",
    "\n",
    "def add_to_list(e, lst=[]):\n",
    "    lst.append(e)\n",
    "    return lst\n",
    "\n",
    "my_list = add_to_list(999)\n",
    "add_to_list(123, my_list)\n",
    "print(my_list)\n",
    "\n",
    "my_other_list = add_to_list(\"bat\")\n",
    "add_to_list(\"man\", my_other_list)\n",
    "print(my_other_list)"
   ]
  },
  {
   "cell_type": "code",
   "execution_count": 51,
   "metadata": {},
   "outputs": [],
   "source": [
    "# Pattern to counter this.\n",
    "\n",
    "def add_to_list(e, lst=None):\n",
    "    if lst is None:\n",
    "        lst = []\n",
    "    lst.append(e)\n",
    "    return lst"
   ]
  },
  {
   "cell_type": "code",
   "execution_count": 52,
   "metadata": {},
   "outputs": [],
   "source": [
    "del add_to_list"
   ]
  },
  {
   "cell_type": "markdown",
   "metadata": {},
   "source": [
    "* Functions can be defined within functions.\n",
    "* Static/lexical scoping. What will the following print?"
   ]
  },
  {
   "cell_type": "code",
   "execution_count": 53,
   "metadata": {
    "scrolled": true
   },
   "outputs": [
    {
     "name": "stdout",
     "output_type": "stream",
     "text": [
      "--- Calling f.\n",
      "I'm in f! Now x is  5\n",
      "--- Calling g (which in turn calls f).\n",
      "I'm in g! Now x is  99\n",
      "I'm in f! Now x is  5\n"
     ]
    }
   ],
   "source": [
    "# What will this print?\n",
    "\n",
    "x = 5\n",
    "def f():\n",
    "    print(\"I'm in f! Now x is \", x)\n",
    "    \n",
    "def g(x):\n",
    "    print(\"I'm in g! Now x is \", x)\n",
    "    f()\n",
    "\n",
    "print(\"--- Calling f.\")\n",
    "f()\n",
    "\n",
    "print(\"--- Calling g (which in turn calls f).\")\n",
    "g(99)"
   ]
  },
  {
   "cell_type": "markdown",
   "metadata": {},
   "source": [
    "* LEGB lookup (first Local, then Enclosing, Global and finally Builtin scope).\n",
    "* Binds values locally (unless told otherwise)."
   ]
  },
  {
   "cell_type": "markdown",
   "metadata": {},
   "source": [
    "Useful resource: [www.pythontutor.com](https://www.pythontutor.com)"
   ]
  },
  {
   "cell_type": "code",
   "execution_count": 54,
   "metadata": {},
   "outputs": [
    {
     "name": "stdout",
     "output_type": "stream",
     "text": [
      "Before, x is 1\n",
      "In f, x is 1\n",
      "Afterwards, x is 1\n"
     ]
    }
   ],
   "source": [
    "# What will happen?\n",
    "\n",
    "x = 1\n",
    "print(\"Before, x is\", x)\n",
    "def f():\n",
    "    print(\"In f, x is\", x)\n",
    "    \n",
    "f()\n",
    "print(\"Afterwards, x is\", x)"
   ]
  },
  {
   "cell_type": "code",
   "execution_count": 55,
   "metadata": {},
   "outputs": [
    {
     "name": "stdout",
     "output_type": "stream",
     "text": [
      "Before, x is 1\n",
      "In f, x is 5\n",
      "Afterwards, x is 1\n"
     ]
    }
   ],
   "source": [
    "# What will happen?\n",
    "\n",
    "x = 1\n",
    "print(\"Before, x is\", x)\n",
    "def f():\n",
    "    x = 5\n",
    "    print(\"In f, x is\", x)\n",
    "    \n",
    "f()\n",
    "print(\"Afterwards, x is\", x)"
   ]
  },
  {
   "cell_type": "code",
   "execution_count": 56,
   "metadata": {},
   "outputs": [
    {
     "name": "stdout",
     "output_type": "stream",
     "text": [
      "Before, x is 1\n"
     ]
    },
    {
     "ename": "UnboundLocalError",
     "evalue": "local variable 'x' referenced before assignment",
     "output_type": "error",
     "traceback": [
      "\u001b[0;31m---------------------------------------------------------------------------\u001b[0m",
      "\u001b[0;31mUnboundLocalError\u001b[0m                         Traceback (most recent call last)",
      "\u001b[0;32m<ipython-input-56-1c6c658e8533>\u001b[0m in \u001b[0;36m<module>\u001b[0;34m\u001b[0m\n\u001b[1;32m      7\u001b[0m     \u001b[0mprint\u001b[0m\u001b[0;34m(\u001b[0m\u001b[0;34m\"In f, x is\"\u001b[0m\u001b[0;34m,\u001b[0m \u001b[0mx\u001b[0m\u001b[0;34m)\u001b[0m\u001b[0;34m\u001b[0m\u001b[0;34m\u001b[0m\u001b[0m\n\u001b[1;32m      8\u001b[0m \u001b[0;34m\u001b[0m\u001b[0m\n\u001b[0;32m----> 9\u001b[0;31m \u001b[0mf\u001b[0m\u001b[0;34m(\u001b[0m\u001b[0;34m)\u001b[0m\u001b[0;34m\u001b[0m\u001b[0;34m\u001b[0m\u001b[0m\n\u001b[0m\u001b[1;32m     10\u001b[0m \u001b[0mprint\u001b[0m\u001b[0;34m(\u001b[0m\u001b[0;34m\"Afterwards, x is\"\u001b[0m\u001b[0;34m,\u001b[0m \u001b[0mx\u001b[0m\u001b[0;34m)\u001b[0m\u001b[0;34m\u001b[0m\u001b[0;34m\u001b[0m\u001b[0m\n",
      "\u001b[0;32m<ipython-input-56-1c6c658e8533>\u001b[0m in \u001b[0;36mf\u001b[0;34m()\u001b[0m\n\u001b[1;32m      4\u001b[0m \u001b[0mprint\u001b[0m\u001b[0;34m(\u001b[0m\u001b[0;34m\"Before, x is\"\u001b[0m\u001b[0;34m,\u001b[0m \u001b[0mx\u001b[0m\u001b[0;34m)\u001b[0m\u001b[0;34m\u001b[0m\u001b[0;34m\u001b[0m\u001b[0m\n\u001b[1;32m      5\u001b[0m \u001b[0;32mdef\u001b[0m \u001b[0mf\u001b[0m\u001b[0;34m(\u001b[0m\u001b[0;34m)\u001b[0m\u001b[0;34m:\u001b[0m\u001b[0;34m\u001b[0m\u001b[0;34m\u001b[0m\u001b[0m\n\u001b[0;32m----> 6\u001b[0;31m     \u001b[0mx\u001b[0m \u001b[0;34m=\u001b[0m \u001b[0mx\u001b[0m \u001b[0;34m+\u001b[0m \u001b[0;36m1\u001b[0m\u001b[0;34m\u001b[0m\u001b[0;34m\u001b[0m\u001b[0m\n\u001b[0m\u001b[1;32m      7\u001b[0m     \u001b[0mprint\u001b[0m\u001b[0;34m(\u001b[0m\u001b[0;34m\"In f, x is\"\u001b[0m\u001b[0;34m,\u001b[0m \u001b[0mx\u001b[0m\u001b[0;34m)\u001b[0m\u001b[0;34m\u001b[0m\u001b[0;34m\u001b[0m\u001b[0m\n\u001b[1;32m      8\u001b[0m \u001b[0;34m\u001b[0m\u001b[0m\n",
      "\u001b[0;31mUnboundLocalError\u001b[0m: local variable 'x' referenced before assignment"
     ]
    }
   ],
   "source": [
    "# What will happen?\n",
    "\n",
    "x = 1\n",
    "print(\"Before, x is\", x)\n",
    "def f():\n",
    "    x = x + 1\n",
    "    print(\"In f, x is\", x)\n",
    "    \n",
    "f()\n",
    "print(\"Afterwards, x is\", x)"
   ]
  },
  {
   "cell_type": "code",
   "execution_count": 58,
   "metadata": {},
   "outputs": [
    {
     "name": "stdout",
     "output_type": "stream",
     "text": [
      "Before, x is 1\n",
      "In f, x is 2\n",
      "Afterwards, x is 2\n"
     ]
    }
   ],
   "source": [
    "# What will happen?\n",
    "\n",
    "x = 1\n",
    "print(\"Before, x is\", x)\n",
    "def f():\n",
    "    global x\n",
    "    x = x + 1\n",
    "    print(\"In f, x is\", x)\n",
    "    \n",
    "f()\n",
    "print(\"Afterwards, x is\", x)"
   ]
  },
  {
   "cell_type": "code",
   "execution_count": null,
   "metadata": {},
   "outputs": [],
   "source": [
    "# Exercise: play around with the keywords nonlocal and global."
   ]
  },
  {
   "cell_type": "markdown",
   "metadata": {},
   "source": [
    "**Takeaway:** encapsulation!"
   ]
  },
  {
   "cell_type": "markdown",
   "metadata": {},
   "source": [
    "   * Function + their scope/context (the latter word used losely) form a **closure** (or \"lexical closure\")."
   ]
  },
  {
   "cell_type": "code",
   "execution_count": 59,
   "metadata": {},
   "outputs": [],
   "source": [
    "x = 1\n",
    "y = 2\n",
    "\n",
    "def f(x):\n",
    "    def g():\n",
    "        print(\"In this g, x is\", x, \" and y is \", y)\n",
    "    return g\n",
    "\n",
    "f(100)\n",
    "h100 = f(100)\n",
    "h55 = f(55)"
   ]
  },
  {
   "cell_type": "code",
   "execution_count": 60,
   "metadata": {},
   "outputs": [
    {
     "name": "stdout",
     "output_type": "stream",
     "text": [
      "In this g, x is 55  and y is  2\n"
     ]
    }
   ],
   "source": [
    "h55()"
   ]
  },
  {
   "cell_type": "code",
   "execution_count": 62,
   "metadata": {},
   "outputs": [
    {
     "data": {
      "text/plain": [
       "[(1, 2), (3, 3), (2, 5)]"
      ]
     },
     "execution_count": 62,
     "metadata": {},
     "output_type": "execute_result"
    }
   ],
   "source": [
    "# Note: the lambda doesn't get x0 or x1 by parameter. It has to get them from somewhere!\n",
    "\n",
    "def points_close_to(points, x0, y0, max_dist):\n",
    "    is_near = lambda coord : (coord[0] - x0)**2 + (coord[1] - y0)**2 <= max_dist**2\n",
    "    #return list(filter(is_near, points))\n",
    "    return [p for p in points if is_near(p)]\n",
    "\n",
    "points = [ (1,2), (5,9), (3,3), (2, 5) ]\n",
    "points_close_to(points, 3,3, 3)\n",
    "\n",
    "# Could the points be written in a more readable way? Stay tuned."
   ]
  },
  {
   "cell_type": "code",
   "execution_count": 63,
   "metadata": {},
   "outputs": [
    {
     "name": "stdout",
     "output_type": "stream",
     "text": [
      "<function f.<locals>.g at 0x7f2bd01f29d8>\n"
     ]
    }
   ],
   "source": [
    "# Bonus exercise (way outside the scope of this course): can we reach into a closure? To read values? Write?\n",
    "# Python is flexible with certain things, and others not so much.\n",
    "\n",
    "h100 = f(100)   \n",
    "print(h100)\n",
    "# Play around with h100. Check the dunder methods. (those that start and end with __)"
   ]
  },
  {
   "cell_type": "markdown",
   "metadata": {},
   "source": [
    "[//]: # (Functions are just another type of value. Nothing special.)"
   ]
  },
  {
   "cell_type": "markdown",
   "metadata": {},
   "source": [
    "# A note on naming, style, testing"
   ]
  },
  {
   "cell_type": "markdown",
   "metadata": {},
   "source": [
    "---\n",
    "**YOU DO NOT WRITE CODE FOR THE INTERPRETER. YOU WRITE IT FOR OTHER HUMAN READERS.**\n",
    "\n",
    "---"
   ]
  },
  {
   "cell_type": "markdown",
   "metadata": {},
   "source": [
    "![Abstruse Goose](https://abstrusegoose.com/strips/you_down_wit_OPC-yeah_you_know_me.png)\n",
    "\n",
    "Attribution: [Abstruse Goose #432](https://www.abstrusegoose.com/432). CC BY-NC 3.0 US license."
   ]
  },
  {
   "cell_type": "markdown",
   "metadata": {},
   "source": [
    "**WHO ARE THOSE \"OTHER PEOPLE\"?**"
   ]
  },
  {
   "cell_type": "markdown",
   "metadata": {},
   "source": [
    "Note: What good did the comment above do?"
   ]
  },
  {
   "cell_type": "markdown",
   "metadata": {},
   "source": [
    "### Python function style interlude"
   ]
  },
  {
   "cell_type": "markdown",
   "metadata": {},
   "source": [
    "> Names that are visible to the user as public parts of the API should follow conventions that reflect usage rather than implementation.\n",
    "\n",
    "The \"Overriding Principle\" from the official [PEP 8 -- Style Guide for Python Code](https://www.python.org/dev/peps/pep-0008/#overriding-principle)."
   ]
  },
  {
   "cell_type": "markdown",
   "metadata": {},
   "source": [
    "**In other words: focus on ** ***what*** **it does (or return), not** ***how*** **it does it.**"
   ]
  },
  {
   "cell_type": "code",
   "execution_count": null,
   "metadata": {},
   "outputs": [],
   "source": [
    "# What does this do? Sample inputs?\n",
    "\n",
    "def f(x):\n",
    "    for i in x:\n",
    "        x[i] += 1"
   ]
  },
  {
   "cell_type": "code",
   "execution_count": 73,
   "metadata": {},
   "outputs": [],
   "source": [
    "def f(x):\n",
    "    for i in x:\n",
    "        print(f\"Currently i is {i}\")\n",
    "        print(f\"Currently x[i] is {x[i]}\")\n",
    "        x[i] = x[i] + 1"
   ]
  },
  {
   "cell_type": "code",
   "execution_count": 74,
   "metadata": {
    "scrolled": false
   },
   "outputs": [
    {
     "name": "stdout",
     "output_type": "stream",
     "text": [
      "Currently i is 1\n",
      "Currently x[i] is 2\n",
      "Currently i is 3\n"
     ]
    },
    {
     "ename": "IndexError",
     "evalue": "list index out of range",
     "output_type": "error",
     "traceback": [
      "\u001b[0;31m---------------------------------------------------------------------------\u001b[0m",
      "\u001b[0;31mIndexError\u001b[0m                                Traceback (most recent call last)",
      "\u001b[0;32m<ipython-input-74-3f46b90ad1ee>\u001b[0m in \u001b[0;36m<module>\u001b[0;34m\u001b[0m\n\u001b[1;32m      1\u001b[0m \u001b[0mmylist\u001b[0m \u001b[0;34m=\u001b[0m \u001b[0;34m[\u001b[0m\u001b[0;36m1\u001b[0m\u001b[0;34m,\u001b[0m\u001b[0;36m2\u001b[0m\u001b[0;34m,\u001b[0m\u001b[0;36m3\u001b[0m\u001b[0;34m]\u001b[0m\u001b[0;34m\u001b[0m\u001b[0;34m\u001b[0m\u001b[0m\n\u001b[0;32m----> 2\u001b[0;31m \u001b[0mf\u001b[0m\u001b[0;34m(\u001b[0m\u001b[0mmylist\u001b[0m\u001b[0;34m)\u001b[0m\u001b[0;34m\u001b[0m\u001b[0;34m\u001b[0m\u001b[0m\n\u001b[0m\u001b[1;32m      3\u001b[0m \u001b[0mprint\u001b[0m\u001b[0;34m(\u001b[0m\u001b[0mmylist\u001b[0m\u001b[0;34m)\u001b[0m\u001b[0;34m\u001b[0m\u001b[0;34m\u001b[0m\u001b[0m\n",
      "\u001b[0;32m<ipython-input-73-85869cf88c09>\u001b[0m in \u001b[0;36mf\u001b[0;34m(x)\u001b[0m\n\u001b[1;32m      2\u001b[0m     \u001b[0;32mfor\u001b[0m \u001b[0mi\u001b[0m \u001b[0;32min\u001b[0m \u001b[0mx\u001b[0m\u001b[0;34m:\u001b[0m\u001b[0;34m\u001b[0m\u001b[0;34m\u001b[0m\u001b[0m\n\u001b[1;32m      3\u001b[0m         \u001b[0mprint\u001b[0m\u001b[0;34m(\u001b[0m\u001b[0;34mf\"Currently i is {i}\"\u001b[0m\u001b[0;34m)\u001b[0m\u001b[0;34m\u001b[0m\u001b[0;34m\u001b[0m\u001b[0m\n\u001b[0;32m----> 4\u001b[0;31m         \u001b[0mprint\u001b[0m\u001b[0;34m(\u001b[0m\u001b[0;34mf\"Currently x[i] is {x[i]}\"\u001b[0m\u001b[0;34m)\u001b[0m\u001b[0;34m\u001b[0m\u001b[0;34m\u001b[0m\u001b[0m\n\u001b[0m\u001b[1;32m      5\u001b[0m         \u001b[0mx\u001b[0m\u001b[0;34m[\u001b[0m\u001b[0mi\u001b[0m\u001b[0;34m]\u001b[0m \u001b[0;34m=\u001b[0m \u001b[0mx\u001b[0m\u001b[0;34m[\u001b[0m\u001b[0mi\u001b[0m\u001b[0;34m]\u001b[0m \u001b[0;34m+\u001b[0m \u001b[0;36m1\u001b[0m\u001b[0;34m\u001b[0m\u001b[0;34m\u001b[0m\u001b[0m\n",
      "\u001b[0;31mIndexError\u001b[0m: list index out of range"
     ]
    }
   ],
   "source": [
    "mylist = [1,2,3]\n",
    "f(mylist)\n",
    "print(mylist)"
   ]
  },
  {
   "cell_type": "code",
   "execution_count": 71,
   "metadata": {},
   "outputs": [
    {
     "name": "stdout",
     "output_type": "stream",
     "text": [
      "Current i is a, and x is {'a': 1, 'b': 100}\n",
      "Current i is b, and x is {'a': 2, 'b': 100}\n",
      "{'a': 2, 'b': 101}\n"
     ]
    }
   ],
   "source": [
    "def f(mapping):\n",
    "    for key in mapping:\n",
    "        mapping[key] += 1\n",
    "        \n",
    "vals = {\"a\" : 1, \"b\" : 100}\n",
    "f(vals)\n",
    "print(vals)"
   ]
  },
  {
   "cell_type": "code",
   "execution_count": 72,
   "metadata": {},
   "outputs": [
    {
     "name": "stdout",
     "output_type": "stream",
     "text": [
      "{'a': 2, 'b': 101}\n"
     ]
    }
   ],
   "source": [
    "def increment_all(mapping):\n",
    "    for key in mapping:\n",
    "        mapping[key] += 1\n",
    "        \n",
    "vals = {\"a\" : 1, \"b\" : 100}\n",
    "increment_all(vals)\n",
    "print(vals)"
   ]
  },
  {
   "cell_type": "markdown",
   "metadata": {},
   "source": [
    "Consider\n",
    "* function name.\n",
    "* parameter names.\n",
    "* variables."
   ]
  },
  {
   "cell_type": "markdown",
   "metadata": {},
   "source": [
    "**Not** required in labs, but useful. Official guidelines: [PEP 257 -- Docstring Conventions](https://www.python.org/dev/peps/pep-0257/)."
   ]
  },
  {
   "cell_type": "markdown",
   "metadata": {},
   "source": [
    "* How would we document this?"
   ]
  },
  {
   "cell_type": "code",
   "execution_count": 75,
   "metadata": {},
   "outputs": [],
   "source": [
    "def increment_all(mapping):\n",
    "    \"\"\"Increment all values in the mapping by 1.\"\"\"\n",
    "    for key in mapping:\n",
    "        mapping[key] += 1"
   ]
  },
  {
   "cell_type": "code",
   "execution_count": 76,
   "metadata": {},
   "outputs": [
    {
     "name": "stdout",
     "output_type": "stream",
     "text": [
      "Help on function increment_all in module __main__:\n",
      "\n",
      "increment_all(mapping)\n",
      "    Increment all values in the mapping by 1.\n",
      "\n"
     ]
    }
   ],
   "source": [
    "help(increment_all)"
   ]
  },
  {
   "cell_type": "markdown",
   "metadata": {},
   "source": [
    "### What do we require going forward?\n",
    "\n",
    "* PEP8 compliance *not* required.\n",
    "* Readable code.\n",
    "* Considered variable names, iteration variables.\n",
    "* Comments if we have larger code blocks. (Should this be needed?)\n",
    "    * Why is this code here (what does it add), not what does it do (\"first we set i to 0, then...\").\n",
    "    * You likely won't need a lot of this.\n",
    "* Moderately clever structure. (Esp relevant in later labs.)\n",
    "\n",
    "Good, but not required (unless we say so)\n",
    "* Docstrings."
   ]
  },
  {
   "cell_type": "markdown",
   "metadata": {},
   "source": [
    "**DON'T PANIC**"
   ]
  },
  {
   "cell_type": "markdown",
   "metadata": {},
   "source": [
    "## A few general hints for design and naming\n",
    "\n",
    "Caveat: large subject, involving personal preferences and official guidelines (sometimes at company level). Trying to cover many beginner mistakes."
   ]
  },
  {
   "cell_type": "markdown",
   "metadata": {},
   "source": [
    "### Don't try to do everything\n",
    "\n",
    "Struggling with naming can mean that a function does too many different things."
   ]
  },
  {
   "cell_type": "markdown",
   "metadata": {},
   "source": [
    "### Effects vs computation\n",
    "\n",
    "Separate effects (print this, write file, change data by deaveraging...) from computation (is this valid data? What is the mean of this?)."
   ]
  },
  {
   "cell_type": "markdown",
   "metadata": {},
   "source": [
    "### Taking the calling function's perspective\n",
    "\n",
    "Compare    \n",
    "    ```if calculate_if_data_consistent(data):\n",
    "        ...```\n",
    "        \n",
    "with\n",
    "    \n",
    "```if is_consistent(data):\n",
    "       ...```"
   ]
  },
  {
   "cell_type": "markdown",
   "metadata": {},
   "source": [
    "### Don't mislead\n",
    "`is_consistent(data)` should test if it is consistent, not change the data, print something or the like."
   ]
  },
  {
   "cell_type": "markdown",
   "metadata": {},
   "source": [
    "### Consider what the data represents"
   ]
  },
  {
   "cell_type": "markdown",
   "metadata": {},
   "source": [
    "What is the application? Domain? Cf last lecture."
   ]
  },
  {
   "cell_type": "code",
   "execution_count": 78,
   "metadata": {},
   "outputs": [
    {
     "name": "stdout",
     "output_type": "stream",
     "text": [
      "The 0st/th name is Alonzo.\n",
      "The 1st/th name is Zeno.\n",
      "The 2st/th name is Trisse.\n"
     ]
    }
   ],
   "source": [
    "# Example\n",
    "names = [\"Alonzo\", \"Zeno\", \"Trisse\"]\n",
    "\n",
    "# Bad. j sounds like an index. (i,j,k...)\n",
    "for i, j in enumerate(names):\n",
    "    print(f\"The {i}st/th name is {j}.\")"
   ]
  },
  {
   "cell_type": "code",
   "execution_count": 79,
   "metadata": {},
   "outputs": [
    {
     "name": "stdout",
     "output_type": "stream",
     "text": [
      "The 0st/th name is Alonzo.\n",
      "The 1st/th name is Zeno.\n",
      "The 2st/th name is Trisse.\n"
     ]
    }
   ],
   "source": [
    "# OK, we know that it's a list of strings. But the strings _represent_ something.\n",
    "\n",
    "names = [\"Alonzo\", \"Zeno\", \"Trisse\"]\n",
    "\n",
    "for i, string in enumerate(names):\n",
    "    print(f\"The {i}st/th name is {string}.\")"
   ]
  },
  {
   "cell_type": "code",
   "execution_count": 80,
   "metadata": {},
   "outputs": [
    {
     "name": "stdout",
     "output_type": "stream",
     "text": [
      "The 0st/th name is Alonzo.\n",
      "The 1st/th name is Zeno.\n",
      "The 2st/th name is Trisse.\n"
     ]
    }
   ],
   "source": [
    "# OK, we know that it's a list of strings. But the strings _represent_ something.\n",
    "\n",
    "names = [\"Alonzo\", \"Zeno\", \"Trisse\"]\n",
    "\n",
    "for i, name in enumerate(names):\n",
    "    print(f\"The {i}st/th name is {name}.\")"
   ]
  },
  {
   "cell_type": "markdown",
   "metadata": {},
   "source": [
    "### Consider what your functions depend on"
   ]
  },
  {
   "cell_type": "markdown",
   "metadata": {},
   "source": [
    "Keep in mind what outside variables your function depends on."
   ]
  },
  {
   "cell_type": "markdown",
   "metadata": {},
   "source": [
    "### Other design issue"
   ]
  },
  {
   "cell_type": "markdown",
   "metadata": {},
   "source": [
    "* In *small-scale* top-down design, creating \"empty\" functions with a certain contract can be helpful.\n",
    "    * Example: \"In my program I will need a function `read_data` which takes a file name for a CSV file and returns a data set on format *X*.\" (this is the - somewhat handwaving - contract) \"I'll define it, and fill it in later.\"\n",
    "    * A Python function body cannot be empty. `pass` is your friend."
   ]
  },
  {
   "cell_type": "code",
   "execution_count": 82,
   "metadata": {},
   "outputs": [],
   "source": [
    "# How to write the read_data skeleton.\n",
    "\n",
    "def read_data(filename, delimiter=\",\"):\n",
    "    \"\"\"Return a ... with data from CSV file filename.\"\"\"\n",
    "    pass   # Do nothing instruction (NOP).\n",
    "\n",
    "# continue coding."
   ]
  },
  {
   "cell_type": "markdown",
   "metadata": {},
   "source": [
    "## A note on testing and (unsystematic) debugging"
   ]
  },
  {
   "cell_type": "markdown",
   "metadata": {},
   "source": [
    "> It has been just so in all of my inventions. The first step is an intuition, and comes with a burst, then difficulties arise - this thing gives out and [it is] then that 'Bugs' - as such little faults and difficulties are called - show themselves and months of intense watching, study and labor are requisite.\n",
    "\n",
    "*Thomas Edison*, quoted in Ammann & Offutt (2017) - Intro to Software Testing, 2nd ed."
   ]
  },
  {
   "cell_type": "markdown",
   "metadata": {},
   "source": [
    "* Plenty of tools out there for debugging.\n",
    "    * One example: [pdb](https://docs.python.org/3.7/library/pdb.html).\n",
    "* We will focus on simpler print-style and asserts."
   ]
  },
  {
   "cell_type": "markdown",
   "metadata": {},
   "source": [
    "**IF YOU KNOW WHAT YOUR PROGRAM IS SUPPOSED TO DO, YOU CAN CHECK IF IT ACTUALLY DOES IT**"
   ]
  },
  {
   "cell_type": "code",
   "execution_count": null,
   "metadata": {},
   "outputs": [],
   "source": [
    "# Faulty code. Somewhat articificial example. \n",
    "# Also an inefficient method, but let's not worry about that.\n",
    "\n",
    "def calculate_if_prime_or_not(x):\n",
    "    # Check to see if we can find something that divides the number.\n",
    "    for y in range(x):\n",
    "        if y % x == 0:\n",
    "            answer = False\n",
    "        else:\n",
    "            answer = True\n",
    "    return answer"
   ]
  },
  {
   "cell_type": "markdown",
   "metadata": {},
   "source": [
    "What are the issues? Found how?"
   ]
  },
  {
   "cell_type": "code",
   "execution_count": null,
   "metadata": {
    "scrolled": true
   },
   "outputs": [],
   "source": [
    "# What is expected?\n",
    "# Printing!\n",
    "#..."
   ]
  },
  {
   "cell_type": "markdown",
   "metadata": {},
   "source": [
    "Python Tutor may help here as well!"
   ]
  },
  {
   "cell_type": "markdown",
   "metadata": {},
   "source": [
    "* We can add assertions to show that our (pure) function passed some useful tests. Corner cases to illustrate?"
   ]
  },
  {
   "cell_type": "code",
   "execution_count": 86,
   "metadata": {},
   "outputs": [
    {
     "name": "stdout",
     "output_type": "stream",
     "text": [
      "We got here without problems!!\n"
     ]
    }
   ],
   "source": [
    "def successor(n):\n",
    "    return n + 1\n",
    "\n",
    "assert successor(0) == 1, \"successor to first natural is 1\"\n",
    "assert not successor(0) == 999, \"this is a problem\"\n",
    "\n",
    "print(\"We got here without problems!!\")"
   ]
  },
  {
   "cell_type": "code",
   "execution_count": null,
   "metadata": {},
   "outputs": [],
   "source": [
    "# assert is_prime(???) == ???, \"???\"\n",
    "assert True, \"this should succeed\"\n",
    "#assert False, \"this should fail\"\n",
    "assert not is_prime(4), \"known non-prime 4 should not be considered prime\"\n",
    "assert is_prime(2), \"the even number 2 should be considered prime\"\n",
    "#assert ...\n",
    "\n",
    "# assert statement\n",
    "\n",
    "# Add corner cases. 2 is the only non-odd prime. Empty lists...\n",
    "# Cases both for expected success and failure.\n",
    "\n",
    "print(\"All tests OK.\")"
   ]
  },
  {
   "cell_type": "markdown",
   "metadata": {},
   "source": [
    "[Note: We might have other forms of properties that might be suitable for automatic testing. For instance \"all return values should be True/False\", \"all multiples of two integers should be non-prime\" or the like. This is outside the  scope of this course, but an interesting subject to look into.\n",
    "\n",
    "Modest focus here: strategies to find good test cases to convince ourselves somewhat. Links to books with coverage criteria in the lab.]\n",
    "\n"
   ]
  },
  {
   "cell_type": "markdown",
   "metadata": {},
   "source": [
    "* We can gather this into functions."
   ]
  },
  {
   "cell_type": "code",
   "execution_count": null,
   "metadata": {},
   "outputs": [],
   "source": [
    "def test_is_prime():\n",
    "    assert is_prime(2), \"even number 2 should be considered prime\"\n",
    "    assert not is_prime(4), \"known non-prime 4 should not be considered prime\"\n",
    "    # Could be written is_prime(4) == False, but this is ugly without increasing clarity.\n",
    "    \n",
    "    print(\"--- test_is_prime succeeded\")\n",
    "test_is_prime()"
   ]
  },
  {
   "cell_type": "markdown",
   "metadata": {},
   "source": [
    "Note: primitive structure, but the logic can be adapted to proper frameworks."
   ]
  },
  {
   "cell_type": "markdown",
   "metadata": {},
   "source": [
    "## New type interlude: namedtuples"
   ]
  },
  {
   "cell_type": "markdown",
   "metadata": {},
   "source": [
    "* Behave like tuples, but also allow member access by names. Eg mytuple.args instead of mytuple[0]. Enhanced readability."
   ]
  },
  {
   "cell_type": "code",
   "execution_count": 91,
   "metadata": {},
   "outputs": [
    {
     "data": {
      "text/plain": [
       "1"
      ]
     },
     "execution_count": 91,
     "metadata": {},
     "output_type": "execute_result"
    }
   ],
   "source": [
    "from collections import namedtuple\n",
    "# Define our coordinate type.\n",
    "coord = namedtuple(\"coord\", [\"x\", \"y\"])\n",
    "p1 = coord(1,2)\n",
    "p1.x"
   ]
  },
  {
   "cell_type": "markdown",
   "metadata": {},
   "source": [
    "# Paradigms"
   ]
  },
  {
   "cell_type": "markdown",
   "metadata": {},
   "source": [
    "* Philosophies about code.\n",
    "    * Execution model.\n",
    "    * Code organization.\n",
    "* Python is a multi-paradigm language (sort of)."
   ]
  },
  {
   "cell_type": "markdown",
   "metadata": {},
   "source": [
    "# Functional programming"
   ]
  },
  {
   "cell_type": "markdown",
   "metadata": {},
   "source": [
    "* Typically declarative.\n",
    "* Purity (see below) makes it easy to reason about. (Not necessarily write...)\n",
    "    * In particular for parallel computation.\n",
    "    * MapReduce."
   ]
  },
  {
   "cell_type": "markdown",
   "metadata": {},
   "source": [
    "### Pure functions"
   ]
  },
  {
   "cell_type": "markdown",
   "metadata": {},
   "source": [
    "* No side causes. \n",
    "    * Doesn't depend on the state (of the world)."
   ]
  },
  {
   "cell_type": "code",
   "execution_count": null,
   "metadata": {
    "scrolled": true
   },
   "outputs": [],
   "source": [
    "import datetime\n",
    "\n",
    "def has_side_causes():\n",
    "    return datetime.datetime.now()\n",
    "\n",
    "def no_side_causes():\n",
    "    return 5 + 5\n",
    "    \n",
    "has_side_causes()"
   ]
  },
  {
   "cell_type": "markdown",
   "metadata": {},
   "source": [
    "* No side effects.\n",
    "    * Doesn't change the state of the world."
   ]
  },
  {
   "cell_type": "markdown",
   "metadata": {},
   "source": [
    "Corollary: In (purely) functional programming, \n",
    "* there will be less of hidden dependencies on state.\n",
    "* reduced complexity.\n",
    "* referential transparency. Calling function $f$ with input $X$ will always yield the same result.\n",
    "* mathematical resoning useful (not just \"do X, then Y\")."
   ]
  },
  {
   "cell_type": "markdown",
   "metadata": {},
   "source": [
    "## Feature: higher order functions"
   ]
  },
  {
   "cell_type": "markdown",
   "metadata": {},
   "source": [
    "* Functions with functions as outputs are generally considered higher-order. Have you seen those before? (Functions + scope.)"
   ]
  },
  {
   "cell_type": "code",
   "execution_count": null,
   "metadata": {},
   "outputs": [],
   "source": [
    "# Exercise."
   ]
  },
  {
   "cell_type": "markdown",
   "metadata": {},
   "source": [
    "* Similarly with functions taking functions as input, or returning functions as output."
   ]
  },
  {
   "cell_type": "code",
   "execution_count": null,
   "metadata": {},
   "outputs": [],
   "source": [
    "# Implementing our own filter, with a list comprehension.\n",
    "points = [ coord(1,2), coord(-2,3), coord(5,100), coord(0,-1) ]\n",
    "\n",
    "def points_satisfying(points, to_keep):  # to_keep behaves as a function\n",
    "    \"\"\"Return a list of points which satisfy the criterion set out by the to_keep function.\"\"\"\n",
    "    return [p for p in points if to_keep(p)]  # if we treat it like one\n",
    "\n",
    "# How to call, to find points in the cone x >= 0, y >= 0?"
   ]
  },
  {
   "cell_type": "markdown",
   "metadata": {},
   "source": [
    "## Declarative patterns"
   ]
  },
  {
   "cell_type": "markdown",
   "metadata": {},
   "source": [
    "* Many declarative-style patterns are Pythonic.\n",
    "* Often implemented with iterators.\n",
    "* Useful to chain together, one result feeding into the next.\n",
    "* Often well-implemented.\n",
    "* Example: map."
   ]
  },
  {
   "cell_type": "code",
   "execution_count": null,
   "metadata": {
    "scrolled": true
   },
   "outputs": [],
   "source": [
    "# map is a standard functional programming pattern.\n",
    "# Cf mathematical mapping. map takes a sequence of values and produces the image of that sequence under a given function.\n",
    "\n",
    "print(map(lambda x : x**2, [1,2,3]))\n",
    "tuple(map(lambda x : x**2, [1,2,3]))"
   ]
  },
  {
   "cell_type": "code",
   "execution_count": null,
   "metadata": {
    "scrolled": false
   },
   "outputs": [],
   "source": [
    "# Caveat: in Python this produces something which generates the values as you ask for them.\n",
    "\n",
    "squares = map(lambda x : x**2, [1,2,3])\n",
    "print(squares)\n",
    "print(list(squares))   # Consumes all the values.\n",
    "print(tuple(squares))  # All consumed."
   ]
  },
  {
   "cell_type": "markdown",
   "metadata": {},
   "source": [
    "Corollary: this can be quite efficient. Doesn't generate values in vain."
   ]
  },
  {
   "cell_type": "markdown",
   "metadata": {},
   "source": [
    "* Example: filter"
   ]
  },
  {
   "cell_type": "code",
   "execution_count": null,
   "metadata": {},
   "outputs": [],
   "source": [
    "# filter keeps those values which conform to a predicate (function which - ideally - returns True/False depending\n",
    "# on if a criterion has been satisfied).\n",
    "\n",
    "is_even = lambda n : n % 2 == 0       # could be written \"not n % 2\"\n",
    "filter(is_even, [1,2,3])\n",
    "list(filter(is_even, [1,2,3]))"
   ]
  },
  {
   "cell_type": "markdown",
   "metadata": {},
   "source": [
    "* Example reduce. "
   ]
  },
  {
   "cell_type": "code",
   "execution_count": null,
   "metadata": {},
   "outputs": [],
   "source": [
    "from functools import reduce\n",
    "\n",
    "reduce(lambda acc, e : [acc] + [e], [1,2,3, 4])   # [  [ [1,2] ] + [3]  ] + [4]"
   ]
  },
  {
   "cell_type": "markdown",
   "metadata": {},
   "source": [
    "* These can be combined."
   ]
  },
  {
   "cell_type": "code",
   "execution_count": null,
   "metadata": {},
   "outputs": [],
   "source": [
    "sq = lambda x : x**2\n",
    "seq = range(100)\n",
    "\n",
    "square_evens = map(sq, filter(lambda n : n % 2 == 0, seq))\n",
    "#list(square_evens)"
   ]
  },
  {
   "cell_type": "markdown",
   "metadata": {},
   "source": [
    "## A note on recursion"
   ]
  },
  {
   "cell_type": "markdown",
   "metadata": {},
   "source": [
    "* Practiced in lab 3. \n",
    "* Function values defined in terms... of function values.\n",
    "* Focus on mathematical identities.\n",
    "* Sometimes useful in its own right.\n",
    "* Sometimes inefficient, but useful when turned into non-recursive algorithms.\n",
    "* Use cases here: many tree-structures."
   ]
  },
  {
   "cell_type": "markdown",
   "metadata": {},
   "source": [
    "* Strategy\n",
    "    * \"Pretend\" that we know the solution to a smaller case, extend that.\n",
    "    * What do we know about the *smallest* case (or the smallest cases)?"
   ]
  },
  {
   "cell_type": "code",
   "execution_count": null,
   "metadata": {},
   "outputs": [],
   "source": [
    "# What is the sum 0 + 1 + ... + (n-1) + n?\n",
    "\n",
    "# Helper function (during program construction).\n",
    "def sum_reference(n):\n",
    "    \"\"\"Return the sum 0+...+n.\"\"\"\n",
    "    return sum(range(n+1))\n",
    "\n",
    "# If we knew the sum 0 + 1 + ... + (n-1)?\n",
    "\n",
    "def sum_rec(n):\n",
    "    pass"
   ]
  },
  {
   "cell_type": "markdown",
   "metadata": {},
   "source": [
    "* Handwaving explanation above. Good mathematical foundations. \n",
    "    * Closely related to inductive proofs.\n",
    "    * Well-orderings."
   ]
  },
  {
   "cell_type": "markdown",
   "metadata": {},
   "source": [
    "* Sanity checks:\n",
    "    * base case (or base cases). \n",
    "    No more subdivision of the problem.\n",
    "    Typical examples: empty list, zero, reached the leaves in a decision tree.\n",
    "    * recursive case. Split into smaller case, and write the solution to this case. (Typically: rest of the list, traverse left or/and right branches of the tree...)"
   ]
  }
 ],
 "metadata": {
  "kernelspec": {
   "display_name": "Python 3",
   "language": "python",
   "name": "python3"
  },
  "language_info": {
   "codemirror_mode": {
    "name": "ipython",
    "version": 3
   },
   "file_extension": ".py",
   "mimetype": "text/x-python",
   "name": "python",
   "nbconvert_exporter": "python",
   "pygments_lexer": "ipython3",
   "version": "3.6.9"
  }
 },
 "nbformat": 4,
 "nbformat_minor": 2
}
