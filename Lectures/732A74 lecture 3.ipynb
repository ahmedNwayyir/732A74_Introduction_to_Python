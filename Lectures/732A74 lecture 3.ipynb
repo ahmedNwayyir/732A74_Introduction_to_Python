{
 "cells": [
  {
   "cell_type": "markdown",
   "metadata": {},
   "source": [
    "# Lecture 3: OOP, classes, scripts and some other issues"
   ]
  },
  {
   "cell_type": "markdown",
   "metadata": {},
   "source": [
    "* Everything is an object, so... everything!\n",
    "* OOP\n",
    "* Classes\n",
    "* Some brief notes on other language features (extra material)\n",
    "* Sets and choice of data structures\n",
    "* Scripting\n",
    "* Lab 5-information\n",
    "* Presentation (and additional material) by Anders Märak Leffler\n",
    "* Attribution: slightly extends work by Johan Falkenjack.\n",
    "* License: [CC-BY-SA 4.0](https://creativecommons.org/licenses/by-sa/4.0/)"
   ]
  },
  {
   "cell_type": "markdown",
   "metadata": {},
   "source": [
    "# Course status report"
   ]
  },
  {
   "cell_type": "markdown",
   "metadata": {},
   "source": [
    "* Lab grading\n",
    "* Labs online\n",
    "* General comments\n",
    "    * Style going forward.\n",
    "    * `last_idx`"
   ]
  },
  {
   "cell_type": "markdown",
   "metadata": {},
   "source": [
    "# Philosophy 101: OOP in principle"
   ]
  },
  {
   "cell_type": "markdown",
   "metadata": {},
   "source": [
    "* Paradigms - ideals about how code should be structured (and execution models).\n",
    "    * How do we choose to abstract the world?\n",
    "    * Previous: Imperative.\n",
    "    * Previous: Functional."
   ]
  },
  {
   "cell_type": "markdown",
   "metadata": {},
   "source": [
    "* Now: OOP (exercises in lab 5)\n",
    "    * Rough resemblance between objects in the world, and the code.\n",
    "    * Keeping related data and behaviour together.\n",
    "        * Roughly: a bunch of data and the way they interact with the world."
   ]
  },
  {
   "cell_type": "markdown",
   "metadata": {},
   "source": [
    "## Some motivating examples"
   ]
  },
  {
   "cell_type": "markdown",
   "metadata": {},
   "source": [
    "### Grouping related data together is useful"
   ]
  },
  {
   "cell_type": "code",
   "execution_count": 154,
   "metadata": {},
   "outputs": [],
   "source": [
    "# Most extreme (somewhat strawmannish) contrast: entirely ungrouped values.\n",
    "\n",
    "car_1_maker = \"Volvo\"\n",
    "car_1_model = 240\n",
    "car_1_colour = \"black\"\n",
    "car_1_cost = 90000\n",
    "\n",
    "car_2_maker = \"Toyota\"\n",
    "car_2_model = \"Camry\"\n",
    "car_2_colour = \"red\"\n",
    "car_2_cost = 100000\n",
    "\n",
    "# ...\n",
    "\n",
    "# How do we pass a list of cars to a function which calculates eg if Toyotas are more expensive?"
   ]
  },
  {
   "cell_type": "code",
   "execution_count": 155,
   "metadata": {},
   "outputs": [
    {
     "name": "stdout",
     "output_type": "stream",
     "text": [
      "volvo\n"
     ]
    }
   ],
   "source": [
    "# Grouping data together. How?\n",
    "# (car_1_maker, ...)\n",
    "# Anything we've seen before?\n",
    "\n",
    "# Simple class syntax.\n",
    "class Car:\n",
    "    pass\n",
    "\n",
    "car1 = Car()\n",
    "car2 = Car()\n",
    "car1.maker = \"volvo\"\n",
    "car1.cost  = 9000\n",
    "car2.maker = \"toyota\"\n",
    "car2.cost = 12333\n",
    "print(car1.maker)"
   ]
  },
  {
   "cell_type": "markdown",
   "metadata": {},
   "source": [
    "* Not only grouping, but now we can change the cost of a _specific_ car."
   ]
  },
  {
   "cell_type": "code",
   "execution_count": 156,
   "metadata": {},
   "outputs": [
    {
     "data": {
      "text/plain": [
       "123131231231231239999"
      ]
     },
     "execution_count": 156,
     "metadata": {},
     "output_type": "execute_result"
    }
   ],
   "source": [
    "car1.cost = 123131231231231239999\n",
    "car1.cost"
   ]
  },
  {
   "cell_type": "markdown",
   "metadata": {},
   "source": [
    "Addendum: fewer issues when writing in Notebooks (did I re-run cell X last, or cell Y? What is \"data\" currently?)."
   ]
  },
  {
   "cell_type": "markdown",
   "metadata": {},
   "source": [
    "## Defining classes in Python"
   ]
  },
  {
   "cell_type": "markdown",
   "metadata": {},
   "source": [
    "### Writing the class definition in Python"
   ]
  },
  {
   "cell_type": "code",
   "execution_count": 157,
   "metadata": {},
   "outputs": [
    {
     "data": {
      "text/plain": [
       "'saab'"
      ]
     },
     "execution_count": 157,
     "metadata": {},
     "output_type": "execute_result"
    }
   ],
   "source": [
    "# Defining the car class. With an initializer, which is run when you create the object.\n",
    "\n",
    "\"\"\"\n",
    "car_2_maker = \"Toyota\"\n",
    "car_2_model = \"Camry\"\n",
    "car_2_colour = \"red\"\n",
    "car_2_cost = 100000\n",
    "\"\"\"\n",
    "\n",
    "#Car(string name, model_t model,...)\n",
    "class Car:\n",
    "    def __init__(self, maker, model, colour, cost):\n",
    "        self.maker = maker\n",
    "        self.model = model\n",
    "        self.colour = colour\n",
    "        self.cost = cost\n",
    "        # additional setup calculations might be good here\n",
    "        # function calls here OK\n",
    "        \n",
    "car1 = Car(\"saab\", model = \"9000\", colour = \"black\", cost = 1)\n",
    "car1.maker"
   ]
  },
  {
   "cell_type": "code",
   "execution_count": 158,
   "metadata": {},
   "outputs": [
    {
     "data": {
      "text/plain": [
       "[<__main__.Car at 0x7f7c42f7b160>, <__main__.Car at 0x7f7c42f7bb38>]"
      ]
     },
     "execution_count": 158,
     "metadata": {},
     "output_type": "execute_result"
    }
   ],
   "source": [
    "cars = [Car(maker = \"Volvo\", model = 240, colour = \"black\", cost = 90000), \n",
    "       Car(maker = \"Toyota\", model = \"Camry\", colour = \"red\", cost = 10000)]\n",
    "cars"
   ]
  },
  {
   "cell_type": "code",
   "execution_count": 159,
   "metadata": {},
   "outputs": [
    {
     "name": "stdout",
     "output_type": "stream",
     "text": [
      "A black saab of model 9000.\n"
     ]
    }
   ],
   "source": [
    "# Adding how a car is presented.\n",
    "\n",
    "class Car:\n",
    "    def __init__(self, maker, model, colour, cost):\n",
    "        self.maker = maker\n",
    "        self.model = model\n",
    "        self.colour = colour\n",
    "        self.cost = cost\n",
    "        \n",
    "    def __repr__(self):\n",
    "        return f\"A {self.colour} {self.maker} of model {self.model}.\"\n",
    "\n",
    "print(Car(\"saab\", model = \"9000\", colour = \"black\", cost = 1))"
   ]
  },
  {
   "cell_type": "code",
   "execution_count": 160,
   "metadata": {},
   "outputs": [],
   "source": [
    "# With a data source such as an API connection which gives us data in a certain format, a CSV file handle,\n",
    "# we can automate this.\n",
    "\n",
    "# Nothing specific to OOP so far, but noteworthy feature.\n",
    "\n",
    "some_magic_data_iterable = [(\"Volvo\", \"black\", 240, 90000), (\"Toyota\", \"red\", \"Camry\", 10000)]\n",
    "\n",
    "cars = [Car(maker = maker, colour = colour, model = model, cost = cost) \n",
    "        for maker, colour, model, cost in some_magic_data_iterable]"
   ]
  },
  {
   "cell_type": "markdown",
   "metadata": {},
   "source": [
    "Notes:\n",
    "* Couldn't we do this via some other abstraction (namedtuple, or tuples + a function which picks out the right parts, such as`get_maker(car) == car[0]`)...?\n",
    "* Now we have objects with state. What about \"behaviours\"?\n",
    "    * (Philosophical question for those so inclined: structs vs objects.)"
   ]
  },
  {
   "cell_type": "markdown",
   "metadata": {},
   "source": [
    "### Idea: Objects behave as we tell them (acting on messages, the concept of interface)"
   ]
  },
  {
   "cell_type": "markdown",
   "metadata": {},
   "source": [
    "* (Public) interface: What messages does an object accept, and what does it do or return?"
   ]
  },
  {
   "cell_type": "markdown",
   "metadata": {},
   "source": [
    "* Example: What can you tell a list to do?"
   ]
  },
  {
   "cell_type": "code",
   "execution_count": 161,
   "metadata": {},
   "outputs": [
    {
     "name": "stdout",
     "output_type": "stream",
     "text": [
      "[1, 2, 3, 999]\n",
      "[4, 5, 6]\n"
     ]
    }
   ],
   "source": [
    "seq = [1,2,3]\n",
    "other_seq = [4,5,6]\n",
    "seq + other_seq    # get a new list\n",
    "\n",
    "seq.append(999)    # Tell exactly the list called seq to append 999.\n",
    "print(seq)\n",
    "print(other_seq)"
   ]
  },
  {
   "cell_type": "markdown",
   "metadata": {},
   "source": [
    "## Ideal: Encapsulation. Objects should be isolated, and hide implementation"
   ]
  },
  {
   "cell_type": "markdown",
   "metadata": {},
   "source": [
    "* Carry their own data, or references to where to get it. \n",
    "```\n",
    "    classifier1 = NaiveProjection(training_data = ..., k = 3)   # Trained with max dimension k = 3\n",
    "    classifier2 = NaiveProjection(training_data = ..., k = 15)\n",
    "    # Now classifier1 and classifier2 have different data inside.    \n",
    "```\n",
    "* Carry their own behaviours.\n",
    "    * (Corollary) Avoids dependence on other objects' implementation.\n",
    "    * Ex: \n",
    "    \n",
    "    ```\n",
    "    classifier3 = SomeSmartMethod(training_data = ...)\n",
    "    \n",
    "    classifier_1.classification(image)  # uses one of the classifiers\n",
    "    classifier_2.classification(image)  # uses the other\n",
    "    classifier_3.classification(image)  # something else entirely - we only know that .classification will return a label!\n",
    "    ```\n",
    "    \n",
    "    (This as opposed to `naive_projection_classification(training_data1, image), naive_projection_classification(training_data2, image), someother_classification(training_data3, image)` where the behaviour is in the function and the data somehwere else.)\n",
    "        \n",
    "[//]: <> ( `classify classifier_1, image`, ie an outside function which needs data from classifier_1.)"
   ]
  },
  {
   "cell_type": "markdown",
   "metadata": {},
   "source": [
    "Corollary: other parts of the program shouldn't need to know a lot about _how_ your object does things. And if you change how it does things, their code shouldn't break."
   ]
  },
  {
   "cell_type": "markdown",
   "metadata": {},
   "source": [
    "# Classes in Python"
   ]
  },
  {
   "cell_type": "markdown",
   "metadata": {},
   "source": [
    "* We use `class` to create classes.\n",
    "    * `class Cat: ...` which defines what it means to be a `Cat` object).\n",
    "    * This should be common to every single Cat.\n",
    "* We call the classes to create *instances*. The `__init__` method is called.\n",
    "    * `Cat(name = \"Alonzo\")` to create a cat instance.  This is just a value, a single cat.\n",
    "    * Usually bind this to save value for later (`alonzo = Cat(name=\"Alonzo\")`)."
   ]
  },
  {
   "cell_type": "markdown",
   "metadata": {},
   "source": [
    "Design note: a particular cat is an instance, what is *common to all cats* belongs in the class."
   ]
  },
  {
   "cell_type": "markdown",
   "metadata": {},
   "source": [
    "## Creating simple classes and instances"
   ]
  },
  {
   "cell_type": "code",
   "execution_count": 162,
   "metadata": {},
   "outputs": [
    {
     "name": "stdout",
     "output_type": "stream",
     "text": [
      "Hello, I am Alonzo the cat.\n"
     ]
    },
    {
     "data": {
      "text/plain": [
       "['__class__',\n",
       " '__delattr__',\n",
       " '__dict__',\n",
       " '__dir__',\n",
       " '__doc__',\n",
       " '__eq__',\n",
       " '__format__',\n",
       " '__ge__',\n",
       " '__getattribute__',\n",
       " '__gt__',\n",
       " '__hash__',\n",
       " '__init__',\n",
       " '__init_subclass__',\n",
       " '__le__',\n",
       " '__lt__',\n",
       " '__module__',\n",
       " '__ne__',\n",
       " '__new__',\n",
       " '__reduce__',\n",
       " '__reduce_ex__',\n",
       " '__repr__',\n",
       " '__setattr__',\n",
       " '__sizeof__',\n",
       " '__str__',\n",
       " '__subclasshook__',\n",
       " '__weakref__',\n",
       " 'description',\n",
       " 'greet',\n",
       " 'name']"
      ]
     },
     "execution_count": 162,
     "metadata": {},
     "output_type": "execute_result"
    }
   ],
   "source": [
    "# Defining what is common to all cats.\n",
    "\n",
    "# Should have a name.\n",
    "# Should have a description.\n",
    "# Should be able to greet (print a greeting string).\n",
    "\n",
    "# class Cat(object)\n",
    "class Cat:\n",
    "    # More data goes here!\n",
    "    def __init__(self, name, description = \"Adorable\"):\n",
    "        self.name = name\n",
    "        self.description = description\n",
    "        \n",
    "    def greet(self):\n",
    "        print(f\"Hello, I am {self.name}.\")\n",
    "    \n",
    "alonzo = Cat(name = \"Alonzo the cat\")\n",
    "alonzo.greet()\n",
    "dir(alonzo)"
   ]
  },
  {
   "cell_type": "markdown",
   "metadata": {},
   "source": [
    "The _class_ is what is common for all cats, an _instance_ is a specific cat."
   ]
  },
  {
   "cell_type": "code",
   "execution_count": 163,
   "metadata": {},
   "outputs": [
    {
     "name": "stdout",
     "output_type": "stream",
     "text": [
      "Hello, I am Alonzo.\n",
      "Hello, I am Zeno.\n"
     ]
    }
   ],
   "source": [
    "# Creating some instances.\n",
    "alonzo = Cat(name = \"Alonzo\")\n",
    "zeno = Cat(name = \"Zeno\")\n",
    "\n",
    "# Calling a method (function attribute).\n",
    "alonzo.greet()\n",
    "zeno.greet()"
   ]
  },
  {
   "cell_type": "markdown",
   "metadata": {},
   "source": [
    "* Objects as namespaces. Which attributes does `alonzo` have above?"
   ]
  },
  {
   "cell_type": "code",
   "execution_count": 164,
   "metadata": {
    "scrolled": true
   },
   "outputs": [
    {
     "data": {
      "text/plain": [
       "['__class__',\n",
       " '__delattr__',\n",
       " '__dict__',\n",
       " '__dir__',\n",
       " '__doc__',\n",
       " '__eq__',\n",
       " '__format__',\n",
       " '__ge__',\n",
       " '__getattribute__',\n",
       " '__gt__',\n",
       " '__hash__',\n",
       " '__init__',\n",
       " '__init_subclass__',\n",
       " '__le__',\n",
       " '__lt__',\n",
       " '__module__',\n",
       " '__ne__',\n",
       " '__new__',\n",
       " '__reduce__',\n",
       " '__reduce_ex__',\n",
       " '__repr__',\n",
       " '__setattr__',\n",
       " '__sizeof__',\n",
       " '__str__',\n",
       " '__subclasshook__',\n",
       " '__weakref__',\n",
       " 'description',\n",
       " 'greet',\n",
       " 'name']"
      ]
     },
     "execution_count": 164,
     "metadata": {},
     "output_type": "execute_result"
    }
   ],
   "source": [
    "dir(alonzo)"
   ]
  },
  {
   "cell_type": "markdown",
   "metadata": {},
   "source": [
    "* What is the `self`? Why do we pass it along?"
   ]
  },
  {
   "cell_type": "code",
   "execution_count": 165,
   "metadata": {
    "scrolled": false
   },
   "outputs": [
    {
     "name": "stdout",
     "output_type": "stream",
     "text": [
      "Hello, I am Alonzo.\n",
      "Hello, I am Alonzo.\n"
     ]
    }
   ],
   "source": [
    "# Calling member functions/methods and using the class.\n",
    "\n",
    "alonzo.greet()\n",
    "type(alonzo)        # returns Cat\n",
    "Cat.greet(alonzo)   # alonzo is the self we get data from"
   ]
  },
  {
   "cell_type": "code",
   "execution_count": 166,
   "metadata": {},
   "outputs": [
    {
     "name": "stdout",
     "output_type": "stream",
     "text": [
      "Meow\n"
     ]
    }
   ],
   "source": [
    "def jama(self):\n",
    "    print(\"Meow\")\n",
    "    \n",
    "Cat.meow = jama\n",
    "alonzo.meow()"
   ]
  },
  {
   "cell_type": "code",
   "execution_count": 167,
   "metadata": {},
   "outputs": [
    {
     "data": {
      "text/plain": [
       "['__class__',\n",
       " '__delattr__',\n",
       " '__dict__',\n",
       " '__dir__',\n",
       " '__doc__',\n",
       " '__eq__',\n",
       " '__format__',\n",
       " '__ge__',\n",
       " '__getattribute__',\n",
       " '__gt__',\n",
       " '__hash__',\n",
       " '__init__',\n",
       " '__init_subclass__',\n",
       " '__le__',\n",
       " '__lt__',\n",
       " '__module__',\n",
       " '__ne__',\n",
       " '__new__',\n",
       " '__reduce__',\n",
       " '__reduce_ex__',\n",
       " '__repr__',\n",
       " '__setattr__',\n",
       " '__sizeof__',\n",
       " '__str__',\n",
       " '__subclasshook__',\n",
       " '__weakref__',\n",
       " 'description',\n",
       " 'greet',\n",
       " 'meow',\n",
       " 'name']"
      ]
     },
     "execution_count": 167,
     "metadata": {},
     "output_type": "execute_result"
    }
   ],
   "source": [
    "dir(alonzo)"
   ]
  },
  {
   "cell_type": "code",
   "execution_count": 168,
   "metadata": {},
   "outputs": [
    {
     "name": "stdout",
     "output_type": "stream",
     "text": [
      "Meow\n"
     ]
    }
   ],
   "source": [
    "forex = Cat(name = \"Forex the cat\")\n",
    "forex.meow()"
   ]
  },
  {
   "cell_type": "code",
   "execution_count": 169,
   "metadata": {},
   "outputs": [
    {
     "data": {
      "text/plain": [
       "{'name': 'Forex the cat',\n",
       " 'description': 'Adorable',\n",
       " 'special_power': <function __main__.<lambda>(self)>}"
      ]
     },
     "execution_count": 169,
     "metadata": {},
     "output_type": "execute_result"
    }
   ],
   "source": [
    "forex.special_power = lambda self : 5\n",
    "forex.special_power(123123123)\n",
    "forex.__dict__  # What's inherent in this instance? Cf dir"
   ]
  },
  {
   "cell_type": "markdown",
   "metadata": {},
   "source": [
    "C++/Java users: _somewhat_ like `this`."
   ]
  },
  {
   "cell_type": "markdown",
   "metadata": {},
   "source": [
    "* Corollary: calling our own methods?"
   ]
  },
  {
   "cell_type": "code",
   "execution_count": 170,
   "metadata": {},
   "outputs": [],
   "source": [
    "class Bat:\n",
    "    def __init__(self, name = \"Vlad\"):\n",
    "        self.name = name\n",
    "        \n",
    "    def spooky_name(self):\n",
    "        return f\"~~~~~~~~~~~~~~~{self.name}~~~~~~~~~~~~~~~\"\n",
    "    \n",
    "    def greet(self):\n",
    "        \n",
    "        # To use this method we need to call another Bat-method.\n",
    "        print(f\"Hi, my name is.... {self.spooky_name()}!\")"
   ]
  },
  {
   "cell_type": "code",
   "execution_count": 171,
   "metadata": {},
   "outputs": [
    {
     "data": {
      "text/plain": [
       "'~~~~~~~~~~~~~~~Vlad~~~~~~~~~~~~~~~'"
      ]
     },
     "execution_count": 171,
     "metadata": {},
     "output_type": "execute_result"
    }
   ],
   "source": [
    "dracula = Bat()\n",
    "dracula.spooky_name()"
   ]
  },
  {
   "cell_type": "code",
   "execution_count": 172,
   "metadata": {},
   "outputs": [
    {
     "name": "stdout",
     "output_type": "stream",
     "text": [
      "Hi, my name is.... ~~~~~~~~~~~~~~~Vlad~~~~~~~~~~~~~~~!\n"
     ]
    }
   ],
   "source": [
    "dracula.greet()"
   ]
  },
  {
   "cell_type": "markdown",
   "metadata": {},
   "source": [
    "C++/Java users: we can't expect objects to behave in the same way with respect to scopes. Good habit: `self.<method>`."
   ]
  },
  {
   "cell_type": "markdown",
   "metadata": {},
   "source": [
    "* Can we access and check for the presence of attributes in other ways than trying with .-access as above?"
   ]
  },
  {
   "cell_type": "code",
   "execution_count": 173,
   "metadata": {},
   "outputs": [
    {
     "name": "stdout",
     "output_type": "stream",
     "text": [
      "Help on built-in function getattr in module builtins:\n",
      "\n",
      "getattr(...)\n",
      "    getattr(object, name[, default]) -> value\n",
      "    \n",
      "    Get a named attribute from an object; getattr(x, 'y') is equivalent to x.y.\n",
      "    When a default argument is given, it is returned when the attribute doesn't\n",
      "    exist; without it, an exception is raised in that case.\n",
      "\n"
     ]
    }
   ],
   "source": [
    "help(getattr)"
   ]
  },
  {
   "cell_type": "code",
   "execution_count": 174,
   "metadata": {},
   "outputs": [
    {
     "data": {
      "text/plain": [
       "'Vlad'"
      ]
     },
     "execution_count": 174,
     "metadata": {},
     "output_type": "execute_result"
    }
   ],
   "source": [
    "getattr(dracula, \"name\")   "
   ]
  },
  {
   "cell_type": "code",
   "execution_count": 175,
   "metadata": {},
   "outputs": [
    {
     "name": "stdout",
     "output_type": "stream",
     "text": [
      "Help on built-in function setattr in module builtins:\n",
      "\n",
      "setattr(obj, name, value, /)\n",
      "    Sets the named attribute on the given object to the specified value.\n",
      "    \n",
      "    setattr(x, 'y', v) is equivalent to ``x.y = v''\n",
      "\n"
     ]
    }
   ],
   "source": [
    "help(setattr)"
   ]
  },
  {
   "cell_type": "code",
   "execution_count": 176,
   "metadata": {
    "scrolled": true
   },
   "outputs": [
    {
     "name": "stdout",
     "output_type": "stream",
     "text": [
      "Help on built-in function hasattr in module builtins:\n",
      "\n",
      "hasattr(obj, name, /)\n",
      "    Return whether the object has an attribute with the given name.\n",
      "    \n",
      "    This is done by calling getattr(obj, name) and catching AttributeError.\n",
      "\n"
     ]
    }
   ],
   "source": [
    "help(hasattr)"
   ]
  },
  {
   "cell_type": "markdown",
   "metadata": {},
   "source": [
    "[More to come.]"
   ]
  },
  {
   "cell_type": "markdown",
   "metadata": {},
   "source": [
    "* We can generate \"more of the same\". A note on `type`."
   ]
  },
  {
   "cell_type": "code",
   "execution_count": 177,
   "metadata": {},
   "outputs": [
    {
     "data": {
      "text/plain": [
       "__main__.Cat"
      ]
     },
     "execution_count": 177,
     "metadata": {},
     "output_type": "execute_result"
    }
   ],
   "source": [
    "type(alonzo) #  gives us the class/constructor!"
   ]
  },
  {
   "cell_type": "code",
   "execution_count": 178,
   "metadata": {},
   "outputs": [
    {
     "data": {
      "text/plain": [
       "__main__.Cat"
      ]
     },
     "execution_count": 178,
     "metadata": {},
     "output_type": "execute_result"
    }
   ],
   "source": [
    "# Accessing the class of an object in a different way.\n",
    "alonzo.__class__"
   ]
  },
  {
   "cell_type": "code",
   "execution_count": 179,
   "metadata": {},
   "outputs": [
    {
     "data": {
      "text/plain": [
       "<__main__.Cat at 0x7f7c41718f98>"
      ]
     },
     "execution_count": 179,
     "metadata": {},
     "output_type": "execute_result"
    }
   ],
   "source": [
    "# Using it.\n",
    "zeno = type(alonzo)(name = \"Zeno the cat\")\n",
    "zeno"
   ]
  },
  {
   "cell_type": "markdown",
   "metadata": {},
   "source": [
    "* Bonus: we can generate classes as well."
   ]
  },
  {
   "cell_type": "code",
   "execution_count": 180,
   "metadata": {},
   "outputs": [
    {
     "name": "stdout",
     "output_type": "stream",
     "text": [
      "Help on class type in module builtins:\n",
      "\n",
      "class type(object)\n",
      " |  type(object_or_name, bases, dict)\n",
      " |  type(object) -> the object's type\n",
      " |  type(name, bases, dict) -> a new type\n",
      " |  \n",
      " |  Methods defined here:\n",
      " |  \n",
      " |  __call__(self, /, *args, **kwargs)\n",
      " |      Call self as a function.\n",
      " |  \n",
      " |  __delattr__(self, name, /)\n",
      " |      Implement delattr(self, name).\n",
      " |  \n",
      " |  __dir__(...)\n",
      " |      __dir__() -> list\n",
      " |      specialized __dir__ implementation for types\n",
      " |  \n",
      " |  __getattribute__(self, name, /)\n",
      " |      Return getattr(self, name).\n",
      " |  \n",
      " |  __init__(self, /, *args, **kwargs)\n",
      " |      Initialize self.  See help(type(self)) for accurate signature.\n",
      " |  \n",
      " |  __instancecheck__(...)\n",
      " |      __instancecheck__() -> bool\n",
      " |      check if an object is an instance\n",
      " |  \n",
      " |  __new__(*args, **kwargs)\n",
      " |      Create and return a new object.  See help(type) for accurate signature.\n",
      " |  \n",
      " |  __prepare__(...)\n",
      " |      __prepare__() -> dict\n",
      " |      used to create the namespace for the class statement\n",
      " |  \n",
      " |  __repr__(self, /)\n",
      " |      Return repr(self).\n",
      " |  \n",
      " |  __setattr__(self, name, value, /)\n",
      " |      Implement setattr(self, name, value).\n",
      " |  \n",
      " |  __sizeof__(...)\n",
      " |      __sizeof__() -> int\n",
      " |      return memory consumption of the type object\n",
      " |  \n",
      " |  __subclasscheck__(...)\n",
      " |      __subclasscheck__() -> bool\n",
      " |      check if a class is a subclass\n",
      " |  \n",
      " |  __subclasses__(...)\n",
      " |      __subclasses__() -> list of immediate subclasses\n",
      " |  \n",
      " |  mro(...)\n",
      " |      mro() -> list\n",
      " |      return a type's method resolution order\n",
      " |  \n",
      " |  ----------------------------------------------------------------------\n",
      " |  Data descriptors defined here:\n",
      " |  \n",
      " |  __abstractmethods__\n",
      " |  \n",
      " |  __dict__\n",
      " |  \n",
      " |  __text_signature__\n",
      " |  \n",
      " |  ----------------------------------------------------------------------\n",
      " |  Data and other attributes defined here:\n",
      " |  \n",
      " |  __base__ = <class 'object'>\n",
      " |      The most base type\n",
      " |  \n",
      " |  __bases__ = (<class 'object'>,)\n",
      " |  \n",
      " |  __basicsize__ = 864\n",
      " |  \n",
      " |  __dictoffset__ = 264\n",
      " |  \n",
      " |  __flags__ = 2148291584\n",
      " |  \n",
      " |  __itemsize__ = 40\n",
      " |  \n",
      " |  __mro__ = (<class 'type'>, <class 'object'>)\n",
      " |  \n",
      " |  __weakrefoffset__ = 368\n",
      "\n"
     ]
    }
   ],
   "source": [
    "help(type)"
   ]
  },
  {
   "cell_type": "code",
   "execution_count": 181,
   "metadata": {
    "scrolled": true
   },
   "outputs": [
    {
     "data": {
      "text/plain": [
       "5"
      ]
     },
     "execution_count": 181,
     "metadata": {},
     "output_type": "execute_result"
    }
   ],
   "source": [
    "# Bonus: creating using type.\n",
    "\n",
    "CC = type(\"CoolCat\", (Cat, object), { \"a\" : 5, \"zoo\" : lambda self : self.a })   # More about the (Cat, ) later!\n",
    "CC\n",
    "tomomalley = CC( name = \"Tom\")\n",
    "tomomalley.zoo()"
   ]
  },
  {
   "cell_type": "markdown",
   "metadata": {},
   "source": [
    "(Can be used to create types on the fly.)"
   ]
  },
  {
   "cell_type": "markdown",
   "metadata": {},
   "source": [
    "* Can we have several initialisers (like several constructors in C++)? [Without some fun-but-not-to-be-used trickery.]"
   ]
  },
  {
   "cell_type": "code",
   "execution_count": 182,
   "metadata": {},
   "outputs": [
    {
     "ename": "SyntaxError",
     "evalue": "invalid syntax (<ipython-input-182-94195139ae56>, line 2)",
     "output_type": "error",
     "traceback": [
      "\u001b[0;36m  File \u001b[0;32m\"<ipython-input-182-94195139ae56>\"\u001b[0;36m, line \u001b[0;32m2\u001b[0m\n\u001b[0;31m    def __init__(self, maker, model, ...):\u001b[0m\n\u001b[0m                                       ^\u001b[0m\n\u001b[0;31mSyntaxError\u001b[0m\u001b[0;31m:\u001b[0m invalid syntax\n"
     ]
    }
   ],
   "source": [
    "# Not possible to have this type of polymorph. in Python!\n",
    "def __init__(self, maker, model, ...):\n",
    "    pass\n",
    "\n",
    "def __init__(self, readymadecar):\n",
    "    pass\n",
    "\n",
    "# Only the last definition survives!"
   ]
  },
  {
   "cell_type": "markdown",
   "metadata": {},
   "source": [
    "* What about destructors? (For those used to C++).\n",
    "    * Main takeaway: **Garbage collected language! No \"need\" for delete, delete[], free,... due to memory.**.\n",
    "    * But sometimes other kinds of cleanup (eg closing API connections) is useful.\n",
    "    * If this is needed (not in this course!): the method `__del__`."
   ]
  },
  {
   "cell_type": "markdown",
   "metadata": {},
   "source": [
    "# Philosophy 201: has-a, is-a"
   ]
  },
  {
   "cell_type": "markdown",
   "metadata": {},
   "source": [
    "## Inheritance: every _X_ is-a _Y_"
   ]
  },
  {
   "cell_type": "markdown",
   "metadata": {},
   "source": [
    "* Conceptually: *every X is also a Y* (and can do everything it can).\n",
    "    * Adding capabilities.\n",
    "    * Specialisation.\n",
    "* Operationally: add properties to the objects at the right level.\n",
    "* Issue: how do we handle conflicts?\n",
    "* Terminology: superclass/parent, subclass/child."
   ]
  },
  {
   "cell_type": "markdown",
   "metadata": {},
   "source": [
    "* Example: every dog is an animal. Superclass: Animal, subclass: Dog (or parent/child)"
   ]
  },
  {
   "cell_type": "code",
   "execution_count": 186,
   "metadata": {},
   "outputs": [],
   "source": [
    "class Animal:\n",
    "    \n",
    "    def __init__(self, name, master):\n",
    "        self.name = name\n",
    "        self.master = master\n",
    "    \n",
    "    def scratch(self):\n",
    "        print(f\"I, {self.name}, scratch myself!\")\n",
    "        \n",
    "    def greet(self):\n",
    "        print(f\"I am a generic animal!\")\n",
    "        \n",
    "class Dog(Animal):\n",
    "    def __init__(self, name):\n",
    "        \n",
    "        # The superclass doesn't initiate itself.\n",
    "        # super().__init__(name = \"Fenrisulven\", master = \"Loki\")\n",
    "        Animal.__init__(self, name = \"Fenrisulven\", master = \"Loki\")\n",
    "        self.name = name\n",
    "        \n",
    "    def greet(self):\n",
    "        print(f\"Woof! I am {self.name}.\")\n",
    "    "
   ]
  },
  {
   "cell_type": "code",
   "execution_count": 187,
   "metadata": {},
   "outputs": [
    {
     "name": "stdout",
     "output_type": "stream",
     "text": [
      "Woof! I am Bella the dog.\n",
      "I, Bella the dog, scratch myself!\n"
     ]
    }
   ],
   "source": [
    "# What happens here?\n",
    "bella = Dog(name = \"Bella the dog\")\n",
    "bella.greet()      # Crash? Succeed and print what?\n",
    "bella.scratch()  # Crash? Succeed and print what?"
   ]
  },
  {
   "cell_type": "code",
   "execution_count": 188,
   "metadata": {},
   "outputs": [
    {
     "data": {
      "text/plain": [
       "'Loki'"
      ]
     },
     "execution_count": 188,
     "metadata": {},
     "output_type": "execute_result"
    }
   ],
   "source": [
    "# What happens when we uncomment the super bit?\n",
    "\n",
    "bella.master\n"
   ]
  },
  {
   "cell_type": "markdown",
   "metadata": {},
   "source": [
    "**Note**: `super()` is easy to use here, but check out the documentation if you have multiple inheritance!\n",
    "Additional reading (for understanding, but don't convince yourself to believe the hype): [realpython: Supercharge Your Classes With Python super()](https://realpython.com/python-super/). Cf [Python's super considered harmful](https://fuhm.net/super-harmful/)."
   ]
  },
  {
   "cell_type": "markdown",
   "metadata": {},
   "source": [
    "* Toy example above. Used in many cases, eg subclassing numpy arrays to change behaviour/add features."
   ]
  },
  {
   "cell_type": "markdown",
   "metadata": {},
   "source": [
    "### Issue: Multiple inheritance"
   ]
  },
  {
   "cell_type": "markdown",
   "metadata": {},
   "source": [
    "* Every _X_ is also a _Y_, a _Z_, a..."
   ]
  },
  {
   "cell_type": "code",
   "execution_count": 189,
   "metadata": {
    "scrolled": true
   },
   "outputs": [],
   "source": [
    "class Animal:\n",
    "    def __init__(self, name, master):\n",
    "        self.name = name\n",
    "        self.master = master\n",
    "    \n",
    "    def scratch(self):\n",
    "        print(f\"I, {self.name}, scratch myself!\")\n",
    "        \n",
    "    def greet(self):\n",
    "        print(f\"I am a generic animal!\")\n",
    "        \n",
    "class SuperHero:\n",
    "    def __init__(self, name):\n",
    "        self.name = name\n",
    "        \n",
    "    def fly(self):\n",
    "        print(\"I am flying!\")\n",
    "        \n",
    "    def greet(self):\n",
    "        print(f\"With great power comes great responsibility.\")\n",
    "\n",
    "        \n",
    "# Tigers should be *both* Animals and Superheroes.\n",
    "\n",
    "class Tiger(Animal, SuperHero):\n",
    "    def __init__(self, name):\n",
    "        #SuperHero.__init__(self, name = name)\n",
    "        #Animal.__init__(self, name = name)\n",
    "        \n",
    "        self.name = name\n",
    "        \n",
    "    # No specialised greet this time around.\n"
   ]
  },
  {
   "cell_type": "code",
   "execution_count": 190,
   "metadata": {},
   "outputs": [
    {
     "name": "stdout",
     "output_type": "stream",
     "text": [
      "I am a generic animal!\n"
     ]
    }
   ],
   "source": [
    "# What will this print? Will we be using Animal.greet or SuperHero.greet?\n",
    "\n",
    "tigger = Tiger(name = \"Tigger\")\n",
    "tigger.greet()"
   ]
  },
  {
   "cell_type": "markdown",
   "metadata": {},
   "source": [
    "* How do we figure out the order here?"
   ]
  },
  {
   "cell_type": "code",
   "execution_count": 191,
   "metadata": {},
   "outputs": [
    {
     "data": {
      "text/plain": [
       "(__main__.Tiger, __main__.Animal, __main__.SuperHero, object)"
      ]
     },
     "execution_count": 191,
     "metadata": {},
     "output_type": "execute_result"
    }
   ],
   "source": [
    "# Using inspect.\n",
    "import inspect\n",
    "inspect.getmro(tigger.__class__)"
   ]
  },
  {
   "cell_type": "code",
   "execution_count": 192,
   "metadata": {},
   "outputs": [
    {
     "data": {
      "text/plain": [
       "(__main__.Tiger, __main__.Animal, __main__.SuperHero, object)"
      ]
     },
     "execution_count": 192,
     "metadata": {},
     "output_type": "execute_result"
    }
   ],
   "source": [
    "# Directly\n",
    "tigger.__class__.__mro__"
   ]
  },
  {
   "cell_type": "code",
   "execution_count": 193,
   "metadata": {},
   "outputs": [
    {
     "name": "stdout",
     "output_type": "stream",
     "text": [
      "With great power comes great responsibility.\n"
     ]
    }
   ],
   "source": [
    "#Addition:\n",
    "\n",
    "SuperHero.greet(tigger)"
   ]
  },
  {
   "cell_type": "markdown",
   "metadata": {},
   "source": [
    "* Possibly more complex: what happens if have several layers of this?\n",
    "* Where does this Method Resolution Order come from? Extracurricular: check out [The Python 2.3 Method resolution order](https://www.python.org/download/releases/2.3/mro/)."
   ]
  },
  {
   "cell_type": "code",
   "execution_count": 196,
   "metadata": {},
   "outputs": [
    {
     "name": "stdout",
     "output_type": "stream",
     "text": [
      "2\n"
     ]
    }
   ],
   "source": [
    "# statics/class variables. Added after the lecture. \n",
    "# Not sure what went wrong (possibly duplicate def.)\n",
    "# (See also prepared info below)\n",
    "\n",
    "class Test:\n",
    "    number_instances = 0\n",
    "    def __init__(self):\n",
    "        Test.number_instances += 1\n",
    "        \n",
    "t1 = Test()\n",
    "t2 = Test()\n",
    "print(t1.number_instances)"
   ]
  },
  {
   "cell_type": "markdown",
   "metadata": {},
   "source": [
    "## Concept: composition (has-a)"
   ]
  },
  {
   "cell_type": "markdown",
   "metadata": {},
   "source": [
    "* Adding capabilities by generating objects of their own.\n",
    "* Above: every `DataSource` instance has an `APIConnection` instance of its own. \n",
    "    * Design choice: don't make giant DataSource class which has all the APIConnection methods inside.\n",
    "    * Delegating that part of the work to a specialised class.\n",
    "* See Lutz ch 31."
   ]
  },
  {
   "cell_type": "code",
   "execution_count": 195,
   "metadata": {
    "scrolled": true
   },
   "outputs": [],
   "source": [
    "# Basic idea (in minimal, somewhat artificial example)\n",
    "\n",
    "class DataSource:\n",
    "    def __init__(self, url):\n",
    "        self.connection = APIConnection(url = url)         # Every DataSource has its own APIConnection\n",
    "        self.parser     = StreamParser(self.connection)    # Every DataSource has its own StreamParser\n",
    "        #...\n",
    "    \n",
    "    def get_data(self, field):\n",
    "        current_data = self.connection.get()\n",
    "        parsed_data = self.parser.parse(data)\n",
    "        return parsed_data[\"field\"]\n",
    "    \n",
    "    \n",
    "# Instead of inheriting from APIConnection, StreamParser."
   ]
  },
  {
   "cell_type": "markdown",
   "metadata": {},
   "source": [
    "Corollary: mixins where we inherit simple classes to add their capabilities (`DataSource(APIConnection, StreamParser)`)."
   ]
  },
  {
   "cell_type": "markdown",
   "metadata": {},
   "source": [
    "## Finding out what kind of objects we're working with"
   ]
  },
  {
   "cell_type": "markdown",
   "metadata": {},
   "source": [
    "Test if it is a direct instance."
   ]
  },
  {
   "cell_type": "code",
   "execution_count": 197,
   "metadata": {},
   "outputs": [
    {
     "data": {
      "text/plain": [
       "True"
      ]
     },
     "execution_count": 197,
     "metadata": {},
     "output_type": "execute_result"
    }
   ],
   "source": [
    "# Can we test if alonzo is a Cat?\n",
    "type(alonzo) is Cat"
   ]
  },
  {
   "cell_type": "markdown",
   "metadata": {},
   "source": [
    "Says something about the hierarchy."
   ]
  },
  {
   "cell_type": "code",
   "execution_count": 198,
   "metadata": {},
   "outputs": [
    {
     "data": {
      "text/plain": [
       "True"
      ]
     },
     "execution_count": 198,
     "metadata": {},
     "output_type": "execute_result"
    }
   ],
   "source": [
    "# Can we test if tigger is an Animal?\n",
    "isinstance(tigger, Animal)"
   ]
  },
  {
   "cell_type": "markdown",
   "metadata": {},
   "source": [
    "Note: **this is probably what you want to use**!"
   ]
  },
  {
   "cell_type": "markdown",
   "metadata": {},
   "source": [
    "## Conventions for \"hiding\" data"
   ]
  },
  {
   "cell_type": "markdown",
   "metadata": {},
   "source": [
    "<img src=\"https://imgs.xkcd.com/comics/workflow.png\"/>"
   ]
  },
  {
   "cell_type": "markdown",
   "metadata": {},
   "source": [
    "Dependencies, in [xkcd 1172](https://xkcd.com/1172/)."
   ]
  },
  {
   "cell_type": "markdown",
   "metadata": {},
   "source": [
    "* Many languages have public/private member distinctions.\n",
    "* Pessimistic note above. ([Hyrum's law](http://www.hyrumslaw.com/)).\n",
    "* ...but let's try to hide things.\n",
    "* By default everything in Python is public."
   ]
  },
  {
   "cell_type": "code",
   "execution_count": 200,
   "metadata": {},
   "outputs": [
    {
     "ename": "AttributeError",
     "evalue": "'SecretKeeper' object has no attribute 'hidden'",
     "output_type": "error",
     "traceback": [
      "\u001b[0;31m---------------------------------------------------------------------------\u001b[0m",
      "\u001b[0;31mAttributeError\u001b[0m                            Traceback (most recent call last)",
      "\u001b[0;32m<ipython-input-200-96b5c293e95d>\u001b[0m in \u001b[0;36m<module>\u001b[0;34m\u001b[0m\n\u001b[1;32m      8\u001b[0m \u001b[0;34m\u001b[0m\u001b[0m\n\u001b[1;32m      9\u001b[0m \u001b[0mc1\u001b[0m \u001b[0;34m=\u001b[0m \u001b[0mSecretKeeper\u001b[0m\u001b[0;34m(\u001b[0m\u001b[0mhidden\u001b[0m \u001b[0;34m=\u001b[0m \u001b[0;34m\"supersecret\"\u001b[0m\u001b[0;34m)\u001b[0m\u001b[0;34m\u001b[0m\u001b[0;34m\u001b[0m\u001b[0m\n\u001b[0;32m---> 10\u001b[0;31m \u001b[0mc1\u001b[0m\u001b[0;34m.\u001b[0m\u001b[0mhidden\u001b[0m\u001b[0;34m\u001b[0m\u001b[0;34m\u001b[0m\u001b[0m\n\u001b[0m",
      "\u001b[0;31mAttributeError\u001b[0m: 'SecretKeeper' object has no attribute 'hidden'"
     ]
    }
   ],
   "source": [
    "class SecretKeeper():\n",
    "    def __init__(self, hidden):\n",
    "        # self.hidden = hidden    # Initial code.\n",
    "        self.__hidden = hidden    # Mangle name to \"~hide\"\n",
    "\n",
    "    def print_secret(self):\n",
    "        print(f\"My secret: {self.__hidden}\")\n",
    "\n",
    "c1 = SecretKeeper(hidden = \"supersecret\")\n",
    "c1.hidden"
   ]
  },
  {
   "cell_type": "code",
   "execution_count": 201,
   "metadata": {},
   "outputs": [
    {
     "name": "stdout",
     "output_type": "stream",
     "text": [
      "My secret: supersecret\n"
     ]
    }
   ],
   "source": [
    "c1.print_secret()"
   ]
  },
  {
   "cell_type": "markdown",
   "metadata": {},
   "source": [
    "Can we hide it away somewhat?"
   ]
  },
  {
   "cell_type": "code",
   "execution_count": 202,
   "metadata": {},
   "outputs": [
    {
     "data": {
      "text/plain": [
       "['_SecretKeeper__hidden',\n",
       " '__class__',\n",
       " '__delattr__',\n",
       " '__dict__',\n",
       " '__dir__',\n",
       " '__doc__',\n",
       " '__eq__',\n",
       " '__format__',\n",
       " '__ge__',\n",
       " '__getattribute__',\n",
       " '__gt__',\n",
       " '__hash__',\n",
       " '__init__',\n",
       " '__init_subclass__',\n",
       " '__le__',\n",
       " '__lt__',\n",
       " '__module__',\n",
       " '__ne__',\n",
       " '__new__',\n",
       " '__reduce__',\n",
       " '__reduce_ex__',\n",
       " '__repr__',\n",
       " '__setattr__',\n",
       " '__sizeof__',\n",
       " '__str__',\n",
       " '__subclasshook__',\n",
       " '__weakref__',\n",
       " 'print_secret']"
      ]
     },
     "execution_count": 202,
     "metadata": {},
     "output_type": "execute_result"
    }
   ],
   "source": [
    "dir(c1)"
   ]
  },
  {
   "cell_type": "markdown",
   "metadata": {},
   "source": [
    "Can we find it anyway?"
   ]
  },
  {
   "cell_type": "code",
   "execution_count": null,
   "metadata": {},
   "outputs": [],
   "source": [
    "# Yes, if you know name mangling. But take it as a signal from the programmer that you shouldn't.\n",
    "\n",
    "# Left as exercise."
   ]
  },
  {
   "cell_type": "code",
   "execution_count": null,
   "metadata": {},
   "outputs": [],
   "source": [
    "# And yes, you can reach the instance variables even if you don't know name mangling. \n",
    "# Still something to avoid."
   ]
  },
  {
   "cell_type": "markdown",
   "metadata": {},
   "source": [
    "Conclusion: follow the guidelines. **Assume that non-hidden attributes are public.**"
   ]
  },
  {
   "cell_type": "markdown",
   "metadata": {},
   "source": [
    "* ...but we can tailor access by `__getattr__`, `__setattr__` and `__getattribute__`."
   ]
  },
  {
   "cell_type": "code",
   "execution_count": 203,
   "metadata": {},
   "outputs": [
    {
     "name": "stdout",
     "output_type": "stream",
     "text": [
      "Attribute age exists:  100\n",
      "Attribute python doesn't, so __getattr__ is run:  <<< python >>>\n"
     ]
    }
   ],
   "source": [
    "# Bonus task (outside the scope of this course): using custom methods to steer access.\n",
    "\n",
    "class Mirror:\n",
    "    def __init__(self, age):\n",
    "        self.age = age\n",
    "        \n",
    "    # Catch all .attributes which do not exist.\n",
    "    def __getattr__(self, name):\n",
    "        \n",
    "        # This function might do something special, eg pass the message on\n",
    "        # over the internet, to an object on a remote server.\n",
    "        \n",
    "        return \"<<< {} >>>\".format(name)\n",
    "    \n",
    "val = Mirror(age = 100)\n",
    "print(\"Attribute age exists: \", val.age)\n",
    "print(\"Attribute python doesn't, so __getattr__ is run: \", val.python)"
   ]
  },
  {
   "cell_type": "code",
   "execution_count": 204,
   "metadata": {},
   "outputs": [
    {
     "name": "stdout",
     "output_type": "stream",
     "text": [
      "You wanted fish, you say?\n",
      "999\n"
     ]
    },
    {
     "data": {
      "text/plain": [
       "[]"
      ]
     },
     "execution_count": 204,
     "metadata": {},
     "output_type": "execute_result"
    }
   ],
   "source": [
    "# Bonus task (outside the scope of this course): using custom methods to steer access.\n",
    "\n",
    "class SuperMirror:\n",
    "    def __init__(self, age):\n",
    "        self.age = age\n",
    "    \n",
    "    # Catch all .attributes, including those which exist.\n",
    "    def __getattribute__(self, name):\n",
    "        if name.lower() in [\"age\", \"the_age\"]:\n",
    "            return object.__getattribute__(self, \"age\") * 999\n",
    "        \n",
    "        return \"You wanted {}, you say?\".format(name)\n",
    "    \n",
    "val = SuperMirror(age = 1)\n",
    "print(val.fish)\n",
    "print(val.age)\n",
    "dir(val)  # not a lot here, _it seems_ (but why?)"
   ]
  },
  {
   "cell_type": "code",
   "execution_count": null,
   "metadata": {},
   "outputs": [],
   "source": [
    "# Extra task for the curious: write code that prints val.age. Ask me in the labs if you have any questions."
   ]
  },
  {
   "cell_type": "markdown",
   "metadata": {},
   "source": [
    "## Most decisions are made by the objects"
   ]
  },
  {
   "cell_type": "code",
   "execution_count": 205,
   "metadata": {},
   "outputs": [
    {
     "data": {
      "text/plain": [
       "'Snake!'"
      ]
     },
     "execution_count": 205,
     "metadata": {},
     "output_type": "execute_result"
    }
   ],
   "source": [
    "# Somewhat contrived example (used to take concepts where we have no intuition about commutativity).\n",
    "\n",
    "class Snake():\n",
    "    def __add__(self, other):\n",
    "        return \"Snake!\"\n",
    "\n",
    "class Ladder():\n",
    "    def __add__(self, other):\n",
    "        return \"Hello, this is Ladder.\"\n",
    "\n",
    "# Apart from possible issues with inheriting from int, will it commute?\n",
    "p1 = Snake()\n",
    "p2 = Ladder()\n",
    "p1 + p2"
   ]
  },
  {
   "cell_type": "markdown",
   "metadata": {},
   "source": [
    "Why useful to know? \n",
    "* Python methods carried by objects do the heavy lifting, even when there is no `.method()` in the call.\n",
    "* Following conventions is good. If you implement your own classes, you might want `p1 + p2 == p2 + p1` to hold, even if Python doesn't force you.\n",
    "* Builtins are hard to avoid. Shows why your nice `my_clever_vector * 5` might be different from `5 * my_clever_vector`."
   ]
  },
  {
   "cell_type": "code",
   "execution_count": 206,
   "metadata": {},
   "outputs": [
    {
     "data": {
      "text/plain": [
       "(5, 10, 15)"
      ]
     },
     "execution_count": 206,
     "metadata": {},
     "output_type": "execute_result"
    }
   ],
   "source": [
    "class MyVector:\n",
    "    def __init__(self, vals):\n",
    "        self.vals = tuple(vals)\n",
    "        \n",
    "    def __mul__(self, c):\n",
    "        return tuple(c*v for v in self.vals)\n",
    "    \n",
    "    def __rmul__(self, c):\n",
    "        # Added to handle 5 * u.\n",
    "        return self.__mul__(c)\n",
    "    \n",
    "    \n",
    "u = MyVector(vals = [1,2,3])\n",
    "u * 5\n",
    "5 * u"
   ]
  },
  {
   "cell_type": "markdown",
   "metadata": {},
   "source": [
    "## With great power comes great responsibility"
   ]
  },
  {
   "cell_type": "markdown",
   "metadata": {},
   "source": [
    "* Default: Python will let you."
   ]
  },
  {
   "cell_type": "markdown",
   "metadata": {},
   "source": [
    "## Getters? Setters? Interesting feature: properties"
   ]
  },
  {
   "cell_type": "markdown",
   "metadata": {},
   "source": [
    "* Controlling getting, assignment, deletion of value.\n",
    "* What happens if we write `myobj.x = 5`? Can be controlled via functions, like in eg C#."
   ]
  },
  {
   "cell_type": "code",
   "execution_count": 207,
   "metadata": {},
   "outputs": [],
   "source": [
    "class GetterTestClass():\n",
    "    def __init__(self, n = 0):\n",
    "        self.__n = n\n",
    "   \n",
    "    # When someone tries to get instance.n, we should run this.\n",
    "    def __get_n(self):\n",
    "        return self.__n\n",
    "\n",
    "    # When someone tries to set instance.n = 123, we should run this\n",
    "    def __set_n(self, new_val):\n",
    "        if new_val >= 0:\n",
    "            self.__n = new_val\n",
    "        else:\n",
    "            raise ValueError(\"n must be non-negative!\")\n",
    "            \n",
    "    n = property(fget=__get_n, fset = __set_n)\n",
    "    \n",
    "    \n",
    "    # Left out: fdel. When someone deletes an attribute.\n",
    "    \n",
    "    # When someone tries to get n, __get_n will be called. (Etc)\n",
    "    \n",
    "    \n",
    "c1 = GetterTestClass(n = 100)\n",
    "c1.n\n",
    "c1.n = 3\n",
    "#c1.n"
   ]
  },
  {
   "cell_type": "markdown",
   "metadata": {},
   "source": [
    "Note: `@property`-syntax also available."
   ]
  },
  {
   "cell_type": "markdown",
   "metadata": {},
   "source": [
    "* Slightly weird. Sidesteps the usual `=` always meaning changing labels for class attributes.\n",
    "* **Know that it's there, don't (ab)use**."
   ]
  },
  {
   "cell_type": "markdown",
   "metadata": {},
   "source": [
    "## Additional concepts: abc:s, class members\n",
    "\n",
    "* Promises that a class should implement some behaviour (eg \"this class should support sequence methods\"), that can be checked by the system.\n",
    "\n",
    "[Abstract Base Classes (ABC:s)](https://docs.python.org/3/glossary.html#term-abstract-base-class)."
   ]
  },
  {
   "cell_type": "code",
   "execution_count": null,
   "metadata": {},
   "outputs": [],
   "source": [
    "import collections\n",
    "isinstance([1,2,3], collections.abc.Sequence)"
   ]
  },
  {
   "cell_type": "markdown",
   "metadata": {},
   "source": [
    "See also the `abc` module in standard library."
   ]
  },
  {
   "cell_type": "markdown",
   "metadata": {},
   "source": [
    "* Class and instance attribute conventions."
   ]
  },
  {
   "cell_type": "code",
   "execution_count": null,
   "metadata": {},
   "outputs": [],
   "source": [
    "class MyVal:\n",
    "    common_to_all_myvals = 99\n",
    "    def __init__(self, val):\n",
    "        self.val = val\n",
    "        \n",
    "\n",
    "one_val = MyVal(val = 1)\n",
    "two_val = MyVal(val = 2)\n",
    "one_val.val # in the instance\n",
    "one_val.common_to_all_myvals # in the class"
   ]
  },
  {
   "cell_type": "code",
   "execution_count": null,
   "metadata": {},
   "outputs": [],
   "source": [
    "one_val.common_to_all_myvals = \"new value. Is this only in one_val?\"\n",
    "two_val.common_to_all_myvals # Actually, just a local name in one_val."
   ]
  },
  {
   "cell_type": "markdown",
   "metadata": {},
   "source": [
    "Note: you may have class methods which are reached via `<Class>.method()`, as we might reach `MyVal.common_to_all_myvals` above."
   ]
  },
  {
   "cell_type": "markdown",
   "metadata": {},
   "source": [
    "# Other interesting *language* details"
   ]
  },
  {
   "cell_type": "markdown",
   "metadata": {},
   "source": [
    "* Decorators. Transforming Python functions. (Telltale sign in code: the `@` sign. `@something`, such as `@property`, `@dataclass`.)\n",
    "* Annotations. [PEP3107](https://www.python.org/dev/peps/pep-3107/)"
   ]
  },
  {
   "cell_type": "code",
   "execution_count": null,
   "metadata": {},
   "outputs": [],
   "source": [
    "def sq(n : int, \n",
    "       otherarg : \"annotations can be anything\" = \"\"):\n",
    "    \"\"\"Return the value n^2.\"\"\"\n",
    "    return n*n\n",
    "\n",
    "sq.__annotations__   # can be used by some code analysis tools, documentation tools etc."
   ]
  },
  {
   "cell_type": "markdown",
   "metadata": {},
   "source": [
    "* Consequence: type information might be useful eg\n",
    "    * for code analysis, See eg [mypy](http://www.mypy-lang.org/).\n",
    "    * IDE:s."
   ]
  },
  {
   "cell_type": "markdown",
   "metadata": {},
   "source": [
    "* Dataclasses. Structuring data by \"dummy\" classes (with type information) etc. Since Python 3.7, we have [dataclasses](https://docs.python.org/3/library/dataclasses.html) in the standard library. (Can also be pip-installed.)"
   ]
  },
  {
   "cell_type": "markdown",
   "metadata": {},
   "source": [
    "# Useful intuitions about some built-in types (introducing sets)"
   ]
  },
  {
   "cell_type": "markdown",
   "metadata": {},
   "source": [
    "* Why do we care?\n",
    "* So far:\n",
    "    * `list`. Mutable, quick access by index. Finding in general slow.\n",
    "    * `tuple`. Immutable. Fast, efficient, quick access by index. No need for copying - efficient in some situations. But: finding in general slow (as with lists).\n",
    "    * `dict`. Mapping, based on hash tables. Very fast access by key, finding by value slow. Membership test very fast. Slight memory overhead. Requires values to be hashable.\n",
    "    * Yet another useful type: `set`. Based on hash tables, with **very fast membership tests**. Mathematical-set methods."
   ]
  },
  {
   "cell_type": "code",
   "execution_count": null,
   "metadata": {},
   "outputs": [],
   "source": [
    "import profile, random, timeit\n",
    "\n",
    "N = 9999999\n",
    "vals_list = list(range(N)) \n",
    "vals_set  = set(range(N))\n",
    "\n",
    "# Pick some random element, just for demonstration purposes.\n",
    "needle = random.randint(0, N)\n",
    "\n",
    "print(f\"Timing {needle} in vals_list\")\n",
    "print(timeit.timeit(f\"{needle} in vals_list\", number = 100, globals = globals()))\n",
    "\n",
    "print(f\"Timing {needle} in vals_set\")\n",
    "print(timeit.timeit(f\"{needle} in vals_set\", number = 100, globals = globals()))"
   ]
  },
  {
   "cell_type": "markdown",
   "metadata": {},
   "source": [
    "Conclusion: if you need to perform lots of lookups based on the keys, sets, dicts etc might be useful."
   ]
  },
  {
   "cell_type": "code",
   "execution_count": null,
   "metadata": {},
   "outputs": [],
   "source": [
    "words = set([\"cat\", \"snape\", \"doge\"])\n",
    "animals = set([\"cat\"])\n",
    "\n",
    "# What are the commonalities?\n",
    "words.intersection(animals)\n"
   ]
  },
  {
   "cell_type": "code",
   "execution_count": null,
   "metadata": {},
   "outputs": [],
   "source": [
    "# Which words are not in animals?\n",
    "words.difference(animals)"
   ]
  },
  {
   "cell_type": "code",
   "execution_count": null,
   "metadata": {},
   "outputs": [],
   "source": [
    "# How would we add a word?\n",
    "animals.add(\"giraffe\")\n",
    "animals.add(\"giraffe\")  # Redundant - sets contain no duplicates.\n",
    "animals"
   ]
  },
  {
   "cell_type": "markdown",
   "metadata": {},
   "source": [
    "* Immutable version: `frozenset`. Can be used as a key in a dictionary."
   ]
  },
  {
   "cell_type": "code",
   "execution_count": null,
   "metadata": {},
   "outputs": [],
   "source": []
  },
  {
   "cell_type": "markdown",
   "metadata": {},
   "source": [
    "**Why do we care about this?**"
   ]
  },
  {
   "cell_type": "markdown",
   "metadata": {},
   "source": [
    "# Modules (once more)"
   ]
  },
  {
   "cell_type": "markdown",
   "metadata": {},
   "source": [
    "* Those `import math`, `import my_own_module`...\n",
    "* Where do they come from? [[reference](https://docs.python.org/3.7/tutorial/modules.html#the-module-search-path)]\n",
    "    * Beginner's note: some installation system usually takes care of this for you. But useful to know if something breaks.\n",
    "* When you write `my_module.py` you can do `import my_module` at least from the same directory (see search path above).\n",
    "* You will see `__init__.py` around. This concerns [packages](https://docs.python.org/3.7/tutorial/modules.html#packages).\n",
    "* Namespaces."
   ]
  },
  {
   "cell_type": "code",
   "execution_count": null,
   "metadata": {},
   "outputs": [],
   "source": [
    "# Example package: sklearn, and its datasets\n",
    "import sklearn\n",
    "import sklearn.datasets\n",
    "help(sklearn.datasets)"
   ]
  },
  {
   "cell_type": "markdown",
   "metadata": {},
   "source": [
    "# Scripts"
   ]
  },
  {
   "cell_type": "markdown",
   "metadata": {},
   "source": [
    "* Back to Python as a glue.\n",
    "* Take us outside Notebooks."
   ]
  },
  {
   "cell_type": "markdown",
   "metadata": {},
   "source": [
    "* Telling the (Linux/Mac) system how the file should be interpreted:"
   ]
  },
  {
   "cell_type": "code",
   "execution_count": null,
   "metadata": {},
   "outputs": [],
   "source": [
    "#!/usr/bin/env python3\n",
    "\n",
    "# As the first line."
   ]
  },
  {
   "cell_type": "markdown",
   "metadata": {},
   "source": [
    "* Telling the Linux/Mac system that you should be able to run myscript.py:"
   ]
  },
  {
   "cell_type": "markdown",
   "metadata": {},
   "source": [
    "$ `chmod u+x myscript.py`. "
   ]
  },
  {
   "cell_type": "markdown",
   "metadata": {},
   "source": [
    "(In a terminal.)"
   ]
  },
  {
   "cell_type": "markdown",
   "metadata": {},
   "source": [
    "* Making the script behave differently if it was imported:"
   ]
  },
  {
   "cell_type": "code",
   "execution_count": null,
   "metadata": {},
   "outputs": [],
   "source": [
    "if __name__ == \"__main__\":\n",
    "    print(\"Running as main.\")\n",
    "else:\n",
    "    print(\"I was imported!\")"
   ]
  },
  {
   "cell_type": "markdown",
   "metadata": {},
   "source": [
    "* Several useful modules to check out. For instance `sys`, `subprocess` (OS commands), `argparse`."
   ]
  },
  {
   "cell_type": "markdown",
   "metadata": {},
   "source": [
    "# Pointers to noteworthy data science packages"
   ]
  },
  {
   "cell_type": "markdown",
   "metadata": {},
   "source": [
    "* [matplotlib](https://matplotlib.org/) (home page with tutorials)\n",
    "* [scikit-learn](https://scikit-learn.org/stable/index.html) (import as sklearn)\n",
    "* [numpy](http://www.numpy.org/). Arrays!\n",
    "* [scipy](https://www.scipy.org/) Note: sparse matrices.\n",
    "* [pandas](https://pandas.pydata.org/)"
   ]
  },
  {
   "cell_type": "markdown",
   "metadata": {},
   "source": [
    "* Entire courses."
   ]
  },
  {
   "cell_type": "markdown",
   "metadata": {},
   "source": [
    "# Wrapping up (and handwaving intro to SVD)"
   ]
  }
 ],
 "metadata": {
  "kernelspec": {
   "display_name": "Python 3",
   "language": "python",
   "name": "python3"
  },
  "language_info": {
   "codemirror_mode": {
    "name": "ipython",
    "version": 3
   },
   "file_extension": ".py",
   "mimetype": "text/x-python",
   "name": "python",
   "nbconvert_exporter": "python",
   "pygments_lexer": "ipython3",
   "version": "3.6.9"
  }
 },
 "nbformat": 4,
 "nbformat_minor": 2
}
