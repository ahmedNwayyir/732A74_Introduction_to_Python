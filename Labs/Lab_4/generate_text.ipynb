{
 "cells": [
  {
   "cell_type": "code",
   "execution_count": 2,
   "metadata": {},
   "outputs": [],
   "source": [
    "import sys, text_stats\n",
    "from random import choices\n",
    "\n",
    "\n",
    "def main():\n",
    "    # with open(sys.argv[1], \"r\", encoding=\"utf8\") as file:\n",
    "    with open(\"shakespeare.txt\", \"r\", encoding=\"utf-8\") as file:\n",
    "        contents = text_stats.preProcess(file)\n",
    "    text = textGenerator(contents)\n",
    "    print(text)"
   ]
  },
  {
   "cell_type": "code",
   "execution_count": 29,
   "metadata": {
    "tags": []
   },
   "outputs": [
    {
     "output_type": "stream",
     "name": "stdout",
     "text": "king philip as was the plain and miranda how fares your brain and know some priory enter falstaff gadshill what pains for my shin armado men may be of himself he hath ta en prisoner and holy king ay but are hunger till then let him but by any falstaff if aught with him it shall be made to me with their infamy nor that love such toasts and thou art violently carried away even such a league with the school d he comes to testify what a loathsome is it was about thy villainy should confine for i for by his edward s armour here comes on him my near leontes camillo to see her all my discontent exit hastings say well proved mad that methinks it touches pierce the last action of my parentage of love who chooseth me and clapp d up and well come good lord come go hostess a pint pot all which gave the river comes out the head bit and power to depart sir john how thou hast thou then let s in a father the boy lends a peace at the lame ones prerogatived are you hamlet who left pap of many arrows loosed out torment and will you guilty cardinal s blood as done have said good apparel and hear the shape good dealing lay all his host to impart my age some affairs of you not all as not proclaim it it had partners you cousins and knowing my lady bona dear nature as after a king at and education you to title to credit shall see t unloose smooth d with swords and a soldier is such acts it is a mortall millions in the moan the letters at which when a heathen must not i am half pennyworth is daughter thou art o unlook d throat i know the end king richard duke of france exclaims against thee for to kill d on shore where old miranda alack alack my lord safe in bed a room in prison and set down their tailors of my great doers enter capulet content constance to flowry may well ride upon a flatterer but his eyes tongues doom men forget that the unguarded nest the keeper we steal such looks like old man s head at a word with danger of a word with an ocean king henry to buy my way little loss gonzalo methinks you the church in the chaste as diminish d prince no messala why tis not think upon some shallow s put it let her place nor the rain second gentleman take heed lest you good w are you have some half of if she hath no man but as snow and let loose love me bertram i am but lack from me to see truly would have thou doest empty vanities can do t that i fear is endeared to i be not froward so bold language in the duke of sack hostess and trumpet to me have no harm who comes to defend your spirits to the dull god his wife and be my conscience wide a happy season d despite laugh at which but there s see him in arms against the sun an honor devilish spirit of late i ll go or thirsty after some pity you to the full of your great stock speed for once when we seize upon a trumpet is the foul injustice with me lower world s name is a welcome my niece rosaline then god and loathly births below even at www gutenberg tm concept and friars in a penny and yet lend me to be not mast the world and requires haste in wars determine of a goodly eyes cleopatra call it hath commanded from ravenspurgh haven which place false night do beseech your master is come then as he hath perform an but if we did remain uncaught and the shadow short farewell and died when i am sure of worse than but leave me a roman of ephesus ay please you it may do you buckingham i th river with thy burgonet i ll make holiday exeunt scene iv scene i will to gain which better man is enroll d me and i warrant me juliet what may hear from the other fling wide world for i was his mind and this instant of yonder glorious body i sat sighing every hour draws dead the watch d now the little is his fell i be gladded in her will sing the dearest blood would applaud our steed the error plantagenet my father nor diffring plunges dis s sharp sustaining corn by policy too much as offer and as bad strokes the south west indies and how they died hereafter to make soft stillness while we suffer all shout argues a sponge you my jealousy must by the gods preserve the worth that came into an heretic as true experience for nothing truer grief he must pompey i know you warp thy mother and by small ones gremio so you could pray thee twice writ in a quality the crown and make a beast a cypress grove puck now is virtuous prince s nose aaron tut you she gins his tongue there is not rated treachery and god i was not neighbour room in me so well i behold the late by till he be so grew saw i am about his wars when your grace indeed othello what mischief i you crow and not hurt thou wast that on a near exit enter baptista mistake sir will deserve well touchstone and scarr d themselves to eat it in smithfield and leave to every way to win immortal spirit to see the hazel eyes upon our woes the like one in salique land to parley to the bastard and sickness had her child thy hand there adjacent wharfs the plain demetrius lysander we ll but thou shalt eat look on lady and teach thee if that loathes for me from her that hath got the third husband you must no more sweet bianca with hymn that s a very now methinks there s reign third citizen stand not one glance full acorn demetrius is a spendthrift is a newer proof clown is the indies in straight to be the bits have as gentle lords ladies are you may not for mine ears hostess exeunt scene i never in the forum enter hamlet come what are a rabble let in sweetness for you would resolve thee walk d to thy meat of ephesus brought you confer about to do in olivia have mine own fancy may sicken macduff how thy blasts of these ladies masked which were wont to whose western side the wild grief see i of blood if thou in worser thoughts strike my lord i be miserable timon messenger my lord chamberlain death which thou canst thou canst not read when men and poor accoutrements twere their aches at your drinking alexas ay i lay aside and let my heart is away a whoremaster if i think how the sign that arch reverb no why there not sick in it are for lucrece venus or i knew thou issueless and no news from thence as they have jill these are at thy grace solicit me a street scene france o would stop i am the fit first sir my lord northumberland think of masonry till then to morrow second servingman an old woes can thy cheeks then leave their dead rather your honour one hath spoil d for no harm upon her hostess nay but chiefly that tells me remember god s my bounteous sister to th cardinal what need no no more words me into the spaniard iachimo will wed it my legs and mounted see davy your company my lord chancellor and an eye there is at a modern ecstasy o grave o the change first soldier to us that word for with a breach of bolingbroke in themselves as your orbs above that sought him he keeps due to know not antipholus of my sickness for your sword nym sir aside i having come to th matter may it is an hour of the altar i warrant you make him the heart will he doth the mayor these forty thousand lives orleans you shall thinke i ll walk from you prince edward his mouth you and nerissa then in this night thus sweet smell all fashions to be drawn from my sons knighted me by the wild and let not wagging his traitor gloucester pinion d once more root some of thy king not hurt her eyes nod i ll be so much to wet to sell their unseen we god my horse in rage with spurring to persuade thee up and cause of it knavery will and bearing our hearts in thunder but one that like such abominable terms and offers from thence it salerio why then love an hour orlando men exeunt silvia belike proteus cannot another messenger madam for thy topless deputation all melting the prince and there are you out lafew king pippen nay but to be paid his father s which gives this very forward orlando ay and princes in her custom but modest wife against than is much shall be gnaw thee apparel and clamour master mine own royal presence but all my meal on me music in a good hath cried awake such signs and attendants timon timon s your smiling and wish my lord junius brutus why not king i know st found be viceroys dost thou would consider you dragons here sir did split thy preferment pisanio and body so kind of salutations and the palace scene iii the face leonato there messenger by heaven brat of memory which can stay with the merchant the hatches the more kent report should not live son that dead enter a banish d by every true under your vantage ere i pray thee nuncle have saved me wrong side factions tis pluck d which methinks your bans timon this ended by my looks so over many miles of rain more than thou dost thou shalt be offered it will never be stars it benedick first stranger being throng her mind misgives me but this is hearkening still be duke s junius brutus you are sadly it strike off all what not once the time s to your own seeming substance good lord not fail not carry your highness capucius capucius madam now to be thee that though in tallow face whether riding her pardon thee officer than hairs i dare come to call tears am now chopp d sword and discipline let their trains of hypocrisy vilely of washing with one her and kindly greets you i know his fretted fortunes with a celerity is no remedy this isle and therefore now or the ancient falstaff tut dun if they did othello i pray you have no ye are catch this said too true fix d alive but bones asunder but give me to kiss you do offence if he be made good lord yes brother and another i do so i with acquaintance good will bear this i not leave battering i can i must die in slavish weeds that could lend me i th night imagining some distressful stroke doe beare this play the like a little seeming sweet some sparks of capulet capulet montague montague and rice ap thomas erpingham not that fearfully o day of a girl at betting pistol and loves quails ever comprehends but lest i am i found you note constantly hamlet alas the wood he hears a hundred paces with some tender her words no secrets of mothers spirits to a lord clifford kill the executioner gloucester no tell dromio of their names of you out of your servant let me pisanio hath got your swords out the cloister d nor gasp out of clarence so my\n"
    }
   ],
   "source": [
    "def textGenerator(contents):\n",
    "    # cur_word = sys.argv[2]\n",
    "    cur_word = \"king\"\n",
    "    # max_words = int(sys.argv[3])\n",
    "    max_words = 500\n",
    "\n",
    "    msg = cur_word\n",
    "\n",
    "    word_pairs = text_stats.getPairCounts(contents)\n",
    "    # get the successive words and their frequencies of the chosen word\n",
    "    follow_words_dic = {pair[1]:count for pair, count in word_pairs.items() if pair[0] == cur_word}\n",
    "\n",
    "    word_counter = 0\n",
    "    # loop through the succussive words of the chosen word \n",
    "    while word_counter < max_words and cur_word != [follow_words_dic.keys][-1]:\n",
    "        # for the current word in the loop we get the frequencies of the succussive words\n",
    "        follow_words_dic = {pair[1]:count for pair, count in word_pairs.items() if pair[0] == cur_word}\n",
    "        # randomly pick (based on weight) the next word\n",
    "        next_word = choices(population= list(follow_words_dic.keys()), weights = list(follow_words_dic.values()), k = 1)\n",
    "        cur_word = next_word[0]\n",
    "        msg = msg + \" \" + cur_word\n",
    "        word_counter += 1\n",
    "\n",
    "    return msg  \n",
    "\n",
    "\n",
    "if __name__ == '__main__':\n",
    "    main()"
   ]
  },
  {
   "cell_type": "code",
   "execution_count": null,
   "metadata": {},
   "outputs": [],
   "source": []
  }
 ],
 "metadata": {
  "language_info": {
   "codemirror_mode": {
    "name": "ipython",
    "version": 3
   },
   "file_extension": ".py",
   "mimetype": "text/x-python",
   "name": "python",
   "nbconvert_exporter": "python",
   "pygments_lexer": "ipython3",
   "version": "3.7.6-final"
  },
  "orig_nbformat": 2,
  "kernelspec": {
   "name": "python_defaultSpec_1598524469161",
   "display_name": "Python 3.7.6 64-bit ('base': conda)"
  }
 },
 "nbformat": 4,
 "nbformat_minor": 2
}