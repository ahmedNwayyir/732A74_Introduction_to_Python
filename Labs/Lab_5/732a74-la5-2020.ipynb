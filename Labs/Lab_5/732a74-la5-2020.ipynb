{
 "cells": [
  {
   "cell_type": "markdown",
   "metadata": {},
   "source": [
    "# Lab 5: Simple OOP and numpy\n"
   ]
  },
  {
   "cell_type": "markdown",
   "metadata": {},
   "source": [
    "__Student:__ ahmal787"
   ]
  },
  {
   "cell_type": "markdown",
   "metadata": {},
   "source": [
    "# 2. Introduction"
   ]
  },
  {
   "cell_type": "markdown",
   "metadata": {},
   "source": [
    "## Object-oriented Programming"
   ]
  },
  {
   "cell_type": "markdown",
   "metadata": {},
   "source": [
    "The point of Object-oriented Programming is to support encapsulation and the DRY (Don't Repeat Yourself) principle without things getting out of hand. Often, software architects (those high-level programmers who are responsible for how large systems are designed on a technical level) talk about Object-oriented design or Object-oriented analysis. The point of this is to identify the necessary _objects_ in a system. An object in this sense is not exactly the same as a Python object but rather a somewhat higher level logical unit which can reasonably be thought of as an independent component within the system. These high level objects might then be further subdivided into smaller and smaller objects and at a some level the responsibility shifts from the system architect to the team or individual developer working on a specific component. Thus, Object-oriented thinking is necessary for anyone developing code which will be integrated with a larger system, for instance a data scientist implementing analytics tools."
   ]
  },
  {
   "cell_type": "markdown",
   "metadata": {},
   "source": [
    "## OOP in Python"
   ]
  },
  {
   "cell_type": "markdown",
   "metadata": {},
   "source": [
    "Python implements the Object-oriented paradigm to a somewhat larger degree than the Functional paradigm. However, there are features considered necessary for _strict_ object-oriented programming missing from Python. Mainly, we are talking about data protection. Not in a software security sense, but in the sense of encapsulation. There is no simple way to strictly control access to member variables in Python. This does not affect this lab in any way but is worth remembering if one has worked in a language such as Java previously."
   ]
  },
  {
   "cell_type": "markdown",
   "metadata": {},
   "source": [
    "# 3. Simple instance tests in Python"
   ]
  },
  {
   "cell_type": "markdown",
   "metadata": {},
   "source": [
    "Note: some of these questions will be extremely simple, and some might prove trickier. Don't expect that the answer needs to be hard."
   ]
  },
  {
   "cell_type": "code",
   "execution_count": 1,
   "metadata": {
    "scrolled": true
   },
   "outputs": [],
   "source": [
    "class Person:\n",
    "    def __init__(self, name):\n",
    "        self.name = name\n",
    "        self.age = 0            # Age should be non-negative.\n",
    "        \n",
    "    def get_age(self):\n",
    "        \"\"\"Return the Person's age, a non-negative number.\"\"\"\n",
    "        return self.age\n",
    "    \n",
    "    def return_five(self):\n",
    "        \"\"\"Return 5. Dummy function.\"\"\"\n",
    "        return 5\n",
    "\n",
    "Jackal = Person \n",
    "\n",
    "president = Person(\"Jeb\")\n",
    "psec = Jackal(\"CJ Cregg\")"
   ]
  },
  {
   "cell_type": "markdown",
   "metadata": {},
   "source": [
    "a) Change the age of the `president` to 65 (`psec` should be unaffected)."
   ]
  },
  {
   "cell_type": "code",
   "execution_count": 2,
   "metadata": {
    "scrolled": true,
    "tags": []
   },
   "outputs": [
    {
     "name": "stdout",
     "output_type": "stream",
     "text": [
      "65\n",
      "0\n"
     ]
    }
   ],
   "source": [
    "president.age = 65\n",
    "print(president.age)\n",
    "print(psec.age)"
   ]
  },
  {
   "cell_type": "markdown",
   "metadata": {},
   "source": [
    "[Note: This mode of operation is sometimes considered poor OOP. We will remedy this later.]"
   ]
  },
  {
   "cell_type": "markdown",
   "metadata": {},
   "source": [
    "b) How many `Person` instances are there? One, two or three?"
   ]
  },
  {
   "cell_type": "code",
   "execution_count": 3,
   "metadata": {
    "scrolled": true
   },
   "outputs": [],
   "source": [
    "# Two instances"
   ]
  },
  {
   "cell_type": "markdown",
   "metadata": {},
   "source": [
    "c) Consider the following code snippets. What do you think that they will return, and why? Discuss amongst yourselves. After that, run the code and explain the output. You only need to write down your explanation of the output."
   ]
  },
  {
   "cell_type": "code",
   "execution_count": 4,
   "metadata": {
    "scrolled": true
   },
   "outputs": [
    {
     "data": {
      "text/plain": [
       "False"
      ]
     },
     "execution_count": 4,
     "metadata": {},
     "output_type": "execute_result"
    }
   ],
   "source": [
    "\"Jeb\" is Person"
   ]
  },
  {
   "cell_type": "code",
   "execution_count": 5,
   "metadata": {
    "scrolled": false
   },
   "outputs": [
    {
     "data": {
      "text/plain": [
       "False"
      ]
     },
     "execution_count": 5,
     "metadata": {},
     "output_type": "execute_result"
    }
   ],
   "source": [
    "president is Person"
   ]
  },
  {
   "cell_type": "code",
   "execution_count": 6,
   "metadata": {
    "scrolled": true
   },
   "outputs": [
    {
     "data": {
      "text/plain": [
       "True"
      ]
     },
     "execution_count": 6,
     "metadata": {},
     "output_type": "execute_result"
    }
   ],
   "source": [
    "# In the first case we are checking if \"Jeb\" is the class Person, in this case it return False because \"Jeb\" is just a string\n",
    "# In the second case president is an instance of class Person but not the class itself so it return False as well\n",
    "# However, Jackal is class Person\n",
    "Jackal is Person"
   ]
  },
  {
   "cell_type": "markdown",
   "metadata": {},
   "source": [
    "d) How would you go about checking whether or not the value bound to the name `president` is-a `Person`?"
   ]
  },
  {
   "cell_type": "code",
   "execution_count": 7,
   "metadata": {
    "scrolled": true
   },
   "outputs": [
    {
     "data": {
      "text/plain": [
       "True"
      ]
     },
     "execution_count": 7,
     "metadata": {},
     "output_type": "execute_result"
    }
   ],
   "source": [
    "isinstance(president, Person)"
   ]
  },
  {
   "cell_type": "markdown",
   "metadata": {},
   "source": [
    "# 4. Subclasses"
   ]
  },
  {
   "cell_type": "markdown",
   "metadata": {},
   "source": [
    "a) Create class `Employee`, a subclass of `Person` with data attributes (fields) \n",
    "* `__work_days_accrued`\n",
    "* `__daily_salary`. \n",
    "\n",
    "These should be *the only* data attributes which you write in your class definition. In particular, you may not duplicate `name` and `age`.\n",
    "\n",
    "There should be methods\n",
    "* `work` which increments the number of work days accrued.\n",
    "* `expected_payout` which just returns the expected payout for the employee based on the accrued work days and daily salary (but without doing any resets).\n",
    "* `payout` which returns the accrued salary and resets the number of work days accrued. The `payout` function may not perform any calculations itself."
   ]
  },
  {
   "cell_type": "code",
   "execution_count": 8,
   "metadata": {
    "scrolled": true,
    "tags": []
   },
   "outputs": [
    {
     "name": "stdout",
     "output_type": "stream",
     "text": [
      "--- Setting up test cases.\n",
      "--- Testing payout and expected_payout properties.\n",
      "OK\n",
      "--- Testing non-data-accessing calls to superclass methods.\n",
      "OK\n",
      "--- Testing data that should be set up by initialiser call.\n",
      "OK\n"
     ]
    }
   ],
   "source": [
    "class Employee(Person):\n",
    "    def __init__(self, name, daily_salary = 15):\n",
    "        super().__init__(name = name)        \n",
    "        self.__daily_salary = daily_salary\n",
    "        self.__work_days_accrued = 0\n",
    "        \n",
    "    def work(self):\n",
    "        self.__work_days_accrued += 1\n",
    "        return self.__work_days_accrued\n",
    "        \n",
    "    def expected_payout(self):\n",
    "        salary = self.__work_days_accrued * self.__daily_salary\n",
    "        return salary\n",
    "    \n",
    "    def payout(self):\n",
    "        accrued_salary = self.expected_payout()\n",
    "        self.__work_days_accrued = 0\n",
    "        return accrued_salary\n",
    "\n",
    "\n",
    "# Ready-made tests.\n",
    "print(\"--- Setting up test cases.\")\n",
    "cleaner = Employee(name = \"Scruffy\")  # Should have daily_salary 15.\n",
    "josh = Employee(name = \"Josh\", daily_salary = 1000)\n",
    "toby = Employee(name = \"Toby\", daily_salary = 9999)\n",
    "\n",
    "josh.work()\n",
    "josh.work()\n",
    "toby.work()\n",
    "toby.work()\n",
    "toby.work()\n",
    "cleaner.work()\n",
    "\n",
    "print(\"--- Testing payout and expected_payout properties.\")\n",
    "assert cleaner.expected_payout() == 15, \"default salary should be 15\"\n",
    "assert josh.expected_payout() == 1000*2\n",
    "assert josh.payout() == 1000*2\n",
    "assert josh.expected_payout() == 0, \"salary should be reset afterwards\"\n",
    "assert toby.payout() == 9999*3, \"toby and josh instances should be independent.\"\n",
    "print(\"OK\")\n",
    "\n",
    "print(\"--- Testing non-data-accessing calls to superclass methods.\")\n",
    "assert josh.return_five() == 5, \"Person.return_five should be accessible\"\n",
    "print(\"OK\")\n",
    "\n",
    "print(\"--- Testing data that should be set up by initialiser call.\")\n",
    "assert josh.get_age() == 0, \"superclass method should be callable, values should not be missing.\"\n",
    "josh.age = 9\n",
    "assert josh.get_age() == 9, \"superclass method should be callable\"\n",
    "print(\"OK\")"
   ]
  },
  {
   "cell_type": "markdown",
   "metadata": {},
   "source": [
    "b) Which public data attributes (fields) does an `Employee` have? Can you access the age of an employee directly (without some transformation of the name)? The daily salary?"
   ]
  },
  {
   "cell_type": "code",
   "execution_count": 9,
   "metadata": {
    "scrolled": true,
    "tags": []
   },
   "outputs": [
    {
     "name": "stdout",
     "output_type": "stream",
     "text": [
      "9\n",
      "1000\n"
     ]
    }
   ],
   "source": [
    "# Employee has the public attributes age & name inherited from its parent that can be accessed directly\n",
    "# __daily_salary & __work_days_accrued are private attributes (by convention) to Employee and can't be accessed directly but we can be accessed if we type _<Class Name> just before them\n",
    "print(josh.age)\n",
    "print(josh._Employee__daily_salary)"
   ]
  },
  {
   "cell_type": "markdown",
   "metadata": {},
   "source": [
    "# 5. Introductory numpy"
   ]
  },
  {
   "cell_type": "markdown",
   "metadata": {},
   "source": [
    "A lot of computations will likely end up using data stored `numpy` arrays. Therefore, it is a good idea to have a feeling for how they are used and manipulated. The following steps will provide some introduction, so that we can build upon this in future labs.\n",
    "\n",
    "You may want to refer to the [official numpy.org absolute beginners guide to numpy](https://numpy.org/devdocs/user/absolute_beginners.html)."
   ]
  },
  {
   "cell_type": "markdown",
   "metadata": {},
   "source": [
    "a) Import the module `numpy`, giving it the shorthand `np`."
   ]
  },
  {
   "cell_type": "code",
   "execution_count": 10,
   "metadata": {
    "scrolled": true
   },
   "outputs": [],
   "source": [
    "import numpy as np"
   ]
  },
  {
   "cell_type": "markdown",
   "metadata": {},
   "source": [
    "b) Create the $2 \\times 3$ matrix $A = \\begin{bmatrix}1 & 2 & 3 \\\\ 0 & 0 & 1\\end{bmatrix}$"
   ]
  },
  {
   "cell_type": "code",
   "execution_count": 11,
   "metadata": {
    "scrolled": true,
    "tags": []
   },
   "outputs": [
    {
     "name": "stdout",
     "output_type": "stream",
     "text": [
      "[[1 2 3]\n",
      " [0 0 1]]\n"
     ]
    }
   ],
   "source": [
    "A = np.array([[1,2,3], [0,0,1]])\n",
    "print(A)"
   ]
  },
  {
   "cell_type": "markdown",
   "metadata": {},
   "source": [
    "c) Create the vector $b = \\begin{bmatrix}1\\\\ 2 \\\\ 3 \\end{bmatrix}$"
   ]
  },
  {
   "cell_type": "code",
   "execution_count": 12,
   "metadata": {
    "scrolled": true,
    "tags": []
   },
   "outputs": [
    {
     "name": "stdout",
     "output_type": "stream",
     "text": [
      "[[1]\n",
      " [2]\n",
      " [3]]\n"
     ]
    }
   ],
   "source": [
    "b = np.array([[1],[2],[3]])\n",
    "print(b)"
   ]
  },
  {
   "cell_type": "markdown",
   "metadata": {},
   "source": [
    "d) Perform the multiplication $Ab$. What is the result?"
   ]
  },
  {
   "cell_type": "code",
   "execution_count": 13,
   "metadata": {
    "scrolled": true
   },
   "outputs": [
    {
     "data": {
      "text/plain": [
       "array([[14],\n",
       "       [ 3]])"
      ]
     },
     "execution_count": 13,
     "metadata": {},
     "output_type": "execute_result"
    }
   ],
   "source": [
    "np.dot(A, b)"
   ]
  },
  {
   "cell_type": "markdown",
   "metadata": {},
   "source": [
    "e) Mathematically, what should the dimensions of $b^Tb$ be? What should the dimensions of $bb^T$ be?"
   ]
  },
  {
   "cell_type": "code",
   "execution_count": 14,
   "metadata": {
    "scrolled": true
   },
   "outputs": [
    {
     "data": {
      "text/plain": [
       "\"\\n    bTb is an inner product and will always results in a scalar (single digit number) disregarding the vectors' length\\n    bbT is an outer product and will result in a square matrix of dimensions 3*3\\n\""
      ]
     },
     "execution_count": 14,
     "metadata": {},
     "output_type": "execute_result"
    }
   ],
   "source": [
    "\"\"\"\n",
    "    bTb is an inner product and will always results in a scalar (single digit number) disregarding the vectors' length\n",
    "    bbT is an outer product and will result in a square matrix of dimensions 3*3\n",
    "\"\"\""
   ]
  },
  {
   "cell_type": "markdown",
   "metadata": {},
   "source": [
    "f) Compute ```b.T @ b```? ```b @ b.T``` in numpy. How would you go about calculating $bb^T$ (if you wanted to actually store it as a matrix, which is rarely the most space- or time-efficient idea)?"
   ]
  },
  {
   "cell_type": "code",
   "execution_count": 15,
   "metadata": {
    "scrolled": true,
    "tags": []
   },
   "outputs": [
    {
     "name": "stdout",
     "output_type": "stream",
     "text": [
      "[[14]] \n",
      "\n",
      "[[1 2 3]\n",
      " [2 4 6]\n",
      " [3 6 9]]\n"
     ]
    }
   ],
   "source": [
    "print(b.T @ b, \"\\n\")\n",
    "print(b @ b.T)"
   ]
  },
  {
   "cell_type": "markdown",
   "metadata": {},
   "source": [
    "Note: as `a @ b` is read `a.dot(b)` this should perhaps not be entirely surprising. But it is non-obvious."
   ]
  },
  {
   "cell_type": "markdown",
   "metadata": {},
   "source": [
    "d) Try to solve the equation $Ax = b$ using the `solve` method. Does this make mathematical sense? What does numpy say? Read the error message."
   ]
  },
  {
   "cell_type": "code",
   "execution_count": 16,
   "metadata": {
    "scrolled": true
   },
   "outputs": [
    {
     "ename": "LinAlgError",
     "evalue": "Last 2 dimensions of the array must be square",
     "output_type": "error",
     "traceback": [
      "\u001b[1;31m---------------------------------------------------------------------------\u001b[0m",
      "\u001b[1;31mLinAlgError\u001b[0m                               Traceback (most recent call last)",
      "\u001b[1;32m<ipython-input-16-eb79222c8972>\u001b[0m in \u001b[0;36m<module>\u001b[1;34m\u001b[0m\n\u001b[1;32m----> 1\u001b[1;33m \u001b[0mnp\u001b[0m\u001b[1;33m.\u001b[0m\u001b[0mlinalg\u001b[0m\u001b[1;33m.\u001b[0m\u001b[0msolve\u001b[0m\u001b[1;33m(\u001b[0m\u001b[0mA\u001b[0m\u001b[1;33m,\u001b[0m \u001b[0mb\u001b[0m\u001b[1;33m)\u001b[0m\u001b[1;33m\u001b[0m\u001b[1;33m\u001b[0m\u001b[0m\n\u001b[0m",
      "\u001b[1;32m<__array_function__ internals>\u001b[0m in \u001b[0;36msolve\u001b[1;34m(*args, **kwargs)\u001b[0m\n",
      "\u001b[1;32m~\\anaconda3\\lib\\site-packages\\numpy\\linalg\\linalg.py\u001b[0m in \u001b[0;36msolve\u001b[1;34m(a, b)\u001b[0m\n\u001b[0;32m    384\u001b[0m     \u001b[0ma\u001b[0m\u001b[1;33m,\u001b[0m \u001b[0m_\u001b[0m \u001b[1;33m=\u001b[0m \u001b[0m_makearray\u001b[0m\u001b[1;33m(\u001b[0m\u001b[0ma\u001b[0m\u001b[1;33m)\u001b[0m\u001b[1;33m\u001b[0m\u001b[1;33m\u001b[0m\u001b[0m\n\u001b[0;32m    385\u001b[0m     \u001b[0m_assert_stacked_2d\u001b[0m\u001b[1;33m(\u001b[0m\u001b[0ma\u001b[0m\u001b[1;33m)\u001b[0m\u001b[1;33m\u001b[0m\u001b[1;33m\u001b[0m\u001b[0m\n\u001b[1;32m--> 386\u001b[1;33m     \u001b[0m_assert_stacked_square\u001b[0m\u001b[1;33m(\u001b[0m\u001b[0ma\u001b[0m\u001b[1;33m)\u001b[0m\u001b[1;33m\u001b[0m\u001b[1;33m\u001b[0m\u001b[0m\n\u001b[0m\u001b[0;32m    387\u001b[0m     \u001b[0mb\u001b[0m\u001b[1;33m,\u001b[0m \u001b[0mwrap\u001b[0m \u001b[1;33m=\u001b[0m \u001b[0m_makearray\u001b[0m\u001b[1;33m(\u001b[0m\u001b[0mb\u001b[0m\u001b[1;33m)\u001b[0m\u001b[1;33m\u001b[0m\u001b[1;33m\u001b[0m\u001b[0m\n\u001b[0;32m    388\u001b[0m     \u001b[0mt\u001b[0m\u001b[1;33m,\u001b[0m \u001b[0mresult_t\u001b[0m \u001b[1;33m=\u001b[0m \u001b[0m_commonType\u001b[0m\u001b[1;33m(\u001b[0m\u001b[0ma\u001b[0m\u001b[1;33m,\u001b[0m \u001b[0mb\u001b[0m\u001b[1;33m)\u001b[0m\u001b[1;33m\u001b[0m\u001b[1;33m\u001b[0m\u001b[0m\n",
      "\u001b[1;32m~\\anaconda3\\lib\\site-packages\\numpy\\linalg\\linalg.py\u001b[0m in \u001b[0;36m_assert_stacked_square\u001b[1;34m(*arrays)\u001b[0m\n\u001b[0;32m    211\u001b[0m         \u001b[0mm\u001b[0m\u001b[1;33m,\u001b[0m \u001b[0mn\u001b[0m \u001b[1;33m=\u001b[0m \u001b[0ma\u001b[0m\u001b[1;33m.\u001b[0m\u001b[0mshape\u001b[0m\u001b[1;33m[\u001b[0m\u001b[1;33m-\u001b[0m\u001b[1;36m2\u001b[0m\u001b[1;33m:\u001b[0m\u001b[1;33m]\u001b[0m\u001b[1;33m\u001b[0m\u001b[1;33m\u001b[0m\u001b[0m\n\u001b[0;32m    212\u001b[0m         \u001b[1;32mif\u001b[0m \u001b[0mm\u001b[0m \u001b[1;33m!=\u001b[0m \u001b[0mn\u001b[0m\u001b[1;33m:\u001b[0m\u001b[1;33m\u001b[0m\u001b[1;33m\u001b[0m\u001b[0m\n\u001b[1;32m--> 213\u001b[1;33m             \u001b[1;32mraise\u001b[0m \u001b[0mLinAlgError\u001b[0m\u001b[1;33m(\u001b[0m\u001b[1;34m'Last 2 dimensions of the array must be square'\u001b[0m\u001b[1;33m)\u001b[0m\u001b[1;33m\u001b[0m\u001b[1;33m\u001b[0m\u001b[0m\n\u001b[0m\u001b[0;32m    214\u001b[0m \u001b[1;33m\u001b[0m\u001b[0m\n\u001b[0;32m    215\u001b[0m \u001b[1;32mdef\u001b[0m \u001b[0m_assert_finite\u001b[0m\u001b[1;33m(\u001b[0m\u001b[1;33m*\u001b[0m\u001b[0marrays\u001b[0m\u001b[1;33m)\u001b[0m\u001b[1;33m:\u001b[0m\u001b[1;33m\u001b[0m\u001b[1;33m\u001b[0m\u001b[0m\n",
      "\u001b[1;31mLinAlgError\u001b[0m: Last 2 dimensions of the array must be square"
     ]
    }
   ],
   "source": [
    "np.linalg.solve(A, b)"
   ]
  },
  {
   "cell_type": "code",
   "execution_count": null,
   "metadata": {
    "scrolled": true
   },
   "outputs": [],
   "source": [
    "\"\"\"\n",
    "    A need to be square to solve the equation, which means we can't optain the inverse of A to be able to solve the equation\n",
    "\"\"\""
   ]
  },
  {
   "cell_type": "markdown",
   "metadata": {},
   "source": [
    "e) Try to solve the equation $A^Tx = b$ using numpy. Does this make mathematical sense? What does numpy say?"
   ]
  },
  {
   "cell_type": "code",
   "execution_count": 17,
   "metadata": {
    "scrolled": true
   },
   "outputs": [
    {
     "ename": "LinAlgError",
     "evalue": "Last 2 dimensions of the array must be square",
     "output_type": "error",
     "traceback": [
      "\u001b[1;31m---------------------------------------------------------------------------\u001b[0m",
      "\u001b[1;31mLinAlgError\u001b[0m                               Traceback (most recent call last)",
      "\u001b[1;32m<ipython-input-17-a21eb1e2afff>\u001b[0m in \u001b[0;36m<module>\u001b[1;34m\u001b[0m\n\u001b[1;32m----> 1\u001b[1;33m \u001b[0mnp\u001b[0m\u001b[1;33m.\u001b[0m\u001b[0mlinalg\u001b[0m\u001b[1;33m.\u001b[0m\u001b[0msolve\u001b[0m\u001b[1;33m(\u001b[0m\u001b[0mA\u001b[0m\u001b[1;33m.\u001b[0m\u001b[0mT\u001b[0m\u001b[1;33m,\u001b[0m \u001b[0mb\u001b[0m\u001b[1;33m)\u001b[0m\u001b[1;33m\u001b[0m\u001b[1;33m\u001b[0m\u001b[0m\n\u001b[0m",
      "\u001b[1;32m<__array_function__ internals>\u001b[0m in \u001b[0;36msolve\u001b[1;34m(*args, **kwargs)\u001b[0m\n",
      "\u001b[1;32m~\\anaconda3\\lib\\site-packages\\numpy\\linalg\\linalg.py\u001b[0m in \u001b[0;36msolve\u001b[1;34m(a, b)\u001b[0m\n\u001b[0;32m    384\u001b[0m     \u001b[0ma\u001b[0m\u001b[1;33m,\u001b[0m \u001b[0m_\u001b[0m \u001b[1;33m=\u001b[0m \u001b[0m_makearray\u001b[0m\u001b[1;33m(\u001b[0m\u001b[0ma\u001b[0m\u001b[1;33m)\u001b[0m\u001b[1;33m\u001b[0m\u001b[1;33m\u001b[0m\u001b[0m\n\u001b[0;32m    385\u001b[0m     \u001b[0m_assert_stacked_2d\u001b[0m\u001b[1;33m(\u001b[0m\u001b[0ma\u001b[0m\u001b[1;33m)\u001b[0m\u001b[1;33m\u001b[0m\u001b[1;33m\u001b[0m\u001b[0m\n\u001b[1;32m--> 386\u001b[1;33m     \u001b[0m_assert_stacked_square\u001b[0m\u001b[1;33m(\u001b[0m\u001b[0ma\u001b[0m\u001b[1;33m)\u001b[0m\u001b[1;33m\u001b[0m\u001b[1;33m\u001b[0m\u001b[0m\n\u001b[0m\u001b[0;32m    387\u001b[0m     \u001b[0mb\u001b[0m\u001b[1;33m,\u001b[0m \u001b[0mwrap\u001b[0m \u001b[1;33m=\u001b[0m \u001b[0m_makearray\u001b[0m\u001b[1;33m(\u001b[0m\u001b[0mb\u001b[0m\u001b[1;33m)\u001b[0m\u001b[1;33m\u001b[0m\u001b[1;33m\u001b[0m\u001b[0m\n\u001b[0;32m    388\u001b[0m     \u001b[0mt\u001b[0m\u001b[1;33m,\u001b[0m \u001b[0mresult_t\u001b[0m \u001b[1;33m=\u001b[0m \u001b[0m_commonType\u001b[0m\u001b[1;33m(\u001b[0m\u001b[0ma\u001b[0m\u001b[1;33m,\u001b[0m \u001b[0mb\u001b[0m\u001b[1;33m)\u001b[0m\u001b[1;33m\u001b[0m\u001b[1;33m\u001b[0m\u001b[0m\n",
      "\u001b[1;32m~\\anaconda3\\lib\\site-packages\\numpy\\linalg\\linalg.py\u001b[0m in \u001b[0;36m_assert_stacked_square\u001b[1;34m(*arrays)\u001b[0m\n\u001b[0;32m    211\u001b[0m         \u001b[0mm\u001b[0m\u001b[1;33m,\u001b[0m \u001b[0mn\u001b[0m \u001b[1;33m=\u001b[0m \u001b[0ma\u001b[0m\u001b[1;33m.\u001b[0m\u001b[0mshape\u001b[0m\u001b[1;33m[\u001b[0m\u001b[1;33m-\u001b[0m\u001b[1;36m2\u001b[0m\u001b[1;33m:\u001b[0m\u001b[1;33m]\u001b[0m\u001b[1;33m\u001b[0m\u001b[1;33m\u001b[0m\u001b[0m\n\u001b[0;32m    212\u001b[0m         \u001b[1;32mif\u001b[0m \u001b[0mm\u001b[0m \u001b[1;33m!=\u001b[0m \u001b[0mn\u001b[0m\u001b[1;33m:\u001b[0m\u001b[1;33m\u001b[0m\u001b[1;33m\u001b[0m\u001b[0m\n\u001b[1;32m--> 213\u001b[1;33m             \u001b[1;32mraise\u001b[0m \u001b[0mLinAlgError\u001b[0m\u001b[1;33m(\u001b[0m\u001b[1;34m'Last 2 dimensions of the array must be square'\u001b[0m\u001b[1;33m)\u001b[0m\u001b[1;33m\u001b[0m\u001b[1;33m\u001b[0m\u001b[0m\n\u001b[0m\u001b[0;32m    214\u001b[0m \u001b[1;33m\u001b[0m\u001b[0m\n\u001b[0;32m    215\u001b[0m \u001b[1;32mdef\u001b[0m \u001b[0m_assert_finite\u001b[0m\u001b[1;33m(\u001b[0m\u001b[1;33m*\u001b[0m\u001b[0marrays\u001b[0m\u001b[1;33m)\u001b[0m\u001b[1;33m:\u001b[0m\u001b[1;33m\u001b[0m\u001b[1;33m\u001b[0m\u001b[0m\n",
      "\u001b[1;31mLinAlgError\u001b[0m: Last 2 dimensions of the array must be square"
     ]
    }
   ],
   "source": [
    "np.linalg.solve(A.T, b)"
   ]
  },
  {
   "cell_type": "code",
   "execution_count": null,
   "metadata": {
    "scrolled": true
   },
   "outputs": [],
   "source": [
    "\"\"\"\n",
    "    Transposing A does not make a difference since A transpose is still a non square matrix\n",
    "\"\"\""
   ]
  },
  {
   "cell_type": "markdown",
   "metadata": {},
   "source": [
    "f) One of the two tasks above make sense from a mathematical point of view. Find a best solution $x$ in the least squares sense."
   ]
  },
  {
   "cell_type": "code",
   "execution_count": 18,
   "metadata": {
    "scrolled": true,
    "tags": []
   },
   "outputs": [
    {
     "name": "stdout",
     "output_type": "stream",
     "text": [
      "[[1.00000000e+00]\n",
      " [1.78031751e-16]]\n"
     ]
    }
   ],
   "source": [
    "x, residual, rank, s = np.linalg.lstsq(A.transpose(),b , rcond = None )\n",
    "print(x)"
   ]
  },
  {
   "cell_type": "markdown",
   "metadata": {},
   "source": [
    "g) Is the resulting $Ax$ or $A^Tx$ (depending on your choice above) close to $b$? What is the norm-2-distance between the vectors?"
   ]
  },
  {
   "cell_type": "code",
   "execution_count": 19,
   "metadata": {
    "scrolled": true,
    "tags": []
   },
   "outputs": [
    {
     "name": "stdout",
     "output_type": "stream",
     "text": [
      "The resulting ATx is same as b \n",
      " [[1.]\n",
      " [2.]\n",
      " [3.]] \n",
      "\n",
      "norm-2 distance: 1.159106867033638e-15\n"
     ]
    }
   ],
   "source": [
    "print(f\"The resulting ATx is same as b \\n {A.T@x} \\n\")\n",
    "\n",
    "print(f'norm-2 distance: {np.linalg.norm(b - A.T@x)}')"
   ]
  },
  {
   "cell_type": "markdown",
   "metadata": {},
   "source": [
    "Just to get some practice, run the following to get some test data:"
   ]
  },
  {
   "cell_type": "code",
   "execution_count": 20,
   "metadata": {
    "scrolled": true
   },
   "outputs": [],
   "source": [
    "import sklearn\n",
    "import sklearn.datasets as ds\n",
    "houses = ds.fetch_california_housing()"
   ]
  },
  {
   "cell_type": "markdown",
   "metadata": {},
   "source": [
    "h) How many rows does the dataset have? Columns? Find out using numpy. (First check what `houses` actually is)"
   ]
  },
  {
   "cell_type": "code",
   "execution_count": 21,
   "metadata": {
    "scrolled": true,
    "tags": []
   },
   "outputs": [
    {
     "name": "stdout",
     "output_type": "stream",
     "text": [
      ".. _california_housing_dataset:\n",
      "\n",
      "California Housing dataset\n",
      "--------------------------\n",
      "\n",
      "**Data Set Characteristics:**\n",
      "\n",
      "    :Number of Instances: 20640\n",
      "\n",
      "    :Number of Attributes: 8 numeric, predictive attributes and the target\n",
      "\n",
      "    :Attribute Information:\n",
      "        - MedInc        median income in block\n",
      "        - HouseAge      median house age in block\n",
      "        - AveRooms      average number of rooms\n",
      "        - AveBedrms     average number of bedrooms\n",
      "        - Population    block population\n",
      "        - AveOccup      average house occupancy\n",
      "        - Latitude      house block latitude\n",
      "        - Longitude     house block longitude\n",
      "\n",
      "    :Missing Attribute Values: None\n",
      "\n",
      "This dataset was obtained from the StatLib repository.\n",
      "http://lib.stat.cmu.edu/datasets/\n",
      "\n",
      "The target variable is the median house value for California districts.\n",
      "\n",
      "This dataset was derived from the 1990 U.S. census, using one row per census\n",
      "block group. A block group is the smallest geographical unit for which the U.S.\n",
      "Census Bureau publishes sample data (a block group typically has a population\n",
      "of 600 to 3,000 people).\n",
      "\n",
      "It can be downloaded/loaded using the\n",
      ":func:`sklearn.datasets.fetch_california_housing` function.\n",
      "\n",
      ".. topic:: References\n",
      "\n",
      "    - Pace, R. Kelley and Ronald Barry, Sparse Spatial Autoregressions,\n",
      "      Statistics and Probability Letters, 33 (1997) 291-297\n",
      "\n"
     ]
    }
   ],
   "source": [
    "print(houses.DESCR)"
   ]
  },
  {
   "cell_type": "code",
   "execution_count": 22,
   "metadata": {
    "scrolled": true,
    "tags": []
   },
   "outputs": [
    {
     "name": "stdout",
     "output_type": "stream",
     "text": [
      "number of rows :20,640 \n",
      "number of culumns :8\n"
     ]
    }
   ],
   "source": [
    "print(f'number of rows :{houses.data.shape[0]:,} \\nnumber of culumns :{houses.data.shape[1]}')"
   ]
  },
  {
   "cell_type": "markdown",
   "metadata": {},
   "source": [
    "i) Get the third column (remember: indexing starts at zero, so column number 2) of the dataset by indexing/slicing."
   ]
  },
  {
   "cell_type": "code",
   "execution_count": 23,
   "metadata": {
    "scrolled": true,
    "tags": []
   },
   "outputs": [
    {
     "name": "stdout",
     "output_type": "stream",
     "text": [
      "[[6.98412698]\n",
      " [6.23813708]\n",
      " [8.28813559]\n",
      " ...\n",
      " [5.20554273]\n",
      " [5.32951289]\n",
      " [5.25471698]]\n"
     ]
    }
   ],
   "source": [
    "print(houses.data[:,[2]])"
   ]
  },
  {
   "cell_type": "markdown",
   "metadata": {},
   "source": [
    "j) Get the values of the third, fourth and hundredrth rows (that is, index 2, 3, 99)."
   ]
  },
  {
   "cell_type": "code",
   "execution_count": 24,
   "metadata": {
    "scrolled": true,
    "tags": []
   },
   "outputs": [
    {
     "name": "stdout",
     "output_type": "stream",
     "text": [
      "[[ 7.25740000e+00  5.20000000e+01  8.28813559e+00  1.07344633e+00\n",
      "   4.96000000e+02  2.80225989e+00  3.78500000e+01 -1.22240000e+02]\n",
      " [ 5.64310000e+00  5.20000000e+01  5.81735160e+00  1.07305936e+00\n",
      "   5.58000000e+02  2.54794521e+00  3.78500000e+01 -1.22250000e+02]\n",
      " [ 2.61040000e+00  3.70000000e+01  3.70714286e+00  1.10714286e+00\n",
      "   1.83800000e+03  1.87551020e+00  3.78200000e+01 -1.22260000e+02]]\n"
     ]
    }
   ],
   "source": [
    "ind = [2, 3, 99]\n",
    "print(houses.data[ind, :])"
   ]
  },
  {
   "cell_type": "markdown",
   "metadata": {},
   "source": [
    "k) Mathematical sanity check: without actually computing the rank of ```houses.data```, can you provide a bound? Could it have $10^{15}$ linearly independent rows? 2000? Etc. Write down the tightest bound you can find, and explain why briefly."
   ]
  },
  {
   "cell_type": "code",
   "execution_count": null,
   "metadata": {
    "scrolled": true
   },
   "outputs": [],
   "source": [
    "# The rank of a matrix is min(maximum number of independent culumns, maximum number of independent rows) and in this case because the number of the culumns is 8, The rank can not exceed 8"
   ]
  },
  {
   "cell_type": "markdown",
   "metadata": {},
   "source": [
    "l) Find out the actual rank of the matrix using numpy. "
   ]
  },
  {
   "cell_type": "code",
   "execution_count": 25,
   "metadata": {
    "scrolled": true,
    "tags": []
   },
   "outputs": [
    {
     "name": "stdout",
     "output_type": "stream",
     "text": [
      "8\n"
     ]
    }
   ],
   "source": [
    "print(np.linalg.matrix_rank(houses.data))"
   ]
  },
  {
   "cell_type": "markdown",
   "metadata": {},
   "source": [
    "# 6. A simple classifier"
   ]
  },
  {
   "cell_type": "markdown",
   "metadata": {},
   "source": [
    "Our goal in this section is to build a naïve subspace-projection based classifier which takes a numerical vector and produces a label. We will build this from the ground up (there are many libraries that perform this automatically, but may not use them in this case).\n",
    "\n",
    "We will first practice our numpy (and linear algebra) skills to build the algorithm, and then encapsulate data and methods in a class. We will be taking a slightly different route than more general SVD methods for finding principal components, simply because this is not our task. This is worth remembering if you find material on the subject!\n",
    "\n",
    "The main idea here is to pick out all the data corresponding to a certain set of vectors, and reduce this matrix to some rank $\\leq k$ matrix which is a good approximation of the row space in some sense (here: the sense that the vectors correspond to maximal singular values). A naïve classification is then given by picking the subspace which is closest by orthogonal projection."
   ]
  },
  {
   "cell_type": "markdown",
   "metadata": {},
   "source": [
    "## The dataset"
   ]
  },
  {
   "cell_type": "markdown",
   "metadata": {},
   "source": [
    "First, we will import some data. Here we use the classic MNIST data set of handwritten digits. We can naturally partition the sets of vectors used for training and validation in many ways. Feel free to experiment with a nicer (possibly non-deterministic) version later. This is only to get us started, and to have a set of data with known properties (which is helpful for lab assistants)."
   ]
  },
  {
   "cell_type": "code",
   "execution_count": 26,
   "metadata": {
    "scrolled": true,
    "tags": []
   },
   "outputs": [],
   "source": [
    "import sklearn.datasets as ds\n",
    "digits = ds.load_digits()\n",
    "training_digits = digits.data[0:600, :]\n",
    "training_labels = digits.target[0:600]\n",
    "# The set of labels can be found in digits.target_names."
   ]
  },
  {
   "cell_type": "markdown",
   "metadata": {},
   "source": [
    "If we are curious, we can view the images from the dataset."
   ]
  },
  {
   "cell_type": "code",
   "execution_count": null,
   "metadata": {
    "scrolled": true
   },
   "outputs": [],
   "source": [
    "%matplotlib inline\n",
    "from matplotlib import pyplot as plt \n",
    "# We show one of the digits.\n",
    "d_index = 2\n",
    "plt.imshow(training_digits[d_index].reshape(8,8))\n",
    "plt.xlabel(f\"Index: {d_index}, actually the number {training_labels[d_index]}\")\n",
    "# Note: digits.images[i] is the same as digits.data[i], but in 8x8 format (no need to reshape).\n",
    "# We would however like to stress that the 64 pixel images we'll be working with are stored in vector format."
   ]
  },
  {
   "cell_type": "markdown",
   "metadata": {},
   "source": [
    "## Tasks"
   ]
  },
  {
   "cell_type": "markdown",
   "metadata": {},
   "source": [
    "a) Get all rows with label 4. Store that in the matrix $A_4$. Similarly for $A_9$. This should be two single lines of code!"
   ]
  },
  {
   "cell_type": "code",
   "execution_count": 27,
   "metadata": {
    "scrolled": true,
    "tags": []
   },
   "outputs": [
    {
     "name": "stdout",
     "output_type": "stream",
     "text": [
      "[[0. 0. 0. ... 4. 0. 0.]\n",
      " [0. 0. 0. ... 4. 0. 0.]\n",
      " [0. 0. 0. ... 8. 0. 0.]\n",
      " ...\n",
      " [0. 0. 0. ... 7. 0. 0.]\n",
      " [0. 0. 0. ... 9. 0. 0.]\n",
      " [0. 0. 0. ... 4. 0. 0.]] \n",
      "\n",
      "[[ 0.  0. 11. ...  3.  0.  0.]\n",
      " [ 0.  0.  6. ... 13. 11.  1.]\n",
      " [ 0.  0.  9. ... 12. 11.  0.]\n",
      " ...\n",
      " [ 0.  0.  4. ...  9.  0.  0.]\n",
      " [ 0.  0.  4. ...  9.  0.  0.]\n",
      " [ 0.  0.  2. ... 12.  0.  0.]]\n"
     ]
    }
   ],
   "source": [
    "a4 = digits.data[digits.target==4] \n",
    "a9 = digits.data[digits.target==9]   \n",
    "print(a4, \"\\n\")\n",
    "print(a9)"
   ]
  },
  {
   "cell_type": "markdown",
   "metadata": {},
   "source": [
    "b) Compute the thin SVD $A_4 = U_4\\Sigma_4 V^T_4$ and similarly for $A_9$. Thin here means that you do not necessarily get the full-rank square $U,V^T$ matrices."
   ]
  },
  {
   "cell_type": "code",
   "execution_count": 28,
   "metadata": {
    "scrolled": true,
    "tags": []
   },
   "outputs": [],
   "source": [
    "u4,s4,vt4 = np.linalg.svd(a4, full_matrices=False)\n",
    "u9,s9,vt9 = np.linalg.svd(a9, full_matrices=False)"
   ]
  },
  {
   "cell_type": "markdown",
   "metadata": {},
   "source": [
    "**Note** Our data is stored by row (one row per digit). What we use the different matrices in the decomposition for is thus slightly different than if it was stored by column. Instead of picking the best $k$ columns of $U$ we pick the best $k$ rows of $V^T$."
   ]
  },
  {
   "cell_type": "markdown",
   "metadata": {},
   "source": [
    "c) Let $sample4$ be the first row of $A_4$ and $sample9$ be the first row of $A_9$."
   ]
  },
  {
   "cell_type": "code",
   "execution_count": 29,
   "metadata": {
    "scrolled": true,
    "tags": []
   },
   "outputs": [
    {
     "name": "stdout",
     "output_type": "stream",
     "text": [
      "[ 0.  0.  0.  1. 11.  0.  0.  0.  0.  0.  0.  7.  8.  0.  0.  0.  0.  0.\n",
      "  1. 13.  6.  2.  2.  0.  0.  0.  7. 15.  0.  9.  8.  0.  0.  5. 16. 10.\n",
      "  0. 16.  6.  0.  0.  4. 15. 16. 13. 16.  1.  0.  0.  0.  0.  3. 15. 10.\n",
      "  0.  0.  0.  0.  0.  2. 16.  4.  0.  0.] \n",
      "\n",
      "[ 0.  0. 11. 12.  0.  0.  0.  0.  0.  2. 16. 16. 16. 13.  0.  0.  0.  3.\n",
      " 16. 12. 10. 14.  0.  0.  0.  1. 16.  1. 12. 15.  0.  0.  0.  0. 13. 16.\n",
      "  9. 15.  2.  0.  0.  0.  0.  3.  0.  9. 11.  0.  0.  0.  0.  0.  9. 15.\n",
      "  4.  0.  0.  0.  9. 12. 13.  3.  0.  0.]\n"
     ]
    }
   ],
   "source": [
    "sample4 = a4[0,]\n",
    "print(sample4, \"\\n\")\n",
    "sample9 = a9[0,]\n",
    "print(sample9)"
   ]
  },
  {
   "cell_type": "markdown",
   "metadata": {},
   "source": [
    "d) Let $R$ be the first 3 rows of $V^T$. Compute the orthogonal projection of $sample4$ onto the row space of $R_4$, and onto the row space of $R_9$"
   ]
  },
  {
   "cell_type": "code",
   "execution_count": 30,
   "metadata": {
    "scrolled": true
   },
   "outputs": [],
   "source": [
    "r4 = vt4[0:2,]\n",
    "r9 = vt9[0:2,] \n",
    "\n",
    "coeffs_in_r4 = (r4 @ sample4.T)#/(r4 @ r4.T) \n",
    "coeffs_in_r9 = (r9 @ sample4.T)#/(r9 @ r9.T)\n",
    "\n",
    "sample4_in_r4 = coeffs_in_r4 @ r4   # Linear combination of rows in R4\n",
    "sample4_in_r9 = coeffs_in_r9 @ r9   # Your code here."
   ]
  },
  {
   "cell_type": "markdown",
   "metadata": {},
   "source": [
    "[Mathematical aside: where did the $\\Sigma$ go? This is a very important matrix, and strongly affects both interpretations and (in general) row- and column spaces. *Assuming* that the rank is $\\geq 3$ the row spaces should be the same whether or not we scale the basis vectors by some $\\sigma_i$ (since $\\sigma_i > 0$ for all $i=1,2,\\ldots, r$). That is enough for our application, though the interpretations of the vectors might be different. The rank assumption is rather important, and we will make rather casually based on knowledge about the data set. Later, we'll include a check for this in our code.]"
   ]
  },
  {
   "cell_type": "markdown",
   "metadata": {},
   "source": [
    "e) Which of the projections is closest to sample4 (in the sense that the difference (sample4_in_z**?**t - sample4) as the smallest 2-norm?"
   ]
  },
  {
   "cell_type": "code",
   "execution_count": 31,
   "metadata": {
    "scrolled": true,
    "tags": []
   },
   "outputs": [
    {
     "name": "stdout",
     "output_type": "stream",
     "text": [
      "18.784687062350677\n",
      "41.692775478516936\n"
     ]
    }
   ],
   "source": [
    "print(np.linalg.norm(sample4 - sample4_in_r4))\n",
    "print(np.linalg.norm(sample4 - sample4_in_r9))"
   ]
  },
  {
   "cell_type": "markdown",
   "metadata": {},
   "source": [
    "f) Create a function `split_data(data, data_labels, labels)` which takes a matrix of data (such as `training_data`), the labels of all rows (such as `training_labels`) and a vector of the labels (here the numbers 0,...,9) and returns a dictionary mapping a label to the matrix of all corresponding data. \n",
    "\n",
    "Here the dictionary would for instance have the key 2, and the corresponding value be the matrix of all the images in `data` classified as the number 2."
   ]
  },
  {
   "cell_type": "code",
   "execution_count": 32,
   "metadata": {
    "scrolled": true,
    "tags": []
   },
   "outputs": [],
   "source": [
    "def split_data(data, data_labels, labels):\n",
    "    dic = {label:data[data_labels == label] for label in labels}\n",
    "    return dic\n",
    "    \n",
    "labelled_data = split_data(training_digits, training_labels, digits.target_names)\n",
    "#print(labelled_data)"
   ]
  },
  {
   "cell_type": "markdown",
   "metadata": {},
   "source": [
    "f) Create a function `subspaces(labelled_data, k = 3)` that takes a dictionary such as above, and returns a dictionary mapping every occurring label $d$ to the respective $Z_d$ matrix with at most $k$ rows. Here the $Z_d$ matrices is defined as above, the best norm-2-approximation. If a particular matrix has a rank $r < k$, we should only keep $r$ rows (say, if there were many more *different* digit 9-rows in the training set, than digit 1:s)!"
   ]
  },
  {
   "cell_type": "code",
   "execution_count": 33,
   "metadata": {
    "scrolled": false,
    "tags": [
     "outputPrepend"
    ]
   },
   "outputs": [],
   "source": [
    "def map_my_data(labelled_data, k = 3):\n",
    "    u, s, vt = np.linalg.svd(labelled_data, full_matrices = False)\n",
    "    r = np.linalg.matrix_rank(labelled_data)\n",
    "    if r < k:\n",
    "        return vt[0:r,]\n",
    "    else:\n",
    "        return vt[0:k,]\n",
    "        \n",
    "\n",
    "def subspaces(labelled_data, k = 3):\n",
    "    dic = {label:map_my_data(matrix,k) for label, matrix in labelled_data.items()}\n",
    "    return dic\n",
    "\n",
    "subspaces_dic = subspaces(labelled_data)\n",
    "#print(subspaces_dic)"
   ]
  },
  {
   "cell_type": "markdown",
   "metadata": {},
   "source": [
    "g) Create a function `classification(spaces, x)` that takes a dictionary such as produced by `subspaces` above and a single vector and produces the label of the subspace with the smallest norm-2-distance. In the task above, this would have meant that classifying $sample4$ would have produced the label 4 rather than 9, since $sample4$ was closer to the subspace $Z_4$ than the subspace $Z_9$."
   ]
  },
  {
   "cell_type": "code",
   "execution_count": 34,
   "metadata": {
    "scrolled": true
   },
   "outputs": [
    {
     "data": {
      "text/plain": [
       "4"
      ]
     },
     "execution_count": 34,
     "metadata": {},
     "output_type": "execute_result"
    }
   ],
   "source": [
    "def get_distance(space, x):\n",
    "    coeffs = (space @ x.T)# / (space @ space.T) \n",
    "    sample = coeffs @ space  \n",
    "    dist =  np.linalg.norm(sample - x)\n",
    "    return dist\n",
    "\n",
    "\n",
    "def classification(spaces, x):\n",
    "    dists = [get_distance(matrix, x) for matrix in spaces.values()]\n",
    "    space_class = list(spaces.keys())[dists.index(min(dists))]\n",
    "    return space_class\n",
    "\n",
    "\n",
    "classification(subspaces_dic, sample4)"
   ]
  },
  {
   "cell_type": "markdown",
   "metadata": {},
   "source": [
    "h) Now pick the first 600 rows as training and the remaining (about 1100) as validation sets. What percentage does the classifier get right? What happens if you pick $k = 5, 10, 100, 1000$? Try it out. (The sharp-eyed student will notice that not all of these choices make sense from a mathematical perspective.)"
   ]
  },
  {
   "cell_type": "code",
   "execution_count": 35,
   "metadata": {
    "scrolled": true,
    "tags": []
   },
   "outputs": [
    {
     "name": "stdout",
     "output_type": "stream",
     "text": [
      "Accuracy of k = 5 is 92.81\n",
      "Accuracy of k = 10 is 95.9\n",
      "Accuracy of k = 100 is 60.37\n",
      "Accuracy of k = 1000 is 60.37\n"
     ]
    }
   ],
   "source": [
    "from sklearn.metrics import confusion_matrix\n",
    "\n",
    "training_digits = digits.data[0:600, :]\n",
    "training_labels = digits.target[0:600]\n",
    "\n",
    "validation_digits = digits.data[601:, :]\n",
    "validation_labels = digits.target[601:]\n",
    "\n",
    "k_values = [5, 10, 100, 1000]\n",
    "pred = np.zeros((len(k_values), len(validation_labels)))\n",
    "for i, k in enumerate(k_values):\n",
    "    space = subspaces(labelled_data, k)\n",
    "    pred[i] = np.array([classification(space, row) for row in validation_digits])\n",
    "    con_mat = confusion_matrix(validation_labels, pred[i])\n",
    "    accuracy = round(sum(np.diag(con_mat)) / sum(sum(con_mat)) * 100, 2) \n",
    "    print(f'Accuracy of k = {k} is {accuracy}')"
   ]
  },
  {
   "cell_type": "markdown",
   "metadata": {},
   "source": [
    "# 7. Encapsulating the classifier"
   ]
  },
  {
   "cell_type": "markdown",
   "metadata": {},
   "source": [
    "Above we have a set of functions floating around in a global namespace. If we change some data and rerun some cells, we might get unexpected results. We instead want to encapsulate this in a single class."
   ]
  },
  {
   "cell_type": "markdown",
   "metadata": {},
   "source": [
    "a) Create a class `NaiveProjection`. It should have the following properties:\n",
    "* An instance is created with `NaiveProjection(training_data, training_labels, all_labels, k)` where $k$ is optional (and defaults to 3). \n",
    "\n",
    "For instance, we should be able to run ```dig_class = NaiveProjection(training_data = digits.data[0:600,:], training_labels = digits.target[0:600], all_labels = digits.target_names)```.\n",
    "* The class should have a method called `classification` which takes vector and returns the classification of that vector as defined above (minimum 2-norm distance to the subspace).\n",
    "* The class should have a method called `hitrate` which takes a matrix of row vectors, a vector of correct labels and returns the rate of successfully classified \n",
    "* All data about subspaces and labels should be stored within the instance. We may not use any data stored outside (though it is of course OK to call outside functions). We should be able to create two (or more) independent classifiers\n",
    "\n",
    "```\n",
    "dig15 = NaiveProjection(digits.data[0:600, :], digits.target[0:600], k = 15)\n",
    "dig1 = NaiveProjection(digits.data[0:600, :], digits.target[0:600], k = 1)\n",
    "```\n",
    "which should be entirely independent."
   ]
  },
  {
   "cell_type": "code",
   "execution_count": 36,
   "metadata": {
    "scrolled": true
   },
   "outputs": [],
   "source": [
    "class NaiveProjection:  \n",
    "    def __init__(self, training_data, training_label, all_labels, k = 3):\n",
    "        self.all_labels = all_labels\n",
    "        self.labelled_data = self.split_data(training_data, training_labels)\n",
    "        self.subspaces_dic = self.subspaces(k)\n",
    "        \n",
    "    \n",
    "    def split_data(self, data, data_labels):\n",
    "        labelled_data = {label:data[data_labels == label] for label in self.all_labels}\n",
    "        return labelled_data\n",
    "    \n",
    "\n",
    "    def map_my_data(self, matrix, k):\n",
    "        u, s, vt = np.linalg.svd(matrix, full_matrices = False)\n",
    "        r = np.linalg.matrix_rank(matrix)\n",
    "        if r < k:\n",
    "            return vt[0:r,]\n",
    "        else:\n",
    "            return vt[0:k,] \n",
    "\n",
    "\n",
    "    def subspaces(self, k):\n",
    "        dic = {label:self.map_my_data(matrix,k) for label, matrix in self.labelled_data.items()}\n",
    "        return dic    \n",
    "\n",
    "\n",
    "    def get_distance(self, space, x):\n",
    "        coeffs = (space @ x.T)#/ (space @ space.T) \n",
    "        sample = coeffs @ space  \n",
    "        dist =  np.linalg.norm(sample - x)\n",
    "        return dist\n",
    "\n",
    "\n",
    "    def classification(self, x):\n",
    "        dists = [self.get_distance(matrix, x) for matrix in self.subspaces_dic.values()]\n",
    "        space_class = list(self.subspaces_dic.keys())[dists.index(min(dists))]\n",
    "        return space_class\n",
    "\n",
    "\n",
    "    def hitrate(self, data, correct_labels):\n",
    "        space =  self.subspaces_dic\n",
    "        pred = np.array([self.classification(row) for row in data])\n",
    "        con_mat = confusion_matrix(correct_labels, pred)\n",
    "        accuracy = round(sum(np.diag(con_mat)) / sum(sum(con_mat)) * 100, 2) \n",
    "        return accuracy"
   ]
  },
  {
   "cell_type": "code",
   "execution_count": 37,
   "metadata": {
    "scrolled": true,
    "tags": []
   },
   "outputs": [
    {
     "name": "stdout",
     "output_type": "stream",
     "text": [
      "Hit rate for k = 1: 84.8\n",
      "Hit rate for k = 15: 96.74\n"
     ]
    }
   ],
   "source": [
    "# You can test here\n",
    "dig1 = NaiveProjection(digits.data[0:600, :], digits.target[0:600], digits.target_names, k = 1)\n",
    "dig15 = NaiveProjection(digits.data[0:600, :], digits.target[0:600], digits.target_names, k = 15)\n",
    "\n",
    "print(f\"Hit rate for k = 1: {dig1.hitrate(digits.data[600:], digits.target[600:])}\")\n",
    "print(f\"Hit rate for k = 15: {dig15.hitrate(digits.data[600:], digits.target[600:])}\")"
   ]
  },
  {
   "cell_type": "markdown",
   "metadata": {},
   "source": [
    "There are several noteworthy issues here.\n",
    "* We have taken a few mathematical shortcuts.\n",
    "* There is no error handling. \n",
    "* We have not discussed overlapping subspaces, sampling strategies or the like.\n",
    "* It might make a lot more sense to classify a matrix of vectors, rather than a single vector (to utilise the speed of computations). \n",
    "\n",
    "Most of this is left to an actual statistics course. The interested reader is referred to for instance Strang - Linear algebra and learning from data, or Golub & van Loan - Matrix computations."
   ]
  },
  {
   "cell_type": "markdown",
   "metadata": {},
   "source": [
    "b) Experiment with different values of $k$ and training data/validation data sets. Plot the results using the library ```matplotlib```."
   ]
  },
  {
   "cell_type": "code",
   "execution_count": 39,
   "metadata": {
    "scrolled": true,
    "tags": []
   },
   "outputs": [
    {
     "data": {
      "image/png": "[encoded data removed]",
      "text/plain": [
       "<Figure size 432x288 with 1 Axes>"
      ]
     },
     "metadata": {
      "needs_background": "light"
     },
     "output_type": "display_data"
    }
   ],
   "source": [
    "from matplotlib import pyplot as plt \n",
    "k_values = [x**2 for x in range(1,11)]\n",
    "taining_accuracy = []\n",
    "validation_accuracy = []\n",
    "for k in k_values:\n",
    "    dig = NaiveProjection(digits.data[0:600, :], digits.target[0:600], digits.target_names, k)\n",
    "    taining_accuracy.append(dig.hitrate(training_digits, training_labels))   \n",
    "    validation_accuracy.append(dig.hitrate(validation_digits, validation_labels))  \n",
    "plt.plot(k_values, taining_accuracy, label = \"Training Data\")\n",
    "plt.plot(k_values, validation_accuracy, label = \"Validation Data\")\n",
    "plt.xlabel(\"k\")\n",
    "plt.ylabel(\"Accuracy\")\n",
    "plt.legend()\n",
    "plt.show()"
   ]
  },
  {
   "cell_type": "markdown",
   "metadata": {},
   "source": [
    "## Acknowledgments"
   ]
  },
  {
   "cell_type": "markdown",
   "metadata": {},
   "source": [
    "This lab in 732A74 is by Anders Märak Leffler (2019), with a major revision in 2020. The introductory text is by Johan Falkenjack (2018).\n",
    "\n",
    "Licensed under [CC-BY-SA 4.0](https://creativecommons.org/licenses/by-sa/4.0/)."
   ]
  }
 ],
 "metadata": {
  "anaconda-cloud": {},
  "kernelspec": {
   "display_name": "Python 3",
   "language": "python",
   "name": "python3"
  },
  "language_info": {
   "codemirror_mode": {
    "name": "ipython",
    "version": 3
   },
   "file_extension": ".py",
   "mimetype": "text/x-python",
   "name": "python",
   "nbconvert_exporter": "python",
   "pygments_lexer": "ipython3",
   "version": "3.7.6"
  }
 },
 "nbformat": 4,
 "nbformat_minor": 2
}
