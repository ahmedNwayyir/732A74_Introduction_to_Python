{
 "cells": [
  {
   "cell_type": "markdown",
   "metadata": {},
   "source": [
    "# Lab 5: Simple OOP and numpy\n"
   ]
  },
  {
   "cell_type": "markdown",
   "metadata": {},
   "source": [
    "__Student:__ erian805\n",
    "\n",
    "__Student:__ dhypa263"
   ]
  },
  {
   "cell_type": "markdown",
   "metadata": {},
   "source": [
    "# 2. Introduction"
   ]
  },
  {
   "cell_type": "markdown",
   "metadata": {},
   "source": [
    "## Object-oriented Programming"
   ]
  },
  {
   "cell_type": "markdown",
   "metadata": {},
   "source": [
    "The point of Object-oriented Programming is to support encapsulation and the DRY (Don't Repeat Yourself) principle without things getting out of hand. Often, software architects (those high-level programmers who are responsible for how large systems are designed on a technical level) talk about Object-oriented design or Object-oriented analysis. The point of this is to identify the necessary _objects_ in a system. An object in this sense is not exactly the same as a Python object but rather a somewhat higher level logical unit which can reasonably be thought of as an independent component within the system. These high level objects might then be further subdivided into smaller and smaller objects and at a some level the responsibility shifts from the system architect to the team or individual developer working on a specific component. Thus, Object-oriented thinking is necessary for anyone developing code which will be integrated with a larger system, for instance a data scientist implementing analytics tools."
   ]
  },
  {
   "cell_type": "markdown",
   "metadata": {},
   "source": [
    "## OOP in Python"
   ]
  },
  {
   "cell_type": "markdown",
   "metadata": {},
   "source": [
    "Python implements the Object-oriented paradigm to a somewhat larger degree than the Functional paradigm. However, there are features considered necessary for _strict_ object-oriented programming missing from Python. Mainly, we are talking about data protection. Not in a software security sense, but in the sense of encapsulation. There is no simple way to strictly control access to member variables in Python. This does not affect this lab in any way but is worth remembering if one has worked in a language such as Java previously."
   ]
  },
  {
   "cell_type": "markdown",
   "metadata": {},
   "source": [
    "# 3. Simple instance tests in Python"
   ]
  },
  {
   "cell_type": "markdown",
   "metadata": {},
   "source": [
    "Note: some of these questions will be extremely simple, and some might prove trickier. Don't expect that the answer needs to be hard."
   ]
  },
  {
   "cell_type": "code",
   "execution_count": 2,
   "metadata": {},
   "outputs": [],
   "source": [
    "class Person:\n",
    "    def __init__(self, name):\n",
    "        self.name = name\n",
    "        self.age = 0            # Age should be non-negative.\n",
    "        \n",
    "    def get_age(self):\n",
    "        \"\"\"Return the Person's age, a non-negative number.\"\"\"\n",
    "        return self.age\n",
    "    \n",
    "    def return_five(self):\n",
    "        \"\"\"Return 5. Dummy function.\"\"\"\n",
    "        return 5\n",
    "\n",
    "Jackal = Person \n",
    "\n",
    "president = Person(\"Jeb\")\n",
    "psec = Jackal(\"CJ Cregg\")"
   ]
  },
  {
   "cell_type": "markdown",
   "metadata": {},
   "source": [
    "a) Change the age of the `president` to 65 (`psec` should be unaffected)."
   ]
  },
  {
   "cell_type": "code",
   "execution_count": 6,
   "metadata": {},
   "outputs": [
    {
     "data": {
      "text/plain": [
       "65"
      ]
     },
     "execution_count": 6,
     "metadata": {},
     "output_type": "execute_result"
    }
   ],
   "source": [
    "president.age = 65\n",
    "president.get_age()"
   ]
  },
  {
   "cell_type": "markdown",
   "metadata": {},
   "source": [
    "[Note: This mode of operation is sometimes considered poor OOP. We will remedy this later.]"
   ]
  },
  {
   "cell_type": "markdown",
   "metadata": {},
   "source": [
    "b) How many `Person` instances are there? One, two or three?"
   ]
  },
  {
   "cell_type": "code",
   "execution_count": null,
   "metadata": {},
   "outputs": [],
   "source": [
    "#2"
   ]
  },
  {
   "cell_type": "markdown",
   "metadata": {},
   "source": [
    "c) Consider the following code snippets. What do you think that they will return, and why? Discuss amongst yourselves. After that, run the code and explain the output. You only need to write down your explanation of the output."
   ]
  },
  {
   "cell_type": "code",
   "execution_count": 7,
   "metadata": {},
   "outputs": [
    {
     "data": {
      "text/plain": [
       "False"
      ]
     },
     "execution_count": 7,
     "metadata": {},
     "output_type": "execute_result"
    }
   ],
   "source": [
    "\"Jeb\" is Person"
   ]
  },
  {
   "cell_type": "code",
   "execution_count": 8,
   "metadata": {
    "scrolled": true
   },
   "outputs": [
    {
     "data": {
      "text/plain": [
       "False"
      ]
     },
     "execution_count": 8,
     "metadata": {},
     "output_type": "execute_result"
    }
   ],
   "source": [
    "president is Person"
   ]
  },
  {
   "cell_type": "code",
   "execution_count": 9,
   "metadata": {},
   "outputs": [
    {
     "data": {
      "text/plain": [
       "True"
      ]
     },
     "execution_count": 9,
     "metadata": {},
     "output_type": "execute_result"
    }
   ],
   "source": [
    "# Your answer goes here.\n",
    "#For is Person to be true, our object has to be the class Person and not just an instance of it."
   ]
  },
  {
   "cell_type": "markdown",
   "metadata": {},
   "source": [
    "d) How would you go about checking whether or not the value bound to the name `president` is-a `Person`?"
   ]
  },
  {
   "cell_type": "code",
   "execution_count": 10,
   "metadata": {},
   "outputs": [
    {
     "data": {
      "text/plain": [
       "True"
      ]
     },
     "execution_count": 10,
     "metadata": {},
     "output_type": "execute_result"
    }
   ],
   "source": [
    "isinstance(president, Person)"
   ]
  },
  {
   "cell_type": "markdown",
   "metadata": {},
   "source": [
    "# 4. Subclasses"
   ]
  },
  {
   "cell_type": "markdown",
   "metadata": {},
   "source": [
    "a) Create class `Employee`, a subclass of `Person` with data attributes (fields) \n",
    "* `__work_days_accrued`\n",
    "* `__daily_salary`. \n",
    "\n",
    "These should be *the only* data attributes which you write in your class definition. In particular, you may not duplicate `name` and `age`.\n",
    "\n",
    "There should be methods\n",
    "* `work` which increments the number of work days accrued.\n",
    "* `expected_payout` which just returns the expected payout for the employee based on the accrued work days and daily salary (but without doing any resets).\n",
    "* `payout` which returns the accrued salary and resets the number of work days accrued. The `payout` function may not perform any calculations itself."
   ]
  },
  {
   "cell_type": "code",
   "execution_count": 7,
   "metadata": {},
   "outputs": [
    {
     "name": "stdout",
     "output_type": "stream",
     "text": [
      "--- Setting up test cases.\n",
      "--- Testing payout and expected_payout properties.\n",
      "OK\n",
      "--- Testing non-data-accessing calls to superclass methods.\n",
      "OK\n",
      "--- Testing data that should be set up by initialiser call.\n",
      "OK\n"
     ]
    }
   ],
   "source": [
    "# Your code goes here.\n",
    "class Employee(Person):\n",
    "    def __init__(self, name, daily_salary = 15):\n",
    "        Person.__init__(self,name)\n",
    "        self.__work_days_accrued = 0\n",
    "        self.__daily_salary = daily_salary\n",
    "        \n",
    "    def work(self):\n",
    "        \"\"\"Increment the Person's workdays.\"\"\"\n",
    "        self.__work_days_accrued = self.__work_days_accrued +1\n",
    "        \n",
    "    def expected_payout(self):\n",
    "        return self.__work_days_accrued * self.__daily_salary\n",
    "    \n",
    "    def payout(self):\n",
    "        pay = self.__work_days_accrued * self.__daily_salary\n",
    "        self.__work_days_accrued = 0\n",
    "        return pay\n",
    "    \n",
    "        \n",
    "# Ready-made tests.\n",
    "print(\"--- Setting up test cases.\")\n",
    "cleaner = Employee(name = \"Scruffy\")  # Should have daily_salary 15.\n",
    "josh = Employee(name = \"Josh\", daily_salary = 1000)\n",
    "toby = Employee(name = \"Toby\", daily_salary = 9999)\n",
    "\n",
    "josh.work()\n",
    "josh.work()\n",
    "toby.work()\n",
    "toby.work()\n",
    "toby.work()\n",
    "cleaner.work()\n",
    "\n",
    "print(\"--- Testing payout and expected_payout properties.\")\n",
    "assert cleaner.expected_payout() == 15, \"default salary should be 15\"\n",
    "assert josh.expected_payout() == 1000*2\n",
    "assert josh.payout() == 1000*2\n",
    "assert josh.expected_payout() == 0, \"salary should be reset afterwards\"\n",
    "assert toby.payout() == 9999*3, \"toby and josh instances should be independent.\"\n",
    "print(\"OK\")\n",
    "\n",
    "print(\"--- Testing non-data-accessing calls to superclass methods.\")\n",
    "assert josh.return_five() == 5, \"Person.return_five should be accessible\"\n",
    "print(\"OK\")\n",
    "\n",
    "print(\"--- Testing data that should be set up by initialiser call.\")\n",
    "assert josh.get_age() == 0, \"superclass method should be callable, values should not be missing.\"\n",
    "josh.age = 9\n",
    "assert josh.get_age() == 9, \"superclass method should be callable\"\n",
    "print(\"OK\")"
   ]
  },
  {
   "cell_type": "markdown",
   "metadata": {},
   "source": [
    "b) Which public data attributes (fields) does an `Employee` have? Can you access the age of an employee directly (without some transformation of the name)? The daily salary?"
   ]
  },
  {
   "cell_type": "code",
   "execution_count": 11,
   "metadata": {},
   "outputs": [
    {
     "data": {
      "text/plain": [
       "9"
      ]
     },
     "execution_count": 11,
     "metadata": {},
     "output_type": "execute_result"
    }
   ],
   "source": [
    "# Answer here.\n",
    "\n",
    "josh.age\n",
    "josh.name\n",
    "josh.__daily_salary\n",
    "josh.__work_days_accrued\n",
    "#Only the age and name are accessible. The daily salary and work days accured can't be accessed."
   ]
  },
  {
   "cell_type": "markdown",
   "metadata": {},
   "source": [
    "# 5. Introductory numpy"
   ]
  },
  {
   "cell_type": "markdown",
   "metadata": {},
   "source": [
    "A lot of computations will likely end up using data stored `numpy` arrays. Therefore, it is a good idea to have a feeling for how they are used and manipulated. The following steps will provide some introduction, so that we can build upon this in future labs.\n",
    "\n",
    "You may want to refer to the [official numpy.org absolute beginners guide to numpy](https://numpy.org/devdocs/user/absolute_beginners.html)."
   ]
  },
  {
   "cell_type": "markdown",
   "metadata": {},
   "source": [
    "a) Import the module `numpy`, giving it the shorthand `np`."
   ]
  },
  {
   "cell_type": "code",
   "execution_count": 12,
   "metadata": {},
   "outputs": [],
   "source": [
    "import numpy as np"
   ]
  },
  {
   "cell_type": "markdown",
   "metadata": {},
   "source": [
    "b) Create the $2 \\times 3$ matrix $A = \\begin{bmatrix}1 & 2 & 3 \\\\ 0 & 0 & 1\\end{bmatrix}$"
   ]
  },
  {
   "cell_type": "code",
   "execution_count": 13,
   "metadata": {},
   "outputs": [
    {
     "data": {
      "text/plain": [
       "array([[1, 2, 3],\n",
       "       [0, 0, 1]])"
      ]
     },
     "execution_count": 13,
     "metadata": {},
     "output_type": "execute_result"
    }
   ],
   "source": [
    "#A = np.matrix('1 2 3; 0 0 1')\n",
    "A = np.array([[1,2,3],[0,0,1]])\n",
    "A"
   ]
  },
  {
   "cell_type": "markdown",
   "metadata": {},
   "source": [
    "c) Create the vector $b = \\begin{bmatrix}1\\\\ 2 \\\\ 3 \\end{bmatrix}$"
   ]
  },
  {
   "cell_type": "code",
   "execution_count": 14,
   "metadata": {},
   "outputs": [
    {
     "data": {
      "text/plain": [
       "array([[1],\n",
       "       [2],\n",
       "       [3]])"
      ]
     },
     "execution_count": 14,
     "metadata": {},
     "output_type": "execute_result"
    }
   ],
   "source": [
    "b = np.array([[1],[2],[3]])\n",
    "b"
   ]
  },
  {
   "cell_type": "markdown",
   "metadata": {},
   "source": [
    "d) Perform the multiplication $Ab$. What is the result?"
   ]
  },
  {
   "cell_type": "code",
   "execution_count": 15,
   "metadata": {},
   "outputs": [
    {
     "data": {
      "text/plain": [
       "array([[14],\n",
       "       [ 3]])"
      ]
     },
     "execution_count": 15,
     "metadata": {},
     "output_type": "execute_result"
    }
   ],
   "source": [
    "A.dot(b)\n",
    "#A * b"
   ]
  },
  {
   "cell_type": "markdown",
   "metadata": {},
   "source": [
    "e) Mathematically, what should the dimensions of $b^Tb$ be? What should the dimensions of $bb^T$ be?"
   ]
  },
  {
   "cell_type": "code",
   "execution_count": null,
   "metadata": {},
   "outputs": [],
   "source": [
    "\"\"\"\n",
    "    Answer here.\n",
    "    The dimensions of b' * b should be 1x1\n",
    "    The dimensions of b * b' should be 3x3\n",
    "\"\"\""
   ]
  },
  {
   "cell_type": "markdown",
   "metadata": {},
   "source": [
    "f) Compute ```b.T @ b```? ```b @ b.T``` in numpy. How would you go about calculating $bb^T$ (if you wanted to actually store it as a matrix, which is rarely the most space- or time-efficient idea)?"
   ]
  },
  {
   "cell_type": "code",
   "execution_count": 30,
   "metadata": {},
   "outputs": [
    {
     "data": {
      "text/plain": [
       "array([[1, 2, 3],\n",
       "       [2, 4, 6],\n",
       "       [3, 6, 9]])"
      ]
     },
     "execution_count": 30,
     "metadata": {},
     "output_type": "execute_result"
    }
   ],
   "source": [
    "b.T @ b\n",
    "bbT = b @ b.T\n",
    "bbT\n"
   ]
  },
  {
   "cell_type": "markdown",
   "metadata": {},
   "source": [
    "Note: as `a @ b` is read `a.dot(b)` this should perhaps not be entirely surprising. But it is non-obvious."
   ]
  },
  {
   "cell_type": "markdown",
   "metadata": {},
   "source": [
    "d) Try to solve the equation $Ax = b$ using the `solve` method. Does this make mathematical sense? What does numpy say? Read the error message."
   ]
  },
  {
   "cell_type": "code",
   "execution_count": 42,
   "metadata": {},
   "outputs": [
    {
     "ename": "LinAlgError",
     "evalue": "Last 2 dimensions of the array must be square",
     "output_type": "error",
     "traceback": [
      "\u001b[0;31m---------------------------------------------------------------------------\u001b[0m",
      "\u001b[0;31mLinAlgError\u001b[0m                               Traceback (most recent call last)",
      "\u001b[0;32m<ipython-input-42-147dd9eaab74>\u001b[0m in \u001b[0;36m<module>\u001b[0;34m\u001b[0m\n\u001b[0;32m----> 1\u001b[0;31m \u001b[0mx\u001b[0m \u001b[0;34m=\u001b[0m \u001b[0mnp\u001b[0m\u001b[0;34m.\u001b[0m\u001b[0mlinalg\u001b[0m\u001b[0;34m.\u001b[0m\u001b[0msolve\u001b[0m\u001b[0;34m(\u001b[0m\u001b[0mA\u001b[0m\u001b[0;34m,\u001b[0m\u001b[0mb\u001b[0m\u001b[0;34m)\u001b[0m\u001b[0;34m\u001b[0m\u001b[0;34m\u001b[0m\u001b[0m\n\u001b[0m",
      "\u001b[0;32m<__array_function__ internals>\u001b[0m in \u001b[0;36msolve\u001b[0;34m(*args, **kwargs)\u001b[0m\n",
      "\u001b[0;32m~/anaconda3/lib/python3.7/site-packages/numpy/linalg/linalg.py\u001b[0m in \u001b[0;36msolve\u001b[0;34m(a, b)\u001b[0m\n\u001b[1;32m    384\u001b[0m     \u001b[0ma\u001b[0m\u001b[0;34m,\u001b[0m \u001b[0m_\u001b[0m \u001b[0;34m=\u001b[0m \u001b[0m_makearray\u001b[0m\u001b[0;34m(\u001b[0m\u001b[0ma\u001b[0m\u001b[0;34m)\u001b[0m\u001b[0;34m\u001b[0m\u001b[0;34m\u001b[0m\u001b[0m\n\u001b[1;32m    385\u001b[0m     \u001b[0m_assert_stacked_2d\u001b[0m\u001b[0;34m(\u001b[0m\u001b[0ma\u001b[0m\u001b[0;34m)\u001b[0m\u001b[0;34m\u001b[0m\u001b[0;34m\u001b[0m\u001b[0m\n\u001b[0;32m--> 386\u001b[0;31m     \u001b[0m_assert_stacked_square\u001b[0m\u001b[0;34m(\u001b[0m\u001b[0ma\u001b[0m\u001b[0;34m)\u001b[0m\u001b[0;34m\u001b[0m\u001b[0;34m\u001b[0m\u001b[0m\n\u001b[0m\u001b[1;32m    387\u001b[0m     \u001b[0mb\u001b[0m\u001b[0;34m,\u001b[0m \u001b[0mwrap\u001b[0m \u001b[0;34m=\u001b[0m \u001b[0m_makearray\u001b[0m\u001b[0;34m(\u001b[0m\u001b[0mb\u001b[0m\u001b[0;34m)\u001b[0m\u001b[0;34m\u001b[0m\u001b[0;34m\u001b[0m\u001b[0m\n\u001b[1;32m    388\u001b[0m     \u001b[0mt\u001b[0m\u001b[0;34m,\u001b[0m \u001b[0mresult_t\u001b[0m \u001b[0;34m=\u001b[0m \u001b[0m_commonType\u001b[0m\u001b[0;34m(\u001b[0m\u001b[0ma\u001b[0m\u001b[0;34m,\u001b[0m \u001b[0mb\u001b[0m\u001b[0;34m)\u001b[0m\u001b[0;34m\u001b[0m\u001b[0;34m\u001b[0m\u001b[0m\n",
      "\u001b[0;32m~/anaconda3/lib/python3.7/site-packages/numpy/linalg/linalg.py\u001b[0m in \u001b[0;36m_assert_stacked_square\u001b[0;34m(*arrays)\u001b[0m\n\u001b[1;32m    211\u001b[0m         \u001b[0mm\u001b[0m\u001b[0;34m,\u001b[0m \u001b[0mn\u001b[0m \u001b[0;34m=\u001b[0m \u001b[0ma\u001b[0m\u001b[0;34m.\u001b[0m\u001b[0mshape\u001b[0m\u001b[0;34m[\u001b[0m\u001b[0;34m-\u001b[0m\u001b[0;36m2\u001b[0m\u001b[0;34m:\u001b[0m\u001b[0;34m]\u001b[0m\u001b[0;34m\u001b[0m\u001b[0;34m\u001b[0m\u001b[0m\n\u001b[1;32m    212\u001b[0m         \u001b[0;32mif\u001b[0m \u001b[0mm\u001b[0m \u001b[0;34m!=\u001b[0m \u001b[0mn\u001b[0m\u001b[0;34m:\u001b[0m\u001b[0;34m\u001b[0m\u001b[0;34m\u001b[0m\u001b[0m\n\u001b[0;32m--> 213\u001b[0;31m             \u001b[0;32mraise\u001b[0m \u001b[0mLinAlgError\u001b[0m\u001b[0;34m(\u001b[0m\u001b[0;34m'Last 2 dimensions of the array must be square'\u001b[0m\u001b[0;34m)\u001b[0m\u001b[0;34m\u001b[0m\u001b[0;34m\u001b[0m\u001b[0m\n\u001b[0m\u001b[1;32m    214\u001b[0m \u001b[0;34m\u001b[0m\u001b[0m\n\u001b[1;32m    215\u001b[0m \u001b[0;32mdef\u001b[0m \u001b[0m_assert_finite\u001b[0m\u001b[0;34m(\u001b[0m\u001b[0;34m*\u001b[0m\u001b[0marrays\u001b[0m\u001b[0;34m)\u001b[0m\u001b[0;34m:\u001b[0m\u001b[0;34m\u001b[0m\u001b[0;34m\u001b[0m\u001b[0m\n",
      "\u001b[0;31mLinAlgError\u001b[0m: Last 2 dimensions of the array must be square"
     ]
    }
   ],
   "source": [
    "x = np.linalg.solve(A,b)"
   ]
  },
  {
   "cell_type": "code",
   "execution_count": null,
   "metadata": {},
   "outputs": [],
   "source": [
    "\"\"\"\n",
    "    Write your explanation as a code comment.\n",
    "    Yes, it makes sense, because in order to work the number of rows of A and b must be identical.\n",
    "    Numpy says:\n",
    "    LinAlgError: Last 2 dimensions of the array must be square\n",
    "    It says A has to be square(only 2 dimensions)\n",
    "\"\"\""
   ]
  },
  {
   "cell_type": "markdown",
   "metadata": {},
   "source": [
    "e) Try to solve the equation $A^Tx = b$ using numpy. Does this make mathematical sense? What does numpy say?"
   ]
  },
  {
   "cell_type": "code",
   "execution_count": 43,
   "metadata": {},
   "outputs": [
    {
     "ename": "LinAlgError",
     "evalue": "Last 2 dimensions of the array must be square",
     "output_type": "error",
     "traceback": [
      "\u001b[0;31m---------------------------------------------------------------------------\u001b[0m",
      "\u001b[0;31mLinAlgError\u001b[0m                               Traceback (most recent call last)",
      "\u001b[0;32m<ipython-input-43-a2f61e290647>\u001b[0m in \u001b[0;36m<module>\u001b[0;34m\u001b[0m\n\u001b[0;32m----> 1\u001b[0;31m \u001b[0mx\u001b[0m \u001b[0;34m=\u001b[0m \u001b[0mnp\u001b[0m\u001b[0;34m.\u001b[0m\u001b[0mlinalg\u001b[0m\u001b[0;34m.\u001b[0m\u001b[0msolve\u001b[0m\u001b[0;34m(\u001b[0m\u001b[0mA\u001b[0m\u001b[0;34m.\u001b[0m\u001b[0mT\u001b[0m\u001b[0;34m,\u001b[0m\u001b[0mb\u001b[0m\u001b[0;34m)\u001b[0m\u001b[0;34m\u001b[0m\u001b[0;34m\u001b[0m\u001b[0m\n\u001b[0m",
      "\u001b[0;32m<__array_function__ internals>\u001b[0m in \u001b[0;36msolve\u001b[0;34m(*args, **kwargs)\u001b[0m\n",
      "\u001b[0;32m~/anaconda3/lib/python3.7/site-packages/numpy/linalg/linalg.py\u001b[0m in \u001b[0;36msolve\u001b[0;34m(a, b)\u001b[0m\n\u001b[1;32m    384\u001b[0m     \u001b[0ma\u001b[0m\u001b[0;34m,\u001b[0m \u001b[0m_\u001b[0m \u001b[0;34m=\u001b[0m \u001b[0m_makearray\u001b[0m\u001b[0;34m(\u001b[0m\u001b[0ma\u001b[0m\u001b[0;34m)\u001b[0m\u001b[0;34m\u001b[0m\u001b[0;34m\u001b[0m\u001b[0m\n\u001b[1;32m    385\u001b[0m     \u001b[0m_assert_stacked_2d\u001b[0m\u001b[0;34m(\u001b[0m\u001b[0ma\u001b[0m\u001b[0;34m)\u001b[0m\u001b[0;34m\u001b[0m\u001b[0;34m\u001b[0m\u001b[0m\n\u001b[0;32m--> 386\u001b[0;31m     \u001b[0m_assert_stacked_square\u001b[0m\u001b[0;34m(\u001b[0m\u001b[0ma\u001b[0m\u001b[0;34m)\u001b[0m\u001b[0;34m\u001b[0m\u001b[0;34m\u001b[0m\u001b[0m\n\u001b[0m\u001b[1;32m    387\u001b[0m     \u001b[0mb\u001b[0m\u001b[0;34m,\u001b[0m \u001b[0mwrap\u001b[0m \u001b[0;34m=\u001b[0m \u001b[0m_makearray\u001b[0m\u001b[0;34m(\u001b[0m\u001b[0mb\u001b[0m\u001b[0;34m)\u001b[0m\u001b[0;34m\u001b[0m\u001b[0;34m\u001b[0m\u001b[0m\n\u001b[1;32m    388\u001b[0m     \u001b[0mt\u001b[0m\u001b[0;34m,\u001b[0m \u001b[0mresult_t\u001b[0m \u001b[0;34m=\u001b[0m \u001b[0m_commonType\u001b[0m\u001b[0;34m(\u001b[0m\u001b[0ma\u001b[0m\u001b[0;34m,\u001b[0m \u001b[0mb\u001b[0m\u001b[0;34m)\u001b[0m\u001b[0;34m\u001b[0m\u001b[0;34m\u001b[0m\u001b[0m\n",
      "\u001b[0;32m~/anaconda3/lib/python3.7/site-packages/numpy/linalg/linalg.py\u001b[0m in \u001b[0;36m_assert_stacked_square\u001b[0;34m(*arrays)\u001b[0m\n\u001b[1;32m    211\u001b[0m         \u001b[0mm\u001b[0m\u001b[0;34m,\u001b[0m \u001b[0mn\u001b[0m \u001b[0;34m=\u001b[0m \u001b[0ma\u001b[0m\u001b[0;34m.\u001b[0m\u001b[0mshape\u001b[0m\u001b[0;34m[\u001b[0m\u001b[0;34m-\u001b[0m\u001b[0;36m2\u001b[0m\u001b[0;34m:\u001b[0m\u001b[0;34m]\u001b[0m\u001b[0;34m\u001b[0m\u001b[0;34m\u001b[0m\u001b[0m\n\u001b[1;32m    212\u001b[0m         \u001b[0;32mif\u001b[0m \u001b[0mm\u001b[0m \u001b[0;34m!=\u001b[0m \u001b[0mn\u001b[0m\u001b[0;34m:\u001b[0m\u001b[0;34m\u001b[0m\u001b[0;34m\u001b[0m\u001b[0m\n\u001b[0;32m--> 213\u001b[0;31m             \u001b[0;32mraise\u001b[0m \u001b[0mLinAlgError\u001b[0m\u001b[0;34m(\u001b[0m\u001b[0;34m'Last 2 dimensions of the array must be square'\u001b[0m\u001b[0;34m)\u001b[0m\u001b[0;34m\u001b[0m\u001b[0;34m\u001b[0m\u001b[0m\n\u001b[0m\u001b[1;32m    214\u001b[0m \u001b[0;34m\u001b[0m\u001b[0m\n\u001b[1;32m    215\u001b[0m \u001b[0;32mdef\u001b[0m \u001b[0m_assert_finite\u001b[0m\u001b[0;34m(\u001b[0m\u001b[0;34m*\u001b[0m\u001b[0marrays\u001b[0m\u001b[0;34m)\u001b[0m\u001b[0;34m:\u001b[0m\u001b[0;34m\u001b[0m\u001b[0;34m\u001b[0m\u001b[0m\n",
      "\u001b[0;31mLinAlgError\u001b[0m: Last 2 dimensions of the array must be square"
     ]
    }
   ],
   "source": [
    "x = np.linalg.solve(A.T,b)"
   ]
  },
  {
   "cell_type": "code",
   "execution_count": null,
   "metadata": {},
   "outputs": [],
   "source": [
    "\"\"\"\n",
    "    Write your explanation as a comment here.\n",
    "    Mathematically solving this equations shouldn't produce any error because the number of rows of A and b are now equal.\n",
    "    Since we only transposed the matrix the error about the dimensions still applies.\n",
    "    \n",
    "\"\"\""
   ]
  },
  {
   "cell_type": "markdown",
   "metadata": {},
   "source": [
    "f) One of the two tasks above make sense from a mathematical point of view. Find a best solution $x$ in the least squares sense."
   ]
  },
  {
   "cell_type": "code",
   "execution_count": 22,
   "metadata": {},
   "outputs": [
    {
     "data": {
      "text/plain": [
       "array([[1.00000000e+00],\n",
       "       [1.78031751e-16]])"
      ]
     },
     "execution_count": 22,
     "metadata": {},
     "output_type": "execute_result"
    }
   ],
   "source": [
    "x,_,_,_ = np.linalg.lstsq(A.T,b, rcond = None)\n",
    "x"
   ]
  },
  {
   "cell_type": "markdown",
   "metadata": {},
   "source": [
    "g) Is the resulting $Ax$ or $A^Tx$ (depending on your choice above) close to $b$? What is the norm-2-distance between the vectors?"
   ]
  },
  {
   "cell_type": "code",
   "execution_count": 31,
   "metadata": {},
   "outputs": [
    {
     "data": {
      "text/plain": [
       "1.159106867033638e-15"
      ]
     },
     "execution_count": 31,
     "metadata": {},
     "output_type": "execute_result"
    }
   ],
   "source": [
    "#A.T @ x\n",
    "#Yes A.T * x = b. The distance is zero\n",
    "np.linalg.norm(A.T @ x -b)"
   ]
  },
  {
   "cell_type": "markdown",
   "metadata": {},
   "source": [
    "Just to get some practice, run the following to get some test data:"
   ]
  },
  {
   "cell_type": "code",
   "execution_count": 33,
   "metadata": {},
   "outputs": [],
   "source": [
    "import sklearn\n",
    "import sklearn.datasets as ds\n",
    "houses = ds.fetch_california_housing()"
   ]
  },
  {
   "cell_type": "markdown",
   "metadata": {},
   "source": [
    "h) How many rows does the dataset have? Columns? Find out using numpy. (First check what `houses` actually is)"
   ]
  },
  {
   "cell_type": "code",
   "execution_count": 34,
   "metadata": {},
   "outputs": [
    {
     "data": {
      "text/plain": [
       "(20640, 8)"
      ]
     },
     "execution_count": 34,
     "metadata": {},
     "output_type": "execute_result"
    }
   ],
   "source": [
    "np.ma.size(houses['data'],1) # 8 columns\n",
    "np.ma.size(houses['data'],0) # 20640 rows\n",
    "\n",
    "type(houses) # houses is a sklearn.utils.Bunch\n",
    "\n",
    "houses['data'].shape\n",
    "#houses['data'].dtype\n",
    "#houses['data']"
   ]
  },
  {
   "cell_type": "markdown",
   "metadata": {},
   "source": [
    "i) Get the third column (remember: indexing starts at zero, so column number 2) of the dataset by indexing/slicing."
   ]
  },
  {
   "cell_type": "code",
   "execution_count": 27,
   "metadata": {},
   "outputs": [
    {
     "data": {
      "text/plain": [
       "array([6.98412698, 6.23813708, 8.28813559, ..., 5.20554273, 5.32951289,\n",
       "       5.25471698])"
      ]
     },
     "execution_count": 27,
     "metadata": {},
     "output_type": "execute_result"
    }
   ],
   "source": [
    "houses['data'][:,2]"
   ]
  },
  {
   "cell_type": "markdown",
   "metadata": {},
   "source": [
    "j) Get the values of the third, fourth and hundredrth rows (that is, index 2, 3, 99)."
   ]
  },
  {
   "cell_type": "code",
   "execution_count": 28,
   "metadata": {},
   "outputs": [
    {
     "data": {
      "text/plain": [
       "array([[ 7.25740000e+00,  5.20000000e+01,  8.28813559e+00,\n",
       "         1.07344633e+00,  4.96000000e+02,  2.80225989e+00,\n",
       "         3.78500000e+01, -1.22240000e+02],\n",
       "       [ 5.64310000e+00,  5.20000000e+01,  5.81735160e+00,\n",
       "         1.07305936e+00,  5.58000000e+02,  2.54794521e+00,\n",
       "         3.78500000e+01, -1.22250000e+02],\n",
       "       [ 2.61040000e+00,  3.70000000e+01,  3.70714286e+00,\n",
       "         1.10714286e+00,  1.83800000e+03,  1.87551020e+00,\n",
       "         3.78200000e+01, -1.22260000e+02]])"
      ]
     },
     "execution_count": 28,
     "metadata": {},
     "output_type": "execute_result"
    }
   ],
   "source": [
    "houses['data'][[2,3,99],:]"
   ]
  },
  {
   "cell_type": "markdown",
   "metadata": {},
   "source": [
    "k) Mathematical sanity check: without actually computing the rank of ```houses.data```, can you provide a bound? Could it have $10^{15}$ linearly independent rows? 2000? Etc. Write down the tightest bound you can find, and explain why briefly."
   ]
  },
  {
   "cell_type": "code",
   "execution_count": 29,
   "metadata": {},
   "outputs": [
    {
     "data": {
      "text/plain": [
       "8"
      ]
     },
     "execution_count": 29,
     "metadata": {},
     "output_type": "execute_result"
    }
   ],
   "source": [
    "# You may want to look at some properties of the matrix here.\n",
    "np.ma.size(houses['data'],1)\n",
    "# rank(data) must be <= 8 because the rank(data) <= min (number col, number row)"
   ]
  },
  {
   "cell_type": "markdown",
   "metadata": {},
   "source": [
    "l) Find out the actual rank of the matrix using numpy. "
   ]
  },
  {
   "cell_type": "code",
   "execution_count": 31,
   "metadata": {},
   "outputs": [
    {
     "data": {
      "text/plain": [
       "8"
      ]
     },
     "execution_count": 31,
     "metadata": {},
     "output_type": "execute_result"
    }
   ],
   "source": [
    "np.linalg.matrix_rank(houses.data)"
   ]
  },
  {
   "cell_type": "markdown",
   "metadata": {},
   "source": [
    "# 6. A simple classifier"
   ]
  },
  {
   "cell_type": "markdown",
   "metadata": {},
   "source": [
    "Our goal in this section is to build a naïve subspace-projection based classifier which takes a numerical vector and produces a label. We will build this from the ground up (there are many libraries that perform this automatically, but may not use them in this case).\n",
    "\n",
    "We will first practice our numpy (and linear algebra) skills to build the algorithm, and then encapsulate data and methods in a class. We will be taking a slightly different route than more general SVD methods for finding principal components, simply because this is not our task. This is worth remembering if you find material on the subject!\n",
    "\n",
    "The main idea here is to pick out all the data corresponding to a certain set of vectors, and reduce this matrix to some rank $\\leq k$ matrix which is a good approximation of the row space in some sense (here: the sense that the vectors correspond to maximal singular values). A naïve classification is then given by picking the subspace which is closest by orthogonal projection."
   ]
  },
  {
   "cell_type": "markdown",
   "metadata": {},
   "source": [
    "## The dataset"
   ]
  },
  {
   "cell_type": "markdown",
   "metadata": {},
   "source": [
    "First, we will import some data. Here we use the classic MNIST data set of handwritten digits. We can naturally partition the sets of vectors used for training and validation in many ways. Feel free to experiment with a nicer (possibly non-deterministic) version later. This is only to get us started, and to have a set of data with known properties (which is helpful for lab assistants)."
   ]
  },
  {
   "cell_type": "code",
   "execution_count": 35,
   "metadata": {},
   "outputs": [],
   "source": [
    "import sklearn.datasets as ds\n",
    "digits = ds.load_digits()\n",
    "training_digits = digits.data[0:600, :]\n",
    "training_labels = digits.target[0:600]\n",
    "# The set of labels can be found in digits.target_names."
   ]
  },
  {
   "cell_type": "markdown",
   "metadata": {},
   "source": [
    "If we are curious, we can view the images from the dataset."
   ]
  },
  {
   "cell_type": "code",
   "execution_count": 36,
   "metadata": {},
   "outputs": [
    {
     "data": {
      "text/plain": [
       "Text(0.5, 0, 'Index: 2, actually the number 2')"
      ]
     },
     "execution_count": 36,
     "metadata": {},
     "output_type": "execute_result"
    },
    {
     "data": {
      "image/png": "[encoded data removed]",
      "text/plain": [
       "<Figure size 432x288 with 1 Axes>"
      ]
     },
     "metadata": {
      "needs_background": "light"
     },
     "output_type": "display_data"
    }
   ],
   "source": [
    "%matplotlib inline\n",
    "from matplotlib import pyplot as plt \n",
    "# We show one of the digits.\n",
    "d_index = 2\n",
    "plt.imshow(training_digits[d_index].reshape(8,8))\n",
    "plt.xlabel(f\"Index: {d_index}, actually the number {training_labels[d_index]}\")\n",
    "# Note: digits.images[i] is the same as digits.data[i], but in 8x8 format (no need to reshape).\n",
    "# We would however like to stress that the 64 pixel images we'll be working with are stored in vector format."
   ]
  },
  {
   "cell_type": "markdown",
   "metadata": {},
   "source": [
    "## Tasks"
   ]
  },
  {
   "cell_type": "markdown",
   "metadata": {},
   "source": [
    "a) Get all rows with label 4. Store that in the matrix $A_4$. Similarly for $A_9$. This should be two single lines of code!"
   ]
  },
  {
   "cell_type": "code",
   "execution_count": 37,
   "metadata": {},
   "outputs": [],
   "source": [
    "a4 = digits.data[digits.target == 4, :]    # Replace with your code.\n",
    "a9 = digits.data[digits.target == 9, :]    # Replace with your code.\n",
    "#np.ma.size(digits.data, 0)\n",
    "#np.ma.size(digits.target)\n",
    "#np.ma.size(a4,0)\n"
   ]
  },
  {
   "cell_type": "markdown",
   "metadata": {},
   "source": [
    "b) Compute the thin SVD $A_4 = U_4\\Sigma_4 V^T_4$ and similarly for $A_9$. Thin here means that you do not necessarily get the full-rank square $U,V^T$ matrices."
   ]
  },
  {
   "cell_type": "code",
   "execution_count": 38,
   "metadata": {},
   "outputs": [],
   "source": [
    "u4, s4, vh4 = np.linalg.svd(a4, full_matrices=False)\n",
    "#u.shape, s.shape, vh.shape\n",
    "u9, s9, vh9 = np.linalg.svd(a9, full_matrices=False)\n"
   ]
  },
  {
   "cell_type": "markdown",
   "metadata": {},
   "source": [
    "**Note** Our data is stored by row (one row per digit). What we use the different matrices in the decomposition for is thus slightly different than if it was stored by column. Instead of picking the best $k$ columns of $U$ we pick the best $k$ rows of $V^T$."
   ]
  },
  {
   "cell_type": "markdown",
   "metadata": {},
   "source": [
    "c) Let $sample4$ be the first row of $A_4$ and $sample9$ be the first row of $A_9$."
   ]
  },
  {
   "cell_type": "code",
   "execution_count": 39,
   "metadata": {},
   "outputs": [],
   "source": [
    "sample4 = a4[0,:]\n",
    "sample9 = a9[0,:]"
   ]
  },
  {
   "cell_type": "markdown",
   "metadata": {},
   "source": [
    "d) Let $R$ be the first 3 rows of $V^T$. Compute the orthogonal projection of $sample4$ onto the row space of $R_4$, and onto the row space of $R_9$"
   ]
  },
  {
   "cell_type": "code",
   "execution_count": 49,
   "metadata": {},
   "outputs": [
    {
     "data": {
      "text/plain": [
       "(3, 64)"
      ]
     },
     "execution_count": 49,
     "metadata": {},
     "output_type": "execute_result"
    }
   ],
   "source": [
    "r4 = vh4[0:3,:]  # Your code here.\n",
    "r9 = vh9[0:3,:]  # Your code here\n",
    "\n",
    "coeffs_in_r4 = sample4 @ r4.T   # What are the coordinates of sample4 orthogonally projected onto R4?\n",
    "coeffs_in_r9 = sample4 @ r9.T \n",
    "\n",
    "sample4_in_r4 = coeffs_in_r4 @ r4   # Linear combination of rows in R4\n",
    "sample4_in_r9 = coeffs_in_r9 @ r9   # Your code here.\n"
   ]
  },
  {
   "cell_type": "markdown",
   "metadata": {},
   "source": [
    "[Mathematical aside: where did the $\\Sigma$ go? This is a very important matrix, and strongly affects both interpretations and (in general) row- and column spaces. *Assuming* that the rank is $\\geq 3$ the row spaces should be the same whether or not we scale the basis vectors by some $\\sigma_i$ (since $\\sigma_i > 0$ for all $i=1,2,\\ldots, r$). That is enough for our application, though the interpretations of the vectors might be different. The rank assumption is rather important, and we will make rather casually based on knowledge about the data set. Later, we'll include a check for this in our code.]"
   ]
  },
  {
   "cell_type": "markdown",
   "metadata": {},
   "source": [
    "e) Which of the projections is closest to sample4 (in the sense that the difference (sample4_in_z**?**t - sample4) as the smallest 2-norm?"
   ]
  },
  {
   "cell_type": "code",
   "execution_count": 50,
   "metadata": {},
   "outputs": [
    {
     "data": {
      "text/plain": [
       "18.508320758180936"
      ]
     },
     "execution_count": 50,
     "metadata": {},
     "output_type": "execute_result"
    }
   ],
   "source": [
    "np.linalg.norm(sample4_in_r4-sample4) #18.508320758180936\n",
    "np.linalg.norm(sample4_in_r9-sample4) #40.80230053808382"
   ]
  },
  {
   "cell_type": "markdown",
   "metadata": {},
   "source": [
    "f) Create a function `split_data(data, data_labels, labels)` which takes a matrix of data (such as `training_data`), the labels of all rows (such as `training_labels`) and a vector of the labels (here the numbers 0,...,9) and returns a dictionary mapping a label to the matrix of all corresponding data. \n",
    "\n",
    "Here the dictionary would for instance have the key 2, and the corresponding value be the matrix of all the images in `data` classified as the number 2."
   ]
  },
  {
   "cell_type": "code",
   "execution_count": 53,
   "metadata": {},
   "outputs": [
    {
     "data": {
      "text/plain": [
       "{0: array([[0., 0., 5., ..., 0., 0., 0.],\n",
       "        [0., 0., 1., ..., 3., 0., 0.],\n",
       "        [0., 0., 3., ..., 4., 0., 0.],\n",
       "        ...,\n",
       "        [0., 0., 0., ..., 3., 0., 0.],\n",
       "        [0., 0., 2., ..., 1., 0., 0.],\n",
       "        [0., 0., 1., ..., 7., 0., 0.]]),\n",
       " 1: array([[ 0.,  0.,  0., ..., 10.,  0.,  0.],\n",
       "        [ 0.,  0.,  0., ..., 16.,  1.,  0.],\n",
       "        [ 0.,  0.,  0., ..., 15.,  4.,  0.],\n",
       "        ...,\n",
       "        [ 0.,  0., 10., ..., 16., 16., 11.],\n",
       "        [ 0.,  0.,  3., ..., 16., 15., 11.],\n",
       "        [ 0.,  0.,  5., ..., 16., 11.,  2.]]),\n",
       " 2: array([[ 0.,  0.,  0., ..., 16.,  9.,  0.],\n",
       "        [ 0.,  0.,  5., ..., 13., 12.,  4.],\n",
       "        [ 0.,  0.,  8., ..., 12., 13.,  1.],\n",
       "        ...,\n",
       "        [ 0.,  0.,  3., ..., 12., 14.,  7.],\n",
       "        [ 0.,  0.,  7., ..., 12., 12., 11.],\n",
       "        [ 0.,  0.,  9., ..., 16., 16.,  3.]]),\n",
       " 3: array([[ 0.,  0.,  7., ...,  9.,  0.,  0.],\n",
       "        [ 0.,  2.,  9., ..., 11.,  0.,  0.],\n",
       "        [ 0.,  1.,  8., ...,  2.,  0.,  0.],\n",
       "        ...,\n",
       "        [ 0.,  0.,  0., ..., 16., 11.,  0.],\n",
       "        [ 0.,  0.,  0., ..., 16.,  9.,  0.],\n",
       "        [ 0.,  0.,  1., ..., 16., 16.,  8.]]),\n",
       " 4: array([[0., 0., 0., ..., 4., 0., 0.],\n",
       "        [0., 0., 0., ..., 4., 0., 0.],\n",
       "        [0., 0., 0., ..., 8., 0., 0.],\n",
       "        ...,\n",
       "        [0., 0., 0., ..., 0., 0., 0.],\n",
       "        [0., 0., 0., ..., 0., 0., 0.],\n",
       "        [0., 0., 3., ..., 0., 0., 0.]]),\n",
       " 5: array([[ 0.,  0., 12., ..., 10.,  0.,  0.],\n",
       "        [ 0.,  5., 12., ...,  0.,  0.,  0.],\n",
       "        [ 0.,  0., 12., ...,  0.,  0.,  0.],\n",
       "        ...,\n",
       "        [ 0.,  0., 11., ...,  2.,  0.,  0.],\n",
       "        [ 0.,  1.,  9., ...,  1.,  0.,  0.],\n",
       "        [ 0.,  0.,  9., ...,  7.,  0.,  0.]]),\n",
       " 6: array([[ 0.,  0.,  0., ..., 11.,  3.,  0.],\n",
       "        [ 0.,  0.,  0., ..., 16., 11.,  0.],\n",
       "        [ 0.,  0.,  1., ..., 14.,  7.,  0.],\n",
       "        ...,\n",
       "        [ 0.,  0.,  0., ..., 16.,  7.,  0.],\n",
       "        [ 0.,  0.,  0., ...,  5.,  0.,  0.],\n",
       "        [ 0.,  0.,  0., ..., 12.,  0.,  0.]]),\n",
       " 7: array([[0., 0., 7., ..., 0., 0., 0.],\n",
       "        [0., 0., 1., ..., 0., 0., 0.],\n",
       "        [0., 0., 0., ..., 1., 0., 0.],\n",
       "        ...,\n",
       "        [0., 0., 9., ..., 0., 0., 0.],\n",
       "        [0., 0., 3., ..., 0., 0., 0.],\n",
       "        [0., 0., 6., ..., 0., 0., 0.]]),\n",
       " 8: array([[ 0.,  0.,  9., ..., 11.,  1.,  0.],\n",
       "        [ 0.,  0., 10., ...,  0.,  0.,  0.],\n",
       "        [ 0.,  0., 10., ...,  1.,  0.,  0.],\n",
       "        ...,\n",
       "        [ 0.,  0.,  0., ..., 16., 14.,  0.],\n",
       "        [ 0.,  0.,  0., ..., 15., 13.,  0.],\n",
       "        [ 0.,  0.,  0., ..., 15., 15.,  0.]]),\n",
       " 9: array([[ 0.,  0., 11., ...,  3.,  0.,  0.],\n",
       "        [ 0.,  0.,  6., ..., 13., 11.,  1.],\n",
       "        [ 0.,  0.,  9., ..., 12., 11.,  0.],\n",
       "        ...,\n",
       "        [ 0.,  0.,  2., ..., 16.,  6.,  0.],\n",
       "        [ 0.,  0.,  1., ...,  7.,  0.,  0.],\n",
       "        [ 0.,  0.,  6., ..., 12.,  0.,  0.]])}"
      ]
     },
     "execution_count": 53,
     "metadata": {},
     "output_type": "execute_result"
    }
   ],
   "source": [
    "def split_data(data, data_labels, labels):\n",
    "    res = {}\n",
    "    for label in labels:\n",
    "        res[label] = training_digits[training_labels == label]\n",
    "    return res\n",
    "\n",
    "labelled_data = split_data(training_digits, training_labels, range(10))\n",
    "labelled_data"
   ]
  },
  {
   "cell_type": "markdown",
   "metadata": {},
   "source": [
    "f) Create a function `subspaces(labelled_data, k = 3)` that takes a dictionary such as above, and returns a dictionary mapping every occurring label $d$ to the respective $Z_d$ matrix with at most $k$ rows. Here the $Z_d$ matrices is defined as above, the best norm-2-approximation. If a particular matrix has a rank $r < k$, we should only keep $r$ rows (say, if there were many more *different* digit 9-rows in the training set, than digit 1:s)!"
   ]
  },
  {
   "cell_type": "code",
   "execution_count": 55,
   "metadata": {},
   "outputs": [
    {
     "data": {
      "text/plain": [
       "{0: array([[-1.11022302e-16,  0.00000000e+00, -6.22677983e-02,\n",
       "         -2.21559903e-01, -1.85755698e-01, -4.65294746e-02,\n",
       "         -7.19433898e-04,  0.00000000e+00,  0.00000000e+00,\n",
       "         -1.60651048e-02, -2.16411071e-01, -2.37672403e-01,\n",
       "         -2.21536861e-01, -1.79709853e-01, -1.83977537e-02,\n",
       "          0.00000000e+00,  0.00000000e+00, -7.07286375e-02,\n",
       "         -2.54589437e-01, -8.91593640e-02, -5.90627625e-02,\n",
       "         -2.16965843e-01, -5.69881345e-02,  0.00000000e+00,\n",
       "          0.00000000e+00, -9.37520410e-02, -2.30953456e-01,\n",
       "         -2.86090093e-02, -5.65268834e-03, -1.75885867e-01,\n",
       "         -1.01780725e-01,  0.00000000e+00,  0.00000000e+00,\n",
       "         -9.65548729e-02, -2.06667165e-01, -1.69539405e-02,\n",
       "          0.00000000e+00, -1.64728706e-01, -1.15771415e-01,\n",
       "          0.00000000e+00,  0.00000000e+00, -5.32815091e-02,\n",
       "         -2.34992285e-01, -4.22723136e-02, -1.81644481e-02,\n",
       "         -1.96313998e-01, -1.02663267e-01,  0.00000000e+00,\n",
       "          0.00000000e+00, -1.13684202e-02, -2.20736164e-01,\n",
       "         -1.81633742e-01, -1.83171998e-01, -2.36795911e-01,\n",
       "         -4.65012122e-02,  0.00000000e+00,  0.00000000e+00,\n",
       "          0.00000000e+00, -6.69036074e-02, -2.21787055e-01,\n",
       "         -2.26462673e-01, -9.22151482e-02, -4.00727982e-03,\n",
       "          0.00000000e+00],\n",
       "        [ 8.32667268e-17,  0.00000000e+00, -1.28439135e-01,\n",
       "         -6.61924311e-02, -2.30318912e-01, -2.89592454e-01,\n",
       "         -1.00651332e-02,  0.00000000e+00,  0.00000000e+00,\n",
       "          8.63401760e-03, -1.69924854e-01,  1.00486759e-02,\n",
       "          2.01664158e-01, -3.51256221e-01, -1.58518402e-01,\n",
       "          0.00000000e+00,  0.00000000e+00,  1.06861995e-02,\n",
       "         -6.13633367e-02,  1.95084474e-01,  3.11819649e-01,\n",
       "          1.63424692e-01, -2.56745159e-01,  0.00000000e+00,\n",
       "          0.00000000e+00, -6.12712869e-02,  2.94109953e-02,\n",
       "          1.18786724e-01,  3.08840015e-02,  2.47414704e-01,\n",
       "         -1.71886829e-01,  0.00000000e+00,  0.00000000e+00,\n",
       "         -6.28800553e-02,  1.29105475e-01,  7.84808425e-02,\n",
       "          0.00000000e+00,  1.27912455e-01, -1.62704935e-02,\n",
       "          0.00000000e+00,  0.00000000e+00, -7.51883676e-02,\n",
       "          1.42683805e-02,  2.44989872e-01,  5.40188784e-02,\n",
       "         -1.43448600e-03,  1.37905987e-01,  0.00000000e+00,\n",
       "          0.00000000e+00, -3.72596662e-02, -1.39311121e-01,\n",
       "          2.29713823e-01,  1.12290028e-01,  2.33407188e-02,\n",
       "          1.06291350e-01,  0.00000000e+00,  0.00000000e+00,\n",
       "          0.00000000e+00, -1.27842872e-01, -1.61720136e-01,\n",
       "         -4.03061431e-02,  9.07941773e-02,  6.42486419e-03,\n",
       "          0.00000000e+00],\n",
       "        [ 5.55111512e-17, -8.32667268e-17, -1.81624526e-02,\n",
       "         -8.52446485e-02,  5.45895419e-02,  1.41405681e-01,\n",
       "          6.33760137e-03, -2.77555756e-17, -6.93889390e-18,\n",
       "         -5.89961829e-02, -8.15676781e-02,  1.85716598e-02,\n",
       "         -3.55434988e-02,  1.33767904e-01,  1.13796932e-01,\n",
       "          0.00000000e+00,  0.00000000e+00, -1.16742230e-01,\n",
       "         -9.17473985e-03,  2.09804594e-01, -1.35393819e-02,\n",
       "         -9.32768905e-02,  1.55377042e-01,  0.00000000e+00,\n",
       "          0.00000000e+00, -9.71539655e-02,  8.42488817e-02,\n",
       "          3.23866523e-02,  1.26978116e-02,  8.83592560e-02,\n",
       "         -4.61345274e-02,  0.00000000e+00,  0.00000000e+00,\n",
       "         -1.40073708e-01,  1.01261670e-01,  4.49939677e-02,\n",
       "          0.00000000e+00,  2.71478691e-01, -1.74029521e-01,\n",
       "          0.00000000e+00,  0.00000000e+00, -7.40213711e-02,\n",
       "         -9.27031669e-04,  1.66726906e-01,  1.53983917e-01,\n",
       "          3.45540730e-01, -3.29264630e-01,  0.00000000e+00,\n",
       "          0.00000000e+00, -3.31027155e-03, -7.20777053e-02,\n",
       "          8.63863373e-02,  2.59668773e-01, -1.53515338e-01,\n",
       "         -3.29292801e-01,  0.00000000e+00,  0.00000000e+00,\n",
       "          0.00000000e+00, -5.04540790e-02, -6.72314286e-02,\n",
       "         -1.48213664e-01, -3.78706010e-01, -5.59065440e-02,\n",
       "          0.00000000e+00]]),\n",
       " 1: array([[-1.11022302e-16,  0.00000000e+00, -1.85012127e-02,\n",
       "         -9.13930124e-02, -1.89272990e-01, -1.44826302e-01,\n",
       "         -2.59467981e-02,  0.00000000e+00,  0.00000000e+00,\n",
       "         -2.73006146e-04, -3.02429137e-02, -1.58197310e-01,\n",
       "         -2.43341445e-01, -1.87287225e-01, -3.50266241e-02,\n",
       "          0.00000000e+00,  0.00000000e+00, -7.44390604e-03,\n",
       "         -9.39305868e-02, -2.39135833e-01, -2.47455878e-01,\n",
       "         -1.62589388e-01, -1.82688757e-02,  0.00000000e+00,\n",
       "          0.00000000e+00, -4.74422265e-02, -1.84687779e-01,\n",
       "         -2.58082598e-01, -2.50044025e-01, -1.47954202e-01,\n",
       "         -1.06384018e-02,  0.00000000e+00,  0.00000000e+00,\n",
       "         -3.26867940e-02, -1.34115167e-01, -1.89187192e-01,\n",
       "         -2.52423185e-01, -1.36572860e-01, -1.08073011e-02,\n",
       "          0.00000000e+00,  0.00000000e+00, -8.00966782e-03,\n",
       "         -6.30604890e-02, -1.35054315e-01, -2.56376838e-01,\n",
       "         -1.51512929e-01, -8.88171455e-03,  0.00000000e+00,\n",
       "          0.00000000e+00, -1.69515660e-03, -4.69446368e-02,\n",
       "         -1.28749608e-01, -2.52714731e-01, -1.92320477e-01,\n",
       "         -3.73853477e-02, -1.26631576e-02,  0.00000000e+00,\n",
       "          0.00000000e+00, -1.54665157e-02, -9.13127454e-02,\n",
       "         -2.23212243e-01, -1.99772107e-01, -5.11997372e-02,\n",
       "         -1.76227144e-02],\n",
       "        [ 2.77555756e-17,  1.11022302e-16, -9.96177503e-02,\n",
       "         -2.98674646e-01,  5.55249363e-02,  2.34196264e-01,\n",
       "          6.98094064e-02,  0.00000000e+00,  0.00000000e+00,\n",
       "         -1.44957227e-03, -1.22822379e-01, -2.73257205e-01,\n",
       "          7.02759297e-02,  2.65222425e-01,  9.77049199e-02,\n",
       "          0.00000000e+00,  0.00000000e+00,  7.24695153e-03,\n",
       "         -6.29374570e-02, -1.04150720e-01,  9.89759167e-02,\n",
       "          2.65535257e-01,  6.06224432e-02,  0.00000000e+00,\n",
       "          0.00000000e+00,  4.96380713e-02,  7.18235611e-02,\n",
       "         -5.84463106e-02,  4.65505972e-02,  2.75476158e-01,\n",
       "          3.86286267e-02,  0.00000000e+00,  0.00000000e+00,\n",
       "          2.51904984e-02, -2.15472439e-02, -1.98975678e-01,\n",
       "         -2.47877597e-02,  2.52928126e-01,  3.48505905e-02,\n",
       "          0.00000000e+00,  0.00000000e+00,  7.31121803e-03,\n",
       "         -9.98376532e-02, -1.91611609e-01, -4.90931113e-02,\n",
       "          2.11793244e-01,  2.73250143e-02,  0.00000000e+00,\n",
       "          0.00000000e+00, -2.20771102e-03, -1.86226692e-01,\n",
       "         -2.57184047e-01, -6.33915653e-02,  9.31899679e-02,\n",
       "         -1.09810813e-01, -6.90533560e-02,  0.00000000e+00,\n",
       "          0.00000000e+00, -8.29295997e-02, -2.92707890e-01,\n",
       "         -1.34034569e-01,  1.93495343e-02, -1.47176144e-01,\n",
       "         -9.94955296e-02],\n",
       "        [ 4.16333634e-17, -1.66533454e-16, -9.34137039e-02,\n",
       "         -3.97483537e-02,  2.26901381e-01,  6.34742597e-03,\n",
       "         -5.26748967e-02,  0.00000000e+00,  0.00000000e+00,\n",
       "          1.77629874e-03, -9.01729762e-02, -1.12917126e-01,\n",
       "          2.22080424e-01,  1.00568185e-01, -5.98747644e-02,\n",
       "          0.00000000e+00, -4.93038066e-32, -1.14738229e-02,\n",
       "         -1.44452606e-01, -9.96307643e-02,  1.89042221e-01,\n",
       "          3.78765046e-02, -4.71744987e-02,  0.00000000e+00,\n",
       "          0.00000000e+00, -3.44478550e-02, -1.43831759e-01,\n",
       "         -3.91511974e-02,  1.37153062e-01, -3.50687082e-02,\n",
       "         -3.08255352e-02,  0.00000000e+00,  0.00000000e+00,\n",
       "          1.78192813e-02,  1.32288210e-01,  1.26415477e-01,\n",
       "          4.57826354e-02, -1.19825793e-01, -2.88026329e-02,\n",
       "          0.00000000e+00,  0.00000000e+00,  3.24222477e-02,\n",
       "          3.19484451e-01,  2.84172401e-01, -2.81506510e-02,\n",
       "         -1.91511291e-01, -2.35501637e-02,  0.00000000e+00,\n",
       "          0.00000000e+00,  1.18705368e-02,  7.90572983e-02,\n",
       "          1.46716837e-01,  3.35278756e-03, -3.68289970e-01,\n",
       "         -2.51392053e-01, -1.08673687e-01,  0.00000000e+00,\n",
       "          0.00000000e+00, -7.55162744e-02, -9.17596753e-02,\n",
       "         -3.89790948e-02, -2.81993267e-01, -3.11223550e-01,\n",
       "         -1.82194199e-01]]),\n",
       " 2: array([[ 0.00000000e+00, -7.33179827e-03, -1.37911572e-01,\n",
       "         -2.30334054e-01, -1.67616106e-01, -4.39501114e-02,\n",
       "         -2.67891645e-03,  0.00000000e+00,  0.00000000e+00,\n",
       "         -8.24348724e-02, -2.37789287e-01, -2.25403845e-01,\n",
       "         -2.37430622e-01, -9.19298949e-02, -8.52885673e-03,\n",
       "          0.00000000e+00, -2.60430468e-04, -9.90441786e-02,\n",
       "         -1.62379849e-01, -9.45852258e-02, -2.26227918e-01,\n",
       "         -9.38081904e-02, -7.80011372e-03,  0.00000000e+00,\n",
       "          0.00000000e+00, -3.17901932e-02, -5.38143875e-02,\n",
       "         -9.63940133e-02, -2.34973126e-01, -6.40247953e-02,\n",
       "         -2.74165211e-03,  0.00000000e+00,  0.00000000e+00,\n",
       "         -3.01255753e-03, -3.23858800e-02, -1.81453995e-01,\n",
       "         -1.90091418e-01, -2.63324661e-02,  0.00000000e+00,\n",
       "          0.00000000e+00,  0.00000000e+00, -2.16217643e-02,\n",
       "         -1.30860444e-01, -2.22607579e-01, -1.04864080e-01,\n",
       "         -1.10523727e-02, -4.82297564e-03,  0.00000000e+00,\n",
       "         -8.00424416e-04, -2.95941107e-02, -2.02568383e-01,\n",
       "         -2.54156540e-01, -2.00668732e-01, -1.66341296e-01,\n",
       "         -9.84867181e-02, -9.42386440e-03, -2.66808139e-04,\n",
       "         -8.09795502e-03, -1.42280745e-01, -2.31879926e-01,\n",
       "         -2.37712447e-01, -2.31478527e-01, -1.52389000e-01,\n",
       "         -1.98450601e-02],\n",
       "        [-5.55111512e-17,  1.54109653e-02,  2.17115779e-01,\n",
       "          1.99302151e-01, -2.14428087e-01, -2.76006556e-01,\n",
       "         -2.82797286e-02,  0.00000000e+00,  0.00000000e+00,\n",
       "          1.30258473e-01,  2.58208844e-01,  2.38043652e-04,\n",
       "         -8.61403985e-02, -3.63878334e-01, -9.07951348e-02,\n",
       "          0.00000000e+00,  2.43758389e-04,  1.57985673e-01,\n",
       "          1.29005730e-01, -5.93735039e-02,  1.39688611e-01,\n",
       "         -3.60775592e-01, -8.52250787e-02,  0.00000000e+00,\n",
       "          0.00000000e+00,  4.35602634e-02,  6.61536853e-02,\n",
       "          1.11355208e-01,  1.29362977e-02, -2.76956522e-01,\n",
       "         -3.08246666e-02,  0.00000000e+00,  0.00000000e+00,\n",
       "         -1.51702745e-02, -3.27281667e-02,  2.66298236e-03,\n",
       "         -1.72124765e-01, -9.18489654e-02,  0.00000000e+00,\n",
       "          0.00000000e+00,  0.00000000e+00, -1.36995557e-01,\n",
       "         -2.38668212e-01, -1.27665557e-01, -7.34708900e-02,\n",
       "          1.57952944e-02,  1.13230734e-02,  0.00000000e+00,\n",
       "         -6.26175946e-03, -6.27736204e-02, -1.50537171e-02,\n",
       "         -7.10080277e-02, -1.04566556e-01,  5.63733901e-02,\n",
       "          9.94412764e-02,  1.03546808e-02, -2.08725315e-03,\n",
       "          5.95582574e-03,  2.11349596e-01,  1.87977693e-01,\n",
       "         -1.03676021e-02, -8.71625211e-02,  3.11606536e-02,\n",
       "          2.05346060e-02],\n",
       "        [-6.93889390e-17,  3.05715840e-02,  1.33336462e-01,\n",
       "          1.71193950e-03,  6.87164969e-02,  4.87462769e-02,\n",
       "          1.71634032e-03,  0.00000000e+00,  0.00000000e+00,\n",
       "          5.60040973e-02, -4.02047941e-02, -4.61509693e-02,\n",
       "         -3.14329629e-02,  3.43691053e-02,  4.88341423e-03,\n",
       "          0.00000000e+00, -1.30791748e-03, -1.53892918e-02,\n",
       "         -1.35297977e-01,  5.98929923e-02, -4.50313415e-02,\n",
       "         -1.86858135e-02,  3.02551807e-03, -1.12103877e-44,\n",
       "          5.60519386e-45, -7.13238233e-02, -1.34899393e-01,\n",
       "          2.32146557e-01, -6.99583726e-02, -1.30626663e-01,\n",
       "         -1.44544752e-03,  0.00000000e+00,  0.00000000e+00,\n",
       "         -7.10694997e-03,  1.01230957e-01,  3.77497488e-01,\n",
       "         -2.79900995e-01, -1.23142531e-01,  0.00000000e+00,\n",
       "          0.00000000e+00,  0.00000000e+00,  4.14399687e-02,\n",
       "          3.74015241e-01,  1.15687125e-01, -4.14097068e-01,\n",
       "         -7.10907985e-02, -1.84470424e-02,  0.00000000e+00,\n",
       "         -3.63121926e-04,  8.90350153e-02,  2.53446993e-01,\n",
       "         -1.15696735e-01, -1.84739298e-01, -1.18671147e-01,\n",
       "         -2.31304293e-01, -6.68877074e-02, -1.21040642e-04,\n",
       "          3.01433689e-02,  1.75449277e-01, -1.12611669e-02,\n",
       "          7.66320747e-02,  7.67180558e-02, -1.22153345e-01,\n",
       "         -1.14236007e-01]]),\n",
       " 3: array([[ 2.22044605e-16, -1.62646031e-02, -1.58412828e-01,\n",
       "         -2.49112261e-01, -2.38039275e-01, -1.10409860e-01,\n",
       "         -1.21837192e-02,  0.00000000e+00,  0.00000000e+00,\n",
       "         -6.09366141e-02, -2.18475740e-01, -1.65873752e-01,\n",
       "         -2.16337670e-01, -1.98110719e-01, -3.95407678e-02,\n",
       "          0.00000000e+00,  0.00000000e+00, -3.86894389e-02,\n",
       "         -7.67429586e-02, -5.80718249e-02, -2.21346557e-01,\n",
       "         -1.58358219e-01, -2.01563843e-02,  0.00000000e+00,\n",
       "          0.00000000e+00, -8.00423026e-03, -2.17689260e-02,\n",
       "         -1.38877187e-01, -2.66706316e-01, -1.16787553e-01,\n",
       "         -1.10026128e-03,  0.00000000e+00,  0.00000000e+00,\n",
       "         -5.70106213e-04, -8.97370945e-03, -8.07512812e-02,\n",
       "         -2.23903445e-01, -2.15678268e-01, -2.82292174e-02,\n",
       "          0.00000000e+00,  0.00000000e+00, -5.87428199e-03,\n",
       "         -2.12355166e-02, -4.94117985e-03, -7.61500061e-02,\n",
       "         -2.41359537e-01, -1.02469639e-01,  0.00000000e+00,\n",
       "          0.00000000e+00, -1.31345957e-02, -1.42175625e-01,\n",
       "         -1.43768060e-01, -1.69310390e-01, -2.34730701e-01,\n",
       "         -1.00248747e-01, -1.96778441e-03,  0.00000000e+00,\n",
       "         -1.48405289e-02, -1.80812011e-01, -2.51415622e-01,\n",
       "         -2.36909425e-01, -1.42028597e-01, -2.75780651e-02,\n",
       "         -2.94865260e-03],\n",
       "        [-1.94289029e-16, -4.89433436e-02, -2.10582620e-01,\n",
       "         -6.57179220e-02, -5.93540990e-02, -1.78708125e-01,\n",
       "         -5.08853302e-02,  0.00000000e+00,  0.00000000e+00,\n",
       "          9.20797184e-02,  1.68278745e-01,  1.18124255e-01,\n",
       "          5.52553543e-02, -2.75162399e-01, -1.71700774e-01,\n",
       "          0.00000000e+00, -3.85185989e-34,  1.61686482e-01,\n",
       "          2.94927875e-01,  1.01803694e-01,  9.65104576e-02,\n",
       "         -2.95177236e-01, -9.91963765e-02,  0.00000000e+00,\n",
       "         -2.13821177e-50,  4.13982601e-02,  9.67624814e-02,\n",
       "          2.03800473e-01,  1.02567223e-02, -1.18056795e-01,\n",
       "         -8.30022990e-04,  0.00000000e+00,  0.00000000e+00,\n",
       "          1.46176744e-03,  2.95819028e-02,  1.21486798e-01,\n",
       "         -9.20454074e-02,  1.07313119e-01,  6.63006301e-02,\n",
       "          0.00000000e+00,  0.00000000e+00,  2.24860745e-02,\n",
       "          7.81334813e-02, -6.88009703e-03, -2.52408618e-01,\n",
       "         -3.29055935e-02,  1.56422267e-01,  0.00000000e+00,\n",
       "          0.00000000e+00,  1.86726830e-02,  2.17240782e-01,\n",
       "          4.08401020e-02, -2.37743798e-01, -1.88036185e-02,\n",
       "          2.07019777e-01,  1.19093976e-02,  0.00000000e+00,\n",
       "         -5.03380808e-02, -2.29032097e-01, -4.28252219e-02,\n",
       "          1.61145664e-01,  2.71139413e-01,  1.17624368e-01,\n",
       "          1.72734291e-02],\n",
       "        [ 1.11022302e-16, -2.64183244e-02, -2.17690045e-01,\n",
       "         -1.34376702e-01,  1.67281972e-01,  2.32648201e-01,\n",
       "          3.93585563e-02,  0.00000000e+00,  1.35525272e-20,\n",
       "         -1.10641430e-01,  6.56852362e-02,  8.03014673e-02,\n",
       "         -1.92427721e-01,  2.77383861e-01,  9.75340011e-02,\n",
       "          0.00000000e+00,  0.00000000e+00,  1.52180239e-01,\n",
       "          2.03210371e-01, -1.79855163e-01, -1.90395029e-01,\n",
       "          3.03387329e-01,  5.97666179e-02,  0.00000000e+00,\n",
       "          0.00000000e+00,  9.11262231e-02,  6.75682661e-02,\n",
       "         -3.31233428e-01,  9.35698010e-02,  9.30017941e-02,\n",
       "          2.34213151e-03,  0.00000000e+00,  0.00000000e+00,\n",
       "          6.60949052e-04, -4.71946095e-02, -1.48573690e-01,\n",
       "          6.96153755e-02, -5.89077122e-02, -5.90640166e-02,\n",
       "          0.00000000e+00,  0.00000000e+00, -1.42517430e-02,\n",
       "         -2.16313688e-02,  3.10541409e-03,  9.97186928e-03,\n",
       "          8.10129599e-04, -5.27305791e-03,  0.00000000e+00,\n",
       "          0.00000000e+00, -1.81757263e-02,  8.65001794e-03,\n",
       "          8.72971494e-02, -1.17510974e-01, -1.93181834e-01,\n",
       "          1.73511808e-01,  2.63951741e-02,  0.00000000e+00,\n",
       "         -2.24178259e-02, -2.39070516e-01, -9.34102204e-02,\n",
       "          1.05609956e-01,  2.41314825e-01,  2.66055015e-01,\n",
       "          4.02690242e-02]]),\n",
       " 4: array([[ 0.00000000e+00,  0.00000000e+00, -5.74647651e-03,\n",
       "         -1.24942545e-01, -2.03367187e-01, -2.43417857e-02,\n",
       "          0.00000000e+00,  0.00000000e+00, -1.97215226e-31,\n",
       "         -6.36985816e-04, -5.38989178e-02, -2.31530824e-01,\n",
       "         -1.83335716e-01, -3.40413087e-02, -9.88643289e-04,\n",
       "          0.00000000e+00,  0.00000000e+00, -1.40855635e-02,\n",
       "         -1.69714587e-01, -2.23697283e-01, -1.37979669e-01,\n",
       "         -9.74998060e-02, -2.51638119e-02, -3.21781722e-04,\n",
       "         -3.20531489e-04, -7.50653412e-02, -2.51421355e-01,\n",
       "         -1.36615199e-01, -1.58516468e-01, -1.65281878e-01,\n",
       "         -7.69399911e-02,  0.00000000e+00,  0.00000000e+00,\n",
       "         -1.26382924e-01, -2.68712557e-01, -1.89908329e-01,\n",
       "         -2.45983144e-01, -2.41619204e-01, -8.66983745e-02,\n",
       "          0.00000000e+00,  0.00000000e+00, -7.36052444e-02,\n",
       "         -1.89898342e-01, -2.36611808e-01, -2.67752262e-01,\n",
       "         -1.72987704e-01, -3.73687098e-02,  0.00000000e+00,\n",
       "          0.00000000e+00, -5.52416181e-03, -2.30638697e-02,\n",
       "         -1.36221983e-01, -2.42108450e-01, -5.20061005e-02,\n",
       "         -9.20586411e-04,  0.00000000e+00,  0.00000000e+00,\n",
       "          0.00000000e+00, -8.44771681e-03, -1.30906540e-01,\n",
       "         -2.17511019e-01, -3.06660420e-02,  0.00000000e+00,\n",
       "          0.00000000e+00],\n",
       "        [ 1.66533454e-16,  0.00000000e+00,  3.12734640e-02,\n",
       "          2.88532925e-01, -1.08172644e-01, -8.46628769e-02,\n",
       "          0.00000000e+00,  0.00000000e+00,  4.23516474e-22,\n",
       "          2.04176128e-03,  2.21856309e-01,  1.59454544e-01,\n",
       "         -2.90337867e-01, -7.80727726e-02,  4.18482331e-03,\n",
       "          0.00000000e+00,  0.00000000e+00,  5.14749387e-02,\n",
       "          3.34486790e-01, -1.80373052e-01, -3.03697986e-01,\n",
       "         -9.42057386e-03,  8.21651607e-02,  1.97716388e-03,\n",
       "          7.16380880e-04,  1.87181174e-01,  1.05949950e-01,\n",
       "         -2.11530445e-01, -1.81338153e-01,  1.78393502e-01,\n",
       "          2.15257458e-01,  0.00000000e+00,  0.00000000e+00,\n",
       "          7.48217454e-02, -1.52223807e-03,  3.38092115e-02,\n",
       "          1.74123223e-02,  8.14544487e-02, -1.07372731e-02,\n",
       "          0.00000000e+00,  0.00000000e+00, -8.90068515e-02,\n",
       "         -9.86121145e-02,  8.24365740e-03, -1.38069529e-02,\n",
       "         -2.31095631e-01, -1.16189574e-01,  0.00000000e+00,\n",
       "          0.00000000e+00, -2.00649165e-02, -2.56849216e-02,\n",
       "          2.14602752e-01, -6.77100309e-02, -1.22598706e-01,\n",
       "         -4.84320279e-03,  0.00000000e+00,  0.00000000e+00,\n",
       "          0.00000000e+00,  4.78167936e-02,  3.13780469e-01,\n",
       "         -1.03474038e-01, -8.26760534e-02,  0.00000000e+00,\n",
       "          0.00000000e+00],\n",
       "        [-1.66533454e-16,  0.00000000e+00,  2.33459622e-02,\n",
       "          1.32286850e-01, -1.28364770e-01, -9.65970535e-03,\n",
       "          0.00000000e+00,  0.00000000e+00, -1.08420217e-19,\n",
       "          4.54012843e-03,  8.32692116e-02,  3.69303827e-02,\n",
       "         -8.87221970e-02,  4.31964762e-02, -3.15610502e-03,\n",
       "          0.00000000e+00, -1.57772181e-30,  3.44522636e-02,\n",
       "          3.77555621e-02, -1.21649878e-01,  3.41393424e-01,\n",
       "         -4.44281418e-04, -8.12621639e-02, -1.75168172e-04,\n",
       "          1.25076392e-03,  2.11599889e-02, -3.29748579e-02,\n",
       "          2.11053144e-02,  4.67441135e-01, -3.72268695e-01,\n",
       "         -1.86681998e-01,  0.00000000e+00,  0.00000000e+00,\n",
       "          4.70022814e-02, -5.48485697e-02,  2.06670192e-02,\n",
       "          1.48413663e-01, -1.66885130e-01,  2.84824420e-02,\n",
       "          0.00000000e+00,  0.00000000e+00,  1.90051225e-01,\n",
       "          1.64968674e-01,  9.15550513e-02, -7.37720755e-02,\n",
       "         -1.66511514e-01,  7.86229545e-02,  0.00000000e+00,\n",
       "          0.00000000e+00,  2.45195311e-02,  7.40828550e-02,\n",
       "          2.90241347e-01, -9.79215527e-02, -2.49639370e-01,\n",
       "          3.95047889e-03,  0.00000000e+00,  0.00000000e+00,\n",
       "          0.00000000e+00,  4.54863667e-02,  1.48848119e-01,\n",
       "         -1.97860498e-01, -1.40747976e-01,  0.00000000e+00,\n",
       "          0.00000000e+00]]),\n",
       " 5: array([[ 2.22044605e-16, -2.43757861e-02, -1.94252979e-01,\n",
       "         -2.19144179e-01, -2.28026087e-01, -2.06771489e-01,\n",
       "         -8.40416639e-02, -9.17999978e-04, -3.00535937e-04,\n",
       "         -7.47882503e-02, -2.77111371e-01, -2.21440804e-01,\n",
       "         -1.73588016e-01, -1.54202774e-01, -5.56500698e-02,\n",
       "         -9.17263453e-04,  0.00000000e+00, -8.96758850e-02,\n",
       "         -2.63108113e-01, -1.07622195e-01, -5.19180270e-02,\n",
       "         -2.28803553e-02, -1.42109641e-03,  0.00000000e+00,\n",
       "          0.00000000e+00, -7.94642098e-02, -2.56619472e-01,\n",
       "         -2.28609726e-01, -1.64591153e-01, -7.24413933e-02,\n",
       "         -7.64027666e-03,  0.00000000e+00,  0.00000000e+00,\n",
       "         -2.08135584e-02, -1.19929409e-01, -1.37277213e-01,\n",
       "         -1.54975055e-01, -1.26290544e-01, -1.93785678e-02,\n",
       "          0.00000000e+00,  0.00000000e+00, -4.65479438e-03,\n",
       "         -2.43522148e-02, -6.49222043e-02, -1.55881872e-01,\n",
       "         -1.52332503e-01, -2.17205088e-02,  0.00000000e+00,\n",
       "          0.00000000e+00, -1.74745002e-02, -1.32485335e-01,\n",
       "         -1.75203770e-01, -2.22702129e-01, -1.15351379e-01,\n",
       "         -9.92922482e-03,  0.00000000e+00,  0.00000000e+00,\n",
       "         -2.35647750e-02, -2.04685097e-01, -2.61264076e-01,\n",
       "         -1.56936778e-01, -2.83272692e-02, -4.56955639e-04,\n",
       "          0.00000000e+00],\n",
       "        [-5.55111512e-17,  7.21481961e-02,  1.34942100e-01,\n",
       "          6.22995016e-02,  1.82876627e-02, -4.32427237e-02,\n",
       "         -3.36123869e-02, -3.69672609e-03, -3.44287374e-05,\n",
       "          9.94807304e-02,  2.26425577e-03,  6.52117382e-02,\n",
       "          2.82160045e-02,  4.08180822e-02,  1.05334349e-02,\n",
       "          6.30992999e-04,  4.81482486e-35,  3.13538437e-02,\n",
       "          3.06755651e-02, -8.10630447e-02, -1.66636751e-01,\n",
       "         -7.31373512e-02,  9.28769436e-04, -4.37905770e-47,\n",
       "          0.00000000e+00, -4.59819391e-02, -2.71001569e-03,\n",
       "         -6.68334045e-02, -3.07158839e-01, -2.65913209e-01,\n",
       "         -3.33196725e-02,  0.00000000e+00,  0.00000000e+00,\n",
       "         -2.00622378e-02,  1.12160017e-01,  3.27198808e-01,\n",
       "          9.12617054e-02, -3.45983889e-01, -9.12549206e-02,\n",
       "          0.00000000e+00,  0.00000000e+00, -1.03207945e-02,\n",
       "          1.37576923e-02,  2.89615621e-01,  2.71046245e-01,\n",
       "         -3.09607821e-01, -9.77859391e-02,  0.00000000e+00,\n",
       "          0.00000000e+00,  1.12690271e-02, -2.52070708e-02,\n",
       "          2.17015058e-01,  3.99279904e-02, -2.78851247e-01,\n",
       "         -4.19154388e-02,  0.00000000e+00,  0.00000000e+00,\n",
       "          7.65127403e-02,  1.39212691e-01, -4.35174461e-02,\n",
       "         -2.33974521e-01, -8.92027537e-02, -1.86149943e-03,\n",
       "          0.00000000e+00],\n",
       "        [-8.32667268e-17, -1.46923188e-02, -8.23285708e-02,\n",
       "         -2.14184157e-01, -3.09772134e-01, -2.43968355e-01,\n",
       "          1.32458179e-02,  1.09780935e-03,  5.49096161e-04,\n",
       "         -9.71245779e-02, -7.50467525e-02,  2.22189983e-01,\n",
       "          2.86060302e-01,  2.17669414e-01,  9.39585174e-02,\n",
       "          1.11125102e-03,  0.00000000e+00, -1.87145626e-01,\n",
       "          1.90340498e-02,  2.72463767e-01,  5.97435927e-02,\n",
       "          2.86542281e-02,  1.51010794e-02,  0.00000000e+00,\n",
       "          0.00000000e+00, -1.55979001e-01, -1.20373345e-01,\n",
       "          6.70894159e-02,  1.28467175e-01, -1.92376723e-01,\n",
       "         -7.70319600e-02,  0.00000000e+00,  0.00000000e+00,\n",
       "         -8.22267140e-02, -2.55196052e-01,  8.88328162e-03,\n",
       "          3.65322210e-01,  5.67202796e-02, -1.19245208e-01,\n",
       "          0.00000000e+00,  0.00000000e+00, -8.77108393e-03,\n",
       "         -8.38652778e-02, -1.60112102e-01,  2.11875327e-01,\n",
       "          9.41583718e-02, -9.44526414e-02,  0.00000000e+00,\n",
       "          0.00000000e+00,  2.45816302e-03,  3.12196740e-02,\n",
       "          3.86430686e-02,  1.87371480e-01, -4.71150545e-02,\n",
       "         -2.93948015e-02,  0.00000000e+00,  0.00000000e+00,\n",
       "         -4.94393325e-02, -7.03737095e-02, -5.44831145e-02,\n",
       "         -3.59893789e-02, -3.69761129e-02, -3.74170282e-03,\n",
       "          0.00000000e+00]]),\n",
       " 6: array([[ 2.22044605e-16,  5.55111512e-17, -1.74551373e-02,\n",
       "         -1.81974238e-01, -1.93835955e-01, -4.21561775e-02,\n",
       "         -5.48533026e-04,  0.00000000e+00,  0.00000000e+00,\n",
       "         -2.96922269e-04, -1.28227290e-01, -2.51814558e-01,\n",
       "         -1.27600867e-01, -3.21718282e-02, -2.48176360e-03,\n",
       "          0.00000000e+00,  0.00000000e+00, -1.40464120e-02,\n",
       "         -2.25186111e-01, -1.62513378e-01, -1.58737800e-02,\n",
       "         -3.03961165e-03, -2.60901534e-04,  0.00000000e+00,\n",
       "          0.00000000e+00, -4.13745405e-02, -2.31968470e-01,\n",
       "         -1.36835156e-01, -5.77849288e-02, -2.65419636e-02,\n",
       "         -6.16669354e-04,  0.00000000e+00,  0.00000000e+00,\n",
       "         -6.16493678e-02, -2.55924471e-01, -2.21913626e-01,\n",
       "         -2.03204648e-01, -1.55277466e-01, -2.98461051e-02,\n",
       "          0.00000000e+00,  0.00000000e+00, -3.46569075e-02,\n",
       "         -2.57066055e-01, -1.89138707e-01, -1.16123090e-01,\n",
       "         -1.96707017e-01, -1.36405495e-01, -5.49017533e-04,\n",
       "          0.00000000e+00, -4.77356995e-03, -1.81995358e-01,\n",
       "         -2.31827521e-01, -1.18855063e-01, -2.03622003e-01,\n",
       "         -1.69351667e-01, -2.82063064e-03,  0.00000000e+00,\n",
       "          0.00000000e+00, -2.37725818e-02, -1.73104624e-01,\n",
       "         -2.49198146e-01, -2.13569666e-01, -7.81032178e-02,\n",
       "          0.00000000e+00],\n",
       "        [ 3.60822483e-16,  0.00000000e+00,  9.25917653e-02,\n",
       "          1.91476316e-01, -2.74015584e-01, -9.67521178e-02,\n",
       "         -2.96567644e-03,  0.00000000e+00,  0.00000000e+00,\n",
       "         -2.67111534e-04,  2.91642548e-01, -1.86485913e-02,\n",
       "         -3.33183755e-01, -9.80170988e-02, -1.32972754e-02,\n",
       "          0.00000000e+00, -1.97215226e-31,  1.77469365e-02,\n",
       "          2.12355232e-01, -3.53521239e-01, -1.01144888e-01,\n",
       "         -1.46603770e-02, -1.53110675e-03,  0.00000000e+00,\n",
       "          0.00000000e+00,  6.64950289e-02,  8.98036901e-02,\n",
       "         -4.28335279e-01, -1.83175750e-01, -9.11440043e-02,\n",
       "         -2.59626302e-03,  0.00000000e+00,  0.00000000e+00,\n",
       "          2.08618056e-02,  6.10347352e-02, -1.41254842e-01,\n",
       "          9.10293736e-02,  5.04112858e-02,  4.44790880e-03,\n",
       "          0.00000000e+00,  0.00000000e+00,  3.74473231e-02,\n",
       "          7.75105384e-02, -6.23937560e-02,  1.92899666e-02,\n",
       "         -5.24009084e-03,  1.20461481e-01,  8.58192957e-04,\n",
       "          0.00000000e+00,  1.44101622e-02,  2.17900905e-01,\n",
       "         -1.09338810e-01, -2.34821444e-01, -6.38885030e-02,\n",
       "          1.29092859e-01, -6.23023375e-03,  0.00000000e+00,\n",
       "          0.00000000e+00,  1.04379949e-01,  1.71610272e-01,\n",
       "          8.06363632e-02,  3.68862217e-02, -2.23122507e-02,\n",
       "          0.00000000e+00],\n",
       "        [ 8.32667268e-17,  1.11022302e-16, -6.04559760e-03,\n",
       "         -3.10966264e-02,  9.44929086e-02,  1.01443979e-01,\n",
       "          2.92258400e-03,  0.00000000e+00,  2.16840434e-19,\n",
       "         -2.06998746e-03,  3.97675467e-02,  1.96602358e-02,\n",
       "          6.10091603e-02,  1.20699363e-01,  1.53811736e-02,\n",
       "          0.00000000e+00, -6.31088724e-30,  4.12891706e-02,\n",
       "          5.11413187e-02, -1.54930943e-01, -3.03858081e-02,\n",
       "          2.16196909e-03, -7.68253625e-04,  0.00000000e+00,\n",
       "          0.00000000e+00,  8.58948945e-02, -1.77420411e-03,\n",
       "         -4.25124446e-02,  3.38981517e-01,  1.95115715e-01,\n",
       "          5.30930279e-03,  0.00000000e+00,  0.00000000e+00,\n",
       "          1.44675104e-01,  1.43941211e-02,  9.94029645e-02,\n",
       "          1.92863317e-01,  4.56384058e-01,  1.33869251e-01,\n",
       "          0.00000000e+00,  0.00000000e+00,  2.86731012e-02,\n",
       "          1.96369330e-02, -3.31972536e-01, -5.32913933e-01,\n",
       "         -9.48807792e-02,  1.20399197e-01, -2.96115818e-03,\n",
       "          0.00000000e+00, -8.42134240e-03,  1.89454895e-02,\n",
       "         -8.14781617e-02, -3.34319604e-02,  5.78351799e-02,\n",
       "         -1.29874108e-01, -1.93999871e-02,  0.00000000e+00,\n",
       "          0.00000000e+00, -2.50937576e-02, -6.41443666e-03,\n",
       "         -5.73280833e-02, -9.59812535e-02, -1.11964956e-01,\n",
       "          0.00000000e+00]]),\n",
       " 7: array([[ 0.00000000e+00, -5.55111512e-17, -7.87157145e-02,\n",
       "         -2.22897583e-01, -2.48407902e-01, -1.97108709e-01,\n",
       "         -9.89509274e-02, -2.94039766e-02, -1.57772181e-30,\n",
       "         -9.31863207e-03, -1.93994945e-01, -2.30121250e-01,\n",
       "         -2.08288749e-01, -2.21399565e-01, -1.20539341e-01,\n",
       "         -1.99380827e-02,  0.00000000e+00, -1.01206491e-02,\n",
       "         -7.49969113e-02, -4.48534990e-02, -1.14167557e-01,\n",
       "         -2.10711123e-01, -8.33027954e-02, -2.10778946e-03,\n",
       "          0.00000000e+00, -1.19797125e-02, -9.25383373e-02,\n",
       "         -9.79849815e-02, -1.97261729e-01, -2.40866389e-01,\n",
       "         -8.45663241e-02,  0.00000000e+00,  0.00000000e+00,\n",
       "         -3.18801203e-02, -1.69842611e-01, -2.28013023e-01,\n",
       "         -2.58721435e-01, -2.12108561e-01, -8.16204450e-02,\n",
       "          0.00000000e+00,  0.00000000e+00, -1.79292649e-02,\n",
       "         -9.48564754e-02, -1.98152088e-01, -2.15932585e-01,\n",
       "         -6.05369840e-02, -9.73747877e-03,  0.00000000e+00,\n",
       "          0.00000000e+00,  0.00000000e+00, -4.48384212e-02,\n",
       "         -2.40090758e-01, -1.30037506e-01, -3.92580519e-03,\n",
       "          0.00000000e+00,  0.00000000e+00,  0.00000000e+00,\n",
       "         -5.58294393e-04, -9.57626948e-02, -2.29445890e-01,\n",
       "         -5.08849082e-02, -3.03878115e-04,  0.00000000e+00,\n",
       "          0.00000000e+00],\n",
       "        [ 1.38777878e-17,  2.08166817e-16, -1.04148134e-01,\n",
       "         -7.21554542e-02, -1.29447909e-02,  2.09338089e-01,\n",
       "          3.20068545e-01,  1.39007506e-01,  0.00000000e+00,\n",
       "         -5.87697668e-03, -3.44347488e-02,  8.18569560e-02,\n",
       "         -4.29688862e-02,  9.03367070e-02,  3.72547424e-01,\n",
       "          1.08411472e-01,  1.20370622e-35,  4.33902797e-03,\n",
       "          2.07171600e-01,  7.24334044e-02, -2.95968359e-01,\n",
       "          1.23125005e-02,  2.56708679e-01,  1.16385882e-02,\n",
       "          0.00000000e+00,  2.78088632e-02,  2.32535539e-01,\n",
       "         -8.53672186e-02, -2.55561051e-01,  1.00891099e-01,\n",
       "         -2.47481319e-02,  0.00000000e+00,  0.00000000e+00,\n",
       "         -2.74315335e-02, -1.50693986e-01, -2.64037146e-01,\n",
       "         -6.39611318e-02,  2.58587798e-02, -7.64863284e-02,\n",
       "          0.00000000e+00,  0.00000000e+00, -5.59115495e-02,\n",
       "         -1.73555995e-01, -2.15993239e-01,  1.18586627e-01,\n",
       "          2.27746081e-02, -1.17674356e-02,  0.00000000e+00,\n",
       "          0.00000000e+00,  0.00000000e+00, -9.98598089e-02,\n",
       "         -6.60695100e-02,  2.09138233e-01,  6.06878069e-03,\n",
       "          0.00000000e+00,  0.00000000e+00,  0.00000000e+00,\n",
       "         -2.74880071e-03, -1.63834179e-01,  1.14682650e-01,\n",
       "          1.13971835e-01,  6.05065655e-04,  0.00000000e+00,\n",
       "          0.00000000e+00],\n",
       "        [ 4.16333634e-16,  0.00000000e+00,  1.63062217e-01,\n",
       "          1.31426636e-01, -8.50399240e-02, -1.03174688e-01,\n",
       "          1.57244589e-01,  8.77940323e-02, -1.08420217e-19,\n",
       "         -1.35351440e-02, -1.16142159e-02,  8.58628705e-02,\n",
       "          9.68217004e-02, -1.33771797e-01,  1.14243153e-01,\n",
       "          6.08771438e-02,  0.00000000e+00, -2.32863475e-02,\n",
       "          8.32781704e-02,  2.47305398e-01,  1.79889260e-01,\n",
       "         -8.73719437e-02,  1.32498087e-01,  8.52057265e-03,\n",
       "          0.00000000e+00,  1.94157431e-02,  3.19365438e-01,\n",
       "          2.34270690e-01,  1.08590245e-01,  2.24492266e-02,\n",
       "          1.35667363e-01,  0.00000000e+00,  0.00000000e+00,\n",
       "         -1.97364806e-02, -1.06556984e-01, -1.42309532e-01,\n",
       "         -8.01768407e-02, -2.97009243e-01, -1.99396552e-01,\n",
       "          0.00000000e+00,  0.00000000e+00, -2.01260400e-02,\n",
       "         -1.81279567e-01,  1.07254100e-01, -1.71629530e-01,\n",
       "         -2.47739399e-01, -4.60321705e-02,  0.00000000e+00,\n",
       "          0.00000000e+00,  0.00000000e+00,  1.55242227e-01,\n",
       "          2.11371844e-01, -2.69500369e-01, -3.34630593e-02,\n",
       "          0.00000000e+00,  0.00000000e+00,  0.00000000e+00,\n",
       "          5.02025793e-03,  2.54645915e-01, -6.12036325e-03,\n",
       "         -1.68331325e-01, -2.14626356e-03,  0.00000000e+00,\n",
       "          0.00000000e+00]]),\n",
       " 8: array([[ 2.22044605e-16, -1.23281535e-03, -6.69925189e-02,\n",
       "         -1.91175371e-01, -2.14805232e-01, -1.08510799e-01,\n",
       "         -7.85114396e-03,  0.00000000e+00,  0.00000000e+00,\n",
       "         -1.96495239e-02, -1.96519021e-01, -2.03288394e-01,\n",
       "         -1.65872633e-01, -2.10705297e-01, -3.94876482e-02,\n",
       "          0.00000000e+00,  0.00000000e+00, -3.89371363e-02,\n",
       "         -1.83737903e-01, -1.38964646e-01, -1.22136563e-01,\n",
       "         -2.20026467e-01, -3.77796992e-02,  0.00000000e+00,\n",
       "          0.00000000e+00, -1.40904676e-02, -1.21828358e-01,\n",
       "         -2.37266186e-01, -2.30735603e-01, -1.32030843e-01,\n",
       "         -7.73152621e-03,  0.00000000e+00,  0.00000000e+00,\n",
       "         -7.14383799e-03, -1.30160468e-01, -2.48410426e-01,\n",
       "         -2.27411903e-01, -7.26835918e-02, -9.13661167e-04,\n",
       "          0.00000000e+00,  0.00000000e+00, -2.51860249e-02,\n",
       "         -2.11098115e-01, -1.33609157e-01, -1.51114395e-01,\n",
       "         -1.52086672e-01, -2.08062636e-02,  0.00000000e+00,\n",
       "          0.00000000e+00, -1.74647325e-02, -2.12932540e-01,\n",
       "         -1.45478706e-01, -1.51370516e-01, -1.72623662e-01,\n",
       "         -4.32971543e-02,  0.00000000e+00,  0.00000000e+00,\n",
       "         -5.53007137e-04, -7.40422096e-02, -2.15487436e-01,\n",
       "         -2.23084083e-01, -1.29024862e-01, -2.99765543e-02,\n",
       "          0.00000000e+00],\n",
       "        [ 1.80411242e-16, -6.66873558e-03, -1.03305993e-01,\n",
       "         -4.11447661e-02,  3.40500630e-02,  6.15362707e-02,\n",
       "          5.11971791e-03,  0.00000000e+00,  0.00000000e+00,\n",
       "          2.90839184e-02,  4.75995015e-02, -1.17076118e-01,\n",
       "         -1.65534301e-01,  5.44685711e-02,  2.82919267e-02,\n",
       "          0.00000000e+00,  0.00000000e+00,  1.22635649e-01,\n",
       "          8.90863786e-02, -1.97315288e-01, -3.07717488e-01,\n",
       "          5.81480609e-02,  5.03630038e-02,  0.00000000e+00,\n",
       "          0.00000000e+00,  3.73651303e-02,  1.27698632e-01,\n",
       "         -9.44311486e-02,  2.66128825e-02,  2.00290628e-01,\n",
       "          1.84315172e-02,  0.00000000e+00,  0.00000000e+00,\n",
       "         -3.06199203e-02, -9.04890314e-02, -8.05814716e-02,\n",
       "          1.98287671e-01,  2.71217294e-01,  7.51304530e-03,\n",
       "          0.00000000e+00,  0.00000000e+00, -3.53202088e-02,\n",
       "         -7.99810120e-02, -5.15960771e-02, -2.61762962e-01,\n",
       "          3.42179323e-01,  1.14212264e-01,  0.00000000e+00,\n",
       "          0.00000000e+00, -1.67828070e-02, -1.20082662e-01,\n",
       "          5.19484498e-02, -3.15297711e-01,  2.49846301e-01,\n",
       "          1.98225662e-01,  0.00000000e+00,  0.00000000e+00,\n",
       "         -3.18300835e-03, -1.38334081e-01, -1.21475266e-01,\n",
       "          7.51738991e-02,  3.07332443e-01,  1.19510940e-01,\n",
       "          0.00000000e+00],\n",
       "        [-4.16333634e-17,  9.51435842e-03,  9.62104085e-02,\n",
       "          5.18790930e-02,  9.36541775e-03,  1.48458103e-01,\n",
       "          2.86117326e-02,  0.00000000e+00,  0.00000000e+00,\n",
       "          8.29551863e-02,  3.16469595e-01, -2.13699672e-01,\n",
       "         -1.28748130e-01, -2.73590029e-03,  1.22242906e-01,\n",
       "          0.00000000e+00,  0.00000000e+00,  1.78583124e-01,\n",
       "          3.38972051e-01, -3.78627078e-01, -1.71070238e-01,\n",
       "          7.75905350e-03,  5.44824059e-02,  0.00000000e+00,\n",
       "          0.00000000e+00,  7.62805444e-02,  4.18569160e-01,\n",
       "         -6.83785436e-02, -8.51381880e-02,  3.39176241e-02,\n",
       "         -8.63172311e-04,  0.00000000e+00,  0.00000000e+00,\n",
       "          5.24683314e-03,  2.04716757e-02,  3.52918961e-02,\n",
       "         -9.61493706e-02,  4.25686754e-03,  2.71326618e-03,\n",
       "          0.00000000e+00,  0.00000000e+00, -4.44787123e-02,\n",
       "         -1.43556181e-01,  1.46564022e-01,  4.79103804e-02,\n",
       "         -1.28065689e-01, -5.90695980e-04,  0.00000000e+00,\n",
       "          0.00000000e+00, -3.65588253e-03, -2.98584740e-02,\n",
       "         -1.79179029e-02,  1.73970414e-01, -1.45503747e-01,\n",
       "         -1.11762112e-01,  0.00000000e+00,  0.00000000e+00,\n",
       "          1.22551403e-03,  7.86910262e-02,  1.16375281e-01,\n",
       "         -9.27329724e-03, -2.68983882e-01, -1.82182774e-01,\n",
       "          0.00000000e+00]]),\n",
       " 9: array([[-3.33066907e-16, -9.48133775e-04, -9.38773173e-02,\n",
       "         -2.21714113e-01, -1.93750732e-01, -8.85120156e-02,\n",
       "         -1.13030848e-02,  0.00000000e+00,  0.00000000e+00,\n",
       "         -3.85005964e-02, -2.42466877e-01, -1.99625236e-01,\n",
       "         -1.91994918e-01, -1.93263664e-01, -3.20173907e-02,\n",
       "          0.00000000e+00,  0.00000000e+00, -7.06291037e-02,\n",
       "         -2.19131561e-01, -9.11041038e-02, -1.51988548e-01,\n",
       "         -2.47467508e-01, -4.55038843e-02,  0.00000000e+00,\n",
       "          0.00000000e+00, -3.95520463e-02, -1.79732205e-01,\n",
       "         -2.04576199e-01, -2.46596230e-01, -2.61676955e-01,\n",
       "         -5.41687744e-02,  0.00000000e+00,  0.00000000e+00,\n",
       "         -1.38714064e-03, -5.42985818e-02, -9.65276926e-02,\n",
       "         -1.10638400e-01, -2.19840833e-01, -7.50359376e-02,\n",
       "          0.00000000e+00,  0.00000000e+00, -1.28765050e-03,\n",
       "         -1.37807364e-02, -1.77862659e-02, -5.05411805e-02,\n",
       "         -1.71949358e-01, -1.07242143e-01,  0.00000000e+00,\n",
       "          0.00000000e+00, -1.45619726e-02, -1.31958108e-01,\n",
       "         -1.35769909e-01, -1.24772429e-01, -1.96869179e-01,\n",
       "         -1.02018406e-01, -1.61410228e-03,  0.00000000e+00,\n",
       "         -1.31081417e-03, -9.59997810e-02, -2.29331102e-01,\n",
       "         -2.33994069e-01, -1.55675601e-01, -3.63006343e-02,\n",
       "         -7.62423630e-04],\n",
       "        [-1.80411242e-16,  2.64096177e-03,  8.53393857e-02,\n",
       "          5.11883569e-02, -2.16951804e-01, -2.88830566e-01,\n",
       "         -6.27699660e-02,  0.00000000e+00,  0.00000000e+00,\n",
       "         -2.84986813e-02, -6.98432697e-02,  6.24921016e-02,\n",
       "          1.64282014e-01, -2.12879509e-01, -1.45306572e-01,\n",
       "          0.00000000e+00, -1.23259516e-32, -1.48732401e-01,\n",
       "         -9.57870042e-02,  2.66629769e-01,  2.01790344e-01,\n",
       "         -9.41517524e-02, -1.52358295e-01,  0.00000000e+00,\n",
       "          0.00000000e+00, -1.18018891e-01, -2.75925569e-01,\n",
       "         -2.45979126e-02, -4.68834958e-02, -1.02393037e-02,\n",
       "         -3.74372872e-02,  0.00000000e+00,  0.00000000e+00,\n",
       "         -2.70706806e-03, -8.97748504e-02, -1.36359661e-01,\n",
       "         -2.39871634e-01,  1.25392814e-01,  7.82466162e-02,\n",
       "          0.00000000e+00,  0.00000000e+00, -1.74247875e-03,\n",
       "         -7.79826590e-03, -1.05455495e-01, -2.69528902e-01,\n",
       "          1.59687611e-01,  1.97403803e-01,  0.00000000e+00,\n",
       "          0.00000000e+00, -1.79859274e-03,  3.65097617e-02,\n",
       "         -1.35787942e-01, -7.23632229e-02,  2.22898813e-01,\n",
       "          2.33301739e-01,  1.06520823e-02,  0.00000000e+00,\n",
       "          4.13756587e-03,  8.39183469e-02, -1.22006092e-03,\n",
       "          1.48749933e-01,  2.41756206e-01,  1.08817123e-01,\n",
       "          5.33215327e-03],\n",
       "        [-5.06539255e-16, -1.01020764e-03, -4.59422314e-02,\n",
       "         -5.55739618e-02,  8.00740476e-02, -1.30615635e-02,\n",
       "         -4.34763797e-02,  0.00000000e+00,  0.00000000e+00,\n",
       "          3.88678060e-02, -1.76731207e-02, -1.72695248e-01,\n",
       "         -4.83601276e-02,  1.40012921e-01, -7.42098406e-02,\n",
       "          0.00000000e+00,  0.00000000e+00,  9.65548650e-02,\n",
       "         -1.20347051e-01, -3.11631901e-01, -1.03716635e-01,\n",
       "         -5.17116016e-03, -5.14871824e-02,  0.00000000e+00,\n",
       "          0.00000000e+00,  8.22709613e-02,  1.08267215e-01,\n",
       "         -2.85727136e-01, -1.78877848e-01, -3.41855737e-02,\n",
       "          6.96990397e-02,  0.00000000e+00,  0.00000000e+00,\n",
       "          1.20970082e-02,  2.72325992e-01,  3.94908036e-01,\n",
       "          2.08196914e-02, -2.39351883e-02,  1.79890380e-01,\n",
       "          0.00000000e+00,  0.00000000e+00,  4.78853691e-03,\n",
       "          5.62308529e-02, -5.32757558e-02, -2.71196761e-01,\n",
       "         -3.51720210e-02,  1.48534652e-01,  0.00000000e+00,\n",
       "          0.00000000e+00,  1.34503537e-02,  3.70105814e-01,\n",
       "          8.57425743e-02, -1.90481638e-01,  1.42909386e-01,\n",
       "          1.35364506e-01, -1.05955977e-02,  0.00000000e+00,\n",
       "         -8.57568723e-03, -3.51932128e-03, -9.42511400e-02,\n",
       "          1.11474786e-01,  2.15155300e-01,  2.93294904e-02,\n",
       "         -4.77935085e-03]])}"
      ]
     },
     "execution_count": 55,
     "metadata": {},
     "output_type": "execute_result"
    }
   ],
   "source": [
    "def subspaces(labelled_data, k = 3):\n",
    "    subspaces = {}\n",
    "    for d, data in labelled_data.items():\n",
    "        _, _, z = np.linalg.svd(data, full_matrices=False)\n",
    "        if np.linalg.matrix_rank(data)>=k:\n",
    "            z_r = z[0:k]\n",
    "        else:\n",
    "            z_r = z[0:np.linalg.matrix_rank(data)]\n",
    "        subspaces[d]=z_r\n",
    "    return subspaces\n",
    "    \n",
    "subs=subspaces(labelled_data, 3)\n",
    "subs"
   ]
  },
  {
   "cell_type": "markdown",
   "metadata": {},
   "source": [
    "g) Create a function `classification(spaces, x)` that takes a dictionary such as produced by `subspaces` above and a single vector and produces the label of the subspace with the smallest norm-2-distance. In the task above, this would have meant that classifying $sample4$ would have produced the label 4 rather than 9, since $sample4$ was closer to the subspace $Z_4$ than the subspace $Z_9$."
   ]
  },
  {
   "cell_type": "code",
   "execution_count": 63,
   "metadata": {},
   "outputs": [
    {
     "data": {
      "text/plain": [
       "4"
      ]
     },
     "execution_count": 63,
     "metadata": {},
     "output_type": "execute_result"
    }
   ],
   "source": [
    "import math\n",
    "\n",
    "def classification(spaces, x):\n",
    "    label=0\n",
    "    dist=math.inf\n",
    "    for key, value in spaces.items():\n",
    "        sample = x @ value.T @ value\n",
    "        if np.linalg.norm(sample - x) < dist:\n",
    "            dist = np.linalg.norm(sample - x)\n",
    "            label = key\n",
    "    return label\n",
    "\n",
    "classification(subs, sample4)"
   ]
  },
  {
   "cell_type": "markdown",
   "metadata": {},
   "source": [
    "h) Now pick the first 600 rows as training and the remaining (about 1100) as validation sets. What percentage does the classifier get right? What happens if you pick $k = 5, 10, 100, 1000$? Try it out. (The sharp-eyed student will notice that not all of these choices make sense from a mathematical perspective.)"
   ]
  },
  {
   "cell_type": "code",
   "execution_count": 84,
   "metadata": {},
   "outputs": [
    {
     "name": "stdout",
     "output_type": "stream",
     "text": [
      "92.80936454849498\n",
      "95.90301003344482\n",
      "59.78260869565217\n",
      "59.78260869565217\n"
     ]
    }
   ],
   "source": [
    "validation_data = digits.data[600:-1, :]\n",
    "validation_labels = digits.target[600:-1]\n",
    "k_list = (5,10,100,1000)\n",
    "\n",
    "for k in k_list:\n",
    "    subs=subspaces(labelled_data, k)\n",
    "    correct=0\n",
    "    for i in range(len(validation_data)):\n",
    "        label = classification(subs, validation_data[i])\n",
    "        if label==validation_labels[i]:\n",
    "            correct+=1\n",
    "    print(100*correct/len(validation_data))\n"
   ]
  },
  {
   "cell_type": "markdown",
   "metadata": {},
   "source": [
    "# 7. Encapsulating the classifier"
   ]
  },
  {
   "cell_type": "markdown",
   "metadata": {},
   "source": [
    "Above we have a set of functions floating around in a global namespace. If we change some data and rerun some cells, we might get unexpected results. We instead want to encapsulate this in a single class."
   ]
  },
  {
   "cell_type": "markdown",
   "metadata": {},
   "source": [
    "a) Create a class `NaiveProjection`. It should have the following properties:\n",
    "* An instance is created with `NaiveProjection(training_data, training_labels, all_labels, k)` where $k$ is optional (and defaults to 3). \n",
    "\n",
    "For instance, we should be able to run ```dig_class = NaiveProjection(training_data = digits.data[0:600,:], training_labels = digits.target[0:600], all_labels = digits.target_names)```.\n",
    "* The class should have a method called `classification` which takes vector and returns the classification of that vector as defined above (minimum 2-norm distance to the subspace).\n",
    "* The class should have a method called `hitrate` which takes a matrix of row vectors, a vector of correct labels and returns the rate of successfully classified \n",
    "* All data about subspaces and labels should be stored within the instance. We may not use any data stored outside (though it is of course OK to call outside functions). We should be able to create two (or more) independent classifiers\n",
    "\n",
    "```\n",
    "dig15 = NaiveProjection(digits.data[0:600, :], digits.target[0:600], k = 15)\n",
    "dig1 = NaiveProjection(digits.data[0:600, :], digits.target[0:600], k = 1)\n",
    "```\n",
    "which should be entirely independent."
   ]
  },
  {
   "cell_type": "code",
   "execution_count": 93,
   "metadata": {},
   "outputs": [],
   "source": [
    "class NaiveProjection:\n",
    "    def __init__(self, training_data, training_labels, all_labels, k=3):\n",
    "        self.training_data = training_data   \n",
    "        self.training_labels = training_labels\n",
    "        self.all_labels = all_labels\n",
    "        self.k = k\n",
    "        self.subspaces = self.__subspaces__()\n",
    "        \n",
    "    def classification(self, x):\n",
    "        label=0\n",
    "        dist=math.inf\n",
    "        subspaces = self.subspaces\n",
    "        for key, value in subspaces.items():\n",
    "            sample = x @ value.T @ value\n",
    "            if np.linalg.norm(sample - x) < dist:\n",
    "                dist = np.linalg.norm(sample - x)\n",
    "                label = key\n",
    "        return label\n",
    "\n",
    "    def hitrate(self,m, labels):\n",
    "        correct=0\n",
    "        for i in range(len(m)):\n",
    "            label = self.classification(m[i])\n",
    "            if label==labels[i]:\n",
    "                correct+=1\n",
    "        return 100*correct/len(m)\n",
    "    \n",
    "    def __split_data__(self):\n",
    "        res = {}\n",
    "        for label in set(self.training_labels):\n",
    "            res[label] = self.training_data[training_labels == label]\n",
    "        return res\n",
    "    \n",
    "    def __subspaces__(self):\n",
    "        subspaces = {}\n",
    "        labelled_data = self.__split_data__()\n",
    "        for d, data in labelled_data.items():\n",
    "            _, _, z = np.linalg.svd(data, full_matrices=False)\n",
    "            if np.linalg.matrix_rank(data)>=self.k:\n",
    "                z_r = z[0:self.k]\n",
    "            else:\n",
    "                z_r = z[0:np.linalg.matrix_rank(data)]\n",
    "            subspaces[d]=z_r\n",
    "        return subspaces\n",
    "    \n",
    "    "
   ]
  },
  {
   "cell_type": "code",
   "execution_count": 94,
   "metadata": {},
   "outputs": [
    {
     "name": "stdout",
     "output_type": "stream",
     "text": [
      "Hit rate for k = 1: 84.7953216374269\n",
      "Hit rate for k = 15: 96.74185463659148\n"
     ]
    }
   ],
   "source": [
    "# You can test here\n",
    "dig1 = NaiveProjection(digits.data[0:600, :], digits.target[0:600], digits.target_names, k = 1)\n",
    "dig15 = NaiveProjection(digits.data[0:600, :], digits.target[0:600], digits.target_names, k = 15)\n",
    "\n",
    "print(f\"Hit rate for k = 1: {dig1.hitrate(digits.data[600:], digits.target[600:])}\")\n",
    "print(f\"Hit rate for k = 15: {dig15.hitrate(digits.data[600:], digits.target[600:])}\")"
   ]
  },
  {
   "cell_type": "markdown",
   "metadata": {},
   "source": [
    "There are several noteworthy issues here.\n",
    "* We have taken a few mathematical shortcuts.\n",
    "* There is no error handling. \n",
    "* We have not discussed overlapping subspaces, sampling strategies or the like.\n",
    "* It might make a lot more sense to classify a matrix of vectors, rather than a single vector (to utilise the speed of computations). \n",
    "\n",
    "Most of this is left to an actual statistics course. The interested reader is referred to for instance Strang - Linear algebra and learning from data, or Golub & van Loan - Matrix computations."
   ]
  },
  {
   "cell_type": "markdown",
   "metadata": {},
   "source": [
    "b) Experiment with different values of $k$ and training data/validation data sets. Plot the results using the library ```matplotlib```."
   ]
  },
  {
   "cell_type": "code",
   "execution_count": 100,
   "metadata": {},
   "outputs": [
    {
     "data": {
      "image/png": "[encoded data removed]",
      "text/plain": [
       "<Figure size 432x288 with 1 Axes>"
      ]
     },
     "metadata": {
      "needs_background": "light"
     },
     "output_type": "display_data"
    }
   ],
   "source": [
    "res = []\n",
    "for k in range(0,70,3):\n",
    "    dig = NaiveProjection(digits.data[0:600, :], digits.target[0:600], digits.target_names, k)\n",
    "    hitrate = dig.hitrate(digits.data[600:], digits.target[600:])\n",
    "    res.append(hitrate)\n",
    "  \n",
    "plt.plot(res)\n",
    "plt.ylabel('hitrates')\n",
    "plt.show()"
   ]
  },
  {
   "cell_type": "markdown",
   "metadata": {},
   "source": [
    "## Acknowledgments"
   ]
  },
  {
   "cell_type": "markdown",
   "metadata": {},
   "source": [
    "This lab in 732A74 is by Anders Märak Leffler (2019), with a major revision in 2020. The introductory text is by Johan Falkenjack (2018).\n",
    "\n",
    "Licensed under [CC-BY-SA 4.0](https://creativecommons.org/licenses/by-sa/4.0/)."
   ]
  }
 ],
 "metadata": {
  "anaconda-cloud": {},
  "kernelspec": {
   "display_name": "Python 3",
   "language": "python",
   "name": "python3"
  },
  "language_info": {
   "codemirror_mode": {
    "name": "ipython",
    "version": 3
   },
   "file_extension": ".py",
   "mimetype": "text/x-python",
   "name": "python",
   "nbconvert_exporter": "python",
   "pygments_lexer": "ipython3",
   "version": "3.7.4"
  }
 },
 "nbformat": 4,
 "nbformat_minor": 2
}
