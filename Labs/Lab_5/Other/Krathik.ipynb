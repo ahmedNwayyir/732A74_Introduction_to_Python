{
 "cells": [
  {
   "cell_type": "markdown",
   "metadata": {},
   "source": [
    "# Lab 5: Simple OOP and numpy\n"
   ]
  },
  {
   "cell_type": "markdown",
   "metadata": {},
   "source": [
    "__Student:__ Karde799 (Karthikeyan Devarajan)\n",
    "\n",
    "__Student:__ Sresa472 (Sreenand Sasikumar)"
   ]
  },
  {
   "cell_type": "markdown",
   "metadata": {},
   "source": [
    "# 2. Introduction"
   ]
  },
  {
   "cell_type": "markdown",
   "metadata": {},
   "source": [
    "## Object-oriented Programming"
   ]
  },
  {
   "cell_type": "markdown",
   "metadata": {},
   "source": [
    "The point of Object-oriented Programming is to support encapsulation and the DRY (Don't Repeat Yourself) principle without things getting out of hand. Often, software architects (those high-level programmers who are responsible for how large systems are designed on a technical level) talk about Object-oriented design or Object-oriented analysis. The point of this is to identify the necessary _objects_ in a system. An object in this sense is not exactly the same as a Python object but rather a somewhat higher level logical unit which can reasonably be thought of as an independent component within the system. These high level objects might then be further subdivided into smaller and smaller objects and at a some level the responsibility shifts from the system architect to the team or individual developer working on a specific component. Thus, Object-oriented thinking is necessary for anyone developing code which will be integrated with a larger system, for instance a data scientist implementing analytics tools."
   ]
  },
  {
   "cell_type": "markdown",
   "metadata": {},
   "source": [
    "## OOP in Python"
   ]
  },
  {
   "cell_type": "markdown",
   "metadata": {},
   "source": [
    "Python implements the Object-oriented paradigm to a somewhat larger degree than the Functional paradigm. However, there are features considered necessary for _strict_ object-oriented programming missing from Python. Mainly, we are talking about data protection. Not in a software security sense, but in the sense of encapsulation. There is no simple way to strictly control access to member variables in Python. This does not affect this lab in any way but is worth remembering if one has worked in a language such as Java previously."
   ]
  },
  {
   "cell_type": "markdown",
   "metadata": {},
   "source": [
    "# 3. Simple instance tests in Python"
   ]
  },
  {
   "cell_type": "markdown",
   "metadata": {},
   "source": [
    "Note: some of these questions will be extremely simple, and some might prove trickier. Don't expect that the answer needs to be hard."
   ]
  },
  {
   "cell_type": "code",
   "execution_count": 1,
   "metadata": {},
   "outputs": [],
   "source": [
    "class Person:\n",
    "    def __init__(self, name):\n",
    "        self.name = name\n",
    "        self.age = 0            # Age should be non-negative.\n",
    "        \n",
    "    def get_age(self):\n",
    "        \"\"\"Return the Person's age, a non-negative number.\"\"\"\n",
    "        return self.age\n",
    "    \n",
    "    def return_five(self):\n",
    "        \"\"\"Return 5. Dummy function.\"\"\"\n",
    "        return 5\n",
    "\n",
    "Jackal = Person \n",
    "\n",
    "president = Person(\"Jeb\")\n",
    "psec = Jackal(\"CJ Cregg\")"
   ]
  },
  {
   "cell_type": "markdown",
   "metadata": {},
   "source": [
    "a) Change the age of the `president` to 65 (`psec` should be unaffected)."
   ]
  },
  {
   "cell_type": "code",
   "execution_count": 2,
   "metadata": {
    "tags": []
   },
   "outputs": [
    {
     "output_type": "stream",
     "name": "stdout",
     "text": "65\n"
    }
   ],
   "source": [
    "president.get_age = 65\n",
    "print(president.get_age)"
   ]
  },
  {
   "cell_type": "markdown",
   "metadata": {},
   "source": [
    "[Note: This mode of operation is sometimes considered poor OOP. We will remedy this later.]"
   ]
  },
  {
   "cell_type": "markdown",
   "metadata": {},
   "source": [
    "b) How many `Person` instances are there? One, two or three?"
   ]
  },
  {
   "cell_type": "code",
   "execution_count": 3,
   "metadata": {},
   "outputs": [
    {
     "output_type": "execute_result",
     "data": {
      "text/plain": "'There are two instances in this class Person. One is president and other is psec. The Jackal is just a type so when defining the psec it gets classified as person instances'"
     },
     "metadata": {},
     "execution_count": 3
    }
   ],
   "source": [
    "\"\"\"There are two instances in this class Person. One is president and other is psec. The Jackal is just a type so when defining the psec it gets classified as person instances\"\"\""
   ]
  },
  {
   "cell_type": "markdown",
   "metadata": {},
   "source": [
    "c) Consider the following code snippets. What do you think that they will return, and why? Discuss amongst yourselves. After that, run the code and explain the output. You only need to write down your explanation of the output."
   ]
  },
  {
   "cell_type": "code",
   "execution_count": 4,
   "metadata": {},
   "outputs": [
    {
     "output_type": "execute_result",
     "data": {
      "text/plain": "False"
     },
     "metadata": {},
     "execution_count": 4
    }
   ],
   "source": [
    "\"Jeb\" is Person"
   ]
  },
  {
   "cell_type": "code",
   "execution_count": 5,
   "metadata": {
    "scrolled": true
   },
   "outputs": [
    {
     "output_type": "execute_result",
     "data": {
      "text/plain": "False"
     },
     "metadata": {},
     "execution_count": 5
    }
   ],
   "source": [
    "president is Person"
   ]
  },
  {
   "cell_type": "code",
   "execution_count": 6,
   "metadata": {},
   "outputs": [
    {
     "output_type": "execute_result",
     "data": {
      "text/plain": "'Jeb is a name attribute for presicdent object which is of class Person. The president is an object of class Person. So both the code will be False.'"
     },
     "metadata": {},
     "execution_count": 6
    }
   ],
   "source": [
    "\"\"\"Jeb is a name attribute for presicdent object which is of class Person. The president is an object of class Person. So both the code will be False.\"\"\""
   ]
  },
  {
   "cell_type": "markdown",
   "metadata": {},
   "source": [
    "d) How would you go about checking whether or not the value bound to the name `president` is-a `Person`?"
   ]
  },
  {
   "cell_type": "code",
   "execution_count": 7,
   "metadata": {
    "tags": []
   },
   "outputs": [
    {
     "output_type": "stream",
     "name": "stdout",
     "text": "True\n"
    },
    {
     "output_type": "execute_result",
     "data": {
      "text/plain": "'The type for president is Person. so this signifies that persident is object of Person.'"
     },
     "metadata": {},
     "execution_count": 7
    }
   ],
   "source": [
    "print(isinstance(president, Person))\n",
    "\"\"\"The type for president is Person. so this signifies that persident is object of Person.\"\"\""
   ]
  },
  {
   "cell_type": "markdown",
   "metadata": {},
   "source": [
    "# 4. Subclasses"
   ]
  },
  {
   "cell_type": "markdown",
   "metadata": {},
   "source": [
    "a) Create class `Employee`, a subclass of `Person` with data attributes (fields) \n",
    "* `__work_days_accrued`\n",
    "* `__daily_salary`. \n",
    "\n",
    "These should be *the only* data attributes which you write in your class definition. In particular, you may not duplicate `name` and `age`.\n",
    "\n",
    "There should be methods\n",
    "* `work` which increments the number of work days accrued.\n",
    "* `expected_payout` which just returns the expected payout for the employee based on the accrued work days and daily salary (but without doing any resets).\n",
    "* `payout` which returns the accrued salary and resets the number of work days accrued. The `payout` function may not perform any calculations itself."
   ]
  },
  {
   "cell_type": "code",
   "execution_count": 8,
   "metadata": {
    "tags": []
   },
   "outputs": [
    {
     "output_type": "stream",
     "name": "stdout",
     "text": "--- Setting up test cases.\n--- Testing payout and expected_payout properties.\nOK\n--- Testing non-data-accessing calls to superclass methods.\nOK\n--- Testing data that should be set up by initialiser call.\nOK\n"
    }
   ],
   "source": [
    "class Employee(Person):\n",
    "    \n",
    "        def __init__(self,name, work_days_accured=0,daily_salary=15):\n",
    "            Person.__init__(self,name)\n",
    "            self.__work_days_accured = work_days_accured\n",
    "            self.__daily_salary = daily_salary\n",
    "            \n",
    "        def work(self):\n",
    "            self.__work_days_accured=self.__work_days_accured+1\n",
    "            \n",
    "        def expected_payout(self):\n",
    "            return self.__work_days_accured*self.__daily_salary\n",
    "        \n",
    "        def payout(self):\n",
    "            a=self.expected_payout()\n",
    "            self.__work_days_accured=0\n",
    "            return a\n",
    "\n",
    "# Ready-made tests.\n",
    "print(\"--- Setting up test cases.\")\n",
    "cleaner = Employee(name = \"Scruffy\")  # Should have daily_salary 15.\n",
    "josh = Employee(name = \"Josh\", daily_salary = 1000)\n",
    "toby = Employee(name = \"Toby\", daily_salary = 9999)\n",
    "\n",
    "josh.work()\n",
    "josh.work()\n",
    "toby.work()\n",
    "toby.work()\n",
    "toby.work()\n",
    "cleaner.work()\n",
    "print(\"--- Testing payout and expected_payout properties.\")\n",
    "assert cleaner.expected_payout() == 15, \"default salary should be 15\"\n",
    "assert josh.expected_payout() == 1000*2\n",
    "assert josh.payout() == 1000*2\n",
    "assert josh.expected_payout() == 0, \"salary should be reset afterwards\"\n",
    "assert toby.payout() == 9999*3, \"toby and josh instances should be independent.\"\n",
    "print(\"OK\")\n",
    "\n",
    "print(\"--- Testing non-data-accessing calls to superclass methods.\")\n",
    "assert josh.return_five() == 5, \"Person.return_five should be accessible\"\n",
    "print(\"OK\")\n",
    "\n",
    "print(\"--- Testing data that should be set up by initialiser call.\")\n",
    "assert josh.get_age() == 0, \"superclass method should be callable, values should not be missing.\"\n",
    "josh.age = 9\n",
    "assert josh.get_age() == 9, \"superclass method should be callable\"\n",
    "print(\"OK\")"
   ]
  },
  {
   "cell_type": "markdown",
   "metadata": {},
   "source": [
    "b) Which public data attributes (fields) does an `Employee` have? Can you access the age of an employee directly (without some transformation of the name)? The daily salary?"
   ]
  },
  {
   "cell_type": "code",
   "execution_count": 9,
   "metadata": {},
   "outputs": [
    {
     "output_type": "execute_result",
     "data": {
      "text/plain": "<__main__.Employee at 0x2789a4b6a08>"
     },
     "metadata": {},
     "execution_count": 9
    }
   ],
   "source": [
    "# Answer here.\n",
    "\"\"\"Here name and age are the attributes have been describeed as public attributes.These are attributes of Person but for Employee every attributes are private variable.\"\"\"\n",
    "josh"
   ]
  },
  {
   "cell_type": "markdown",
   "metadata": {},
   "source": [
    "# 5. Introductory numpy"
   ]
  },
  {
   "cell_type": "markdown",
   "metadata": {},
   "source": [
    "A lot of computations will likely end up using data stored `numpy` arrays. Therefore, it is a good idea to have a feeling for how they are used and manipulated. The following steps will provide some introduction, so that we can build upon this in future labs.\n",
    "\n",
    "You may want to refer to the [official numpy.org absolute beginners guide to numpy](https://numpy.org/devdocs/user/absolute_beginners.html)."
   ]
  },
  {
   "cell_type": "markdown",
   "metadata": {},
   "source": [
    "a) Import the module `numpy`, giving it the shorthand `np`."
   ]
  },
  {
   "cell_type": "code",
   "execution_count": 10,
   "metadata": {},
   "outputs": [],
   "source": [
    "import numpy as np"
   ]
  },
  {
   "cell_type": "markdown",
   "metadata": {},
   "source": [
    "b) Create the $2 \\times 3$ matrix $A = \\begin{bmatrix}1 & 2 & 3 \\\\ 0 & 0 & 1\\end{bmatrix}$"
   ]
  },
  {
   "cell_type": "code",
   "execution_count": 11,
   "metadata": {
    "tags": []
   },
   "outputs": [
    {
     "output_type": "stream",
     "name": "stdout",
     "text": "[[1 2 3]\n [0 0 1]]\n"
    }
   ],
   "source": [
    "A = np.matrix([[1, 2, 3], [0, 0, 1]])\n",
    "print(A)"
   ]
  },
  {
   "cell_type": "markdown",
   "metadata": {},
   "source": [
    "c) Create the vector $b = \\begin{bmatrix}1\\\\ 2 \\\\ 3 \\end{bmatrix}$"
   ]
  },
  {
   "cell_type": "code",
   "execution_count": 12,
   "metadata": {
    "tags": []
   },
   "outputs": [
    {
     "output_type": "stream",
     "name": "stdout",
     "text": "[[1]\n [2]\n [3]]\n"
    }
   ],
   "source": [
    "b = np.matrix([[1],[2],[3]])\n",
    "print(b)"
   ]
  },
  {
   "cell_type": "markdown",
   "metadata": {},
   "source": [
    "d) Perform the multiplication $Ab$. What is the result?"
   ]
  },
  {
   "cell_type": "code",
   "execution_count": 13,
   "metadata": {
    "tags": []
   },
   "outputs": [
    {
     "output_type": "stream",
     "name": "stdout",
     "text": "[[14]\n [ 3]]\n"
    }
   ],
   "source": [
    "c = A.dot(b)\n",
    "print(c)"
   ]
  },
  {
   "cell_type": "markdown",
   "metadata": {},
   "source": [
    "e) Mathematically, what should the dimensions of $b^Tb$ be? What should the dimensions of $bb^T$ be?"
   ]
  },
  {
   "cell_type": "code",
   "execution_count": 14,
   "metadata": {},
   "outputs": [
    {
     "output_type": "execute_result",
     "data": {
      "text/plain": "'\\nThe size of 𝑏𝑇𝑏 will be 1*1 because the size of bT is 1*3 and size of b is 3*1. so the result will be 1*1. However the size of bbT will be 3*3.\\n'"
     },
     "metadata": {},
     "execution_count": 14
    }
   ],
   "source": [
    "\"\"\"\n",
    "The size of 𝑏𝑇𝑏 will be 1*1 because the size of bT is 1*3 and size of b is 3*1. so the result will be 1*1. However the size of bbT will be 3*3.\n",
    "\"\"\""
   ]
  },
  {
   "cell_type": "markdown",
   "metadata": {},
   "source": [
    "f) Compute ```b.T @ b```? ```b @ b.T``` in numpy. How would you go about calculating $bb^T$ (if you wanted to actually store it as a matrix, which is rarely the most space- or time-efficient idea)?"
   ]
  },
  {
   "cell_type": "code",
   "execution_count": 15,
   "metadata": {
    "tags": []
   },
   "outputs": [
    {
     "output_type": "stream",
     "name": "stdout",
     "text": "[[14]]\n[[1 2 3]\n [2 4 6]\n [3 6 9]]\n"
    }
   ],
   "source": [
    "b_transpose = b.transpose()\n",
    "q = b_transpose.dot(b)\n",
    "print(q)\n",
    "z = b.dot(b_transpose)\n",
    "print(z)"
   ]
  },
  {
   "cell_type": "markdown",
   "metadata": {},
   "source": [
    "Note: as `a @ b` is read `a.dot(b)` this should perhaps not be entirely surprising. But it is non-obvious."
   ]
  },
  {
   "cell_type": "markdown",
   "metadata": {},
   "source": [
    "d) Try to solve the equation $Ax = b$ using the `solve` method. Does this make mathematical sense? What does numpy say? Read the error message."
   ]
  },
  {
   "cell_type": "code",
   "execution_count": 16,
   "metadata": {},
   "outputs": [],
   "source": [
    "#x = np.linalg.solve(A,b)"
   ]
  },
  {
   "cell_type": "code",
   "execution_count": 17,
   "metadata": {},
   "outputs": [
    {
     "output_type": "execute_result",
     "data": {
      "text/plain": "'The error is because the two matrix are not symmetric. Solve is also used to find the unknown values in a equation. In this case, There is in need for inverse while solving the equation. Inverse can be done only for symmetric matrix.'"
     },
     "metadata": {},
     "execution_count": 17
    }
   ],
   "source": [
    "\"\"\"The error is because the two matrix are not symmetric. Solve is also used to find the unknown values in a equation. In this case, There is in need for inverse while solving the equation. Inverse can be done only for symmetric matrix.\"\"\""
   ]
  },
  {
   "cell_type": "markdown",
   "metadata": {},
   "source": [
    "e) Try to solve the equation $A^Tx = b$ using numpy. Does this make mathematical sense? What does numpy say?"
   ]
  },
  {
   "cell_type": "code",
   "execution_count": 18,
   "metadata": {},
   "outputs": [],
   "source": [
    "#e = np.linalg.solve(A.T,b)"
   ]
  },
  {
   "cell_type": "code",
   "execution_count": 19,
   "metadata": {},
   "outputs": [
    {
     "output_type": "execute_result",
     "data": {
      "text/plain": "'\\n    \\nIt show same error. It also undergoes the same reason that is the A matrix is not a square matrix. \\n\\n'"
     },
     "metadata": {},
     "execution_count": 19
    }
   ],
   "source": [
    "\"\"\"\n",
    "    \n",
    "It show same error. It also undergoes the same reason that is the A matrix is not a square matrix. \n",
    "\n",
    "\"\"\""
   ]
  },
  {
   "cell_type": "markdown",
   "metadata": {},
   "source": [
    "f) One of the two tasks above make sense from a mathematical point of view. Find a best solution $x$ in the least squares sense."
   ]
  },
  {
   "cell_type": "code",
   "execution_count": 20,
   "metadata": {},
   "outputs": [
    {
     "output_type": "execute_result",
     "data": {
      "text/plain": "'A.T*x = b will make more sense because because the dimension of A.T is 3*1 and dimension of x is 1*3. '"
     },
     "metadata": {},
     "execution_count": 20
    }
   ],
   "source": [
    "\"\"\"A.T*x = b will make more sense because because the dimension of A.T is 3*1 and dimension of x is 1*3. \"\"\" "
   ]
  },
  {
   "cell_type": "code",
   "execution_count": 21,
   "metadata": {},
   "outputs": [],
   "source": [
    "x = np.linalg.lstsq(A.transpose(),b,rcond=None)[0]"
   ]
  },
  {
   "cell_type": "markdown",
   "metadata": {},
   "source": [
    "g) Is the resulting $Ax$ or $A^Tx$ (depending on your choice above) close to $b$? What is the norm-2-distance between the vectors?"
   ]
  },
  {
   "cell_type": "code",
   "execution_count": 22,
   "metadata": {},
   "outputs": [
    {
     "output_type": "execute_result",
     "data": {
      "text/plain": "1.159106867033638e-15"
     },
     "metadata": {},
     "execution_count": 22
    }
   ],
   "source": [
    "L2_norm = np.linalg.norm(A.T*x - b)\n",
    "L2_norm"
   ]
  },
  {
   "cell_type": "markdown",
   "metadata": {},
   "source": [
    "Just to get some practice, run the following to get some test data:"
   ]
  },
  {
   "cell_type": "code",
   "execution_count": 23,
   "metadata": {},
   "outputs": [],
   "source": [
    "import sklearn\n",
    "import sklearn.datasets as ds\n",
    "houses = ds.fetch_california_housing()"
   ]
  },
  {
   "cell_type": "markdown",
   "metadata": {},
   "source": [
    "h) How many rows does the dataset have? Columns? Find out using numpy. (First check what `houses` actually is)"
   ]
  },
  {
   "cell_type": "code",
   "execution_count": 24,
   "metadata": {
    "tags": []
   },
   "outputs": [
    {
     "output_type": "stream",
     "name": "stdout",
     "text": "(20640, 8)\n"
    },
    {
     "output_type": "execute_result",
     "data": {
      "text/plain": "'Bunch objects are sometimes used as an output for functions and methods. There are 20640 rows and 8 columns'"
     },
     "metadata": {},
     "execution_count": 24
    }
   ],
   "source": [
    "print(houses.data.shape)\n",
    "\"\"\"Bunch objects are sometimes used as an output for functions and methods. There are 20640 rows and 8 columns\"\"\""
   ]
  },
  {
   "cell_type": "markdown",
   "metadata": {},
   "source": [
    "i) Get the third column (remember: indexing starts at zero, so column number 2) of the dataset by indexing/slicing."
   ]
  },
  {
   "cell_type": "code",
   "execution_count": 25,
   "metadata": {
    "tags": []
   },
   "outputs": [
    {
     "output_type": "stream",
     "name": "stdout",
     "text": "[[6.98412698]\n [6.23813708]\n [8.28813559]\n ...\n [5.20554273]\n [5.32951289]\n [5.25471698]]\n"
    }
   ],
   "source": [
    "third_column = houses.data[:,[2]]\n",
    "print(third_column)"
   ]
  },
  {
   "cell_type": "markdown",
   "metadata": {},
   "source": [
    "j) Get the values of the third, fourth and hundredrth rows (that is, index 2, 3, 99)."
   ]
  },
  {
   "cell_type": "code",
   "execution_count": 26,
   "metadata": {},
   "outputs": [],
   "source": [
    "three_column = houses.data[[2,3,99],:]"
   ]
  },
  {
   "cell_type": "markdown",
   "metadata": {},
   "source": [
    "k) Mathematical sanity check: without actually computing the rank of ```houses.data```, can you provide a bound? Could it have $10^{15}$ linearly independent rows? 2000? Etc. Write down the tightest bound you can find, and explain why briefly."
   ]
  },
  {
   "cell_type": "code",
   "execution_count": 27,
   "metadata": {},
   "outputs": [
    {
     "output_type": "execute_result",
     "data": {
      "text/plain": "'consider the size of matrix to be m * n, then rank(A) is min(m, n). Here, the minimum vaue is 8. so that is the rank. Since, the maximum rows is 20640 there cannot be 10^15 linearly independant rows.'"
     },
     "metadata": {},
     "execution_count": 27
    }
   ],
   "source": [
    "\"\"\"consider the size of matrix to be m * n, then rank(A) is min(m, n). Here, the minimum vaue is 8. so that is the rank. Since, the maximum rows is 20640 there cannot be 10^15 linearly independant rows.\"\"\""
   ]
  },
  {
   "cell_type": "markdown",
   "metadata": {},
   "source": [
    "l) Find out the actual rank of the matrix using numpy. "
   ]
  },
  {
   "cell_type": "code",
   "execution_count": 28,
   "metadata": {
    "tags": []
   },
   "outputs": [
    {
     "output_type": "stream",
     "name": "stdout",
     "text": "8\n"
    }
   ],
   "source": [
    "rank = np.linalg.matrix_rank(houses.data)\n",
    "print(rank)"
   ]
  },
  {
   "cell_type": "markdown",
   "metadata": {},
   "source": [
    "# 6. A simple classifier"
   ]
  },
  {
   "cell_type": "markdown",
   "metadata": {},
   "source": [
    "Our goal in this section is to build a naïve subspace-projection based classifier which takes a numerical vector and produces a label. We will build this from the ground up (there are many libraries that perform this automatically, but may not use them in this case).\n",
    "\n",
    "We will first practice our numpy (and linear algebra) skills to build the algorithm, and then encapsulate data and methods in a class. We will be taking a slightly different route than more general SVD methods for finding principal components, simply because this is not our task. This is worth remembering if you find material on the subject!\n",
    "\n",
    "The main idea here is to pick out all the data corresponding to a certain set of vectors, and reduce this matrix to some rank $\\leq k$ matrix which is a good approximation of the row space in some sense (here: the sense that the vectors correspond to maximal singular values). A naïve classification is then given by picking the subspace which is closest by orthogonal projection."
   ]
  },
  {
   "cell_type": "markdown",
   "metadata": {},
   "source": [
    "## The dataset"
   ]
  },
  {
   "cell_type": "markdown",
   "metadata": {},
   "source": [
    "First, we will import some data. Here we use the classic MNIST data set of handwritten digits. We can naturally partition the sets of vectors used for training and validation in many ways. Feel free to experiment with a nicer (possibly non-deterministic) version later. This is only to get us started, and to have a set of data with known properties (which is helpful for lab assistants)."
   ]
  },
  {
   "cell_type": "code",
   "execution_count": 29,
   "metadata": {},
   "outputs": [],
   "source": [
    "import sklearn.datasets as ds\n",
    "digits = ds.load_digits()\n",
    "training_digits = digits.data[0:600,:]\n",
    "validation_digits = digits.data[600:,:]\n",
    "training_labels = digits.target[0:600]\n",
    "validation_labels = digits.target[600:]\n",
    "# The set of labels can be found in digits.target_names."
   ]
  },
  {
   "cell_type": "markdown",
   "metadata": {},
   "source": [
    "If we are curious, we can view the images from the dataset."
   ]
  },
  {
   "cell_type": "code",
   "execution_count": 30,
   "metadata": {},
   "outputs": [
    {
     "output_type": "execute_result",
     "data": {
      "text/plain": "Text(0.5, 0, 'Index: 2, actually the number 2')"
     },
     "metadata": {},
     "execution_count": 30
    },
    {
     "output_type": "display_data",
     "data": {
      "text/plain": "<Figure size 432x288 with 1 Axes>",
      "image/svg+xml": "<?xml version=\"1.0\" encoding=\"utf-8\" standalone=\"no\"?>\r\n<!DOCTYPE svg PUBLIC \"-//W3C//DTD SVG 1.1//EN\"\r\n  \"http://www.w3.org/Graphics/SVG/1.1/DTD/svg11.dtd\">\r\n<!-- Created with matplotlib (https://matplotlib.org/) -->\r\n<svg height=\"262.19625pt\" version=\"1.1\" viewBox=\"0 0 245.2025 262.19625\" width=\"245.2025pt\" xmlns=\"http://www.w3.org/2000/svg\" xmlns:xlink=\"http://www.w3.org/1999/xlink\">\r\n <defs>\r\n  <style type=\"text/css\">\r\n*{stroke-linecap:butt;stroke-linejoin:round;}\r\n  </style>\r\n </defs>\r\n <g id=\"figure_1\">\r\n  <g id=\"patch_1\">\r\n   <path d=\"M 0 262.19625 \r\nL 245.2025 262.19625 \r\nL 245.2025 0 \r\nL 0 0 \r\nz\r\n\" style=\"fill:none;\"/>\r\n  </g>\r\n  <g id=\"axes_1\">\r\n   <g id=\"patch_2\">\r\n    <path d=\"M 20.5625 224.64 \r\nL 238.0025 224.64 \r\nL 238.0025 7.2 \r\nL 20.5625 7.2 \r\nz\r\n\" style=\"fill:#ffffff;\"/>\r\n   </g>\r\n   <g clip-path=\"url(#pd597c0c2bb)\">\r\n    <image height=\"218\" id=\"imagec76e038606\" transform=\"scale(1 -1)translate(0 -218)\" width=\"218\" x=\"20.5625\" xlink:href=\"data:image/png;base64,\r\niVBORw0KGgoAAAANSUhEUgAAANoAAADaCAYAAADAHVzbAAAABHNCSVQICAgIfAhkiAAAA5JJREFUeJzt3L+LD3Acx/HP+VUmqeNmNzBYWG6TdCeZRN+6UTklWa4suvwBJimLRQwWi86mpIuBRWcyXDGwUSySFM4foZ7DeTz+gdf07L29pxamJpuDf/bn+NFs69f1r9nW2uHH2daBJxezrTHGOHjhdba1LVuC/5jQICA0CAgNAkKDgNAgIDQICA0CQoOA0CAgNAgIDQJCg4DQICA0CAgNAkKDgNAgIDQICA0CQoOA0CAgNAgIDQJCg4DQILCjHCvfZp+4/TLbGmOMlel76V7lxNsz2da+FzuzrZqLBgGhQUBoEBAaBIQGAaFBQGgQEBoEhAYBoUFAaBAQGgSEBgGhQUBoEBAaBIQGAaFBQGgQEBoEhAYBoUFAaBAQGgSEBgGhQUBoEEh/7787vz3bejq9kW3V5lYuZ1t777/KtnaND9lWzUWDgNAgIDQICA0CQoOA0CAgNAgIDQJCg4DQICA0CAgNAkKDgNAgIDQICA0CQoOA0CAgNAgIDQJCg4DQICA0CAgNAkKDgNAgMLUwNdmsxrbP7K+mxsa12WxrjDGW5teyrcme9Wxree5stvX70+dsq+aiQUBoEBAaBIQGAaFBQGgQEBoEhAYBoUFAaBAQGgSEBgGhQUBoEBAaBIQGAaFBQGgQEBoEhAYBoUFAaBAQGgSEBgGhQUBoENhRjpUvnw/dyKbGGGM8/DifbU2Wu5fgPx7szrZ2ncymci4aBIQGAaFBQGgQEBoEhAYBoUFAaBAQGgSEBgGhQUBoEBAaBIQGAaFBQGgQEBoEhAYBoUFAaBAQGgSEBgGhQUBoEBAaBIQGgfQleGnj2my6tzT/LNs6/ehqtvV+8U62dWocybZqLhoEhAYBoUFAaBAQGgSEBgGhQUBoEBAaBIQGAaFBQGgQEBoEhAYBoUFAaBAQGgSEBgGhQUBoEBAaBIQGAaFBQGgQEBoEhAYBoUFgy/7en139me6tLG5kW5Nz69nW6veZbGsrc9EgIDQICA0CQoOA0CAgNAgIDQJCg4DQICA0CAgNAkKDgNAgIDQICA0CQoOA0CAgNAgIDQJCg4DQICA0CAgNAkKDgNAgIDQIbNmX4Nuev0n3jl25lG3dvXUz23r85Wi2Nca3cKvlokFAaBAQGgSEBgGhQUBoEBAaBIQGAaFBQGgQEBoEhAYBoUFAaBAQGgSEBgGhQUBoEBAaBIQGAaFBQGgQEBoEhAYBoUFAaBD4C18vPtcRQ7PWAAAAAElFTkSuQmCC\" y=\"-6.64\"/>\r\n   </g>\r\n   <g id=\"matplotlib.axis_1\">\r\n    <g id=\"xtick_1\">\r\n     <g id=\"line2d_1\">\r\n      <defs>\r\n       <path d=\"M 0 0 \r\nL 0 3.5 \r\n\" id=\"mdfb8960f78\" style=\"stroke:#000000;stroke-width:0.8;\"/>\r\n      </defs>\r\n      <g>\r\n       <use style=\"stroke:#000000;stroke-width:0.8;\" x=\"34.1525\" xlink:href=\"#mdfb8960f78\" y=\"224.64\"/>\r\n      </g>\r\n     </g>\r\n     <g id=\"text_1\">\r\n      <!-- 0 -->\r\n      <defs>\r\n       <path d=\"M 31.78125 66.40625 \r\nQ 24.171875 66.40625 20.328125 58.90625 \r\nQ 16.5 51.421875 16.5 36.375 \r\nQ 16.5 21.390625 20.328125 13.890625 \r\nQ 24.171875 6.390625 31.78125 6.390625 \r\nQ 39.453125 6.390625 43.28125 13.890625 \r\nQ 47.125 21.390625 47.125 36.375 \r\nQ 47.125 51.421875 43.28125 58.90625 \r\nQ 39.453125 66.40625 31.78125 66.40625 \r\nz\r\nM 31.78125 74.21875 \r\nQ 44.046875 74.21875 50.515625 64.515625 \r\nQ 56.984375 54.828125 56.984375 36.375 \r\nQ 56.984375 17.96875 50.515625 8.265625 \r\nQ 44.046875 -1.421875 31.78125 -1.421875 \r\nQ 19.53125 -1.421875 13.0625 8.265625 \r\nQ 6.59375 17.96875 6.59375 36.375 \r\nQ 6.59375 54.828125 13.0625 64.515625 \r\nQ 19.53125 74.21875 31.78125 74.21875 \r\nz\r\n\" id=\"DejaVuSans-48\"/>\r\n      </defs>\r\n      <g transform=\"translate(30.97125 239.238437)scale(0.1 -0.1)\">\r\n       <use xlink:href=\"#DejaVuSans-48\"/>\r\n      </g>\r\n     </g>\r\n    </g>\r\n    <g id=\"xtick_2\">\r\n     <g id=\"line2d_2\">\r\n      <g>\r\n       <use style=\"stroke:#000000;stroke-width:0.8;\" x=\"88.5125\" xlink:href=\"#mdfb8960f78\" y=\"224.64\"/>\r\n      </g>\r\n     </g>\r\n     <g id=\"text_2\">\r\n      <!-- 2 -->\r\n      <defs>\r\n       <path d=\"M 19.1875 8.296875 \r\nL 53.609375 8.296875 \r\nL 53.609375 0 \r\nL 7.328125 0 \r\nL 7.328125 8.296875 \r\nQ 12.9375 14.109375 22.625 23.890625 \r\nQ 32.328125 33.6875 34.8125 36.53125 \r\nQ 39.546875 41.84375 41.421875 45.53125 \r\nQ 43.3125 49.21875 43.3125 52.78125 \r\nQ 43.3125 58.59375 39.234375 62.25 \r\nQ 35.15625 65.921875 28.609375 65.921875 \r\nQ 23.96875 65.921875 18.8125 64.3125 \r\nQ 13.671875 62.703125 7.8125 59.421875 \r\nL 7.8125 69.390625 \r\nQ 13.765625 71.78125 18.9375 73 \r\nQ 24.125 74.21875 28.421875 74.21875 \r\nQ 39.75 74.21875 46.484375 68.546875 \r\nQ 53.21875 62.890625 53.21875 53.421875 \r\nQ 53.21875 48.921875 51.53125 44.890625 \r\nQ 49.859375 40.875 45.40625 35.40625 \r\nQ 44.1875 33.984375 37.640625 27.21875 \r\nQ 31.109375 20.453125 19.1875 8.296875 \r\nz\r\n\" id=\"DejaVuSans-50\"/>\r\n      </defs>\r\n      <g transform=\"translate(85.33125 239.238437)scale(0.1 -0.1)\">\r\n       <use xlink:href=\"#DejaVuSans-50\"/>\r\n      </g>\r\n     </g>\r\n    </g>\r\n    <g id=\"xtick_3\">\r\n     <g id=\"line2d_3\">\r\n      <g>\r\n       <use style=\"stroke:#000000;stroke-width:0.8;\" x=\"142.8725\" xlink:href=\"#mdfb8960f78\" y=\"224.64\"/>\r\n      </g>\r\n     </g>\r\n     <g id=\"text_3\">\r\n      <!-- 4 -->\r\n      <defs>\r\n       <path d=\"M 37.796875 64.3125 \r\nL 12.890625 25.390625 \r\nL 37.796875 25.390625 \r\nz\r\nM 35.203125 72.90625 \r\nL 47.609375 72.90625 \r\nL 47.609375 25.390625 \r\nL 58.015625 25.390625 \r\nL 58.015625 17.1875 \r\nL 47.609375 17.1875 \r\nL 47.609375 0 \r\nL 37.796875 0 \r\nL 37.796875 17.1875 \r\nL 4.890625 17.1875 \r\nL 4.890625 26.703125 \r\nz\r\n\" id=\"DejaVuSans-52\"/>\r\n      </defs>\r\n      <g transform=\"translate(139.69125 239.238437)scale(0.1 -0.1)\">\r\n       <use xlink:href=\"#DejaVuSans-52\"/>\r\n      </g>\r\n     </g>\r\n    </g>\r\n    <g id=\"xtick_4\">\r\n     <g id=\"line2d_4\">\r\n      <g>\r\n       <use style=\"stroke:#000000;stroke-width:0.8;\" x=\"197.2325\" xlink:href=\"#mdfb8960f78\" y=\"224.64\"/>\r\n      </g>\r\n     </g>\r\n     <g id=\"text_4\">\r\n      <!-- 6 -->\r\n      <defs>\r\n       <path d=\"M 33.015625 40.375 \r\nQ 26.375 40.375 22.484375 35.828125 \r\nQ 18.609375 31.296875 18.609375 23.390625 \r\nQ 18.609375 15.53125 22.484375 10.953125 \r\nQ 26.375 6.390625 33.015625 6.390625 \r\nQ 39.65625 6.390625 43.53125 10.953125 \r\nQ 47.40625 15.53125 47.40625 23.390625 \r\nQ 47.40625 31.296875 43.53125 35.828125 \r\nQ 39.65625 40.375 33.015625 40.375 \r\nz\r\nM 52.59375 71.296875 \r\nL 52.59375 62.3125 \r\nQ 48.875 64.0625 45.09375 64.984375 \r\nQ 41.3125 65.921875 37.59375 65.921875 \r\nQ 27.828125 65.921875 22.671875 59.328125 \r\nQ 17.53125 52.734375 16.796875 39.40625 \r\nQ 19.671875 43.65625 24.015625 45.921875 \r\nQ 28.375 48.1875 33.59375 48.1875 \r\nQ 44.578125 48.1875 50.953125 41.515625 \r\nQ 57.328125 34.859375 57.328125 23.390625 \r\nQ 57.328125 12.15625 50.6875 5.359375 \r\nQ 44.046875 -1.421875 33.015625 -1.421875 \r\nQ 20.359375 -1.421875 13.671875 8.265625 \r\nQ 6.984375 17.96875 6.984375 36.375 \r\nQ 6.984375 53.65625 15.1875 63.9375 \r\nQ 23.390625 74.21875 37.203125 74.21875 \r\nQ 40.921875 74.21875 44.703125 73.484375 \r\nQ 48.484375 72.75 52.59375 71.296875 \r\nz\r\n\" id=\"DejaVuSans-54\"/>\r\n      </defs>\r\n      <g transform=\"translate(194.05125 239.238437)scale(0.1 -0.1)\">\r\n       <use xlink:href=\"#DejaVuSans-54\"/>\r\n      </g>\r\n     </g>\r\n    </g>\r\n    <g id=\"text_5\">\r\n     <!-- Index: 2, actually the number 2 -->\r\n     <defs>\r\n      <path d=\"M 9.8125 72.90625 \r\nL 19.671875 72.90625 \r\nL 19.671875 0 \r\nL 9.8125 0 \r\nz\r\n\" id=\"DejaVuSans-73\"/>\r\n      <path d=\"M 54.890625 33.015625 \r\nL 54.890625 0 \r\nL 45.90625 0 \r\nL 45.90625 32.71875 \r\nQ 45.90625 40.484375 42.875 44.328125 \r\nQ 39.84375 48.1875 33.796875 48.1875 \r\nQ 26.515625 48.1875 22.3125 43.546875 \r\nQ 18.109375 38.921875 18.109375 30.90625 \r\nL 18.109375 0 \r\nL 9.078125 0 \r\nL 9.078125 54.6875 \r\nL 18.109375 54.6875 \r\nL 18.109375 46.1875 \r\nQ 21.34375 51.125 25.703125 53.5625 \r\nQ 30.078125 56 35.796875 56 \r\nQ 45.21875 56 50.046875 50.171875 \r\nQ 54.890625 44.34375 54.890625 33.015625 \r\nz\r\n\" id=\"DejaVuSans-110\"/>\r\n      <path d=\"M 45.40625 46.390625 \r\nL 45.40625 75.984375 \r\nL 54.390625 75.984375 \r\nL 54.390625 0 \r\nL 45.40625 0 \r\nL 45.40625 8.203125 \r\nQ 42.578125 3.328125 38.25 0.953125 \r\nQ 33.9375 -1.421875 27.875 -1.421875 \r\nQ 17.96875 -1.421875 11.734375 6.484375 \r\nQ 5.515625 14.40625 5.515625 27.296875 \r\nQ 5.515625 40.1875 11.734375 48.09375 \r\nQ 17.96875 56 27.875 56 \r\nQ 33.9375 56 38.25 53.625 \r\nQ 42.578125 51.265625 45.40625 46.390625 \r\nz\r\nM 14.796875 27.296875 \r\nQ 14.796875 17.390625 18.875 11.75 \r\nQ 22.953125 6.109375 30.078125 6.109375 \r\nQ 37.203125 6.109375 41.296875 11.75 \r\nQ 45.40625 17.390625 45.40625 27.296875 \r\nQ 45.40625 37.203125 41.296875 42.84375 \r\nQ 37.203125 48.484375 30.078125 48.484375 \r\nQ 22.953125 48.484375 18.875 42.84375 \r\nQ 14.796875 37.203125 14.796875 27.296875 \r\nz\r\n\" id=\"DejaVuSans-100\"/>\r\n      <path d=\"M 56.203125 29.59375 \r\nL 56.203125 25.203125 \r\nL 14.890625 25.203125 \r\nQ 15.484375 15.921875 20.484375 11.0625 \r\nQ 25.484375 6.203125 34.421875 6.203125 \r\nQ 39.59375 6.203125 44.453125 7.46875 \r\nQ 49.3125 8.734375 54.109375 11.28125 \r\nL 54.109375 2.78125 \r\nQ 49.265625 0.734375 44.1875 -0.34375 \r\nQ 39.109375 -1.421875 33.890625 -1.421875 \r\nQ 20.796875 -1.421875 13.15625 6.1875 \r\nQ 5.515625 13.8125 5.515625 26.8125 \r\nQ 5.515625 40.234375 12.765625 48.109375 \r\nQ 20.015625 56 32.328125 56 \r\nQ 43.359375 56 49.78125 48.890625 \r\nQ 56.203125 41.796875 56.203125 29.59375 \r\nz\r\nM 47.21875 32.234375 \r\nQ 47.125 39.59375 43.09375 43.984375 \r\nQ 39.0625 48.390625 32.421875 48.390625 \r\nQ 24.90625 48.390625 20.390625 44.140625 \r\nQ 15.875 39.890625 15.1875 32.171875 \r\nz\r\n\" id=\"DejaVuSans-101\"/>\r\n      <path d=\"M 54.890625 54.6875 \r\nL 35.109375 28.078125 \r\nL 55.90625 0 \r\nL 45.3125 0 \r\nL 29.390625 21.484375 \r\nL 13.484375 0 \r\nL 2.875 0 \r\nL 24.125 28.609375 \r\nL 4.6875 54.6875 \r\nL 15.28125 54.6875 \r\nL 29.78125 35.203125 \r\nL 44.28125 54.6875 \r\nz\r\n\" id=\"DejaVuSans-120\"/>\r\n      <path d=\"M 11.71875 12.40625 \r\nL 22.015625 12.40625 \r\nL 22.015625 0 \r\nL 11.71875 0 \r\nz\r\nM 11.71875 51.703125 \r\nL 22.015625 51.703125 \r\nL 22.015625 39.3125 \r\nL 11.71875 39.3125 \r\nz\r\n\" id=\"DejaVuSans-58\"/>\r\n      <path id=\"DejaVuSans-32\"/>\r\n      <path d=\"M 11.71875 12.40625 \r\nL 22.015625 12.40625 \r\nL 22.015625 4 \r\nL 14.015625 -11.625 \r\nL 7.71875 -11.625 \r\nL 11.71875 4 \r\nz\r\n\" id=\"DejaVuSans-44\"/>\r\n      <path d=\"M 34.28125 27.484375 \r\nQ 23.390625 27.484375 19.1875 25 \r\nQ 14.984375 22.515625 14.984375 16.5 \r\nQ 14.984375 11.71875 18.140625 8.90625 \r\nQ 21.296875 6.109375 26.703125 6.109375 \r\nQ 34.1875 6.109375 38.703125 11.40625 \r\nQ 43.21875 16.703125 43.21875 25.484375 \r\nL 43.21875 27.484375 \r\nz\r\nM 52.203125 31.203125 \r\nL 52.203125 0 \r\nL 43.21875 0 \r\nL 43.21875 8.296875 \r\nQ 40.140625 3.328125 35.546875 0.953125 \r\nQ 30.953125 -1.421875 24.3125 -1.421875 \r\nQ 15.921875 -1.421875 10.953125 3.296875 \r\nQ 6 8.015625 6 15.921875 \r\nQ 6 25.140625 12.171875 29.828125 \r\nQ 18.359375 34.515625 30.609375 34.515625 \r\nL 43.21875 34.515625 \r\nL 43.21875 35.40625 \r\nQ 43.21875 41.609375 39.140625 45 \r\nQ 35.0625 48.390625 27.6875 48.390625 \r\nQ 23 48.390625 18.546875 47.265625 \r\nQ 14.109375 46.140625 10.015625 43.890625 \r\nL 10.015625 52.203125 \r\nQ 14.9375 54.109375 19.578125 55.046875 \r\nQ 24.21875 56 28.609375 56 \r\nQ 40.484375 56 46.34375 49.84375 \r\nQ 52.203125 43.703125 52.203125 31.203125 \r\nz\r\n\" id=\"DejaVuSans-97\"/>\r\n      <path d=\"M 48.78125 52.59375 \r\nL 48.78125 44.1875 \r\nQ 44.96875 46.296875 41.140625 47.34375 \r\nQ 37.3125 48.390625 33.40625 48.390625 \r\nQ 24.65625 48.390625 19.8125 42.84375 \r\nQ 14.984375 37.3125 14.984375 27.296875 \r\nQ 14.984375 17.28125 19.8125 11.734375 \r\nQ 24.65625 6.203125 33.40625 6.203125 \r\nQ 37.3125 6.203125 41.140625 7.25 \r\nQ 44.96875 8.296875 48.78125 10.40625 \r\nL 48.78125 2.09375 \r\nQ 45.015625 0.34375 40.984375 -0.53125 \r\nQ 36.96875 -1.421875 32.421875 -1.421875 \r\nQ 20.0625 -1.421875 12.78125 6.34375 \r\nQ 5.515625 14.109375 5.515625 27.296875 \r\nQ 5.515625 40.671875 12.859375 48.328125 \r\nQ 20.21875 56 33.015625 56 \r\nQ 37.15625 56 41.109375 55.140625 \r\nQ 45.0625 54.296875 48.78125 52.59375 \r\nz\r\n\" id=\"DejaVuSans-99\"/>\r\n      <path d=\"M 18.3125 70.21875 \r\nL 18.3125 54.6875 \r\nL 36.8125 54.6875 \r\nL 36.8125 47.703125 \r\nL 18.3125 47.703125 \r\nL 18.3125 18.015625 \r\nQ 18.3125 11.328125 20.140625 9.421875 \r\nQ 21.96875 7.515625 27.59375 7.515625 \r\nL 36.8125 7.515625 \r\nL 36.8125 0 \r\nL 27.59375 0 \r\nQ 17.1875 0 13.234375 3.875 \r\nQ 9.28125 7.765625 9.28125 18.015625 \r\nL 9.28125 47.703125 \r\nL 2.6875 47.703125 \r\nL 2.6875 54.6875 \r\nL 9.28125 54.6875 \r\nL 9.28125 70.21875 \r\nz\r\n\" id=\"DejaVuSans-116\"/>\r\n      <path d=\"M 8.5 21.578125 \r\nL 8.5 54.6875 \r\nL 17.484375 54.6875 \r\nL 17.484375 21.921875 \r\nQ 17.484375 14.15625 20.5 10.265625 \r\nQ 23.53125 6.390625 29.59375 6.390625 \r\nQ 36.859375 6.390625 41.078125 11.03125 \r\nQ 45.3125 15.671875 45.3125 23.6875 \r\nL 45.3125 54.6875 \r\nL 54.296875 54.6875 \r\nL 54.296875 0 \r\nL 45.3125 0 \r\nL 45.3125 8.40625 \r\nQ 42.046875 3.421875 37.71875 1 \r\nQ 33.40625 -1.421875 27.6875 -1.421875 \r\nQ 18.265625 -1.421875 13.375 4.4375 \r\nQ 8.5 10.296875 8.5 21.578125 \r\nz\r\nM 31.109375 56 \r\nz\r\n\" id=\"DejaVuSans-117\"/>\r\n      <path d=\"M 9.421875 75.984375 \r\nL 18.40625 75.984375 \r\nL 18.40625 0 \r\nL 9.421875 0 \r\nz\r\n\" id=\"DejaVuSans-108\"/>\r\n      <path d=\"M 32.171875 -5.078125 \r\nQ 28.375 -14.84375 24.75 -17.8125 \r\nQ 21.140625 -20.796875 15.09375 -20.796875 \r\nL 7.90625 -20.796875 \r\nL 7.90625 -13.28125 \r\nL 13.1875 -13.28125 \r\nQ 16.890625 -13.28125 18.9375 -11.515625 \r\nQ 21 -9.765625 23.484375 -3.21875 \r\nL 25.09375 0.875 \r\nL 2.984375 54.6875 \r\nL 12.5 54.6875 \r\nL 29.59375 11.921875 \r\nL 46.6875 54.6875 \r\nL 56.203125 54.6875 \r\nz\r\n\" id=\"DejaVuSans-121\"/>\r\n      <path d=\"M 54.890625 33.015625 \r\nL 54.890625 0 \r\nL 45.90625 0 \r\nL 45.90625 32.71875 \r\nQ 45.90625 40.484375 42.875 44.328125 \r\nQ 39.84375 48.1875 33.796875 48.1875 \r\nQ 26.515625 48.1875 22.3125 43.546875 \r\nQ 18.109375 38.921875 18.109375 30.90625 \r\nL 18.109375 0 \r\nL 9.078125 0 \r\nL 9.078125 75.984375 \r\nL 18.109375 75.984375 \r\nL 18.109375 46.1875 \r\nQ 21.34375 51.125 25.703125 53.5625 \r\nQ 30.078125 56 35.796875 56 \r\nQ 45.21875 56 50.046875 50.171875 \r\nQ 54.890625 44.34375 54.890625 33.015625 \r\nz\r\n\" id=\"DejaVuSans-104\"/>\r\n      <path d=\"M 52 44.1875 \r\nQ 55.375 50.25 60.0625 53.125 \r\nQ 64.75 56 71.09375 56 \r\nQ 79.640625 56 84.28125 50.015625 \r\nQ 88.921875 44.046875 88.921875 33.015625 \r\nL 88.921875 0 \r\nL 79.890625 0 \r\nL 79.890625 32.71875 \r\nQ 79.890625 40.578125 77.09375 44.375 \r\nQ 74.3125 48.1875 68.609375 48.1875 \r\nQ 61.625 48.1875 57.5625 43.546875 \r\nQ 53.515625 38.921875 53.515625 30.90625 \r\nL 53.515625 0 \r\nL 44.484375 0 \r\nL 44.484375 32.71875 \r\nQ 44.484375 40.625 41.703125 44.40625 \r\nQ 38.921875 48.1875 33.109375 48.1875 \r\nQ 26.21875 48.1875 22.15625 43.53125 \r\nQ 18.109375 38.875 18.109375 30.90625 \r\nL 18.109375 0 \r\nL 9.078125 0 \r\nL 9.078125 54.6875 \r\nL 18.109375 54.6875 \r\nL 18.109375 46.1875 \r\nQ 21.1875 51.21875 25.484375 53.609375 \r\nQ 29.78125 56 35.6875 56 \r\nQ 41.65625 56 45.828125 52.96875 \r\nQ 50 49.953125 52 44.1875 \r\nz\r\n\" id=\"DejaVuSans-109\"/>\r\n      <path d=\"M 48.6875 27.296875 \r\nQ 48.6875 37.203125 44.609375 42.84375 \r\nQ 40.53125 48.484375 33.40625 48.484375 \r\nQ 26.265625 48.484375 22.1875 42.84375 \r\nQ 18.109375 37.203125 18.109375 27.296875 \r\nQ 18.109375 17.390625 22.1875 11.75 \r\nQ 26.265625 6.109375 33.40625 6.109375 \r\nQ 40.53125 6.109375 44.609375 11.75 \r\nQ 48.6875 17.390625 48.6875 27.296875 \r\nz\r\nM 18.109375 46.390625 \r\nQ 20.953125 51.265625 25.265625 53.625 \r\nQ 29.59375 56 35.59375 56 \r\nQ 45.5625 56 51.78125 48.09375 \r\nQ 58.015625 40.1875 58.015625 27.296875 \r\nQ 58.015625 14.40625 51.78125 6.484375 \r\nQ 45.5625 -1.421875 35.59375 -1.421875 \r\nQ 29.59375 -1.421875 25.265625 0.953125 \r\nQ 20.953125 3.328125 18.109375 8.203125 \r\nL 18.109375 0 \r\nL 9.078125 0 \r\nL 9.078125 75.984375 \r\nL 18.109375 75.984375 \r\nz\r\n\" id=\"DejaVuSans-98\"/>\r\n      <path d=\"M 41.109375 46.296875 \r\nQ 39.59375 47.171875 37.8125 47.578125 \r\nQ 36.03125 48 33.890625 48 \r\nQ 26.265625 48 22.1875 43.046875 \r\nQ 18.109375 38.09375 18.109375 28.8125 \r\nL 18.109375 0 \r\nL 9.078125 0 \r\nL 9.078125 54.6875 \r\nL 18.109375 54.6875 \r\nL 18.109375 46.1875 \r\nQ 20.953125 51.171875 25.484375 53.578125 \r\nQ 30.03125 56 36.53125 56 \r\nQ 37.453125 56 38.578125 55.875 \r\nQ 39.703125 55.765625 41.0625 55.515625 \r\nz\r\n\" id=\"DejaVuSans-114\"/>\r\n     </defs>\r\n     <g transform=\"translate(50.471562 252.916562)scale(0.1 -0.1)\">\r\n      <use xlink:href=\"#DejaVuSans-73\"/>\r\n      <use x=\"29.492188\" xlink:href=\"#DejaVuSans-110\"/>\r\n      <use x=\"92.871094\" xlink:href=\"#DejaVuSans-100\"/>\r\n      <use x=\"156.347656\" xlink:href=\"#DejaVuSans-101\"/>\r\n      <use x=\"216.121094\" xlink:href=\"#DejaVuSans-120\"/>\r\n      <use x=\"275.300781\" xlink:href=\"#DejaVuSans-58\"/>\r\n      <use x=\"308.992188\" xlink:href=\"#DejaVuSans-32\"/>\r\n      <use x=\"340.779297\" xlink:href=\"#DejaVuSans-50\"/>\r\n      <use x=\"404.402344\" xlink:href=\"#DejaVuSans-44\"/>\r\n      <use x=\"436.189453\" xlink:href=\"#DejaVuSans-32\"/>\r\n      <use x=\"467.976562\" xlink:href=\"#DejaVuSans-97\"/>\r\n      <use x=\"529.255859\" xlink:href=\"#DejaVuSans-99\"/>\r\n      <use x=\"584.236328\" xlink:href=\"#DejaVuSans-116\"/>\r\n      <use x=\"623.445312\" xlink:href=\"#DejaVuSans-117\"/>\r\n      <use x=\"686.824219\" xlink:href=\"#DejaVuSans-97\"/>\r\n      <use x=\"748.103516\" xlink:href=\"#DejaVuSans-108\"/>\r\n      <use x=\"775.886719\" xlink:href=\"#DejaVuSans-108\"/>\r\n      <use x=\"803.669922\" xlink:href=\"#DejaVuSans-121\"/>\r\n      <use x=\"862.849609\" xlink:href=\"#DejaVuSans-32\"/>\r\n      <use x=\"894.636719\" xlink:href=\"#DejaVuSans-116\"/>\r\n      <use x=\"933.845703\" xlink:href=\"#DejaVuSans-104\"/>\r\n      <use x=\"997.224609\" xlink:href=\"#DejaVuSans-101\"/>\r\n      <use x=\"1058.748047\" xlink:href=\"#DejaVuSans-32\"/>\r\n      <use x=\"1090.535156\" xlink:href=\"#DejaVuSans-110\"/>\r\n      <use x=\"1153.914062\" xlink:href=\"#DejaVuSans-117\"/>\r\n      <use x=\"1217.292969\" xlink:href=\"#DejaVuSans-109\"/>\r\n      <use x=\"1314.705078\" xlink:href=\"#DejaVuSans-98\"/>\r\n      <use x=\"1378.181641\" xlink:href=\"#DejaVuSans-101\"/>\r\n      <use x=\"1439.705078\" xlink:href=\"#DejaVuSans-114\"/>\r\n      <use x=\"1480.818359\" xlink:href=\"#DejaVuSans-32\"/>\r\n      <use x=\"1512.605469\" xlink:href=\"#DejaVuSans-50\"/>\r\n     </g>\r\n    </g>\r\n   </g>\r\n   <g id=\"matplotlib.axis_2\">\r\n    <g id=\"ytick_1\">\r\n     <g id=\"line2d_5\">\r\n      <defs>\r\n       <path d=\"M 0 0 \r\nL -3.5 0 \r\n\" id=\"m394663307c\" style=\"stroke:#000000;stroke-width:0.8;\"/>\r\n      </defs>\r\n      <g>\r\n       <use style=\"stroke:#000000;stroke-width:0.8;\" x=\"20.5625\" xlink:href=\"#m394663307c\" y=\"20.79\"/>\r\n      </g>\r\n     </g>\r\n     <g id=\"text_6\">\r\n      <!-- 0 -->\r\n      <g transform=\"translate(7.2 24.589219)scale(0.1 -0.1)\">\r\n       <use xlink:href=\"#DejaVuSans-48\"/>\r\n      </g>\r\n     </g>\r\n    </g>\r\n    <g id=\"ytick_2\">\r\n     <g id=\"line2d_6\">\r\n      <g>\r\n       <use style=\"stroke:#000000;stroke-width:0.8;\" x=\"20.5625\" xlink:href=\"#m394663307c\" y=\"47.97\"/>\r\n      </g>\r\n     </g>\r\n     <g id=\"text_7\">\r\n      <!-- 1 -->\r\n      <defs>\r\n       <path d=\"M 12.40625 8.296875 \r\nL 28.515625 8.296875 \r\nL 28.515625 63.921875 \r\nL 10.984375 60.40625 \r\nL 10.984375 69.390625 \r\nL 28.421875 72.90625 \r\nL 38.28125 72.90625 \r\nL 38.28125 8.296875 \r\nL 54.390625 8.296875 \r\nL 54.390625 0 \r\nL 12.40625 0 \r\nz\r\n\" id=\"DejaVuSans-49\"/>\r\n      </defs>\r\n      <g transform=\"translate(7.2 51.769219)scale(0.1 -0.1)\">\r\n       <use xlink:href=\"#DejaVuSans-49\"/>\r\n      </g>\r\n     </g>\r\n    </g>\r\n    <g id=\"ytick_3\">\r\n     <g id=\"line2d_7\">\r\n      <g>\r\n       <use style=\"stroke:#000000;stroke-width:0.8;\" x=\"20.5625\" xlink:href=\"#m394663307c\" y=\"75.15\"/>\r\n      </g>\r\n     </g>\r\n     <g id=\"text_8\">\r\n      <!-- 2 -->\r\n      <g transform=\"translate(7.2 78.949219)scale(0.1 -0.1)\">\r\n       <use xlink:href=\"#DejaVuSans-50\"/>\r\n      </g>\r\n     </g>\r\n    </g>\r\n    <g id=\"ytick_4\">\r\n     <g id=\"line2d_8\">\r\n      <g>\r\n       <use style=\"stroke:#000000;stroke-width:0.8;\" x=\"20.5625\" xlink:href=\"#m394663307c\" y=\"102.33\"/>\r\n      </g>\r\n     </g>\r\n     <g id=\"text_9\">\r\n      <!-- 3 -->\r\n      <defs>\r\n       <path d=\"M 40.578125 39.3125 \r\nQ 47.65625 37.796875 51.625 33 \r\nQ 55.609375 28.21875 55.609375 21.1875 \r\nQ 55.609375 10.40625 48.1875 4.484375 \r\nQ 40.765625 -1.421875 27.09375 -1.421875 \r\nQ 22.515625 -1.421875 17.65625 -0.515625 \r\nQ 12.796875 0.390625 7.625 2.203125 \r\nL 7.625 11.71875 \r\nQ 11.71875 9.328125 16.59375 8.109375 \r\nQ 21.484375 6.890625 26.8125 6.890625 \r\nQ 36.078125 6.890625 40.9375 10.546875 \r\nQ 45.796875 14.203125 45.796875 21.1875 \r\nQ 45.796875 27.640625 41.28125 31.265625 \r\nQ 36.765625 34.90625 28.71875 34.90625 \r\nL 20.21875 34.90625 \r\nL 20.21875 43.015625 \r\nL 29.109375 43.015625 \r\nQ 36.375 43.015625 40.234375 45.921875 \r\nQ 44.09375 48.828125 44.09375 54.296875 \r\nQ 44.09375 59.90625 40.109375 62.90625 \r\nQ 36.140625 65.921875 28.71875 65.921875 \r\nQ 24.65625 65.921875 20.015625 65.03125 \r\nQ 15.375 64.15625 9.8125 62.3125 \r\nL 9.8125 71.09375 \r\nQ 15.4375 72.65625 20.34375 73.4375 \r\nQ 25.25 74.21875 29.59375 74.21875 \r\nQ 40.828125 74.21875 47.359375 69.109375 \r\nQ 53.90625 64.015625 53.90625 55.328125 \r\nQ 53.90625 49.265625 50.4375 45.09375 \r\nQ 46.96875 40.921875 40.578125 39.3125 \r\nz\r\n\" id=\"DejaVuSans-51\"/>\r\n      </defs>\r\n      <g transform=\"translate(7.2 106.129219)scale(0.1 -0.1)\">\r\n       <use xlink:href=\"#DejaVuSans-51\"/>\r\n      </g>\r\n     </g>\r\n    </g>\r\n    <g id=\"ytick_5\">\r\n     <g id=\"line2d_9\">\r\n      <g>\r\n       <use style=\"stroke:#000000;stroke-width:0.8;\" x=\"20.5625\" xlink:href=\"#m394663307c\" y=\"129.51\"/>\r\n      </g>\r\n     </g>\r\n     <g id=\"text_10\">\r\n      <!-- 4 -->\r\n      <g transform=\"translate(7.2 133.309219)scale(0.1 -0.1)\">\r\n       <use xlink:href=\"#DejaVuSans-52\"/>\r\n      </g>\r\n     </g>\r\n    </g>\r\n    <g id=\"ytick_6\">\r\n     <g id=\"line2d_10\">\r\n      <g>\r\n       <use style=\"stroke:#000000;stroke-width:0.8;\" x=\"20.5625\" xlink:href=\"#m394663307c\" y=\"156.69\"/>\r\n      </g>\r\n     </g>\r\n     <g id=\"text_11\">\r\n      <!-- 5 -->\r\n      <defs>\r\n       <path d=\"M 10.796875 72.90625 \r\nL 49.515625 72.90625 \r\nL 49.515625 64.59375 \r\nL 19.828125 64.59375 \r\nL 19.828125 46.734375 \r\nQ 21.96875 47.46875 24.109375 47.828125 \r\nQ 26.265625 48.1875 28.421875 48.1875 \r\nQ 40.625 48.1875 47.75 41.5 \r\nQ 54.890625 34.8125 54.890625 23.390625 \r\nQ 54.890625 11.625 47.5625 5.09375 \r\nQ 40.234375 -1.421875 26.90625 -1.421875 \r\nQ 22.3125 -1.421875 17.546875 -0.640625 \r\nQ 12.796875 0.140625 7.71875 1.703125 \r\nL 7.71875 11.625 \r\nQ 12.109375 9.234375 16.796875 8.0625 \r\nQ 21.484375 6.890625 26.703125 6.890625 \r\nQ 35.15625 6.890625 40.078125 11.328125 \r\nQ 45.015625 15.765625 45.015625 23.390625 \r\nQ 45.015625 31 40.078125 35.4375 \r\nQ 35.15625 39.890625 26.703125 39.890625 \r\nQ 22.75 39.890625 18.8125 39.015625 \r\nQ 14.890625 38.140625 10.796875 36.28125 \r\nz\r\n\" id=\"DejaVuSans-53\"/>\r\n      </defs>\r\n      <g transform=\"translate(7.2 160.489219)scale(0.1 -0.1)\">\r\n       <use xlink:href=\"#DejaVuSans-53\"/>\r\n      </g>\r\n     </g>\r\n    </g>\r\n    <g id=\"ytick_7\">\r\n     <g id=\"line2d_11\">\r\n      <g>\r\n       <use style=\"stroke:#000000;stroke-width:0.8;\" x=\"20.5625\" xlink:href=\"#m394663307c\" y=\"183.87\"/>\r\n      </g>\r\n     </g>\r\n     <g id=\"text_12\">\r\n      <!-- 6 -->\r\n      <g transform=\"translate(7.2 187.669219)scale(0.1 -0.1)\">\r\n       <use xlink:href=\"#DejaVuSans-54\"/>\r\n      </g>\r\n     </g>\r\n    </g>\r\n    <g id=\"ytick_8\">\r\n     <g id=\"line2d_12\">\r\n      <g>\r\n       <use style=\"stroke:#000000;stroke-width:0.8;\" x=\"20.5625\" xlink:href=\"#m394663307c\" y=\"211.05\"/>\r\n      </g>\r\n     </g>\r\n     <g id=\"text_13\">\r\n      <!-- 7 -->\r\n      <defs>\r\n       <path d=\"M 8.203125 72.90625 \r\nL 55.078125 72.90625 \r\nL 55.078125 68.703125 \r\nL 28.609375 0 \r\nL 18.3125 0 \r\nL 43.21875 64.59375 \r\nL 8.203125 64.59375 \r\nz\r\n\" id=\"DejaVuSans-55\"/>\r\n      </defs>\r\n      <g transform=\"translate(7.2 214.849219)scale(0.1 -0.1)\">\r\n       <use xlink:href=\"#DejaVuSans-55\"/>\r\n      </g>\r\n     </g>\r\n    </g>\r\n   </g>\r\n   <g id=\"patch_3\">\r\n    <path d=\"M 20.5625 224.64 \r\nL 20.5625 7.2 \r\n\" style=\"fill:none;stroke:#000000;stroke-linecap:square;stroke-linejoin:miter;stroke-width:0.8;\"/>\r\n   </g>\r\n   <g id=\"patch_4\">\r\n    <path d=\"M 238.0025 224.64 \r\nL 238.0025 7.2 \r\n\" style=\"fill:none;stroke:#000000;stroke-linecap:square;stroke-linejoin:miter;stroke-width:0.8;\"/>\r\n   </g>\r\n   <g id=\"patch_5\">\r\n    <path d=\"M 20.5625 224.64 \r\nL 238.0025 224.64 \r\n\" style=\"fill:none;stroke:#000000;stroke-linecap:square;stroke-linejoin:miter;stroke-width:0.8;\"/>\r\n   </g>\r\n   <g id=\"patch_6\">\r\n    <path d=\"M 20.5625 7.2 \r\nL 238.0025 7.2 \r\n\" style=\"fill:none;stroke:#000000;stroke-linecap:square;stroke-linejoin:miter;stroke-width:0.8;\"/>\r\n   </g>\r\n  </g>\r\n </g>\r\n <defs>\r\n  <clipPath id=\"pd597c0c2bb\">\r\n   <rect height=\"217.44\" width=\"217.44\" x=\"20.5625\" y=\"7.2\"/>\r\n  </clipPath>\r\n </defs>\r\n</svg>\r\n",
      "image/png": "[encoded data removed]"
     },
     "metadata": {
      "needs_background": "light"
     }
    }
   ],
   "source": [
    "%matplotlib inline\n",
    "from matplotlib import pyplot as plt \n",
    "# We show one of the digits.\n",
    "d_index = 2\n",
    "plt.imshow(training_digits[d_index].reshape(8,8))\n",
    "plt.xlabel(f\"Index: {d_index}, actually the number {training_labels[d_index]}\")\n",
    "# Note: digits.images[i] is the same as digits.data[i], but in 8x8 format (no need to reshape).\n",
    "# We would however like to stress that the 64 pixel images we'll be working with are stored in vector format."
   ]
  },
  {
   "cell_type": "markdown",
   "metadata": {},
   "source": [
    "## Tasks"
   ]
  },
  {
   "cell_type": "markdown",
   "metadata": {},
   "source": [
    "a) Get all rows with label 4. Store that in the matrix $A_4$. Similarly for $A_9$. This should be two single lines of code!"
   ]
  },
  {
   "cell_type": "code",
   "execution_count": 31,
   "metadata": {},
   "outputs": [],
   "source": [
    "a4 = training_digits[training_labels == 4]# Replace with your code.\n",
    "a9 = training_digits[training_labels == 9] # Replace with your code."
   ]
  },
  {
   "cell_type": "markdown",
   "metadata": {},
   "source": [
    "b) Compute the thin SVD $A_4 = U_4\\Sigma_4 V^T_4$ and similarly for $A_9$. Thin here means that you do not necessarily get the full-rank square $U,V^T$ matrices."
   ]
  },
  {
   "cell_type": "code",
   "execution_count": 32,
   "metadata": {},
   "outputs": [],
   "source": [
    "u4,s4,v4_t = np.linalg.svd(a4,full_matrices=False)\n",
    "u9,s9,v9_t = np.linalg.svd(a4,full_matrices=False)"
   ]
  },
  {
   "cell_type": "markdown",
   "metadata": {},
   "source": [
    "**Note** Our data is stored by row (one row per digit). What we use the different matrices in the decomposition for is thus slightly different than if it was stored by column. Instead of picking the best $k$ columns of $U$ we pick the best $k$ rows of $V^T$."
   ]
  },
  {
   "cell_type": "markdown",
   "metadata": {},
   "source": [
    "c) Let $sample4$ be the first row of $A_4$ and $sample9$ be the first row of $A_9$."
   ]
  },
  {
   "cell_type": "code",
   "execution_count": 33,
   "metadata": {},
   "outputs": [],
   "source": [
    "sample4 = a4[0,:]\n",
    "sample9 = a9[0,:]"
   ]
  },
  {
   "cell_type": "markdown",
   "metadata": {},
   "source": [
    "d) Let $R$ be the first 3 rows of $V^T$. Compute the orthogonal projection of $sample4$ onto the row space of $R_4$, and onto the row space of $R_9$"
   ]
  },
  {
   "cell_type": "code",
   "execution_count": 34,
   "metadata": {},
   "outputs": [],
   "source": [
    "r4 = v4_t[0:3,:]# Your code here.\n",
    "r9 = v9_t[0:3,:]# Your code here\n",
    "coeffs_in_r4 = sample4 @ r4.T # What are the coordinates of sample4 orthogonally projected onto R4?\n",
    "coeffs_in_r9 = sample9 @ r9.T \n",
    "\n",
    "sample4_in_r4 = coeffs_in_r4 @ r4 # Linear combination of rows in R4\n",
    "sample4_in_r9 = coeffs_in_r9 @ r9   # Your code here.\n"
   ]
  },
  {
   "cell_type": "markdown",
   "metadata": {},
   "source": [
    "[Mathematical aside: where did the $\\Sigma$ go? This is a very important matrix, and strongly affects both interpretations and (in general) row- and column spaces. *Assuming* that the rank is $\\geq 3$ the row spaces should be the same whether or not we scale the basis vectors by some $\\sigma_i$ (since $\\sigma_i > 0$ for all $i=1,2,\\ldots, r$). That is enough for our application, though the interpretations of the vectors might be different. The rank assumption is rather important, and we will make rather casually based on knowledge about the data set. Later, we'll include a check for this in our code.]"
   ]
  },
  {
   "cell_type": "markdown",
   "metadata": {},
   "source": [
    "e) Which of the projections is closest to sample4 (in the sense that the difference (sample4_in_z**?**t - sample4) as the smallest 2-norm?"
   ]
  },
  {
   "cell_type": "code",
   "execution_count": 35,
   "metadata": {
    "tags": []
   },
   "outputs": [
    {
     "output_type": "stream",
     "name": "stdout",
     "text": "19.75899698363074\n42.06800100508024\n"
    }
   ],
   "source": [
    "print(np.linalg.norm(sample4_in_r4 - sample4))\n",
    "print(np.linalg.norm(sample4_in_r9 - sample9))"
   ]
  },
  {
   "cell_type": "markdown",
   "metadata": {},
   "source": [
    "f) Create a function `split_data(data, data_labels, labels)` which takes a matrix of data (such as `training_data`), the labels of all rows (such as `training_labels`) and a vector of the labels (here the numbers 0,...,9) and returns a dictionary mapping a label to the matrix of all corresponding data. \n",
    "\n",
    "Here the dictionary would for instance have the key 2, and the corresponding value be the matrix of all the images in `data` classified as the number 2."
   ]
  },
  {
   "cell_type": "code",
   "execution_count": 36,
   "metadata": {
    "tags": []
   },
   "outputs": [
    {
     "output_type": "stream",
     "name": "stdout",
     "text": "{0: array([[0., 0., 5., ..., 0., 0., 0.],\n       [0., 0., 1., ..., 3., 0., 0.],\n       [0., 0., 3., ..., 4., 0., 0.],\n       ...,\n       [0., 0., 9., ..., 4., 0., 0.],\n       [0., 0., 5., ..., 8., 1., 0.],\n       [0., 0., 6., ..., 6., 0., 0.]]), 1: array([[ 0.,  0.,  0., ..., 10.,  0.,  0.],\n       [ 0.,  0.,  0., ..., 16.,  1.,  0.],\n       [ 0.,  0.,  0., ..., 15.,  4.,  0.],\n       ...,\n       [ 0.,  0.,  1., ..., 10.,  0.,  0.],\n       [ 0.,  0.,  8., ...,  7.,  0.,  0.],\n       [ 0.,  0.,  6., ...,  4.,  0.,  0.]]), 2: array([[ 0.,  0.,  0., ..., 16.,  9.,  0.],\n       [ 0.,  0.,  5., ..., 13., 12.,  4.],\n       [ 0.,  0.,  8., ..., 12., 13.,  1.],\n       ...,\n       [ 0.,  3., 14., ..., 11.,  1.,  0.],\n       [ 0.,  1., 10., ..., 10.,  9.,  0.],\n       [ 0.,  0., 15., ...,  6.,  2.,  0.]]), 3: array([[ 0.,  0.,  7., ...,  9.,  0.,  0.],\n       [ 0.,  2.,  9., ..., 11.,  0.,  0.],\n       [ 0.,  1.,  8., ...,  2.,  0.,  0.],\n       ...,\n       [ 0.,  0.,  3., ...,  8.,  2.,  0.],\n       [ 0.,  1.,  7., ...,  6.,  0.,  0.],\n       [ 0.,  2., 10., ...,  9.,  0.,  0.]]), 4: array([[0., 0., 0., ..., 4., 0., 0.],\n       [0., 0., 0., ..., 4., 0., 0.],\n       [0., 0., 0., ..., 8., 0., 0.],\n       ...,\n       [0., 0., 0., ..., 7., 0., 0.],\n       [0., 0., 0., ..., 9., 0., 0.],\n       [0., 0., 0., ..., 4., 0., 0.]]), 5: array([[ 0.,  0., 12., ..., 10.,  0.,  0.],\n       [ 0.,  5., 12., ...,  0.,  0.,  0.],\n       [ 0.,  0., 12., ...,  0.,  0.,  0.],\n       ...,\n       [ 0.,  0., 12., ...,  4.,  0.,  0.],\n       [ 0.,  0.,  1., ...,  4.,  0.,  0.],\n       [ 0.,  0., 10., ...,  4.,  0.,  0.]]), 6: array([[ 0.,  0.,  0., ..., 11.,  3.,  0.],\n       [ 0.,  0.,  0., ..., 16., 11.,  0.],\n       [ 0.,  0.,  1., ..., 14.,  7.,  0.],\n       ...,\n       [ 0.,  0.,  2., ..., 13.,  7.,  0.],\n       [ 0.,  0.,  0., ..., 12.,  5.,  0.],\n       [ 0.,  0.,  2., ..., 14.,  4.,  0.]]), 7: array([[ 0.,  0.,  7., ...,  0.,  0.,  0.],\n       [ 0.,  0.,  1., ...,  0.,  0.,  0.],\n       [ 0.,  0.,  0., ...,  1.,  0.,  0.],\n       ...,\n       [ 0.,  0.,  6., ...,  0.,  0.,  0.],\n       [ 0.,  0.,  3., ...,  0.,  0.,  0.],\n       [ 0.,  1., 10., ...,  0.,  0.,  0.]]), 8: array([[ 0.,  0.,  9., ..., 11.,  1.,  0.],\n       [ 0.,  0., 10., ...,  0.,  0.,  0.],\n       [ 0.,  0., 10., ...,  1.,  0.,  0.],\n       ...,\n       [ 0.,  0.,  5., ...,  3.,  0.,  0.],\n       [ 0.,  0.,  1., ...,  6.,  0.,  0.],\n       [ 0.,  0., 10., ..., 12.,  1.,  0.]]), 9: array([[ 0.,  0., 11., ...,  3.,  0.,  0.],\n       [ 0.,  0.,  6., ..., 13., 11.,  1.],\n       [ 0.,  0.,  9., ..., 12., 11.,  0.],\n       ...,\n       [ 0.,  0.,  4., ...,  9.,  0.,  0.],\n       [ 0.,  0.,  4., ...,  9.,  0.,  0.],\n       [ 0.,  0.,  2., ..., 12.,  0.,  0.]])}\n"
    }
   ],
   "source": [
    "def split_data(data,data_labels,labels):\n",
    "    labelled_data = dict()\n",
    "    for label in labels:\n",
    "        labelled_data[label] = data[data_labels == label]\n",
    "    return labelled_data\n",
    "\n",
    "spl_data = split_data(digits.data,digits.target,digits.target_names)\n",
    "print(spl_data)"
   ]
  },
  {
   "cell_type": "markdown",
   "metadata": {},
   "source": [
    "f) Create a function `subspaces(labelled_data, k = 3)` that takes a dictionary such as above, and returns a dictionary mapping every occurring label $d$ to the respective $Z_d$ matrix with at most $k$ rows. Here the $Z_d$ matrices is defined as above, the best norm-2-approximation. If a particular matrix has a rank $r < k$, we should only keep $r$ rows (say, if there were many more *different* digit 9-rows in the training set, than digit 1:s)!"
   ]
  },
  {
   "cell_type": "code",
   "execution_count": 37,
   "metadata": {
    "tags": [
     "outputPrepend"
    ]
   },
   "outputs": [
    {
     "output_type": "stream",
     "name": "stdout",
     "text": "53301e-02,  1.09569598e-01,\n         5.22636640e-02,  0.00000000e+00,  1.96993968e-02,\n         2.03707256e-02,  1.82516232e-02, -1.97726666e-01,\n        -2.98014532e-02,  3.53739141e-01,  5.71330537e-02,\n         8.87151670e-05,  4.26403735e-02,  2.92457099e-02,\n         9.73525635e-02, -1.77060495e-01,  2.71899949e-01,\n         3.07990042e-01,  2.84458316e-03,  0.00000000e+00,\n        -8.26328172e-02,  9.04375857e-02,  2.66562568e-01,\n         3.34102052e-02,  1.14534157e-01, -5.45555950e-02,\n         0.00000000e+00, -5.46766318e-03, -3.15914963e-01,\n        -3.67839658e-01, -2.91369955e-01, -5.07304153e-02,\n        -2.97760940e-03, -6.62348201e-02,  0.00000000e+00,\n        -3.21921767e-03, -9.69139717e-02, -2.25540012e-01,\n        -2.58418637e-01,  5.60052818e-02,  1.09267471e-01,\n        -2.07778259e-03,  0.00000000e+00,  0.00000000e+00,\n        -3.62451410e-03, -3.00062561e-02, -3.88029518e-02,\n         9.58360024e-02,  3.50934043e-02,  0.00000000e+00,\n         0.00000000e+00]]), 5: array([[ 5.85215395e-18,  1.76884281e-02,  1.82717973e-01,\n         2.38357802e-01,  2.53513999e-01,  2.23300470e-01,\n         7.71678131e-02,  8.50694540e-04,  1.05717348e-04,\n         7.11761515e-02,  2.69537644e-01,  2.20386807e-01,\n         1.51379664e-01,  1.15427249e-01,  3.94044131e-02,\n         6.08048310e-04,  0.00000000e+00,  1.02285835e-01,\n         2.62210682e-01,  1.05144904e-01,  3.47381967e-02,\n         1.03268102e-02,  9.39558113e-04,  0.00000000e+00,\n         0.00000000e+00,  9.81746888e-02,  2.60739763e-01,\n         2.20316780e-01,  1.63756553e-01,  7.35806061e-02,\n         6.56477738e-03,  0.00000000e+00,  0.00000000e+00,\n         3.53429807e-02,  1.39490009e-01,  1.55156242e-01,\n         1.66000995e-01,  1.38951380e-01,  3.16400356e-02,\n         0.00000000e+00,  0.00000000e+00,  4.51793113e-03,\n         2.25954271e-02,  6.60844977e-02,  1.38807959e-01,\n         1.50687732e-01,  4.15755496e-02,  0.00000000e+00,\n         0.00000000e+00,  1.50270494e-02,  1.05200183e-01,\n         1.50383144e-01,  2.01681453e-01,  1.32801677e-01,\n         2.30325397e-02,  0.00000000e+00,  0.00000000e+00,\n         1.74574598e-02,  1.95301165e-01,  2.68270193e-01,\n         1.70037135e-01,  4.42783389e-02,  3.30734409e-03,\n         0.00000000e+00],\n       [-3.14136203e-17,  4.17342323e-02,  7.20498395e-02,\n         4.24168256e-02,  1.53583023e-02,  3.23039962e-02,\n         4.66681002e-02,  9.73903704e-04,  7.16563969e-05,\n         1.14816049e-01,  2.40053390e-02,  1.09959846e-01,\n         8.55242111e-02,  6.22932625e-02,  5.03793196e-02,\n         1.63677986e-03,  0.00000000e+00,  9.65132349e-02,\n         1.58000169e-02, -7.12261254e-04, -8.06778791e-02,\n        -2.79715949e-02, -1.04034979e-04, -1.12103877e-44,\n         0.00000000e+00, -2.04387000e-02, -4.50774863e-02,\n        -4.10314056e-02, -2.67136305e-01, -2.59729472e-01,\n        -2.52421044e-02,  0.00000000e+00,  0.00000000e+00,\n        -8.71148736e-03,  3.03858445e-02,  2.28137086e-01,\n         9.25326620e-02, -3.66709623e-01, -1.27895172e-01,\n         0.00000000e+00,  0.00000000e+00,  1.71539673e-04,\n         2.05697013e-02,  2.75932989e-01,  2.97272119e-01,\n        -2.97952084e-01, -1.68407742e-01,  0.00000000e+00,\n         0.00000000e+00,  8.67449380e-03, -2.93289631e-02,\n         2.50317639e-01,  8.41184522e-02, -3.33587010e-01,\n        -1.00103867e-01,  0.00000000e+00,  0.00000000e+00,\n         4.27974663e-02,  9.65015103e-02, -2.75321680e-02,\n        -2.49682981e-01, -1.63562481e-01, -1.72472960e-02,\n         0.00000000e+00],\n       [ 5.65121608e-17,  2.50898049e-02,  1.43703079e-01,\n        -5.11558955e-02, -1.18040180e-01, -2.90264688e-02,\n         1.13776891e-01,  3.93431573e-03, -4.09317513e-04,\n         1.01940618e-02,  4.87666620e-02, -3.39147935e-02,\n         1.03673893e-01,  1.33772796e-01,  1.13363629e-01,\n         5.80804905e-03,  0.00000000e+00, -5.92950514e-02,\n         3.45026005e-02,  2.98722035e-01,  2.01413689e-01,\n         4.79247820e-02,  2.89452169e-03,  0.00000000e+00,\n         0.00000000e+00, -1.79152076e-01, -1.15319679e-01,\n         2.16994502e-01,  2.75904157e-01,  1.05370053e-01,\n        -9.60202802e-03,  0.00000000e+00,  0.00000000e+00,\n        -1.52747790e-01, -4.86442657e-01, -3.63748832e-01,\n        -1.10721649e-01, -7.15921911e-03, -3.37906804e-02,\n         0.00000000e+00,  0.00000000e+00, -5.35921332e-03,\n        -9.65638477e-02, -4.32370358e-02,  7.67840112e-02,\n        -9.88784071e-02, -6.18859291e-02,  0.00000000e+00,\n         0.00000000e+00,  5.10947749e-02,  2.37471866e-01,\n         1.28890044e-01,  3.03511430e-02, -1.60885721e-01,\n        -2.25199098e-02,  0.00000000e+00,  0.00000000e+00,\n         2.33269055e-02,  1.65328530e-01,  1.42343970e-03,\n        -1.29809904e-01, -4.92605060e-02,  7.60052063e-03,\n         0.00000000e+00]]), 6: array([[ 6.99743628e-18, -4.44089210e-16,  1.94316185e-02,\n         1.93288558e-01,  1.68073847e-01,  2.56885039e-02,\n         1.86885380e-04,  0.00000000e+00,  0.00000000e+00,\n         5.65233755e-04,  1.23021730e-01,  2.51112641e-01,\n         1.09330275e-01,  1.58490932e-02,  8.46785215e-04,\n         0.00000000e+00,  0.00000000e+00,  1.26477179e-02,\n         2.16600519e-01,  1.67091202e-01,  1.60660188e-02,\n         1.70442530e-03,  8.76416838e-05,  0.00000000e+00,\n         0.00000000e+00,  3.99424260e-02,  2.37500136e-01,\n         1.43069317e-01,  6.87972510e-02,  3.55096713e-02,\n         2.32524697e-03,  0.00000000e+00,  0.00000000e+00,\n         6.23041911e-02,  2.54786651e-01,  2.23742229e-01,\n         2.08102815e-01,  1.78698315e-01,  4.87531359e-02,\n         0.00000000e+00,  0.00000000e+00,  3.33967666e-02,\n         2.53180132e-01,  1.85217225e-01,  9.58029645e-02,\n         1.76659005e-01,  1.58260012e-01,  4.19698648e-03,\n         0.00000000e+00,  3.30090389e-03,  1.78837673e-01,\n         2.19697181e-01,  9.77566628e-02,  1.96329626e-01,\n         1.85666305e-01,  9.07755354e-03,  0.00000000e+00,\n         0.00000000e+00,  2.46668403e-02,  1.84663796e-01,\n         2.59738558e-01,  2.24968330e-01,  7.79720699e-02,\n         1.60341039e-03],\n       [ 3.52471270e-17,  2.77555756e-16, -9.11003092e-02,\n        -1.68834227e-01,  2.56207507e-01,  4.30684734e-02,\n         5.37692520e-04,  0.00000000e+00,  0.00000000e+00,\n        -2.24044738e-03, -2.93472278e-01,  5.40042902e-02,\n         3.32159677e-01,  3.41867359e-02,  2.41685903e-03,\n         0.00000000e+00,  0.00000000e+00, -4.61719086e-02,\n        -2.67265413e-01,  3.84119401e-01,  1.05228905e-01,\n         5.85298378e-03,  2.71603572e-04,  0.00000000e+00,\n         0.00000000e+00, -1.21759426e-01, -1.17044222e-01,\n         3.96319695e-01,  1.69517255e-01,  9.65302075e-02,\n         6.26711060e-03,  0.00000000e+00,  0.00000000e+00,\n        -1.38716558e-01, -7.62766798e-02,  1.07712249e-01,\n        -8.28155228e-02, -5.33923330e-02,  4.58586795e-02,\n         0.00000000e+00,  0.00000000e+00, -8.56833241e-02,\n        -1.26286570e-01,  1.42188535e-01,  2.52496352e-02,\n        -1.06138525e-02, -2.11084237e-02,  1.33279532e-02,\n         0.00000000e+00, -1.31423533e-02, -2.12089955e-01,\n         1.48630816e-01,  1.70415592e-01,  5.10220325e-02,\n        -3.28282751e-02,  2.08102932e-02,  0.00000000e+00,\n         0.00000000e+00, -9.05606625e-02, -1.68950497e-01,\n        -6.75413857e-02, -1.71876143e-03,  6.44824028e-02,\n         3.96590650e-03],\n       [ 7.63785043e-17, -4.44089210e-16,  1.10022941e-02,\n        -9.51802414e-03,  8.57813239e-02,  8.34563081e-02,\n         9.47394891e-04,  0.00000000e+00, -2.16840434e-19,\n         2.44301590e-03,  6.42778872e-02,  7.00619649e-03,\n         6.25123504e-02,  4.80303519e-02,  3.47476840e-03,\n         0.00000000e+00,  0.00000000e+00,  2.17397649e-02,\n         6.57073568e-02,  4.79735360e-02,  1.11209572e-04,\n         6.22314019e-03,  1.26220606e-03,  0.00000000e+00,\n         0.00000000e+00,  4.68314389e-02,  4.18248410e-02,\n        -5.76651922e-02, -3.03096178e-01, -1.93601785e-01,\n        -1.38528536e-02,  0.00000000e+00,  0.00000000e+00,\n         4.29425020e-02,  2.11817604e-02, -1.03375338e-01,\n        -1.53655697e-01, -4.45316021e-01, -2.47373962e-01,\n         0.00000000e+00,  0.00000000e+00,  5.05470273e-02,\n         2.39566305e-02,  1.65373818e-01,  4.76034042e-01,\n         3.03369663e-01, -3.34026485e-01, -3.00936102e-02,\n         0.00000000e+00,  1.17331739e-02,  6.01793844e-02,\n         7.99148775e-02,  1.64549669e-01,  1.06634343e-01,\n        -1.46460042e-01, -2.48032300e-02,  0.00000000e+00,\n         0.00000000e+00,  1.79020443e-02, -6.97046001e-03,\n        -8.69303162e-03, -4.26405815e-02, -2.21301957e-02,\n         3.29544983e-03]]), 7: array([[ 6.23060976e-18,  2.88692353e-03,  9.20319454e-02,\n         2.36792683e-01,  2.59064530e-01,  2.01104346e-01,\n         9.26879031e-02,  1.68632551e-02,  0.00000000e+00,\n         1.94856633e-02,  1.91518847e-01,  2.12043077e-01,\n         2.02104490e-01,  2.27830337e-01,  9.55729537e-02,\n         9.76661481e-03,  0.00000000e+00,  1.48914509e-02,\n         8.68432079e-02,  3.96102411e-02,  1.28697676e-01,\n         2.07173435e-01,  5.51796071e-02,  1.84203001e-03,\n         0.00000000e+00,  1.10570441e-02,  7.65615487e-02,\n         1.12687805e-01,  2.21110934e-01,  2.23572582e-01,\n         9.14390276e-02,  0.00000000e+00,  0.00000000e+00,\n         2.73107566e-02,  1.66688972e-01,  2.45666515e-01,\n         2.68470651e-01,  2.07081546e-01,  8.13598467e-02,\n         0.00000000e+00,  0.00000000e+00,  2.09649387e-02,\n         1.00858598e-01,  2.14701432e-01,  1.98123541e-01,\n         7.14341061e-02,  1.16117882e-02,  0.00000000e+00,\n         0.00000000e+00,  1.79149144e-03,  5.55929039e-02,\n         2.25562940e-01,  1.06648596e-01,  3.23050560e-03,\n         0.00000000e+00,  0.00000000e+00,  0.00000000e+00,\n         2.12107241e-03,  1.15579681e-01,  2.12813795e-01,\n         3.95049619e-02,  1.84470444e-04,  0.00000000e+00,\n         0.00000000e+00],\n       [-7.95780531e-18, -1.78893069e-02, -1.93794972e-01,\n        -1.17355999e-01,  3.89306903e-03,  2.41241282e-01,\n         2.63943789e-01,  7.22460981e-02,  0.00000000e+00,\n        -6.89777895e-02, -7.68468492e-02,  8.75513027e-02,\n        -9.62374842e-02,  1.16462335e-01,  3.06658436e-01,\n         5.59200221e-02,  0.00000000e+00, -1.86923859e-02,\n         1.49827597e-01,  2.65418558e-02, -3.35229985e-01,\n         9.65882225e-02,  1.87235781e-01,  1.06666023e-02,\n         0.00000000e+00,  2.12741740e-03,  1.50973498e-02,\n        -2.03267175e-01, -2.23937535e-01,  6.83555890e-02,\n        -4.31228608e-02,  0.00000000e+00,  0.00000000e+00,\n        -4.63118725e-02, -1.60021774e-01, -1.36109005e-01,\n         1.29353745e-02,  1.32035012e-01,  2.25816387e-02,\n         0.00000000e+00,  0.00000000e+00, -2.46637822e-02,\n        -8.39487053e-02, -1.65083688e-01,  2.25754317e-01,\n         1.49458869e-01,  1.19937830e-02,  0.00000000e+00,\n         0.00000000e+00, -8.11417834e-03, -1.99412353e-01,\n        -7.50155160e-02,  2.64991984e-01,  1.23618185e-02,\n         0.00000000e+00,  0.00000000e+00,  0.00000000e+00,\n        -1.34148690e-02, -2.60788008e-01,  1.50306835e-01,\n         1.37703849e-01,  9.59773321e-04,  0.00000000e+00,\n         0.00000000e+00],\n       [-5.96150151e-17, -7.67511078e-03, -5.67947950e-02,\n         4.55138289e-02, -2.23285912e-02, -1.40458857e-01,\n        -1.24261450e-01, -6.11440498e-02, -6.93889390e-18,\n        -7.48701036e-03,  1.03103055e-01,  4.06052790e-02,\n         5.40853669e-02, -1.82984842e-02, -1.87167156e-01,\n        -5.48516419e-02,  0.00000000e+00,  5.94386740e-02,\n         2.28548367e-01,  5.07650106e-03,  1.06695229e-01,\n        -2.71957851e-02, -2.03260825e-01, -1.46941486e-02,\n         0.00000000e+00, -3.09665347e-03, -2.18042513e-01,\n        -3.61370398e-01, -4.00401488e-02, -3.13286921e-01,\n        -4.16009535e-01,  0.00000000e+00,  0.00000000e+00,\n        -1.70661208e-02, -1.67761820e-01, -9.92274852e-03,\n         6.68193199e-02,  2.37951268e-01,  1.68924971e-01,\n         0.00000000e+00,  0.00000000e+00,  8.74856662e-02,\n         2.63349905e-01,  2.02281717e-01,  1.30769678e-01,\n         2.54202871e-01,  7.36175916e-02,  0.00000000e+00,\n         0.00000000e+00,  1.16876632e-03, -7.09076735e-02,\n         5.58741462e-02, -1.58935651e-02, -3.53031980e-03,\n         0.00000000e+00,  0.00000000e+00,  0.00000000e+00,\n        -4.03020116e-03, -6.07706230e-02,  7.21128743e-02,\n        -2.55288311e-02, -1.03550190e-03,  0.00000000e+00,\n         0.00000000e+00]]), 8: array([[ 7.60528801e-18,  2.37311380e-03,  8.68720618e-02,\n         2.03289340e-01,  2.15580388e-01,  1.06465641e-01,\n         8.83371176e-03,  0.00000000e+00,  5.04298599e-04,\n         3.42976663e-02,  2.15548302e-01,  2.00426713e-01,\n         1.63749514e-01,  2.02431660e-01,  4.29971878e-02,\n         0.00000000e+00,  1.01399178e-04,  5.17386455e-02,\n         2.02921426e-01,  1.29530930e-01,  1.37740284e-01,\n         2.04570326e-01,  3.74140237e-02,  0.00000000e+00,\n         0.00000000e+00,  2.04198548e-02,  1.49253777e-01,\n         2.29874733e-01,  2.32969667e-01,  1.22505719e-01,\n         8.65752915e-03,  0.00000000e+00,  0.00000000e+00,\n         7.24357186e-03,  1.21512464e-01,  2.44030000e-01,\n         2.25305529e-01,  7.62282684e-02,  1.80255532e-03,\n         0.00000000e+00,  0.00000000e+00,  1.96444186e-02,\n         1.87019674e-01,  1.48575650e-01,  1.59426112e-01,\n         1.49858870e-01,  2.26190403e-02,  0.00000000e+00,\n         0.00000000e+00,  1.74094515e-02,  1.92233700e-01,\n         1.41379639e-01,  1.46732844e-01,  1.68510485e-01,\n         4.02826969e-02,  9.18652645e-05,  0.00000000e+00,\n         2.43667740e-03,  8.67556052e-02,  2.21754979e-01,\n         2.27211522e-01,  1.17194808e-01,  2.01721131e-02,\n         1.60994446e-04],\n       [ 7.76947799e-18, -1.09856570e-02, -1.86610453e-01,\n        -8.02581217e-02,  7.32801689e-02,  6.46268212e-02,\n         1.29433474e-02,  0.00000000e+00, -7.28073381e-04,\n        -1.85842471e-02, -3.80597425e-02, -7.44956066e-03,\n        -6.32407136e-03,  4.22696444e-02,  3.53515276e-02,\n         1.29246971e-26,  3.89986390e-05,  8.72956671e-02,\n         6.34377460e-02, -1.82252390e-01, -2.69995234e-01,\n         2.04394760e-02,  6.76243663e-02,  0.00000000e+00,\n         0.00000000e+00,  4.32524523e-02,  1.28703684e-01,\n        -7.33659637e-02, -7.36707758e-03,  1.85181591e-01,\n         1.33545122e-02,  0.00000000e+00,  0.00000000e+00,\n        -2.07241615e-02, -1.66208961e-01, -8.46619656e-02,\n         1.71774923e-01,  2.63668408e-01,  1.08418322e-02,\n         0.00000000e+00,  0.00000000e+00, -3.66582714e-02,\n        -2.11059629e-01,  2.23384528e-02, -1.81941049e-01,\n         3.53512214e-01,  1.08826305e-01,  0.00000000e+00,\n         0.00000000e+00, -4.80415982e-02, -2.13028424e-01,\n         1.29230555e-01, -2.63288370e-01,  2.92056550e-01,\n         1.59461126e-01,  1.57301135e-04,  0.00000000e+00,\n        -1.05912859e-02, -2.18715649e-01, -1.04422496e-01,\n         1.25378337e-01,  2.97422697e-01,  6.88513892e-02,\n         3.70133080e-04],\n       [-6.35957818e-17, -2.08507353e-03, -2.46967138e-02,\n         7.14451365e-02,  1.16535631e-01,  1.39832945e-01,\n         2.04174687e-02,  0.00000000e+00,  2.77293304e-03,\n         8.74093684e-02,  1.83718782e-01, -9.62962329e-02,\n        -3.46702796e-02,  1.07518670e-01,  7.07151071e-02,\n         0.00000000e+00,  5.68277592e-04,  1.98214795e-01,\n         2.71172899e-01, -3.45082060e-01, -9.77992900e-02,\n        -8.19448389e-03,  2.05064867e-02,  0.00000000e+00,\n         0.00000000e+00,  1.02405558e-01,  4.03894915e-01,\n        -1.12864921e-01, -1.22405585e-01, -3.21879024e-02,\n        -3.72137724e-03,  0.00000000e+00,  0.00000000e+00,\n         5.90704354e-03, -6.31523784e-02, -4.93862841e-04,\n        -1.45624729e-01, -6.34075356e-02,  2.54367606e-03,\n         0.00000000e+00,  0.00000000e+00, -6.08591495e-02,\n        -2.80408856e-01,  2.97689576e-01,  1.15759678e-01,\n        -2.20463148e-01, -2.53091671e-03,  0.00000000e+00,\n         0.00000000e+00, -5.41315748e-02, -1.52960394e-01,\n         1.10262959e-01,  1.82688559e-01, -2.08847046e-01,\n        -8.04942234e-02,  1.39199509e-04,  0.00000000e+00,\n        -8.37262141e-03, -4.44076798e-02,  9.08864588e-02,\n        -2.72265381e-03, -1.90508249e-01, -1.31001585e-01,\n        -2.33337922e-03]]), 9: array([[ 6.75945492e-18,  2.60806131e-03,  1.05668670e-01,\n         2.18215809e-01,  2.04617946e-01,  1.04049971e-01,\n         2.48778764e-02,  2.06271884e-03,  0.00000000e+00,\n         4.50776460e-02,  2.33380132e-01,  1.74233012e-01,\n         1.86531545e-01,  2.08278252e-01,  4.32377973e-02,\n         2.03606138e-03,  0.00000000e+00,  6.67383016e-02,\n         2.28592483e-01,  1.00797175e-01,  1.53683627e-01,\n         2.56921043e-01,  5.61516193e-02,  7.60579144e-04,\n         0.00000000e+00,  3.40926907e-02,  1.87422432e-01,\n         2.20379660e-01,  2.39310171e-01,  2.56277122e-01,\n         7.09055894e-02,  0.00000000e+00,  0.00000000e+00,\n         2.62884152e-03,  5.08483917e-02,  9.24334309e-02,\n         9.13920372e-02,  2.13722574e-01,  9.07546682e-02,\n         0.00000000e+00,  0.00000000e+00,  2.97162033e-03,\n         9.98402239e-03,  1.03228807e-02,  4.10827228e-02,\n         1.80395288e-01,  1.09209722e-01,  4.32225884e-04,\n         0.00000000e+00,  1.27180349e-02,  1.16155256e-01,\n         9.20306609e-02,  1.05830194e-01,  1.96693461e-01,\n         9.60450951e-02,  1.91925041e-03,  0.00000000e+00,\n         1.70738659e-03,  1.06735341e-01,  2.21809353e-01,\n         2.41475159e-01,  1.64824339e-01,  3.76761217e-02,\n         8.64164020e-04],\n       [ 2.93281071e-18, -8.00085984e-03, -1.65481663e-01,\n        -1.96043233e-01,  6.27194098e-02,  3.31876093e-01,\n         2.34871933e-01,  1.94694048e-02,  0.00000000e+00,\n        -5.62344689e-02, -1.17044443e-01,  1.53998864e-01,\n        -3.41893719e-02,  4.18764514e-02,  2.93892708e-01,\n         2.03815339e-02,  0.00000000e+00,  1.38163796e-03,\n         9.50146396e-02,  9.14272003e-02, -8.52506626e-02,\n         5.86417339e-02,  2.04983837e-01,  7.79726911e-03,\n         0.00000000e+00,  6.76020450e-02,  2.22355128e-01,\n         8.63605100e-02,  7.52956160e-02,  3.41135403e-02,\n         4.32236200e-02,  0.00000000e+00,  0.00000000e+00,\n         1.35193299e-02,  1.54214267e-01,  1.41222302e-01,\n         1.69270435e-01,  3.44110984e-02, -1.23870747e-01,\n         0.00000000e+00,  0.00000000e+00,  2.73477364e-04,\n         2.00898797e-04,  3.98451946e-02,  2.49213923e-01,\n         3.82952114e-02, -2.39109588e-01, -1.67150085e-03,\n         0.00000000e+00, -8.99253760e-03, -1.51750316e-01,\n         2.00917266e-02,  2.20577862e-01, -1.12780357e-01,\n        -2.45705363e-01, -7.52391740e-03,  0.00000000e+00,\n        -4.67154246e-03, -1.55452856e-01, -1.74220147e-01,\n        -1.24992460e-01, -2.32139302e-01, -1.14283697e-01,\n        -3.36253659e-03],\n       [-2.64543300e-17, -3.42653540e-03, -1.39597566e-01,\n        -1.45773695e-01, -5.56315126e-02,  1.09628975e-01,\n         1.33796775e-01,  2.64485964e-02,  0.00000000e+00,\n        -1.29415417e-01, -1.96793033e-01,  1.63904813e-01,\n         9.78158134e-02, -5.90445664e-02,  1.37701097e-01,\n         2.22940209e-02,  0.00000000e+00, -2.38453172e-01,\n        -1.41507135e-02,  3.48151731e-01,  2.07451398e-01,\n        -2.31540200e-03,  7.89346867e-02,  6.70405523e-03,\n         0.00000000e+00, -1.29833780e-01, -2.84546712e-01,\n         6.98067237e-02, -1.35958862e-02,  7.39702005e-02,\n         9.19084429e-02,  0.00000000e+00,  0.00000000e+00,\n        -3.95219333e-03, -1.33123488e-01, -3.23850309e-01,\n        -3.69403374e-01,  1.27979576e-01,  7.61872026e-02,\n         0.00000000e+00,  0.00000000e+00,  1.66753224e-02,\n         7.67732052e-03, -9.79598823e-02, -1.45172331e-01,\n         1.91549505e-01,  1.88184773e-02,  1.52114718e-03,\n         0.00000000e+00,  2.58976541e-02,  3.76498926e-02,\n        -1.07378177e-01,  4.50561284e-02,  1.77306476e-01,\n        -1.22349552e-02,  3.71821499e-03,  0.00000000e+00,\n         2.45320986e-03, -1.40870092e-01, -1.54206905e-01,\n         1.15144242e-01,  1.11147826e-01, -2.21247822e-02,\n         4.68811556e-04]])}\n"
    }
   ],
   "source": [
    "def subspaces(labelled_data,k=3):\n",
    "    sub_space = dict()\n",
    "    for label,matrix in labelled_data.items():\n",
    "        U,s,vt = np.linalg.svd(matrix,full_matrices = False)\n",
    "        rank = min(k,np.linalg.matrix_rank(matrix))\n",
    "        sub_space[label] = vt[:rank,:]\n",
    "    return sub_space\n",
    "sub_data = subspaces(spl_data,k = 3)\n",
    "print(sub_data)"
   ]
  },
  {
   "cell_type": "markdown",
   "metadata": {},
   "source": [
    "g) Create a function `classification(spaces, x)` that takes a dictionary such as produced by `subspaces` above and a single vector and produces the label of the subspace with the smallest norm-2-distance. In the task above, this would have meant that classifying $sample4$ would have produced the label 4 rather than 9, since $sample4$ was closer to the subspace $Z_4$ than the subspace $Z_9$."
   ]
  },
  {
   "cell_type": "code",
   "execution_count": 38,
   "metadata": {},
   "outputs": [
    {
     "output_type": "execute_result",
     "data": {
      "text/plain": "4"
     },
     "metadata": {},
     "execution_count": 38
    }
   ],
   "source": [
    "def classification(spaces, x):\n",
    "    norm_2_dist = list()\n",
    "    for label,matrix in spaces.items():\n",
    "        coeffs_in_space = matrix @ x\n",
    "        sample_in_space = coeffs_in_space @ matrix\n",
    "        norm_2_dist.append((np.linalg.norm(sample_in_space - x),label))\n",
    "    closest = min(norm_2_dist)[1]   \n",
    "    return closest  \n",
    "d = classification(sub_data,sample4)\n",
    "d"
   ]
  },
  {
   "cell_type": "markdown",
   "metadata": {},
   "source": [
    "h) Now pick the first 600 rows as training and the remaining (about 1100) as validation sets. What percentage does the classifier get right? What happens if you pick $k = 5, 10, 100, 1000$? Try it out. (The sharp-eyed student will notice that not all of these choices make sense from a mathematical perspective.)"
   ]
  },
  {
   "cell_type": "code",
   "execution_count": 39,
   "metadata": {},
   "outputs": [
    {
     "output_type": "execute_result",
     "data": {
      "text/plain": "{5: 99.16457811194654,\n 10: 99.83291562238931,\n 100: 55.30492898913951,\n 1000: 55.30492898913951}"
     },
     "metadata": {},
     "execution_count": 39
    }
   ],
   "source": [
    "k_values = [5,10,100,1000]\n",
    "Classification_rate = dict.fromkeys(k_values)\n",
    "\n",
    "for k in k_values:\n",
    "    split = split_data(validation_digits, validation_labels, digits.target_names)\n",
    "    sub_space = subspaces(split, k)\n",
    "    labels = list(map(lambda x: classification(sub_space, x=x), validation_digits))\n",
    "    numerator = sum(labels==validation_labels)\n",
    "    Total = len(validation_labels)\n",
    "    Rate = (numerator/Total)*100\n",
    "    Classification_rate.update({k : Rate})\n",
    "Classification_rate  "
   ]
  },
  {
   "cell_type": "markdown",
   "metadata": {},
   "source": [
    "# 7. Encapsulating the classifier"
   ]
  },
  {
   "cell_type": "markdown",
   "metadata": {},
   "source": [
    "Above we have a set of functions floating around in a global namespace. If we change some data and rerun some cells, we might get unexpected results. We instead want to encapsulate this in a single class."
   ]
  },
  {
   "cell_type": "markdown",
   "metadata": {},
   "source": [
    "a) Create a class `NaiveProjection`. It should have the following properties:\n",
    "* An instance is created with `NaiveProjection(training_data, training_labels, all_labels, k)` where $k$ is optional (and defaults to 3). \n",
    "\n",
    "For instance, we should be able to run ```dig_class = NaiveProjection(training_data = digits.data[0:600,:], training_labels = digits.target[0:600], all_labels = digits.target_names)```.\n",
    "* The class should have a method called `classification` which takes vector and returns the classification of that vector as defined above (minimum 2-norm distance to the subspace).\n",
    "* The class should have a method called `hitrate` which takes a matrix of row vectors, a vector of correct labels and returns the rate of successfully classified \n",
    "* All data about subspaces and labels should be stored within the instance. We may not use any data stored outside (though it is of course OK to call outside functions). We should be able to create two (or more) independent classifiers\n",
    "\n",
    "```\n",
    "dig15 = NaiveProjection(digits.data[0:600, :], digits.target[0:600], k = 15)\n",
    "dig1 = NaiveProjection(digits.data[0:600, :], digits.target[0:600], k = 1)\n",
    "```\n",
    "which should be entirely independent."
   ]
  },
  {
   "cell_type": "code",
   "execution_count": 40,
   "metadata": {},
   "outputs": [],
   "source": [
    "class NaiveProjection:\n",
    "    def __init__(self, data, data_labels, labels, k=3):\n",
    "        self.data = data\n",
    "        self.data_labels = data_labels\n",
    "        self.labels = labels\n",
    "        self.k      = k\n",
    "        self.__split_data = self.split_data()\n",
    "        self.__subspaces = self.subspaces()\n",
    "        \n",
    "    def split_data(self):\n",
    "        split_data = dict()\n",
    "        for label in sorted(self.labels):\n",
    "            split_data[label] = self.data[self.data_labels == label]\n",
    "        return split_data\n",
    "\n",
    "    def subspaces(self):\n",
    "        sub_space = dict()\n",
    "        for label,matrix in self.__split_data.items():\n",
    "            U,S,Vt = np.linalg.svd(self.__split_data[label], full_matrices = False)\n",
    "            rank = min(self.k, np.linalg.matrix_rank(matrix))\n",
    "            sub_space[label] = Vt[:rank,]\n",
    "        return sub_space \n",
    "        \n",
    "    def classification(self, x):\n",
    "        norm_cal = list()\n",
    "        for label,matrix in self.__subspaces.items(): \n",
    "            coeffs_in_spaces = matrix @ x\n",
    "            sample_in_spaces = coeffs_in_spaces @ matrix\n",
    "            norm_cal.append((np.linalg.norm(sample_in_spaces - x), label))\n",
    "        closest = min(norm_cal)[1]\n",
    "        return closest\n",
    "        \n",
    "    def hitrate(self, check_digits, correct_labels):\n",
    "        labels = list(map(lambda x: self.classification(x=x), check_digits))\n",
    "        Classification_rate =  sum(labels == correct_labels)/len(labels)\n",
    "        return Classification_rate"
   ]
  },
  {
   "cell_type": "code",
   "execution_count": 41,
   "metadata": {
    "tags": []
   },
   "outputs": [
    {
     "output_type": "stream",
     "name": "stdout",
     "text": "Hit rate for k = 1: 0.9033333333333333\nHit rate for k = 15: 1.0\n"
    }
   ],
   "source": [
    "# You can test here\n",
    "dig1 = NaiveProjection(training_digits, training_labels, digits.target_names, k = 1)\n",
    "dig15 = NaiveProjection(training_digits, training_labels, digits.target_names, k = 15)\n",
    "\n",
    "print(f\"Hit rate for k = 1: {dig1.hitrate(training_digits, training_labels)}\")\n",
    "print(f\"Hit rate for k = 15: {dig15.hitrate(training_digits, training_labels)}\")"
   ]
  },
  {
   "cell_type": "markdown",
   "metadata": {},
   "source": [
    "There are several noteworthy issues here.\n",
    "* We have taken a few mathematical shortcuts.\n",
    "* There is no error handling. \n",
    "* We have not discussed overlapping subspaces, sampling strategies or the like.\n",
    "* It might make a lot more sense to classify a matrix of vectors, rather than a single vector (to utilise the speed of computations). \n",
    "\n",
    "Most of this is left to an actual statistics course. The interested reader is referred to for instance Strang - Linear algebra and learning from data, or Golub & van Loan - Matrix computations."
   ]
  },
  {
   "cell_type": "markdown",
   "metadata": {},
   "source": [
    "b) Experiment with different values of $k$ and training data/validation data sets. Plot the results using the library ```matplotlib```."
   ]
  },
  {
   "cell_type": "code",
   "execution_count": 42,
   "metadata": {},
   "outputs": [
    {
     "output_type": "display_data",
     "data": {
      "text/plain": "<Figure size 432x288 with 1 Axes>",
      "image/svg+xml": "<?xml version=\"1.0\" encoding=\"utf-8\" standalone=\"no\"?>\r\n<!DOCTYPE svg PUBLIC \"-//W3C//DTD SVG 1.1//EN\"\r\n  \"http://www.w3.org/Graphics/SVG/1.1/DTD/svg11.dtd\">\r\n<!-- Created with matplotlib (https://matplotlib.org/) -->\r\n<svg height=\"277.314375pt\" version=\"1.1\" viewBox=\"0 0 385.78125 277.314375\" width=\"385.78125pt\" xmlns=\"http://www.w3.org/2000/svg\" xmlns:xlink=\"http://www.w3.org/1999/xlink\">\r\n <defs>\r\n  <style type=\"text/css\">\r\n*{stroke-linecap:butt;stroke-linejoin:round;}\r\n  </style>\r\n </defs>\r\n <g id=\"figure_1\">\r\n  <g id=\"patch_1\">\r\n   <path d=\"M 0 277.314375 \r\nL 385.78125 277.314375 \r\nL 385.78125 0 \r\nL 0 0 \r\nz\r\n\" style=\"fill:none;\"/>\r\n  </g>\r\n  <g id=\"axes_1\">\r\n   <g id=\"patch_2\">\r\n    <path d=\"M 43.78125 239.758125 \r\nL 378.58125 239.758125 \r\nL 378.58125 22.318125 \r\nL 43.78125 22.318125 \r\nz\r\n\" style=\"fill:#ffffff;\"/>\r\n   </g>\r\n   <g id=\"matplotlib.axis_1\">\r\n    <g id=\"xtick_1\">\r\n     <g id=\"line2d_1\">\r\n      <defs>\r\n       <path d=\"M 0 0 \r\nL 0 3.5 \r\n\" id=\"m7307760674\" style=\"stroke:#000000;stroke-width:0.8;\"/>\r\n      </defs>\r\n      <g>\r\n       <use style=\"stroke:#000000;stroke-width:0.8;\" x=\"58.999432\" xlink:href=\"#m7307760674\" y=\"239.758125\"/>\r\n      </g>\r\n     </g>\r\n     <g id=\"text_1\">\r\n      <!-- 0 -->\r\n      <defs>\r\n       <path d=\"M 31.78125 66.40625 \r\nQ 24.171875 66.40625 20.328125 58.90625 \r\nQ 16.5 51.421875 16.5 36.375 \r\nQ 16.5 21.390625 20.328125 13.890625 \r\nQ 24.171875 6.390625 31.78125 6.390625 \r\nQ 39.453125 6.390625 43.28125 13.890625 \r\nQ 47.125 21.390625 47.125 36.375 \r\nQ 47.125 51.421875 43.28125 58.90625 \r\nQ 39.453125 66.40625 31.78125 66.40625 \r\nz\r\nM 31.78125 74.21875 \r\nQ 44.046875 74.21875 50.515625 64.515625 \r\nQ 56.984375 54.828125 56.984375 36.375 \r\nQ 56.984375 17.96875 50.515625 8.265625 \r\nQ 44.046875 -1.421875 31.78125 -1.421875 \r\nQ 19.53125 -1.421875 13.0625 8.265625 \r\nQ 6.59375 17.96875 6.59375 36.375 \r\nQ 6.59375 54.828125 13.0625 64.515625 \r\nQ 19.53125 74.21875 31.78125 74.21875 \r\nz\r\n\" id=\"DejaVuSans-48\"/>\r\n      </defs>\r\n      <g transform=\"translate(55.818182 254.356562)scale(0.1 -0.1)\">\r\n       <use xlink:href=\"#DejaVuSans-48\"/>\r\n      </g>\r\n     </g>\r\n    </g>\r\n    <g id=\"xtick_2\">\r\n     <g id=\"line2d_2\">\r\n      <g>\r\n       <use style=\"stroke:#000000;stroke-width:0.8;\" x=\"126.635795\" xlink:href=\"#m7307760674\" y=\"239.758125\"/>\r\n      </g>\r\n     </g>\r\n     <g id=\"text_2\">\r\n      <!-- 2 -->\r\n      <defs>\r\n       <path d=\"M 19.1875 8.296875 \r\nL 53.609375 8.296875 \r\nL 53.609375 0 \r\nL 7.328125 0 \r\nL 7.328125 8.296875 \r\nQ 12.9375 14.109375 22.625 23.890625 \r\nQ 32.328125 33.6875 34.8125 36.53125 \r\nQ 39.546875 41.84375 41.421875 45.53125 \r\nQ 43.3125 49.21875 43.3125 52.78125 \r\nQ 43.3125 58.59375 39.234375 62.25 \r\nQ 35.15625 65.921875 28.609375 65.921875 \r\nQ 23.96875 65.921875 18.8125 64.3125 \r\nQ 13.671875 62.703125 7.8125 59.421875 \r\nL 7.8125 69.390625 \r\nQ 13.765625 71.78125 18.9375 73 \r\nQ 24.125 74.21875 28.421875 74.21875 \r\nQ 39.75 74.21875 46.484375 68.546875 \r\nQ 53.21875 62.890625 53.21875 53.421875 \r\nQ 53.21875 48.921875 51.53125 44.890625 \r\nQ 49.859375 40.875 45.40625 35.40625 \r\nQ 44.1875 33.984375 37.640625 27.21875 \r\nQ 31.109375 20.453125 19.1875 8.296875 \r\nz\r\n\" id=\"DejaVuSans-50\"/>\r\n      </defs>\r\n      <g transform=\"translate(123.454545 254.356562)scale(0.1 -0.1)\">\r\n       <use xlink:href=\"#DejaVuSans-50\"/>\r\n      </g>\r\n     </g>\r\n    </g>\r\n    <g id=\"xtick_3\">\r\n     <g id=\"line2d_3\">\r\n      <g>\r\n       <use style=\"stroke:#000000;stroke-width:0.8;\" x=\"194.272159\" xlink:href=\"#m7307760674\" y=\"239.758125\"/>\r\n      </g>\r\n     </g>\r\n     <g id=\"text_3\">\r\n      <!-- 4 -->\r\n      <defs>\r\n       <path d=\"M 37.796875 64.3125 \r\nL 12.890625 25.390625 \r\nL 37.796875 25.390625 \r\nz\r\nM 35.203125 72.90625 \r\nL 47.609375 72.90625 \r\nL 47.609375 25.390625 \r\nL 58.015625 25.390625 \r\nL 58.015625 17.1875 \r\nL 47.609375 17.1875 \r\nL 47.609375 0 \r\nL 37.796875 0 \r\nL 37.796875 17.1875 \r\nL 4.890625 17.1875 \r\nL 4.890625 26.703125 \r\nz\r\n\" id=\"DejaVuSans-52\"/>\r\n      </defs>\r\n      <g transform=\"translate(191.090909 254.356562)scale(0.1 -0.1)\">\r\n       <use xlink:href=\"#DejaVuSans-52\"/>\r\n      </g>\r\n     </g>\r\n    </g>\r\n    <g id=\"xtick_4\">\r\n     <g id=\"line2d_4\">\r\n      <g>\r\n       <use style=\"stroke:#000000;stroke-width:0.8;\" x=\"261.908523\" xlink:href=\"#m7307760674\" y=\"239.758125\"/>\r\n      </g>\r\n     </g>\r\n     <g id=\"text_4\">\r\n      <!-- 6 -->\r\n      <defs>\r\n       <path d=\"M 33.015625 40.375 \r\nQ 26.375 40.375 22.484375 35.828125 \r\nQ 18.609375 31.296875 18.609375 23.390625 \r\nQ 18.609375 15.53125 22.484375 10.953125 \r\nQ 26.375 6.390625 33.015625 6.390625 \r\nQ 39.65625 6.390625 43.53125 10.953125 \r\nQ 47.40625 15.53125 47.40625 23.390625 \r\nQ 47.40625 31.296875 43.53125 35.828125 \r\nQ 39.65625 40.375 33.015625 40.375 \r\nz\r\nM 52.59375 71.296875 \r\nL 52.59375 62.3125 \r\nQ 48.875 64.0625 45.09375 64.984375 \r\nQ 41.3125 65.921875 37.59375 65.921875 \r\nQ 27.828125 65.921875 22.671875 59.328125 \r\nQ 17.53125 52.734375 16.796875 39.40625 \r\nQ 19.671875 43.65625 24.015625 45.921875 \r\nQ 28.375 48.1875 33.59375 48.1875 \r\nQ 44.578125 48.1875 50.953125 41.515625 \r\nQ 57.328125 34.859375 57.328125 23.390625 \r\nQ 57.328125 12.15625 50.6875 5.359375 \r\nQ 44.046875 -1.421875 33.015625 -1.421875 \r\nQ 20.359375 -1.421875 13.671875 8.265625 \r\nQ 6.984375 17.96875 6.984375 36.375 \r\nQ 6.984375 53.65625 15.1875 63.9375 \r\nQ 23.390625 74.21875 37.203125 74.21875 \r\nQ 40.921875 74.21875 44.703125 73.484375 \r\nQ 48.484375 72.75 52.59375 71.296875 \r\nz\r\n\" id=\"DejaVuSans-54\"/>\r\n      </defs>\r\n      <g transform=\"translate(258.727273 254.356562)scale(0.1 -0.1)\">\r\n       <use xlink:href=\"#DejaVuSans-54\"/>\r\n      </g>\r\n     </g>\r\n    </g>\r\n    <g id=\"xtick_5\">\r\n     <g id=\"line2d_5\">\r\n      <g>\r\n       <use style=\"stroke:#000000;stroke-width:0.8;\" x=\"329.544886\" xlink:href=\"#m7307760674\" y=\"239.758125\"/>\r\n      </g>\r\n     </g>\r\n     <g id=\"text_5\">\r\n      <!-- 8 -->\r\n      <defs>\r\n       <path d=\"M 31.78125 34.625 \r\nQ 24.75 34.625 20.71875 30.859375 \r\nQ 16.703125 27.09375 16.703125 20.515625 \r\nQ 16.703125 13.921875 20.71875 10.15625 \r\nQ 24.75 6.390625 31.78125 6.390625 \r\nQ 38.8125 6.390625 42.859375 10.171875 \r\nQ 46.921875 13.96875 46.921875 20.515625 \r\nQ 46.921875 27.09375 42.890625 30.859375 \r\nQ 38.875 34.625 31.78125 34.625 \r\nz\r\nM 21.921875 38.8125 \r\nQ 15.578125 40.375 12.03125 44.71875 \r\nQ 8.5 49.078125 8.5 55.328125 \r\nQ 8.5 64.0625 14.71875 69.140625 \r\nQ 20.953125 74.21875 31.78125 74.21875 \r\nQ 42.671875 74.21875 48.875 69.140625 \r\nQ 55.078125 64.0625 55.078125 55.328125 \r\nQ 55.078125 49.078125 51.53125 44.71875 \r\nQ 48 40.375 41.703125 38.8125 \r\nQ 48.828125 37.15625 52.796875 32.3125 \r\nQ 56.78125 27.484375 56.78125 20.515625 \r\nQ 56.78125 9.90625 50.3125 4.234375 \r\nQ 43.84375 -1.421875 31.78125 -1.421875 \r\nQ 19.734375 -1.421875 13.25 4.234375 \r\nQ 6.78125 9.90625 6.78125 20.515625 \r\nQ 6.78125 27.484375 10.78125 32.3125 \r\nQ 14.796875 37.15625 21.921875 38.8125 \r\nz\r\nM 18.3125 54.390625 \r\nQ 18.3125 48.734375 21.84375 45.5625 \r\nQ 25.390625 42.390625 31.78125 42.390625 \r\nQ 38.140625 42.390625 41.71875 45.5625 \r\nQ 45.3125 48.734375 45.3125 54.390625 \r\nQ 45.3125 60.0625 41.71875 63.234375 \r\nQ 38.140625 66.40625 31.78125 66.40625 \r\nQ 25.390625 66.40625 21.84375 63.234375 \r\nQ 18.3125 60.0625 18.3125 54.390625 \r\nz\r\n\" id=\"DejaVuSans-56\"/>\r\n      </defs>\r\n      <g transform=\"translate(326.363636 254.356562)scale(0.1 -0.1)\">\r\n       <use xlink:href=\"#DejaVuSans-56\"/>\r\n      </g>\r\n     </g>\r\n    </g>\r\n    <g id=\"text_6\">\r\n     <!-- K-values -->\r\n     <defs>\r\n      <path d=\"M 9.8125 72.90625 \r\nL 19.671875 72.90625 \r\nL 19.671875 42.09375 \r\nL 52.390625 72.90625 \r\nL 65.09375 72.90625 \r\nL 28.90625 38.921875 \r\nL 67.671875 0 \r\nL 54.6875 0 \r\nL 19.671875 35.109375 \r\nL 19.671875 0 \r\nL 9.8125 0 \r\nz\r\n\" id=\"DejaVuSans-75\"/>\r\n      <path d=\"M 4.890625 31.390625 \r\nL 31.203125 31.390625 \r\nL 31.203125 23.390625 \r\nL 4.890625 23.390625 \r\nz\r\n\" id=\"DejaVuSans-45\"/>\r\n      <path d=\"M 2.984375 54.6875 \r\nL 12.5 54.6875 \r\nL 29.59375 8.796875 \r\nL 46.6875 54.6875 \r\nL 56.203125 54.6875 \r\nL 35.6875 0 \r\nL 23.484375 0 \r\nz\r\n\" id=\"DejaVuSans-118\"/>\r\n      <path d=\"M 34.28125 27.484375 \r\nQ 23.390625 27.484375 19.1875 25 \r\nQ 14.984375 22.515625 14.984375 16.5 \r\nQ 14.984375 11.71875 18.140625 8.90625 \r\nQ 21.296875 6.109375 26.703125 6.109375 \r\nQ 34.1875 6.109375 38.703125 11.40625 \r\nQ 43.21875 16.703125 43.21875 25.484375 \r\nL 43.21875 27.484375 \r\nz\r\nM 52.203125 31.203125 \r\nL 52.203125 0 \r\nL 43.21875 0 \r\nL 43.21875 8.296875 \r\nQ 40.140625 3.328125 35.546875 0.953125 \r\nQ 30.953125 -1.421875 24.3125 -1.421875 \r\nQ 15.921875 -1.421875 10.953125 3.296875 \r\nQ 6 8.015625 6 15.921875 \r\nQ 6 25.140625 12.171875 29.828125 \r\nQ 18.359375 34.515625 30.609375 34.515625 \r\nL 43.21875 34.515625 \r\nL 43.21875 35.40625 \r\nQ 43.21875 41.609375 39.140625 45 \r\nQ 35.0625 48.390625 27.6875 48.390625 \r\nQ 23 48.390625 18.546875 47.265625 \r\nQ 14.109375 46.140625 10.015625 43.890625 \r\nL 10.015625 52.203125 \r\nQ 14.9375 54.109375 19.578125 55.046875 \r\nQ 24.21875 56 28.609375 56 \r\nQ 40.484375 56 46.34375 49.84375 \r\nQ 52.203125 43.703125 52.203125 31.203125 \r\nz\r\n\" id=\"DejaVuSans-97\"/>\r\n      <path d=\"M 9.421875 75.984375 \r\nL 18.40625 75.984375 \r\nL 18.40625 0 \r\nL 9.421875 0 \r\nz\r\n\" id=\"DejaVuSans-108\"/>\r\n      <path d=\"M 8.5 21.578125 \r\nL 8.5 54.6875 \r\nL 17.484375 54.6875 \r\nL 17.484375 21.921875 \r\nQ 17.484375 14.15625 20.5 10.265625 \r\nQ 23.53125 6.390625 29.59375 6.390625 \r\nQ 36.859375 6.390625 41.078125 11.03125 \r\nQ 45.3125 15.671875 45.3125 23.6875 \r\nL 45.3125 54.6875 \r\nL 54.296875 54.6875 \r\nL 54.296875 0 \r\nL 45.3125 0 \r\nL 45.3125 8.40625 \r\nQ 42.046875 3.421875 37.71875 1 \r\nQ 33.40625 -1.421875 27.6875 -1.421875 \r\nQ 18.265625 -1.421875 13.375 4.4375 \r\nQ 8.5 10.296875 8.5 21.578125 \r\nz\r\nM 31.109375 56 \r\nz\r\n\" id=\"DejaVuSans-117\"/>\r\n      <path d=\"M 56.203125 29.59375 \r\nL 56.203125 25.203125 \r\nL 14.890625 25.203125 \r\nQ 15.484375 15.921875 20.484375 11.0625 \r\nQ 25.484375 6.203125 34.421875 6.203125 \r\nQ 39.59375 6.203125 44.453125 7.46875 \r\nQ 49.3125 8.734375 54.109375 11.28125 \r\nL 54.109375 2.78125 \r\nQ 49.265625 0.734375 44.1875 -0.34375 \r\nQ 39.109375 -1.421875 33.890625 -1.421875 \r\nQ 20.796875 -1.421875 13.15625 6.1875 \r\nQ 5.515625 13.8125 5.515625 26.8125 \r\nQ 5.515625 40.234375 12.765625 48.109375 \r\nQ 20.015625 56 32.328125 56 \r\nQ 43.359375 56 49.78125 48.890625 \r\nQ 56.203125 41.796875 56.203125 29.59375 \r\nz\r\nM 47.21875 32.234375 \r\nQ 47.125 39.59375 43.09375 43.984375 \r\nQ 39.0625 48.390625 32.421875 48.390625 \r\nQ 24.90625 48.390625 20.390625 44.140625 \r\nQ 15.875 39.890625 15.1875 32.171875 \r\nz\r\n\" id=\"DejaVuSans-101\"/>\r\n      <path d=\"M 44.28125 53.078125 \r\nL 44.28125 44.578125 \r\nQ 40.484375 46.53125 36.375 47.5 \r\nQ 32.28125 48.484375 27.875 48.484375 \r\nQ 21.1875 48.484375 17.84375 46.4375 \r\nQ 14.5 44.390625 14.5 40.28125 \r\nQ 14.5 37.15625 16.890625 35.375 \r\nQ 19.28125 33.59375 26.515625 31.984375 \r\nL 29.59375 31.296875 \r\nQ 39.15625 29.25 43.1875 25.515625 \r\nQ 47.21875 21.78125 47.21875 15.09375 \r\nQ 47.21875 7.46875 41.1875 3.015625 \r\nQ 35.15625 -1.421875 24.609375 -1.421875 \r\nQ 20.21875 -1.421875 15.453125 -0.5625 \r\nQ 10.6875 0.296875 5.421875 2 \r\nL 5.421875 11.28125 \r\nQ 10.40625 8.6875 15.234375 7.390625 \r\nQ 20.0625 6.109375 24.8125 6.109375 \r\nQ 31.15625 6.109375 34.5625 8.28125 \r\nQ 37.984375 10.453125 37.984375 14.40625 \r\nQ 37.984375 18.0625 35.515625 20.015625 \r\nQ 33.0625 21.96875 24.703125 23.78125 \r\nL 21.578125 24.515625 \r\nQ 13.234375 26.265625 9.515625 29.90625 \r\nQ 5.8125 33.546875 5.8125 39.890625 \r\nQ 5.8125 47.609375 11.28125 51.796875 \r\nQ 16.75 56 26.8125 56 \r\nQ 31.78125 56 36.171875 55.265625 \r\nQ 40.578125 54.546875 44.28125 53.078125 \r\nz\r\n\" id=\"DejaVuSans-115\"/>\r\n     </defs>\r\n     <g transform=\"translate(190.492188 268.034687)scale(0.1 -0.1)\">\r\n      <use xlink:href=\"#DejaVuSans-75\"/>\r\n      <use x=\"55.076172\" xlink:href=\"#DejaVuSans-45\"/>\r\n      <use x=\"88.535156\" xlink:href=\"#DejaVuSans-118\"/>\r\n      <use x=\"147.714844\" xlink:href=\"#DejaVuSans-97\"/>\r\n      <use x=\"208.994141\" xlink:href=\"#DejaVuSans-108\"/>\r\n      <use x=\"236.777344\" xlink:href=\"#DejaVuSans-117\"/>\r\n      <use x=\"300.15625\" xlink:href=\"#DejaVuSans-101\"/>\r\n      <use x=\"361.679688\" xlink:href=\"#DejaVuSans-115\"/>\r\n     </g>\r\n    </g>\r\n   </g>\r\n   <g id=\"matplotlib.axis_2\">\r\n    <g id=\"ytick_1\">\r\n     <g id=\"line2d_6\">\r\n      <defs>\r\n       <path d=\"M 0 0 \r\nL -3.5 0 \r\n\" id=\"m61a4e61dd1\" style=\"stroke:#000000;stroke-width:0.8;\"/>\r\n      </defs>\r\n      <g>\r\n       <use style=\"stroke:#000000;stroke-width:0.8;\" x=\"43.78125\" xlink:href=\"#m61a4e61dd1\" y=\"207.147606\"/>\r\n      </g>\r\n     </g>\r\n     <g id=\"text_7\">\r\n      <!-- 0.2 -->\r\n      <defs>\r\n       <path d=\"M 10.6875 12.40625 \r\nL 21 12.40625 \r\nL 21 0 \r\nL 10.6875 0 \r\nz\r\n\" id=\"DejaVuSans-46\"/>\r\n      </defs>\r\n      <g transform=\"translate(20.878125 210.946825)scale(0.1 -0.1)\">\r\n       <use xlink:href=\"#DejaVuSans-48\"/>\r\n       <use x=\"63.623047\" xlink:href=\"#DejaVuSans-46\"/>\r\n       <use x=\"95.410156\" xlink:href=\"#DejaVuSans-50\"/>\r\n      </g>\r\n     </g>\r\n    </g>\r\n    <g id=\"ytick_2\">\r\n     <g id=\"line2d_7\">\r\n      <g>\r\n       <use style=\"stroke:#000000;stroke-width:0.8;\" x=\"43.78125\" xlink:href=\"#m61a4e61dd1\" y=\"163.411145\"/>\r\n      </g>\r\n     </g>\r\n     <g id=\"text_8\">\r\n      <!-- 0.4 -->\r\n      <g transform=\"translate(20.878125 167.210363)scale(0.1 -0.1)\">\r\n       <use xlink:href=\"#DejaVuSans-48\"/>\r\n       <use x=\"63.623047\" xlink:href=\"#DejaVuSans-46\"/>\r\n       <use x=\"95.410156\" xlink:href=\"#DejaVuSans-52\"/>\r\n      </g>\r\n     </g>\r\n    </g>\r\n    <g id=\"ytick_3\">\r\n     <g id=\"line2d_8\">\r\n      <g>\r\n       <use style=\"stroke:#000000;stroke-width:0.8;\" x=\"43.78125\" xlink:href=\"#m61a4e61dd1\" y=\"119.674684\"/>\r\n      </g>\r\n     </g>\r\n     <g id=\"text_9\">\r\n      <!-- 0.6 -->\r\n      <g transform=\"translate(20.878125 123.473902)scale(0.1 -0.1)\">\r\n       <use xlink:href=\"#DejaVuSans-48\"/>\r\n       <use x=\"63.623047\" xlink:href=\"#DejaVuSans-46\"/>\r\n       <use x=\"95.410156\" xlink:href=\"#DejaVuSans-54\"/>\r\n      </g>\r\n     </g>\r\n    </g>\r\n    <g id=\"ytick_4\">\r\n     <g id=\"line2d_9\">\r\n      <g>\r\n       <use style=\"stroke:#000000;stroke-width:0.8;\" x=\"43.78125\" xlink:href=\"#m61a4e61dd1\" y=\"75.938222\"/>\r\n      </g>\r\n     </g>\r\n     <g id=\"text_10\">\r\n      <!-- 0.8 -->\r\n      <g transform=\"translate(20.878125 79.737441)scale(0.1 -0.1)\">\r\n       <use xlink:href=\"#DejaVuSans-48\"/>\r\n       <use x=\"63.623047\" xlink:href=\"#DejaVuSans-46\"/>\r\n       <use x=\"95.410156\" xlink:href=\"#DejaVuSans-56\"/>\r\n      </g>\r\n     </g>\r\n    </g>\r\n    <g id=\"ytick_5\">\r\n     <g id=\"line2d_10\">\r\n      <g>\r\n       <use style=\"stroke:#000000;stroke-width:0.8;\" x=\"43.78125\" xlink:href=\"#m61a4e61dd1\" y=\"32.201761\"/>\r\n      </g>\r\n     </g>\r\n     <g id=\"text_11\">\r\n      <!-- 1.0 -->\r\n      <defs>\r\n       <path d=\"M 12.40625 8.296875 \r\nL 28.515625 8.296875 \r\nL 28.515625 63.921875 \r\nL 10.984375 60.40625 \r\nL 10.984375 69.390625 \r\nL 28.421875 72.90625 \r\nL 38.28125 72.90625 \r\nL 38.28125 8.296875 \r\nL 54.390625 8.296875 \r\nL 54.390625 0 \r\nL 12.40625 0 \r\nz\r\n\" id=\"DejaVuSans-49\"/>\r\n      </defs>\r\n      <g transform=\"translate(20.878125 36.00098)scale(0.1 -0.1)\">\r\n       <use xlink:href=\"#DejaVuSans-49\"/>\r\n       <use x=\"63.623047\" xlink:href=\"#DejaVuSans-46\"/>\r\n       <use x=\"95.410156\" xlink:href=\"#DejaVuSans-48\"/>\r\n      </g>\r\n     </g>\r\n    </g>\r\n    <g id=\"text_12\">\r\n     <!-- Classcification Rate -->\r\n     <defs>\r\n      <path d=\"M 64.40625 67.28125 \r\nL 64.40625 56.890625 \r\nQ 59.421875 61.53125 53.78125 63.8125 \r\nQ 48.140625 66.109375 41.796875 66.109375 \r\nQ 29.296875 66.109375 22.65625 58.46875 \r\nQ 16.015625 50.828125 16.015625 36.375 \r\nQ 16.015625 21.96875 22.65625 14.328125 \r\nQ 29.296875 6.6875 41.796875 6.6875 \r\nQ 48.140625 6.6875 53.78125 8.984375 \r\nQ 59.421875 11.28125 64.40625 15.921875 \r\nL 64.40625 5.609375 \r\nQ 59.234375 2.09375 53.4375 0.328125 \r\nQ 47.65625 -1.421875 41.21875 -1.421875 \r\nQ 24.65625 -1.421875 15.125 8.703125 \r\nQ 5.609375 18.84375 5.609375 36.375 \r\nQ 5.609375 53.953125 15.125 64.078125 \r\nQ 24.65625 74.21875 41.21875 74.21875 \r\nQ 47.75 74.21875 53.53125 72.484375 \r\nQ 59.328125 70.75 64.40625 67.28125 \r\nz\r\n\" id=\"DejaVuSans-67\"/>\r\n      <path d=\"M 48.78125 52.59375 \r\nL 48.78125 44.1875 \r\nQ 44.96875 46.296875 41.140625 47.34375 \r\nQ 37.3125 48.390625 33.40625 48.390625 \r\nQ 24.65625 48.390625 19.8125 42.84375 \r\nQ 14.984375 37.3125 14.984375 27.296875 \r\nQ 14.984375 17.28125 19.8125 11.734375 \r\nQ 24.65625 6.203125 33.40625 6.203125 \r\nQ 37.3125 6.203125 41.140625 7.25 \r\nQ 44.96875 8.296875 48.78125 10.40625 \r\nL 48.78125 2.09375 \r\nQ 45.015625 0.34375 40.984375 -0.53125 \r\nQ 36.96875 -1.421875 32.421875 -1.421875 \r\nQ 20.0625 -1.421875 12.78125 6.34375 \r\nQ 5.515625 14.109375 5.515625 27.296875 \r\nQ 5.515625 40.671875 12.859375 48.328125 \r\nQ 20.21875 56 33.015625 56 \r\nQ 37.15625 56 41.109375 55.140625 \r\nQ 45.0625 54.296875 48.78125 52.59375 \r\nz\r\n\" id=\"DejaVuSans-99\"/>\r\n      <path d=\"M 9.421875 54.6875 \r\nL 18.40625 54.6875 \r\nL 18.40625 0 \r\nL 9.421875 0 \r\nz\r\nM 9.421875 75.984375 \r\nL 18.40625 75.984375 \r\nL 18.40625 64.59375 \r\nL 9.421875 64.59375 \r\nz\r\n\" id=\"DejaVuSans-105\"/>\r\n      <path d=\"M 37.109375 75.984375 \r\nL 37.109375 68.5 \r\nL 28.515625 68.5 \r\nQ 23.6875 68.5 21.796875 66.546875 \r\nQ 19.921875 64.59375 19.921875 59.515625 \r\nL 19.921875 54.6875 \r\nL 34.71875 54.6875 \r\nL 34.71875 47.703125 \r\nL 19.921875 47.703125 \r\nL 19.921875 0 \r\nL 10.890625 0 \r\nL 10.890625 47.703125 \r\nL 2.296875 47.703125 \r\nL 2.296875 54.6875 \r\nL 10.890625 54.6875 \r\nL 10.890625 58.5 \r\nQ 10.890625 67.625 15.140625 71.796875 \r\nQ 19.390625 75.984375 28.609375 75.984375 \r\nz\r\n\" id=\"DejaVuSans-102\"/>\r\n      <path d=\"M 18.3125 70.21875 \r\nL 18.3125 54.6875 \r\nL 36.8125 54.6875 \r\nL 36.8125 47.703125 \r\nL 18.3125 47.703125 \r\nL 18.3125 18.015625 \r\nQ 18.3125 11.328125 20.140625 9.421875 \r\nQ 21.96875 7.515625 27.59375 7.515625 \r\nL 36.8125 7.515625 \r\nL 36.8125 0 \r\nL 27.59375 0 \r\nQ 17.1875 0 13.234375 3.875 \r\nQ 9.28125 7.765625 9.28125 18.015625 \r\nL 9.28125 47.703125 \r\nL 2.6875 47.703125 \r\nL 2.6875 54.6875 \r\nL 9.28125 54.6875 \r\nL 9.28125 70.21875 \r\nz\r\n\" id=\"DejaVuSans-116\"/>\r\n      <path d=\"M 30.609375 48.390625 \r\nQ 23.390625 48.390625 19.1875 42.75 \r\nQ 14.984375 37.109375 14.984375 27.296875 \r\nQ 14.984375 17.484375 19.15625 11.84375 \r\nQ 23.34375 6.203125 30.609375 6.203125 \r\nQ 37.796875 6.203125 41.984375 11.859375 \r\nQ 46.1875 17.53125 46.1875 27.296875 \r\nQ 46.1875 37.015625 41.984375 42.703125 \r\nQ 37.796875 48.390625 30.609375 48.390625 \r\nz\r\nM 30.609375 56 \r\nQ 42.328125 56 49.015625 48.375 \r\nQ 55.71875 40.765625 55.71875 27.296875 \r\nQ 55.71875 13.875 49.015625 6.21875 \r\nQ 42.328125 -1.421875 30.609375 -1.421875 \r\nQ 18.84375 -1.421875 12.171875 6.21875 \r\nQ 5.515625 13.875 5.515625 27.296875 \r\nQ 5.515625 40.765625 12.171875 48.375 \r\nQ 18.84375 56 30.609375 56 \r\nz\r\n\" id=\"DejaVuSans-111\"/>\r\n      <path d=\"M 54.890625 33.015625 \r\nL 54.890625 0 \r\nL 45.90625 0 \r\nL 45.90625 32.71875 \r\nQ 45.90625 40.484375 42.875 44.328125 \r\nQ 39.84375 48.1875 33.796875 48.1875 \r\nQ 26.515625 48.1875 22.3125 43.546875 \r\nQ 18.109375 38.921875 18.109375 30.90625 \r\nL 18.109375 0 \r\nL 9.078125 0 \r\nL 9.078125 54.6875 \r\nL 18.109375 54.6875 \r\nL 18.109375 46.1875 \r\nQ 21.34375 51.125 25.703125 53.5625 \r\nQ 30.078125 56 35.796875 56 \r\nQ 45.21875 56 50.046875 50.171875 \r\nQ 54.890625 44.34375 54.890625 33.015625 \r\nz\r\n\" id=\"DejaVuSans-110\"/>\r\n      <path id=\"DejaVuSans-32\"/>\r\n      <path d=\"M 44.390625 34.1875 \r\nQ 47.5625 33.109375 50.5625 29.59375 \r\nQ 53.5625 26.078125 56.59375 19.921875 \r\nL 66.609375 0 \r\nL 56 0 \r\nL 46.6875 18.703125 \r\nQ 43.0625 26.03125 39.671875 28.421875 \r\nQ 36.28125 30.8125 30.421875 30.8125 \r\nL 19.671875 30.8125 \r\nL 19.671875 0 \r\nL 9.8125 0 \r\nL 9.8125 72.90625 \r\nL 32.078125 72.90625 \r\nQ 44.578125 72.90625 50.734375 67.671875 \r\nQ 56.890625 62.453125 56.890625 51.90625 \r\nQ 56.890625 45.015625 53.6875 40.46875 \r\nQ 50.484375 35.9375 44.390625 34.1875 \r\nz\r\nM 19.671875 64.796875 \r\nL 19.671875 38.921875 \r\nL 32.078125 38.921875 \r\nQ 39.203125 38.921875 42.84375 42.21875 \r\nQ 46.484375 45.515625 46.484375 51.90625 \r\nQ 46.484375 58.296875 42.84375 61.546875 \r\nQ 39.203125 64.796875 32.078125 64.796875 \r\nz\r\n\" id=\"DejaVuSans-82\"/>\r\n     </defs>\r\n     <g transform=\"translate(14.798438 179.921719)rotate(-90)scale(0.1 -0.1)\">\r\n      <use xlink:href=\"#DejaVuSans-67\"/>\r\n      <use x=\"69.824219\" xlink:href=\"#DejaVuSans-108\"/>\r\n      <use x=\"97.607422\" xlink:href=\"#DejaVuSans-97\"/>\r\n      <use x=\"158.886719\" xlink:href=\"#DejaVuSans-115\"/>\r\n      <use x=\"210.986328\" xlink:href=\"#DejaVuSans-115\"/>\r\n      <use x=\"263.085938\" xlink:href=\"#DejaVuSans-99\"/>\r\n      <use x=\"318.066406\" xlink:href=\"#DejaVuSans-105\"/>\r\n      <use x=\"345.849609\" xlink:href=\"#DejaVuSans-102\"/>\r\n      <use x=\"381.054688\" xlink:href=\"#DejaVuSans-105\"/>\r\n      <use x=\"408.837891\" xlink:href=\"#DejaVuSans-99\"/>\r\n      <use x=\"463.818359\" xlink:href=\"#DejaVuSans-97\"/>\r\n      <use x=\"525.097656\" xlink:href=\"#DejaVuSans-116\"/>\r\n      <use x=\"564.306641\" xlink:href=\"#DejaVuSans-105\"/>\r\n      <use x=\"592.089844\" xlink:href=\"#DejaVuSans-111\"/>\r\n      <use x=\"653.271484\" xlink:href=\"#DejaVuSans-110\"/>\r\n      <use x=\"716.650391\" xlink:href=\"#DejaVuSans-32\"/>\r\n      <use x=\"748.4375\" xlink:href=\"#DejaVuSans-82\"/>\r\n      <use x=\"815.669922\" xlink:href=\"#DejaVuSans-97\"/>\r\n      <use x=\"876.949219\" xlink:href=\"#DejaVuSans-116\"/>\r\n      <use x=\"916.158203\" xlink:href=\"#DejaVuSans-101\"/>\r\n     </g>\r\n    </g>\r\n   </g>\r\n   <g id=\"line2d_11\">\r\n    <path clip-path=\"url(#p45c147aff4)\" d=\"M 58.999432 227.922425 \r\nL 92.817614 53.341051 \r\nL 126.635795 36.210937 \r\nL 160.453977 35.481996 \r\nL 194.272159 33.659643 \r\nL 228.090341 33.659643 \r\nL 261.908523 33.295173 \r\nL 295.726705 32.566232 \r\nL 329.544886 32.201761 \r\nL 363.363068 32.201761 \r\n\" style=\"fill:none;stroke:#1f77b4;stroke-linecap:square;stroke-width:1.5;\"/>\r\n   </g>\r\n   <g id=\"line2d_12\">\r\n    <path clip-path=\"url(#p45c147aff4)\" d=\"M 58.999432 229.874489 \r\nL 92.817614 51.38442 \r\nL 126.635795 40.422901 \r\nL 160.453977 37.317137 \r\nL 194.272159 35.490217 \r\nL 228.090341 34.028681 \r\nL 261.908523 34.211373 \r\nL 295.726705 34.211373 \r\nL 329.544886 33.297913 \r\nL 363.363068 32.749837 \r\n\" style=\"fill:none;stroke:#ff7f0e;stroke-linecap:square;stroke-width:1.5;\"/>\r\n   </g>\r\n   <g id=\"patch_3\">\r\n    <path d=\"M 43.78125 239.758125 \r\nL 43.78125 22.318125 \r\n\" style=\"fill:none;stroke:#000000;stroke-linecap:square;stroke-linejoin:miter;stroke-width:0.8;\"/>\r\n   </g>\r\n   <g id=\"patch_4\">\r\n    <path d=\"M 378.58125 239.758125 \r\nL 378.58125 22.318125 \r\n\" style=\"fill:none;stroke:#000000;stroke-linecap:square;stroke-linejoin:miter;stroke-width:0.8;\"/>\r\n   </g>\r\n   <g id=\"patch_5\">\r\n    <path d=\"M 43.78125 239.758125 \r\nL 378.58125 239.758125 \r\n\" style=\"fill:none;stroke:#000000;stroke-linecap:square;stroke-linejoin:miter;stroke-width:0.8;\"/>\r\n   </g>\r\n   <g id=\"patch_6\">\r\n    <path d=\"M 43.78125 22.318125 \r\nL 378.58125 22.318125 \r\n\" style=\"fill:none;stroke:#000000;stroke-linecap:square;stroke-linejoin:miter;stroke-width:0.8;\"/>\r\n   </g>\r\n   <g id=\"text_13\">\r\n    <!-- Classcification Rate vs K-value -->\r\n    <g transform=\"translate(120.329063 16.318125)scale(0.12 -0.12)\">\r\n     <use xlink:href=\"#DejaVuSans-67\"/>\r\n     <use x=\"69.824219\" xlink:href=\"#DejaVuSans-108\"/>\r\n     <use x=\"97.607422\" xlink:href=\"#DejaVuSans-97\"/>\r\n     <use x=\"158.886719\" xlink:href=\"#DejaVuSans-115\"/>\r\n     <use x=\"210.986328\" xlink:href=\"#DejaVuSans-115\"/>\r\n     <use x=\"263.085938\" xlink:href=\"#DejaVuSans-99\"/>\r\n     <use x=\"318.066406\" xlink:href=\"#DejaVuSans-105\"/>\r\n     <use x=\"345.849609\" xlink:href=\"#DejaVuSans-102\"/>\r\n     <use x=\"381.054688\" xlink:href=\"#DejaVuSans-105\"/>\r\n     <use x=\"408.837891\" xlink:href=\"#DejaVuSans-99\"/>\r\n     <use x=\"463.818359\" xlink:href=\"#DejaVuSans-97\"/>\r\n     <use x=\"525.097656\" xlink:href=\"#DejaVuSans-116\"/>\r\n     <use x=\"564.306641\" xlink:href=\"#DejaVuSans-105\"/>\r\n     <use x=\"592.089844\" xlink:href=\"#DejaVuSans-111\"/>\r\n     <use x=\"653.271484\" xlink:href=\"#DejaVuSans-110\"/>\r\n     <use x=\"716.650391\" xlink:href=\"#DejaVuSans-32\"/>\r\n     <use x=\"748.4375\" xlink:href=\"#DejaVuSans-82\"/>\r\n     <use x=\"815.669922\" xlink:href=\"#DejaVuSans-97\"/>\r\n     <use x=\"876.949219\" xlink:href=\"#DejaVuSans-116\"/>\r\n     <use x=\"916.158203\" xlink:href=\"#DejaVuSans-101\"/>\r\n     <use x=\"977.681641\" xlink:href=\"#DejaVuSans-32\"/>\r\n     <use x=\"1009.46875\" xlink:href=\"#DejaVuSans-118\"/>\r\n     <use x=\"1068.648438\" xlink:href=\"#DejaVuSans-115\"/>\r\n     <use x=\"1120.748047\" xlink:href=\"#DejaVuSans-32\"/>\r\n     <use x=\"1152.535156\" xlink:href=\"#DejaVuSans-75\"/>\r\n     <use x=\"1207.611328\" xlink:href=\"#DejaVuSans-45\"/>\r\n     <use x=\"1241.070312\" xlink:href=\"#DejaVuSans-118\"/>\r\n     <use x=\"1300.25\" xlink:href=\"#DejaVuSans-97\"/>\r\n     <use x=\"1361.529297\" xlink:href=\"#DejaVuSans-108\"/>\r\n     <use x=\"1389.3125\" xlink:href=\"#DejaVuSans-117\"/>\r\n     <use x=\"1452.691406\" xlink:href=\"#DejaVuSans-101\"/>\r\n    </g>\r\n   </g>\r\n   <g id=\"legend_1\">\r\n    <g id=\"patch_7\">\r\n     <path d=\"M 153.15625 234.758125 \r\nL 371.58125 234.758125 \r\nQ 373.58125 234.758125 373.58125 232.758125 \r\nL 373.58125 203.845625 \r\nQ 373.58125 201.845625 371.58125 201.845625 \r\nL 153.15625 201.845625 \r\nQ 151.15625 201.845625 151.15625 203.845625 \r\nL 151.15625 232.758125 \r\nQ 151.15625 234.758125 153.15625 234.758125 \r\nz\r\n\" style=\"fill:#ffffff;opacity:0.8;stroke:#cccccc;stroke-linejoin:miter;\"/>\r\n    </g>\r\n    <g id=\"line2d_13\">\r\n     <path d=\"M 155.15625 209.944062 \r\nL 175.15625 209.944062 \r\n\" style=\"fill:none;stroke:#1f77b4;stroke-linecap:square;stroke-width:1.5;\"/>\r\n    </g>\r\n    <g id=\"line2d_14\"/>\r\n    <g id=\"text_14\">\r\n     <!-- classcification_rate of training data -->\r\n     <defs>\r\n      <path d=\"M 50.984375 -16.609375 \r\nL 50.984375 -23.578125 \r\nL -0.984375 -23.578125 \r\nL -0.984375 -16.609375 \r\nz\r\n\" id=\"DejaVuSans-95\"/>\r\n      <path d=\"M 41.109375 46.296875 \r\nQ 39.59375 47.171875 37.8125 47.578125 \r\nQ 36.03125 48 33.890625 48 \r\nQ 26.265625 48 22.1875 43.046875 \r\nQ 18.109375 38.09375 18.109375 28.8125 \r\nL 18.109375 0 \r\nL 9.078125 0 \r\nL 9.078125 54.6875 \r\nL 18.109375 54.6875 \r\nL 18.109375 46.1875 \r\nQ 20.953125 51.171875 25.484375 53.578125 \r\nQ 30.03125 56 36.53125 56 \r\nQ 37.453125 56 38.578125 55.875 \r\nQ 39.703125 55.765625 41.0625 55.515625 \r\nz\r\n\" id=\"DejaVuSans-114\"/>\r\n      <path d=\"M 45.40625 27.984375 \r\nQ 45.40625 37.75 41.375 43.109375 \r\nQ 37.359375 48.484375 30.078125 48.484375 \r\nQ 22.859375 48.484375 18.828125 43.109375 \r\nQ 14.796875 37.75 14.796875 27.984375 \r\nQ 14.796875 18.265625 18.828125 12.890625 \r\nQ 22.859375 7.515625 30.078125 7.515625 \r\nQ 37.359375 7.515625 41.375 12.890625 \r\nQ 45.40625 18.265625 45.40625 27.984375 \r\nz\r\nM 54.390625 6.78125 \r\nQ 54.390625 -7.171875 48.1875 -13.984375 \r\nQ 42 -20.796875 29.203125 -20.796875 \r\nQ 24.46875 -20.796875 20.265625 -20.09375 \r\nQ 16.0625 -19.390625 12.109375 -17.921875 \r\nL 12.109375 -9.1875 \r\nQ 16.0625 -11.328125 19.921875 -12.34375 \r\nQ 23.78125 -13.375 27.78125 -13.375 \r\nQ 36.625 -13.375 41.015625 -8.765625 \r\nQ 45.40625 -4.15625 45.40625 5.171875 \r\nL 45.40625 9.625 \r\nQ 42.625 4.78125 38.28125 2.390625 \r\nQ 33.9375 0 27.875 0 \r\nQ 17.828125 0 11.671875 7.65625 \r\nQ 5.515625 15.328125 5.515625 27.984375 \r\nQ 5.515625 40.671875 11.671875 48.328125 \r\nQ 17.828125 56 27.875 56 \r\nQ 33.9375 56 38.28125 53.609375 \r\nQ 42.625 51.21875 45.40625 46.390625 \r\nL 45.40625 54.6875 \r\nL 54.390625 54.6875 \r\nz\r\n\" id=\"DejaVuSans-103\"/>\r\n      <path d=\"M 45.40625 46.390625 \r\nL 45.40625 75.984375 \r\nL 54.390625 75.984375 \r\nL 54.390625 0 \r\nL 45.40625 0 \r\nL 45.40625 8.203125 \r\nQ 42.578125 3.328125 38.25 0.953125 \r\nQ 33.9375 -1.421875 27.875 -1.421875 \r\nQ 17.96875 -1.421875 11.734375 6.484375 \r\nQ 5.515625 14.40625 5.515625 27.296875 \r\nQ 5.515625 40.1875 11.734375 48.09375 \r\nQ 17.96875 56 27.875 56 \r\nQ 33.9375 56 38.25 53.625 \r\nQ 42.578125 51.265625 45.40625 46.390625 \r\nz\r\nM 14.796875 27.296875 \r\nQ 14.796875 17.390625 18.875 11.75 \r\nQ 22.953125 6.109375 30.078125 6.109375 \r\nQ 37.203125 6.109375 41.296875 11.75 \r\nQ 45.40625 17.390625 45.40625 27.296875 \r\nQ 45.40625 37.203125 41.296875 42.84375 \r\nQ 37.203125 48.484375 30.078125 48.484375 \r\nQ 22.953125 48.484375 18.875 42.84375 \r\nQ 14.796875 37.203125 14.796875 27.296875 \r\nz\r\n\" id=\"DejaVuSans-100\"/>\r\n     </defs>\r\n     <g transform=\"translate(183.15625 213.444062)scale(0.1 -0.1)\">\r\n      <use xlink:href=\"#DejaVuSans-99\"/>\r\n      <use x=\"54.980469\" xlink:href=\"#DejaVuSans-108\"/>\r\n      <use x=\"82.763672\" xlink:href=\"#DejaVuSans-97\"/>\r\n      <use x=\"144.042969\" xlink:href=\"#DejaVuSans-115\"/>\r\n      <use x=\"196.142578\" xlink:href=\"#DejaVuSans-115\"/>\r\n      <use x=\"248.242188\" xlink:href=\"#DejaVuSans-99\"/>\r\n      <use x=\"303.222656\" xlink:href=\"#DejaVuSans-105\"/>\r\n      <use x=\"331.005859\" xlink:href=\"#DejaVuSans-102\"/>\r\n      <use x=\"366.210938\" xlink:href=\"#DejaVuSans-105\"/>\r\n      <use x=\"393.994141\" xlink:href=\"#DejaVuSans-99\"/>\r\n      <use x=\"448.974609\" xlink:href=\"#DejaVuSans-97\"/>\r\n      <use x=\"510.253906\" xlink:href=\"#DejaVuSans-116\"/>\r\n      <use x=\"549.462891\" xlink:href=\"#DejaVuSans-105\"/>\r\n      <use x=\"577.246094\" xlink:href=\"#DejaVuSans-111\"/>\r\n      <use x=\"638.427734\" xlink:href=\"#DejaVuSans-110\"/>\r\n      <use x=\"701.806641\" xlink:href=\"#DejaVuSans-95\"/>\r\n      <use x=\"751.806641\" xlink:href=\"#DejaVuSans-114\"/>\r\n      <use x=\"792.919922\" xlink:href=\"#DejaVuSans-97\"/>\r\n      <use x=\"854.199219\" xlink:href=\"#DejaVuSans-116\"/>\r\n      <use x=\"893.408203\" xlink:href=\"#DejaVuSans-101\"/>\r\n      <use x=\"954.931641\" xlink:href=\"#DejaVuSans-32\"/>\r\n      <use x=\"986.71875\" xlink:href=\"#DejaVuSans-111\"/>\r\n      <use x=\"1047.900391\" xlink:href=\"#DejaVuSans-102\"/>\r\n      <use x=\"1083.105469\" xlink:href=\"#DejaVuSans-32\"/>\r\n      <use x=\"1114.892578\" xlink:href=\"#DejaVuSans-116\"/>\r\n      <use x=\"1154.101562\" xlink:href=\"#DejaVuSans-114\"/>\r\n      <use x=\"1195.214844\" xlink:href=\"#DejaVuSans-97\"/>\r\n      <use x=\"1256.494141\" xlink:href=\"#DejaVuSans-105\"/>\r\n      <use x=\"1284.277344\" xlink:href=\"#DejaVuSans-110\"/>\r\n      <use x=\"1347.65625\" xlink:href=\"#DejaVuSans-105\"/>\r\n      <use x=\"1375.439453\" xlink:href=\"#DejaVuSans-110\"/>\r\n      <use x=\"1438.818359\" xlink:href=\"#DejaVuSans-103\"/>\r\n      <use x=\"1502.294922\" xlink:href=\"#DejaVuSans-32\"/>\r\n      <use x=\"1534.082031\" xlink:href=\"#DejaVuSans-100\"/>\r\n      <use x=\"1597.558594\" xlink:href=\"#DejaVuSans-97\"/>\r\n      <use x=\"1658.837891\" xlink:href=\"#DejaVuSans-116\"/>\r\n      <use x=\"1698.046875\" xlink:href=\"#DejaVuSans-97\"/>\r\n     </g>\r\n    </g>\r\n    <g id=\"line2d_15\">\r\n     <path d=\"M 155.15625 224.900312 \r\nL 175.15625 224.900312 \r\n\" style=\"fill:none;stroke:#ff7f0e;stroke-linecap:square;stroke-width:1.5;\"/>\r\n    </g>\r\n    <g id=\"line2d_16\"/>\r\n    <g id=\"text_15\">\r\n     <!-- classcification_rate of validation data -->\r\n     <g transform=\"translate(183.15625 228.400312)scale(0.1 -0.1)\">\r\n      <use xlink:href=\"#DejaVuSans-99\"/>\r\n      <use x=\"54.980469\" xlink:href=\"#DejaVuSans-108\"/>\r\n      <use x=\"82.763672\" xlink:href=\"#DejaVuSans-97\"/>\r\n      <use x=\"144.042969\" xlink:href=\"#DejaVuSans-115\"/>\r\n      <use x=\"196.142578\" xlink:href=\"#DejaVuSans-115\"/>\r\n      <use x=\"248.242188\" xlink:href=\"#DejaVuSans-99\"/>\r\n      <use x=\"303.222656\" xlink:href=\"#DejaVuSans-105\"/>\r\n      <use x=\"331.005859\" xlink:href=\"#DejaVuSans-102\"/>\r\n      <use x=\"366.210938\" xlink:href=\"#DejaVuSans-105\"/>\r\n      <use x=\"393.994141\" xlink:href=\"#DejaVuSans-99\"/>\r\n      <use x=\"448.974609\" xlink:href=\"#DejaVuSans-97\"/>\r\n      <use x=\"510.253906\" xlink:href=\"#DejaVuSans-116\"/>\r\n      <use x=\"549.462891\" xlink:href=\"#DejaVuSans-105\"/>\r\n      <use x=\"577.246094\" xlink:href=\"#DejaVuSans-111\"/>\r\n      <use x=\"638.427734\" xlink:href=\"#DejaVuSans-110\"/>\r\n      <use x=\"701.806641\" xlink:href=\"#DejaVuSans-95\"/>\r\n      <use x=\"751.806641\" xlink:href=\"#DejaVuSans-114\"/>\r\n      <use x=\"792.919922\" xlink:href=\"#DejaVuSans-97\"/>\r\n      <use x=\"854.199219\" xlink:href=\"#DejaVuSans-116\"/>\r\n      <use x=\"893.408203\" xlink:href=\"#DejaVuSans-101\"/>\r\n      <use x=\"954.931641\" xlink:href=\"#DejaVuSans-32\"/>\r\n      <use x=\"986.71875\" xlink:href=\"#DejaVuSans-111\"/>\r\n      <use x=\"1047.900391\" xlink:href=\"#DejaVuSans-102\"/>\r\n      <use x=\"1083.105469\" xlink:href=\"#DejaVuSans-32\"/>\r\n      <use x=\"1114.892578\" xlink:href=\"#DejaVuSans-118\"/>\r\n      <use x=\"1174.072266\" xlink:href=\"#DejaVuSans-97\"/>\r\n      <use x=\"1235.351562\" xlink:href=\"#DejaVuSans-108\"/>\r\n      <use x=\"1263.134766\" xlink:href=\"#DejaVuSans-105\"/>\r\n      <use x=\"1290.917969\" xlink:href=\"#DejaVuSans-100\"/>\r\n      <use x=\"1354.394531\" xlink:href=\"#DejaVuSans-97\"/>\r\n      <use x=\"1415.673828\" xlink:href=\"#DejaVuSans-116\"/>\r\n      <use x=\"1454.882812\" xlink:href=\"#DejaVuSans-105\"/>\r\n      <use x=\"1482.666016\" xlink:href=\"#DejaVuSans-111\"/>\r\n      <use x=\"1543.847656\" xlink:href=\"#DejaVuSans-110\"/>\r\n      <use x=\"1607.226562\" xlink:href=\"#DejaVuSans-32\"/>\r\n      <use x=\"1639.013672\" xlink:href=\"#DejaVuSans-100\"/>\r\n      <use x=\"1702.490234\" xlink:href=\"#DejaVuSans-97\"/>\r\n      <use x=\"1763.769531\" xlink:href=\"#DejaVuSans-116\"/>\r\n      <use x=\"1802.978516\" xlink:href=\"#DejaVuSans-97\"/>\r\n     </g>\r\n    </g>\r\n   </g>\r\n  </g>\r\n </g>\r\n <defs>\r\n  <clipPath id=\"p45c147aff4\">\r\n   <rect height=\"217.44\" width=\"334.8\" x=\"43.78125\" y=\"22.318125\"/>\r\n  </clipPath>\r\n </defs>\r\n</svg>\r\n",
      "image/png": "[encoded data removed]"
     },
     "metadata": {
      "needs_background": "light"
     }
    }
   ],
   "source": [
    "train_classification = list()\n",
    "for k in range(10):\n",
    "    digits_train = NaiveProjection(training_digits, training_labels, digits.target_names, k = k)\n",
    "    train_classification.append(digits_train.hitrate(training_digits, training_labels))\n",
    "\n",
    "validation_classification = list()\n",
    "for k in range(10):\n",
    "    digits_valid = NaiveProjection(validation_digits, validation_labels, digits.target_names, k = k)\n",
    "    validation_classification.append(digits_valid.hitrate(validation_digits, validation_labels))\n",
    "\n",
    "import matplotlib.pyplot as plt   \n",
    "plt.plot(range(10), train_classification, label = \"classcification_rate of training data\") \n",
    "plt.plot(range(10), validation_classification, label = \"classcification_rate of validation data\") \n",
    "plt.xlabel('K-values') \n",
    "plt.ylabel('Classcification Rate') \n",
    "plt.title('Classcification Rate vs K-value') \n",
    "plt.legend() \n",
    "plt.show() \n"
   ]
  },
  {
   "cell_type": "markdown",
   "metadata": {},
   "source": [
    "## Acknowledgments"
   ]
  },
  {
   "cell_type": "markdown",
   "metadata": {},
   "source": [
    "This lab in 732A74 is by Anders Märak Leffler (2019), with a major revision in 2020. The introductory text is by Johan Falkenjack (2018).\n",
    "\n",
    "Licensed under [CC-BY-SA 4.0](https://creativecommons.org/licenses/by-sa/4.0/)."
   ]
  }
 ],
 "metadata": {
  "anaconda-cloud": {},
  "kernelspec": {
   "display_name": "Python 3",
   "language": "python",
   "name": "python3"
  },
  "language_info": {
   "codemirror_mode": {
    "name": "ipython",
    "version": 3
   },
   "file_extension": ".py",
   "mimetype": "text/x-python",
   "name": "python",
   "nbconvert_exporter": "python",
   "pygments_lexer": "ipython3",
   "version": "3.7.4"
  }
 },
 "nbformat": 4,
 "nbformat_minor": 2
}