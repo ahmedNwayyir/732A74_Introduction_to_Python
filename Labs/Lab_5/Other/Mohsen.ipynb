{
 "cells": [
  {
   "cell_type": "markdown",
   "metadata": {},
   "source": [
    "# Lab 5: Simple OOP and numpy\n"
   ]
  },
  {
   "cell_type": "markdown",
   "metadata": {},
   "source": [
    "__Student:__ sambu064\n",
    "\n",
    "__Student:__ mohpi286"
   ]
  },
  {
   "cell_type": "markdown",
   "metadata": {},
   "source": [
    "# 2. Introduction"
   ]
  },
  {
   "cell_type": "markdown",
   "metadata": {},
   "source": [
    "## Object-oriented Programming"
   ]
  },
  {
   "cell_type": "markdown",
   "metadata": {},
   "source": [
    "The point of Object-oriented Programming is to support encapsulation and the DRY (Don't Repeat Yourself) principle without things getting out of hand. Often, software architects (those high-level programmers who are responsible for how large systems are designed on a technical level) talk about Object-oriented design or Object-oriented analysis. The point of this is to identify the necessary _objects_ in a system. An object in this sense is not exactly the same as a Python object but rather a somewhat higher level logical unit which can reasonably be thought of as an independent component within the system. These high level objects might then be further subdivided into smaller and smaller objects and at a some level the responsibility shifts from the system architect to the team or individual developer working on a specific component. Thus, Object-oriented thinking is necessary for anyone developing code which will be integrated with a larger system, for instance a data scientist implementing analytics tools."
   ]
  },
  {
   "cell_type": "markdown",
   "metadata": {},
   "source": [
    "## OOP in Python"
   ]
  },
  {
   "cell_type": "markdown",
   "metadata": {},
   "source": [
    "Python implements the Object-oriented paradigm to a somewhat larger degree than the Functional paradigm. However, there are features considered necessary for _strict_ object-oriented programming missing from Python. Mainly, we are talking about data protection. Not in a software security sense, but in the sense of encapsulation. There is no simple way to strictly control access to member variables in Python. This does not affect this lab in any way but is worth remembering if one has worked in a language such as Java previously."
   ]
  },
  {
   "cell_type": "markdown",
   "metadata": {},
   "source": [
    "# 3. Simple instance tests in Python"
   ]
  },
  {
   "cell_type": "markdown",
   "metadata": {},
   "source": [
    "Note: some of these questions will be extremely simple, and some might prove trickier. Don't expect that the answer needs to be hard."
   ]
  },
  {
   "cell_type": "code",
   "execution_count": 2,
   "metadata": {},
   "outputs": [],
   "source": [
    "class Person:\n",
    "    def __init__(self, name):\n",
    "        self.name = name\n",
    "        self.age = 0            # Age should be non-negative.\n",
    "        \n",
    "    def get_age(self):\n",
    "        \"\"\"Return the Person's age, a non-negative number.\"\"\"\n",
    "        return self.age\n",
    "    \n",
    "    def return_five(self):\n",
    "        \"\"\"Return 5. Dummy function.\"\"\"\n",
    "        return 5\n",
    "\n",
    "Jackal = Person \n",
    "\n",
    "president = Person(\"Jeb\")\n",
    "psec = Jackal(\"CJ Cregg\")"
   ]
  },
  {
   "cell_type": "markdown",
   "metadata": {},
   "source": [
    "a) Change the age of the `president` to 65 (`psec` should be unaffected)."
   ]
  },
  {
   "cell_type": "code",
   "execution_count": 9,
   "metadata": {},
   "outputs": [
    {
     "name": "stdout",
     "output_type": "stream",
     "text": [
      "65\n"
     ]
    },
    {
     "data": {
      "text/plain": [
       "0"
      ]
     },
     "execution_count": 9,
     "metadata": {},
     "output_type": "execute_result"
    }
   ],
   "source": [
    "president.age = 65\n",
    "print(president.age)\n",
    "psec.age"
   ]
  },
  {
   "cell_type": "markdown",
   "metadata": {},
   "source": [
    "[Note: This mode of operation is sometimes considered poor OOP. We will remedy this later.]"
   ]
  },
  {
   "cell_type": "markdown",
   "metadata": {},
   "source": [
    "b) How many `Person` instances are there? One, two or three?"
   ]
  },
  {
   "cell_type": "code",
   "execution_count": null,
   "metadata": {},
   "outputs": [],
   "source": [
    "2"
   ]
  },
  {
   "cell_type": "markdown",
   "metadata": {},
   "source": [
    "c) Consider the following code snippets. What do you think that they will return, and why? Discuss amongst yourselves. After that, run the code and explain the output. You only need to write down your explanation of the output."
   ]
  },
  {
   "cell_type": "code",
   "execution_count": 12,
   "metadata": {},
   "outputs": [
    {
     "data": {
      "text/plain": [
       "False"
      ]
     },
     "execution_count": 12,
     "metadata": {},
     "output_type": "execute_result"
    }
   ],
   "source": [
    "\"Jeb\" is Person\n"
   ]
  },
  {
   "cell_type": "code",
   "execution_count": 11,
   "metadata": {
    "scrolled": true
   },
   "outputs": [
    {
     "data": {
      "text/plain": [
       "True"
      ]
     },
     "execution_count": 11,
     "metadata": {},
     "output_type": "execute_result"
    }
   ],
   "source": [
    "president is Person"
   ]
  },
  {
   "cell_type": "code",
   "execution_count": 14,
   "metadata": {},
   "outputs": [],
   "source": [
    "#These codes tests if \"Jeb\" and president are Person class or not. \"Jeb\" is just a string and name. Neither itself nor its type is Of Person class.\n",
    "#president, however, is an instance of the class Person. The \"type(president) is Person\" will return True. "
   ]
  },
  {
   "cell_type": "markdown",
   "metadata": {},
   "source": [
    "d) How would you go about checking whether or not the value bound to the name `president` is-a `Person`?"
   ]
  },
  {
   "cell_type": "code",
   "execution_count": 22,
   "metadata": {},
   "outputs": [
    {
     "data": {
      "text/plain": [
       "True"
      ]
     },
     "execution_count": 22,
     "metadata": {},
     "output_type": "execute_result"
    }
   ],
   "source": [
    "isinstance(president, Person)"
   ]
  },
  {
   "cell_type": "markdown",
   "metadata": {},
   "source": [
    "# 4. Subclasses"
   ]
  },
  {
   "cell_type": "markdown",
   "metadata": {},
   "source": [
    "a) Create class `Employee`, a subclass of `Person` with data attributes (fields) \n",
    "* `__work_days_accrued`\n",
    "* `__daily_salary`. \n",
    "\n",
    "These should be *the only* data attributes which you write in your class definition. In particular, you may not duplicate `name` and `age`.\n",
    "\n",
    "There should be methods\n",
    "* `work` which increments the number of work days accrued.\n",
    "* `expected_payout` which just returns the expected payout for the employee based on the accrued work days and daily salary (but without doing any resets).\n",
    "* `payout` which returns the accrued salary and resets the number of work days accrued. The `payout` function may not perform any calculations itself."
   ]
  },
  {
   "cell_type": "code",
   "execution_count": 16,
   "metadata": {},
   "outputs": [
    {
     "name": "stdout",
     "output_type": "stream",
     "text": [
      "--- Setting up test cases.\n",
      "--- Testing payout and expected_payout properties.\n",
      "OK\n",
      "--- Testing non-data-accessing calls to superclass methods.\n",
      "OK\n",
      "--- Testing data that should be set up by initialiser call.\n",
      "OK\n"
     ]
    }
   ],
   "source": [
    "# Your code goes here.\n",
    "class Employee(Person):\n",
    "    def __init__(self, name, daily_salary = 15):\n",
    "        super().__init__(name = name)        \n",
    "        self.daily_salary = daily_salary\n",
    "        self.work_days_accrued = 0\n",
    "        \n",
    "    def work(self):\n",
    "        self.work_days_accrued =self.work_days_accrued+1\n",
    "        return(self.work_days_accrued)\n",
    "        \n",
    "    def expected_payout(self):\n",
    "        salary = self.work_days_accrued * self.daily_salary\n",
    "        return(salary)\n",
    "    \n",
    "    def payout(self):\n",
    "        total_payout = self.expected_payout()\n",
    "        self.work_days_accrued = 0\n",
    "        return(total_payout)  \n",
    "        \n",
    "\n",
    "# Ready-made tests.\n",
    "print(\"--- Setting up test cases.\")\n",
    "cleaner = Employee(name = \"Scruffy\")  # Should have daily_salary 15.\n",
    "josh = Employee(name = \"Josh\", daily_salary = 1000)\n",
    "toby = Employee(name = \"Toby\", daily_salary = 9999)\n",
    "\n",
    "josh.work()\n",
    "josh.work()\n",
    "toby.work()\n",
    "toby.work()\n",
    "toby.work()\n",
    "cleaner.work() \n",
    "\n",
    "print(\"--- Testing payout and expected_payout properties.\")\n",
    "assert cleaner.expected_payout() == 15, \"default salary should be 15\"\n",
    "assert josh.expected_payout() == 1000*2\n",
    "assert josh.payout() == 1000*2\n",
    "assert josh.expected_payout() == 0, \"salary should be reset afterwards\"\n",
    "assert toby.payout() == 9999*3, \"toby and josh instances should be independent.\"\n",
    "print(\"OK\")\n",
    "\n",
    "print(\"--- Testing non-data-accessing calls to superclass methods.\")\n",
    "assert josh.return_five() == 5, \"Person.return_five should be accessible\"\n",
    "print(\"OK\")\n",
    "\n",
    "print(\"--- Testing data that should be set up by initialiser call.\")\n",
    "assert josh.get_age() == 0, \"superclass method should be callable, values should not be missing.\"\n",
    "josh.age = 9\n",
    "assert josh.get_age() == 9, \"superclass method should be callable\"\n",
    "print(\"OK\")"
   ]
  },
  {
   "cell_type": "markdown",
   "metadata": {},
   "source": [
    "b) Which public data attributes (fields) does an `Employee` have? Can you access the age of an employee directly (without some transformation of the name)? The daily salary?"
   ]
  },
  {
   "cell_type": "code",
   "execution_count": 17,
   "metadata": {},
   "outputs": [
    {
     "name": "stdout",
     "output_type": "stream",
     "text": [
      "9\n",
      "1000\n"
     ]
    }
   ],
   "source": [
    "# Answer here.\n",
    "# If we have object of the Employee then all the attributes in the supper(Person) class and subclass(Employee) are accessable. \n",
    "# There is no fields access restriction.\n",
    "\n",
    "print(josh.age)\n",
    "print(josh.daily_salary)"
   ]
  },
  {
   "cell_type": "markdown",
   "metadata": {},
   "source": [
    "# 5. Introductory numpy"
   ]
  },
  {
   "cell_type": "markdown",
   "metadata": {},
   "source": [
    "A lot of computations will likely end up using data stored `numpy` arrays. Therefore, it is a good idea to have a feeling for how they are used and manipulated. The following steps will provide some introduction, so that we can build upon this in future labs.\n",
    "\n",
    "You may want to refer to the [official numpy.org absolute beginners guide to numpy](https://numpy.org/devdocs/user/absolute_beginners.html)."
   ]
  },
  {
   "cell_type": "markdown",
   "metadata": {},
   "source": [
    "a) Import the module `numpy`, giving it the shorthand `np`."
   ]
  },
  {
   "cell_type": "code",
   "execution_count": 2,
   "metadata": {},
   "outputs": [],
   "source": [
    "import numpy as np"
   ]
  },
  {
   "cell_type": "markdown",
   "metadata": {},
   "source": [
    "b) Create the $2 \\times 3$ matrix $A = \\begin{bmatrix}1 & 2 & 3 \\\\ 0 & 0 & 1\\end{bmatrix}$"
   ]
  },
  {
   "cell_type": "code",
   "execution_count": 3,
   "metadata": {},
   "outputs": [
    {
     "data": {
      "text/plain": [
       "array([[1, 2, 3],\n",
       "       [0, 0, 1]])"
      ]
     },
     "execution_count": 3,
     "metadata": {},
     "output_type": "execute_result"
    }
   ],
   "source": [
    "A = np.array([[1,2,3], [0,0,1]])\n",
    "A"
   ]
  },
  {
   "cell_type": "markdown",
   "metadata": {},
   "source": [
    "c) Create the vector $b = \\begin{bmatrix}1\\\\ 2 \\\\ 3 \\end{bmatrix}$"
   ]
  },
  {
   "cell_type": "code",
   "execution_count": 4,
   "metadata": {},
   "outputs": [
    {
     "data": {
      "text/plain": [
       "array([[1],\n",
       "       [2],\n",
       "       [3]])"
      ]
     },
     "execution_count": 4,
     "metadata": {},
     "output_type": "execute_result"
    }
   ],
   "source": [
    "b = np.array([[1],[2],[3]])\n",
    "b"
   ]
  },
  {
   "cell_type": "markdown",
   "metadata": {},
   "source": [
    "d) Perform the multiplication $Ab$. What is the result?"
   ]
  },
  {
   "cell_type": "code",
   "execution_count": 5,
   "metadata": {},
   "outputs": [
    {
     "data": {
      "text/plain": [
       "array([[14],\n",
       "       [ 3]])"
      ]
     },
     "execution_count": 5,
     "metadata": {},
     "output_type": "execute_result"
    }
   ],
   "source": [
    "A.dot(b)\n"
   ]
  },
  {
   "cell_type": "markdown",
   "metadata": {},
   "source": [
    "e) Mathematically, what should the dimensions of $b^Tb$ be? What should the dimensions of $bb^T$ be?"
   ]
  },
  {
   "cell_type": "code",
   "execution_count": 6,
   "metadata": {},
   "outputs": [
    {
     "data": {
      "text/plain": [
       "'\\nAnswer:\\nMathematically\\n-𝑏𝑇𝑏  should has a dimention of 1*1, as this is a dot (inner) product.\\n-bbT should has a dimension of 3*3. This is an outer product.\\n   \\n'"
      ]
     },
     "execution_count": 6,
     "metadata": {},
     "output_type": "execute_result"
    }
   ],
   "source": [
    "\"\"\"\n",
    "Answer:\n",
    "Mathematically\n",
    "-𝑏𝑇𝑏  should has a dimention of 1*1, as this is a dot (inner) product, so it returns a scalar(single numeric value).\n",
    "-14*b will return a vector of size b which has been scaled up by 14\n",
    "-bbT should has a dimension of 3*3. This is an outer product.\n",
    "   \n",
    "\"\"\""
   ]
  },
  {
   "cell_type": "code",
   "execution_count": 8,
   "metadata": {},
   "outputs": [
    {
     "data": {
      "text/plain": [
       "array([[14],\n",
       "       [28],\n",
       "       [42]])"
      ]
     },
     "execution_count": 8,
     "metadata": {},
     "output_type": "execute_result"
    }
   ],
   "source": [
    "14*b"
   ]
  },
  {
   "cell_type": "markdown",
   "metadata": {},
   "source": [
    "f) Compute ```b.T @ b```? ```b @ b.T``` in numpy. How would you go about calculating $bb^T$ (if you wanted to actually store it as a matrix, which is rarely the most space- or time-efficient idea)?"
   ]
  },
  {
   "cell_type": "code",
   "execution_count": 11,
   "metadata": {},
   "outputs": [
    {
     "data": {
      "text/plain": [
       "array([[14]])"
      ]
     },
     "execution_count": 11,
     "metadata": {},
     "output_type": "execute_result"
    }
   ],
   "source": [
    "b.T@b"
   ]
  },
  {
   "cell_type": "code",
   "execution_count": 12,
   "metadata": {},
   "outputs": [
    {
     "data": {
      "text/plain": [
       "array([[1, 2, 3],\n",
       "       [2, 4, 6],\n",
       "       [3, 6, 9]])"
      ]
     },
     "execution_count": 12,
     "metadata": {},
     "output_type": "execute_result"
    }
   ],
   "source": [
    "b@b.T\n",
    "#To calculate bbT, a 3*3 empty matrix can be defined, each row of this matrix is the result of bT scaled by each row of b. \n",
    "#in the vector b stored in each row of thT MATRIX."
   ]
  },
  {
   "cell_type": "markdown",
   "metadata": {},
   "source": [
    "Note: as `a @ b` is read `a.dot(b)` this should perhaps not be entirely surprising. But it is non-obvious."
   ]
  },
  {
   "cell_type": "markdown",
   "metadata": {},
   "source": [
    "d) Try to solve the equation $Ax = b$ using the `solve` method. Does this make mathematical sense? What does numpy say? Read the error message."
   ]
  },
  {
   "cell_type": "code",
   "execution_count": 84,
   "metadata": {},
   "outputs": [
    {
     "ename": "LinAlgError",
     "evalue": "Last 2 dimensions of the array must be square",
     "output_type": "error",
     "traceback": [
      "\u001b[1;31m---------------------------------------------------------------------------\u001b[0m",
      "\u001b[1;31mLinAlgError\u001b[0m                               Traceback (most recent call last)",
      "\u001b[1;32m<ipython-input-84-36718354ad3a>\u001b[0m in \u001b[0;36m<module>\u001b[1;34m\u001b[0m\n\u001b[1;32m----> 1\u001b[1;33m \u001b[0mnp\u001b[0m\u001b[1;33m.\u001b[0m\u001b[0mlinalg\u001b[0m\u001b[1;33m.\u001b[0m\u001b[0msolve\u001b[0m\u001b[1;33m(\u001b[0m\u001b[0mA\u001b[0m\u001b[1;33m,\u001b[0m\u001b[0mb\u001b[0m\u001b[1;33m)\u001b[0m\u001b[1;33m\u001b[0m\u001b[1;33m\u001b[0m\u001b[0m\n\u001b[0m",
      "\u001b[1;32m~\\Anaconda3\\lib\\site-packages\\numpy\\linalg\\linalg.py\u001b[0m in \u001b[0;36msolve\u001b[1;34m(a, b)\u001b[0m\n\u001b[0;32m    388\u001b[0m     \u001b[0ma\u001b[0m\u001b[1;33m,\u001b[0m \u001b[0m_\u001b[0m \u001b[1;33m=\u001b[0m \u001b[0m_makearray\u001b[0m\u001b[1;33m(\u001b[0m\u001b[0ma\u001b[0m\u001b[1;33m)\u001b[0m\u001b[1;33m\u001b[0m\u001b[1;33m\u001b[0m\u001b[0m\n\u001b[0;32m    389\u001b[0m     \u001b[0m_assertRankAtLeast2\u001b[0m\u001b[1;33m(\u001b[0m\u001b[0ma\u001b[0m\u001b[1;33m)\u001b[0m\u001b[1;33m\u001b[0m\u001b[1;33m\u001b[0m\u001b[0m\n\u001b[1;32m--> 390\u001b[1;33m     \u001b[0m_assertNdSquareness\u001b[0m\u001b[1;33m(\u001b[0m\u001b[0ma\u001b[0m\u001b[1;33m)\u001b[0m\u001b[1;33m\u001b[0m\u001b[1;33m\u001b[0m\u001b[0m\n\u001b[0m\u001b[0;32m    391\u001b[0m     \u001b[0mb\u001b[0m\u001b[1;33m,\u001b[0m \u001b[0mwrap\u001b[0m \u001b[1;33m=\u001b[0m \u001b[0m_makearray\u001b[0m\u001b[1;33m(\u001b[0m\u001b[0mb\u001b[0m\u001b[1;33m)\u001b[0m\u001b[1;33m\u001b[0m\u001b[1;33m\u001b[0m\u001b[0m\n\u001b[0;32m    392\u001b[0m     \u001b[0mt\u001b[0m\u001b[1;33m,\u001b[0m \u001b[0mresult_t\u001b[0m \u001b[1;33m=\u001b[0m \u001b[0m_commonType\u001b[0m\u001b[1;33m(\u001b[0m\u001b[0ma\u001b[0m\u001b[1;33m,\u001b[0m \u001b[0mb\u001b[0m\u001b[1;33m)\u001b[0m\u001b[1;33m\u001b[0m\u001b[1;33m\u001b[0m\u001b[0m\n",
      "\u001b[1;32m~\\Anaconda3\\lib\\site-packages\\numpy\\linalg\\linalg.py\u001b[0m in \u001b[0;36m_assertNdSquareness\u001b[1;34m(*arrays)\u001b[0m\n\u001b[0;32m    211\u001b[0m         \u001b[0mm\u001b[0m\u001b[1;33m,\u001b[0m \u001b[0mn\u001b[0m \u001b[1;33m=\u001b[0m \u001b[0ma\u001b[0m\u001b[1;33m.\u001b[0m\u001b[0mshape\u001b[0m\u001b[1;33m[\u001b[0m\u001b[1;33m-\u001b[0m\u001b[1;36m2\u001b[0m\u001b[1;33m:\u001b[0m\u001b[1;33m]\u001b[0m\u001b[1;33m\u001b[0m\u001b[1;33m\u001b[0m\u001b[0m\n\u001b[0;32m    212\u001b[0m         \u001b[1;32mif\u001b[0m \u001b[0mm\u001b[0m \u001b[1;33m!=\u001b[0m \u001b[0mn\u001b[0m\u001b[1;33m:\u001b[0m\u001b[1;33m\u001b[0m\u001b[1;33m\u001b[0m\u001b[0m\n\u001b[1;32m--> 213\u001b[1;33m             \u001b[1;32mraise\u001b[0m \u001b[0mLinAlgError\u001b[0m\u001b[1;33m(\u001b[0m\u001b[1;34m'Last 2 dimensions of the array must be square'\u001b[0m\u001b[1;33m)\u001b[0m\u001b[1;33m\u001b[0m\u001b[1;33m\u001b[0m\u001b[0m\n\u001b[0m\u001b[0;32m    214\u001b[0m \u001b[1;33m\u001b[0m\u001b[0m\n\u001b[0;32m    215\u001b[0m \u001b[1;32mdef\u001b[0m \u001b[0m_assertFinite\u001b[0m\u001b[1;33m(\u001b[0m\u001b[1;33m*\u001b[0m\u001b[0marrays\u001b[0m\u001b[1;33m)\u001b[0m\u001b[1;33m:\u001b[0m\u001b[1;33m\u001b[0m\u001b[1;33m\u001b[0m\u001b[0m\n",
      "\u001b[1;31mLinAlgError\u001b[0m: Last 2 dimensions of the array must be square"
     ]
    }
   ],
   "source": [
    "np.linalg.solve(A,b)"
   ]
  },
  {
   "cell_type": "code",
   "execution_count": null,
   "metadata": {},
   "outputs": [],
   "source": [
    "\"\"\"\n",
    "Mathematically A should be a 3*3 matrix in order to solve Ax=b.\n",
    "It says that A must be square.\n",
    "    Write your explanation as a code comment.\n",
    "\"\"\""
   ]
  },
  {
   "cell_type": "markdown",
   "metadata": {},
   "source": [
    "e) Try to solve the equation $A^Tx = b$ using numpy. Does this make mathematical sense? What does numpy say?"
   ]
  },
  {
   "cell_type": "code",
   "execution_count": 85,
   "metadata": {},
   "outputs": [
    {
     "ename": "LinAlgError",
     "evalue": "Last 2 dimensions of the array must be square",
     "output_type": "error",
     "traceback": [
      "\u001b[1;31m---------------------------------------------------------------------------\u001b[0m",
      "\u001b[1;31mLinAlgError\u001b[0m                               Traceback (most recent call last)",
      "\u001b[1;32m<ipython-input-85-2f485d2e82f4>\u001b[0m in \u001b[0;36m<module>\u001b[1;34m\u001b[0m\n\u001b[1;32m----> 1\u001b[1;33m \u001b[0mnp\u001b[0m\u001b[1;33m.\u001b[0m\u001b[0mlinalg\u001b[0m\u001b[1;33m.\u001b[0m\u001b[0msolve\u001b[0m\u001b[1;33m(\u001b[0m\u001b[0mA\u001b[0m\u001b[1;33m.\u001b[0m\u001b[0mtranspose\u001b[0m\u001b[1;33m(\u001b[0m\u001b[1;33m)\u001b[0m\u001b[1;33m,\u001b[0m \u001b[0mb\u001b[0m\u001b[1;33m)\u001b[0m\u001b[1;33m\u001b[0m\u001b[1;33m\u001b[0m\u001b[0m\n\u001b[0m",
      "\u001b[1;32m~\\Anaconda3\\lib\\site-packages\\numpy\\linalg\\linalg.py\u001b[0m in \u001b[0;36msolve\u001b[1;34m(a, b)\u001b[0m\n\u001b[0;32m    388\u001b[0m     \u001b[0ma\u001b[0m\u001b[1;33m,\u001b[0m \u001b[0m_\u001b[0m \u001b[1;33m=\u001b[0m \u001b[0m_makearray\u001b[0m\u001b[1;33m(\u001b[0m\u001b[0ma\u001b[0m\u001b[1;33m)\u001b[0m\u001b[1;33m\u001b[0m\u001b[1;33m\u001b[0m\u001b[0m\n\u001b[0;32m    389\u001b[0m     \u001b[0m_assertRankAtLeast2\u001b[0m\u001b[1;33m(\u001b[0m\u001b[0ma\u001b[0m\u001b[1;33m)\u001b[0m\u001b[1;33m\u001b[0m\u001b[1;33m\u001b[0m\u001b[0m\n\u001b[1;32m--> 390\u001b[1;33m     \u001b[0m_assertNdSquareness\u001b[0m\u001b[1;33m(\u001b[0m\u001b[0ma\u001b[0m\u001b[1;33m)\u001b[0m\u001b[1;33m\u001b[0m\u001b[1;33m\u001b[0m\u001b[0m\n\u001b[0m\u001b[0;32m    391\u001b[0m     \u001b[0mb\u001b[0m\u001b[1;33m,\u001b[0m \u001b[0mwrap\u001b[0m \u001b[1;33m=\u001b[0m \u001b[0m_makearray\u001b[0m\u001b[1;33m(\u001b[0m\u001b[0mb\u001b[0m\u001b[1;33m)\u001b[0m\u001b[1;33m\u001b[0m\u001b[1;33m\u001b[0m\u001b[0m\n\u001b[0;32m    392\u001b[0m     \u001b[0mt\u001b[0m\u001b[1;33m,\u001b[0m \u001b[0mresult_t\u001b[0m \u001b[1;33m=\u001b[0m \u001b[0m_commonType\u001b[0m\u001b[1;33m(\u001b[0m\u001b[0ma\u001b[0m\u001b[1;33m,\u001b[0m \u001b[0mb\u001b[0m\u001b[1;33m)\u001b[0m\u001b[1;33m\u001b[0m\u001b[1;33m\u001b[0m\u001b[0m\n",
      "\u001b[1;32m~\\Anaconda3\\lib\\site-packages\\numpy\\linalg\\linalg.py\u001b[0m in \u001b[0;36m_assertNdSquareness\u001b[1;34m(*arrays)\u001b[0m\n\u001b[0;32m    211\u001b[0m         \u001b[0mm\u001b[0m\u001b[1;33m,\u001b[0m \u001b[0mn\u001b[0m \u001b[1;33m=\u001b[0m \u001b[0ma\u001b[0m\u001b[1;33m.\u001b[0m\u001b[0mshape\u001b[0m\u001b[1;33m[\u001b[0m\u001b[1;33m-\u001b[0m\u001b[1;36m2\u001b[0m\u001b[1;33m:\u001b[0m\u001b[1;33m]\u001b[0m\u001b[1;33m\u001b[0m\u001b[1;33m\u001b[0m\u001b[0m\n\u001b[0;32m    212\u001b[0m         \u001b[1;32mif\u001b[0m \u001b[0mm\u001b[0m \u001b[1;33m!=\u001b[0m \u001b[0mn\u001b[0m\u001b[1;33m:\u001b[0m\u001b[1;33m\u001b[0m\u001b[1;33m\u001b[0m\u001b[0m\n\u001b[1;32m--> 213\u001b[1;33m             \u001b[1;32mraise\u001b[0m \u001b[0mLinAlgError\u001b[0m\u001b[1;33m(\u001b[0m\u001b[1;34m'Last 2 dimensions of the array must be square'\u001b[0m\u001b[1;33m)\u001b[0m\u001b[1;33m\u001b[0m\u001b[1;33m\u001b[0m\u001b[0m\n\u001b[0m\u001b[0;32m    214\u001b[0m \u001b[1;33m\u001b[0m\u001b[0m\n\u001b[0;32m    215\u001b[0m \u001b[1;32mdef\u001b[0m \u001b[0m_assertFinite\u001b[0m\u001b[1;33m(\u001b[0m\u001b[1;33m*\u001b[0m\u001b[0marrays\u001b[0m\u001b[1;33m)\u001b[0m\u001b[1;33m:\u001b[0m\u001b[1;33m\u001b[0m\u001b[1;33m\u001b[0m\u001b[0m\n",
      "\u001b[1;31mLinAlgError\u001b[0m: Last 2 dimensions of the array must be square"
     ]
    }
   ],
   "source": [
    "np.linalg.solve(A.transpose(), b)"
   ]
  },
  {
   "cell_type": "code",
   "execution_count": null,
   "metadata": {},
   "outputs": [],
   "source": [
    "\"\"\"\n",
    "The same error is raised. A.transpose() is not a square matrix. It's a 3*2 matrix\n",
    "    Write your explanation as a comment here.\n",
    "\"\"\""
   ]
  },
  {
   "cell_type": "markdown",
   "metadata": {},
   "source": [
    "f) One of the two tasks above make sense from a mathematical point of view. Find a best solution $x$ in the least squares sense."
   ]
  },
  {
   "cell_type": "code",
   "execution_count": 18,
   "metadata": {},
   "outputs": [
    {
     "data": {
      "text/plain": [
       "array([[1.00000000e+00],\n",
       "       [1.78031751e-16]])"
      ]
     },
     "execution_count": 18,
     "metadata": {},
     "output_type": "execute_result"
    }
   ],
   "source": [
    "\n",
    "import numpy as np\n",
    "np.linalg.lstsq(np.transpose(A),b,rcond=-1)[0]\n"
   ]
  },
  {
   "cell_type": "markdown",
   "metadata": {},
   "source": [
    "g) Is the resulting $Ax$ or $A^Tx$ (depending on your choice above) close to $b$? What is the norm-2-distance between the vectors?"
   ]
  },
  {
   "cell_type": "code",
   "execution_count": 19,
   "metadata": {},
   "outputs": [],
   "source": [
    "\n",
    "ReultVector = A.T@np.linalg.lstsq(np.transpose(A),b,rcond=-1)[0]\n",
    "\n",
    "# yes 𝐴X is exactly b. \n",
    "\n",
    "distance = np.linalg.norm(b-ReultVector)\n",
    "\n",
    "#norm-2-distance between the vectors is 1.159106867033638e-15"
   ]
  },
  {
   "cell_type": "markdown",
   "metadata": {},
   "source": [
    "Just to get some practice, run the following to get some test data:"
   ]
  },
  {
   "cell_type": "code",
   "execution_count": 20,
   "metadata": {},
   "outputs": [],
   "source": [
    "import sklearn\n",
    "import sklearn.datasets as ds\n",
    "houses = ds.fetch_california_housing()"
   ]
  },
  {
   "cell_type": "markdown",
   "metadata": {},
   "source": [
    "h) How many rows does the dataset have? Columns? Find out using numpy. (First check what `houses` actually is)"
   ]
  },
  {
   "cell_type": "code",
   "execution_count": 21,
   "metadata": {},
   "outputs": [
    {
     "name": "stdout",
     "output_type": "stream",
     "text": [
      "It has 20640 rows\n",
      "It has 8 columns\n",
      ".. _california_housing_dataset:\n",
      "\n",
      "California Housing dataset\n",
      "--------------------------\n",
      "\n",
      "**Data Set Characteristics:**\n",
      "\n",
      "    :Number of Instances: 20640\n",
      "\n",
      "    :Number of Attributes: 8 numeric, predictive attributes and the target\n",
      "\n",
      "    :Attribute Information:\n",
      "        - MedInc        median income in block\n",
      "        - HouseAge      median house age in block\n",
      "        - AveRooms      average number of rooms\n",
      "        - AveBedrms     average number of bedrooms\n",
      "        - Population    block population\n",
      "        - AveOccup      average house occupancy\n",
      "        - Latitude      house block latitude\n",
      "        - Longitude     house block longitude\n",
      "\n",
      "    :Missing Attribute Values: None\n",
      "\n",
      "This dataset was obtained from the StatLib repository.\n",
      "http://lib.stat.cmu.edu/datasets/\n",
      "\n",
      "The target variable is the median house value for California districts.\n",
      "\n",
      "This dataset was derived from the 1990 U.S. census, using one row per census\n",
      "block group. A block group is the smallest geographical unit for which the U.S.\n",
      "Census Bureau publishes sample data (a block group typically has a population\n",
      "of 600 to 3,000 people).\n",
      "\n",
      "It can be downloaded/loaded using the\n",
      ":func:`sklearn.datasets.fetch_california_housing` function.\n",
      "\n",
      ".. topic:: References\n",
      "\n",
      "    - Pace, R. Kelley and Ronald Barry, Sparse Spatial Autoregressions,\n",
      "      Statistics and Probability Letters, 33 (1997) 291-297\n",
      "\n"
     ]
    }
   ],
   "source": [
    "harr = np.asarray(houses)\n",
    "c = harr[()]['data']\n",
    "print(f\"It has {c.shape[0]} rows\")\n",
    "print(f\"It has {c.shape[1]} columns\")\n",
    "\n",
    "print(houses.DESCR)\n"
   ]
  },
  {
   "cell_type": "markdown",
   "metadata": {},
   "source": [
    "i) Get the third column (remember: indexing starts at zero, so column number 2) of the dataset by indexing/slicing."
   ]
  },
  {
   "cell_type": "code",
   "execution_count": 22,
   "metadata": {},
   "outputs": [
    {
     "name": "stdout",
     "output_type": "stream",
     "text": [
      "[6.98412698 6.23813708 8.28813559 ... 5.20554273 5.32951289 5.25471698]\n"
     ]
    }
   ],
   "source": [
    "print(c[:,2])"
   ]
  },
  {
   "cell_type": "markdown",
   "metadata": {},
   "source": [
    "j) Get the values of the third, fourth and hundredrth rows (that is, index 2, 3, 99)."
   ]
  },
  {
   "cell_type": "code",
   "execution_count": 23,
   "metadata": {},
   "outputs": [
    {
     "name": "stdout",
     "output_type": "stream",
     "text": [
      "[[ 7.25740000e+00  5.20000000e+01  8.28813559e+00  1.07344633e+00\n",
      "   4.96000000e+02  2.80225989e+00  3.78500000e+01 -1.22240000e+02]\n",
      " [ 5.64310000e+00  5.20000000e+01  5.81735160e+00  1.07305936e+00\n",
      "   5.58000000e+02  2.54794521e+00  3.78500000e+01 -1.22250000e+02]\n",
      " [ 2.61040000e+00  3.70000000e+01  3.70714286e+00  1.10714286e+00\n",
      "   1.83800000e+03  1.87551020e+00  3.78200000e+01 -1.22260000e+02]]\n"
     ]
    }
   ],
   "source": [
    "print(c[[2,3,99],:])"
   ]
  },
  {
   "cell_type": "markdown",
   "metadata": {},
   "source": [
    "k) Mathematical sanity check: without actually computing the rank of ```houses.data```, can you provide a bound? Could it have $10^{15}$ linearly independent rows? 2000? Etc. Write down the tightest bound you can find, and explain why briefly."
   ]
  },
  {
   "cell_type": "code",
   "execution_count": null,
   "metadata": {},
   "outputs": [],
   "source": [
    "# RAnk of a matrix is the number of linearly independent columne of the matrix. So the rank of houses dataset should be at most 8."
   ]
  },
  {
   "cell_type": "markdown",
   "metadata": {},
   "source": [
    "l) Find out the actual rank of the matrix using numpy. "
   ]
  },
  {
   "cell_type": "code",
   "execution_count": 30,
   "metadata": {},
   "outputs": [
    {
     "data": {
      "text/plain": [
       "8"
      ]
     },
     "execution_count": 30,
     "metadata": {},
     "output_type": "execute_result"
    }
   ],
   "source": [
    "np.linalg.matrix_rank(c)"
   ]
  },
  {
   "cell_type": "markdown",
   "metadata": {},
   "source": [
    "# 6. A simple classifier"
   ]
  },
  {
   "cell_type": "markdown",
   "metadata": {},
   "source": [
    "Our goal in this section is to build a naïve subspace-projection based classifier which takes a numerical vector and produces a label. We will build this from the ground up (there are many libraries that perform this automatically, but may not use them in this case).\n",
    "\n",
    "We will first practice our numpy (and linear algebra) skills to build the algorithm, and then encapsulate data and methods in a class. We will be taking a slightly different route than more general SVD methods for finding principal components, simply because this is not our task. This is worth remembering if you find material on the subject!\n",
    "\n",
    "The main idea here is to pick out all the data corresponding to a certain set of vectors, and reduce this matrix to some rank $\\leq k$ matrix which is a good approximation of the row space in some sense (here: the sense that the vectors correspond to maximal singular values). A naïve classification is then given by picking the subspace which is closest by orthogonal projection."
   ]
  },
  {
   "cell_type": "markdown",
   "metadata": {},
   "source": [
    "## The dataset"
   ]
  },
  {
   "cell_type": "markdown",
   "metadata": {},
   "source": [
    "First, we will import some data. Here we use the classic MNIST data set of handwritten digits. We can naturally partition the sets of vectors used for training and validation in many ways. Feel free to experiment with a nicer (possibly non-deterministic) version later. This is only to get us started, and to have a set of data with known properties (which is helpful for lab assistants)."
   ]
  },
  {
   "cell_type": "code",
   "execution_count": 10,
   "metadata": {},
   "outputs": [],
   "source": [
    "import sklearn.datasets as ds\n",
    "digits = ds.load_digits()\n",
    "training_digits = digits.data[0:600, :]\n",
    "training_labels = digits.target[0:600]\n",
    "# The set of labels can be found in digits.target_names."
   ]
  },
  {
   "cell_type": "markdown",
   "metadata": {},
   "source": [
    "If we are curious, we can view the images from the dataset."
   ]
  },
  {
   "cell_type": "code",
   "execution_count": 11,
   "metadata": {},
   "outputs": [
    {
     "data": {
      "text/plain": [
       "Text(0.5, 0, 'Index: 2, actually the number 2')"
      ]
     },
     "execution_count": 11,
     "metadata": {},
     "output_type": "execute_result"
    },
    {
     "data": {
      "image/png": "[encoded data removed]",
      "text/plain": [
       "<Figure size 432x288 with 1 Axes>"
      ]
     },
     "metadata": {
      "needs_background": "light"
     },
     "output_type": "display_data"
    }
   ],
   "source": [
    "%matplotlib inline\n",
    "from matplotlib import pyplot as plt \n",
    "# We show one of the digits.\n",
    "d_index = 2\n",
    "plt.imshow(training_digits[d_index].reshape(8,8))\n",
    "plt.xlabel(f\"Index: {d_index}, actually the number {training_labels[d_index]}\")\n",
    "# Note: digits.images[i] is the same as digits.data[i], but in 8x8 format (no need to reshape).\n",
    "# We would however like to stress that the 64 pixel images we'll be working with are stored in vector format."
   ]
  },
  {
   "cell_type": "markdown",
   "metadata": {},
   "source": [
    "## Tasks"
   ]
  },
  {
   "cell_type": "markdown",
   "metadata": {},
   "source": [
    "a) Get all rows with label 4. Store that in the matrix $A_4$. Similarly for $A_9$. This should be two single lines of code!"
   ]
  },
  {
   "cell_type": "code",
   "execution_count": 13,
   "metadata": {},
   "outputs": [
    {
     "name": "stdout",
     "output_type": "stream",
     "text": [
      "[[0. 0. 0. ... 4. 0. 0.]\n",
      " [0. 0. 0. ... 4. 0. 0.]\n",
      " [0. 0. 0. ... 8. 0. 0.]\n",
      " ...\n",
      " [0. 0. 0. ... 7. 0. 0.]\n",
      " [0. 0. 0. ... 9. 0. 0.]\n",
      " [0. 0. 0. ... 4. 0. 0.]]\n",
      "[[ 0.  0. 11. ...  3.  0.  0.]\n",
      " [ 0.  0.  6. ... 13. 11.  1.]\n",
      " [ 0.  0.  9. ... 12. 11.  0.]\n",
      " ...\n",
      " [ 0.  0.  4. ...  9.  0.  0.]\n",
      " [ 0.  0.  4. ...  9.  0.  0.]\n",
      " [ 0.  0.  2. ... 12.  0.  0.]]\n"
     ]
    }
   ],
   "source": [
    "a4 = digits.data[digits.target==4]    # Replace with your code.\n",
    "a9 = digits.data[digits.target==9]    # Replace with your code.\n",
    "print(a4)\n",
    "print(a9)"
   ]
  },
  {
   "cell_type": "markdown",
   "metadata": {},
   "source": [
    "b) Compute the thin SVD $A_4 = U_4\\Sigma_4 V^T_4$ and similarly for $A_9$. Thin here means that you do not necessarily get the full-rank square $U,V^T$ matrices."
   ]
  },
  {
   "cell_type": "code",
   "execution_count": 14,
   "metadata": {
    "scrolled": true
   },
   "outputs": [
    {
     "name": "stdout",
     "output_type": "stream",
     "text": [
      "[[ 0.06386834 -0.10024364  0.02261112 ...  0.          0.\n",
      "   0.        ]\n",
      " [ 0.08437095 -0.0191978   0.08958518 ...  0.          0.\n",
      "   0.        ]\n",
      " [ 0.0635407  -0.08509015  0.08000032 ...  0.02125237 -0.06973218\n",
      "  -0.01769488]\n",
      " ...\n",
      " [ 0.07956557 -0.10989193 -0.05375185 ...  0.74672168 -0.05835774\n",
      "  -0.07902017]\n",
      " [ 0.07994286 -0.10381556 -0.00730192 ... -0.07659729  0.84862486\n",
      "  -0.06132004]\n",
      " [ 0.08583413 -0.04870598  0.01264939 ... -0.06650986 -0.08363002\n",
      "   0.76321678]]\n",
      "[7.56149585e+02 1.96706710e+02 1.41982289e+02 1.33057470e+02\n",
      " 8.81159718e+01 8.06708877e+01 7.15856677e+01 6.64890766e+01\n",
      " 6.07798918e+01 5.43187266e+01 4.73920555e+01 4.33012024e+01\n",
      " 4.13465528e+01 3.94342513e+01 3.82284842e+01 3.54809893e+01\n",
      " 3.36899493e+01 3.24562601e+01 3.18297357e+01 2.92135207e+01\n",
      " 2.57756855e+01 2.52416644e+01 2.50827622e+01 2.35870759e+01\n",
      " 2.17256566e+01 2.08327084e+01 1.98831844e+01 1.94379412e+01\n",
      " 1.92648385e+01 1.83014426e+01 1.65758349e+01 1.60369023e+01\n",
      " 1.54437471e+01 1.51733508e+01 1.44751607e+01 1.36355344e+01\n",
      " 1.26640879e+01 1.23775665e+01 1.16127777e+01 1.13644609e+01\n",
      " 1.07610852e+01 1.00139276e+01 9.34506979e+00 7.35405223e+00\n",
      " 6.79754987e+00 5.79856785e+00 4.47813017e+00 3.64855775e+00\n",
      " 2.89696165e+00 1.94696882e+00 1.52865556e+00 1.11117532e+00\n",
      " 6.49625462e-01 6.59788557e-14 6.59788557e-14 6.59788557e-14\n",
      " 6.59788557e-14 6.59788557e-14 6.59788557e-14 6.59788557e-14\n",
      " 6.59788557e-14 6.59788557e-14 6.59788557e-14 5.52879435e-14]\n",
      "[[ 5.57291878e-18 -1.11022302e-16  6.96289550e-03 ...  3.44080250e-02\n",
      "   0.00000000e+00  0.00000000e+00]\n",
      " [-3.36234611e-17  5.55111512e-17  4.99922713e-02 ... -1.41428971e-01\n",
      "   0.00000000e+00  0.00000000e+00]\n",
      " [ 1.05073375e-17 -6.93889390e-18 -1.85040652e-02 ...  3.50934043e-02\n",
      "   0.00000000e+00  0.00000000e+00]\n",
      " ...\n",
      " [ 0.00000000e+00  0.00000000e+00  0.00000000e+00 ...  0.00000000e+00\n",
      "   1.00000000e+00  0.00000000e+00]\n",
      " [ 0.00000000e+00  0.00000000e+00  0.00000000e+00 ...  0.00000000e+00\n",
      "   0.00000000e+00  1.00000000e+00]\n",
      " [ 1.00000000e+00 -1.35043126e-28  8.37403181e-17 ...  2.83393074e-17\n",
      "   0.00000000e+00  0.00000000e+00]]\n"
     ]
    }
   ],
   "source": [
    "U4,sigma4,V4=np.linalg.svd(a4)\n",
    "print(U4)\n",
    "print(sigma4)\n",
    "print(V4)"
   ]
  },
  {
   "cell_type": "code",
   "execution_count": 15,
   "metadata": {},
   "outputs": [
    {
     "name": "stdout",
     "output_type": "stream",
     "text": [
      "[[ 0.07721781  0.00799962 -0.05142573 ...  0.          0.\n",
      "   0.        ]\n",
      " [ 0.06194942 -0.08981777  0.08634921 ...  0.02305032  0.02675269\n",
      "   0.063819  ]\n",
      " [ 0.07609771 -0.06088155  0.09024955 ... -0.07384173 -0.08923976\n",
      "   0.00116351]\n",
      " ...\n",
      " [ 0.08816382 -0.00238751  0.08663863 ...  0.75903664 -0.02524494\n",
      "  -0.0731287 ]\n",
      " [ 0.085675    0.01560804  0.03337879 ... -0.01997693  0.81227874\n",
      "  -0.0516201 ]\n",
      " [ 0.08263203  0.03444895 -0.03075391 ... -0.04715452 -0.07398006\n",
      "   0.62280395]]\n",
      "[7.38221389e+02 1.76264927e+02 1.25621661e+02 1.15727936e+02\n",
      " 1.02794742e+02 9.82002051e+01 8.05877748e+01 7.21082487e+01\n",
      " 6.68221567e+01 6.17047892e+01 5.54670073e+01 5.09904519e+01\n",
      " 4.75463598e+01 4.60031202e+01 4.22936943e+01 3.83933733e+01\n",
      " 3.80262245e+01 3.57244490e+01 3.54624041e+01 3.27222689e+01\n",
      " 3.00807120e+01 2.76842794e+01 2.74130824e+01 2.66948686e+01\n",
      " 2.49896249e+01 2.41421503e+01 2.32556534e+01 2.14269823e+01\n",
      " 2.02830873e+01 1.90707819e+01 1.86076385e+01 1.79967390e+01\n",
      " 1.75426924e+01 1.68025891e+01 1.64626480e+01 1.59228539e+01\n",
      " 1.52727535e+01 1.42071547e+01 1.40304366e+01 1.29451540e+01\n",
      " 1.23725927e+01 1.14269721e+01 1.13280372e+01 9.91172254e+00\n",
      " 9.38873182e+00 8.90661043e+00 6.04592501e+00 5.21252124e+00\n",
      " 4.52567754e+00 3.85529041e+00 2.85163468e+00 2.55071383e+00\n",
      " 2.28852858e+00 1.95150227e+00 6.46220595e-14 6.46220595e-14\n",
      " 6.46220595e-14 6.46220595e-14 6.46220595e-14 6.46220595e-14\n",
      " 6.46220595e-14 6.46220595e-14 6.46220595e-14 4.64019390e-14]\n",
      "[[ 6.75945492e-18  2.60806131e-03  1.05668670e-01 ...  1.64824339e-01\n",
      "   3.76761217e-02  8.64164020e-04]\n",
      " [ 2.93281071e-18 -8.00085984e-03 -1.65481663e-01 ... -2.32139302e-01\n",
      "  -1.14283697e-01 -3.36253659e-03]\n",
      " [-2.64543300e-17 -3.42653540e-03 -1.39597566e-01 ...  1.11147826e-01\n",
      "  -2.21247822e-02  4.68811556e-04]\n",
      " ...\n",
      " [ 0.00000000e+00  1.98203048e-16  4.54025682e-18 ... -1.73472348e-16\n",
      "   2.91433544e-16  2.11636264e-16]\n",
      " [ 0.00000000e+00 -1.08391266e-16 -4.71341268e-17 ...  1.10960273e-16\n",
      "   2.69298113e-17  1.02831950e-16]\n",
      " [-1.00000000e+00  7.41951320e-16  2.51786180e-16 ... -4.51587007e-17\n",
      "   1.39619260e-16  4.98679744e-16]]\n"
     ]
    }
   ],
   "source": [
    "U9,sigma9,V9=np.linalg.svd(a9)\n",
    "print(U9)\n",
    "print(sigma9)\n",
    "print(V9)"
   ]
  },
  {
   "cell_type": "markdown",
   "metadata": {},
   "source": [
    "**Note** Our data is stored by row (one row per digit). What we use the different matrices in the decomposition for is thus slightly different than if it was stored by column. Instead of picking the best $k$ columns of $U$ we pick the best $k$ rows of $V^T$."
   ]
  },
  {
   "cell_type": "markdown",
   "metadata": {},
   "source": [
    "c) Let $sample4$ be the first row of $A_4$ and $sample9$ be the first row of $A_9$."
   ]
  },
  {
   "cell_type": "code",
   "execution_count": 16,
   "metadata": {},
   "outputs": [
    {
     "name": "stdout",
     "output_type": "stream",
     "text": [
      "[ 0.  0.  0.  1. 11.  0.  0.  0.  0.  0.  0.  7.  8.  0.  0.  0.  0.  0.\n",
      "  1. 13.  6.  2.  2.  0.  0.  0.  7. 15.  0.  9.  8.  0.  0.  5. 16. 10.\n",
      "  0. 16.  6.  0.  0.  4. 15. 16. 13. 16.  1.  0.  0.  0.  0.  3. 15. 10.\n",
      "  0.  0.  0.  0.  0.  2. 16.  4.  0.  0.]\n"
     ]
    }
   ],
   "source": [
    "sample4 = a4[0]\n",
    "sample9 = a9[0]\n",
    "print(sample4)"
   ]
  },
  {
   "cell_type": "markdown",
   "metadata": {},
   "source": [
    "d) Let $R$ be the first 3 rows of $V^T$. Compute the orthogonal projection of $sample4$ onto the row space of $R_4$, and onto the row space of $R_9$"
   ]
  },
  {
   "cell_type": "code",
   "execution_count": 19,
   "metadata": {},
   "outputs": [
    {
     "name": "stdout",
     "output_type": "stream",
     "text": [
      "[[ 5.57291878e-18 -1.11022302e-16  6.96289550e-03  1.25699125e-01\n",
      "   2.06301346e-01  3.58239911e-02  3.50717475e-03  2.11296718e-03\n",
      "   1.00974196e-28  8.09805466e-04  6.01247111e-02  2.37582014e-01\n",
      "   1.51280295e-01  3.49011621e-02  1.97480695e-02  5.16923198e-03\n",
      "   0.00000000e+00  1.22949479e-02  1.86681381e-01  2.04519021e-01\n",
      "   8.60026805e-02  1.02486062e-01  6.83135251e-02  5.88187647e-03\n",
      "   9.99714226e-05  8.35555575e-02  2.58188832e-01  1.11452795e-01\n",
      "   1.30323589e-01  1.90327452e-01  1.09486882e-01  3.82788300e-04\n",
      "   0.00000000e+00  1.55413353e-01  2.60165058e-01  1.72580018e-01\n",
      "   2.32132651e-01  2.49916475e-01  9.54648936e-02  0.00000000e+00\n",
      "   1.62451966e-03  1.13410516e-01  2.02536467e-01  2.21737902e-01\n",
      "   2.61188170e-01  1.86085489e-01  2.85356566e-02  0.00000000e+00\n",
      "   9.73996000e-04  1.88335363e-02  5.04558859e-02  1.38072815e-01\n",
      "   2.41246481e-01  7.33781127e-02  3.90349367e-04  0.00000000e+00\n",
      "   0.00000000e+00  3.68014465e-04  8.47091282e-03  1.39375475e-01\n",
      "   2.12112838e-01  3.44080250e-02  0.00000000e+00  0.00000000e+00]\n",
      " [-3.36234611e-17  5.55111512e-17  4.99922713e-02  3.01734459e-01\n",
      "  -1.77660111e-01 -1.13998891e-01  1.58136456e-02  1.11322916e-02\n",
      "   0.00000000e+00  7.32259286e-03  2.36447806e-01  1.08348318e-01\n",
      "  -2.88447430e-01  4.76694100e-02  4.18179204e-02  3.31081953e-03\n",
      "  -4.93038066e-32  5.71289085e-02  2.84324521e-01 -2.06054488e-01\n",
      "  -5.52098185e-02  1.78783525e-01  2.65000768e-02  3.01199035e-03\n",
      "   3.43148509e-04  1.43220964e-01  6.56226722e-02 -1.16320824e-01\n",
      "   1.89315694e-01  9.81724741e-02 -1.74735078e-02  1.54974387e-04\n",
      "   0.00000000e+00  1.21383129e-03 -3.05280724e-02  1.29862948e-01\n",
      "   1.58911376e-01 -4.53883652e-02 -6.38489205e-02  0.00000000e+00\n",
      "  -4.79678933e-03 -1.46105591e-01 -1.31794770e-01  1.26652201e-02\n",
      "  -7.67137317e-04 -2.65499177e-01 -6.88112765e-02  0.00000000e+00\n",
      "  -4.37696819e-03 -4.92426052e-02 -7.60344040e-02  1.97282714e-01\n",
      "  -9.95246748e-02 -2.47697287e-01 -1.61801477e-03  0.00000000e+00\n",
      "   0.00000000e+00  1.94379101e-05  5.68733065e-02  3.31697023e-01\n",
      "  -2.12582315e-01 -1.41428971e-01  0.00000000e+00  0.00000000e+00]\n",
      " [ 1.05073375e-17 -6.93889390e-18 -1.85040652e-02 -4.46834622e-02\n",
      "   9.32084254e-02 -4.65561609e-03  1.30625131e-02  1.63092792e-02\n",
      "   1.38777878e-17 -1.57432912e-03 -7.70065405e-03  1.37790829e-02\n",
      "   1.20448207e-02 -7.95253301e-02  1.09569598e-01  5.22636640e-02\n",
      "   5.16987883e-26  1.96993968e-02  2.03707256e-02  1.82516232e-02\n",
      "  -1.97726666e-01 -2.98014532e-02  3.53739141e-01  5.71330537e-02\n",
      "   8.87151670e-05  4.26403735e-02  2.92457099e-02  9.73525635e-02\n",
      "  -1.77060495e-01  2.71899949e-01  3.07990042e-01  2.84458316e-03\n",
      "   0.00000000e+00 -8.26328172e-02  9.04375857e-02  2.66562568e-01\n",
      "   3.34102052e-02  1.14534157e-01 -5.45555950e-02  0.00000000e+00\n",
      "  -5.46766318e-03 -3.15914963e-01 -3.67839658e-01 -2.91369955e-01\n",
      "  -5.07304153e-02 -2.97760940e-03 -6.62348201e-02  0.00000000e+00\n",
      "  -3.21921767e-03 -9.69139717e-02 -2.25540012e-01 -2.58418637e-01\n",
      "   5.60052818e-02  1.09267471e-01 -2.07778259e-03  0.00000000e+00\n",
      "   0.00000000e+00 -3.62451410e-03 -3.00062561e-02 -3.88029518e-02\n",
      "   9.58360024e-02  3.50934043e-02  0.00000000e+00  0.00000000e+00]]\n"
     ]
    }
   ],
   "source": [
    "r4 = V4[0:3,:]  # Your code here.\n",
    "r9 = V9[0:3,:]  # Your code here\n",
    "print(r4)\n",
    "    \n",
    "coeffs_in_r4 = (r4.dot(sample4))/r4.dot(r4.T)  # What are the coordinates of sample4 orthogonally projected onto R4?\n",
    "coeffs_in_r9 = (r9.dot(sample4))/r9.dot(r9.T) \n",
    "\n",
    "sample4_in_r4 = coeffs_in_r4 @ r4   # Linear combination of rows in R4\n",
    "sample4_in_r9 = coeffs_in_r9 @ r9   # Your code here.\n"
   ]
  },
  {
   "cell_type": "markdown",
   "metadata": {},
   "source": [
    "[Mathematical aside: where did the $\\Sigma$ go? This is a very important matrix, and strongly affects both interpretations and (in general) row- and column spaces. *Assuming* that the rank is $\\geq 3$ the row spaces should be the same whether or not we scale the basis vectors by some $\\sigma_i$ (since $\\sigma_i > 0$ for all $i=1,2,\\ldots, r$). That is enough for our application, though the interpretations of the vectors might be different. The rank assumption is rather important, and we will make rather casually based on knowledge about the data set. Later, we'll include a check for this in our code.]"
   ]
  },
  {
   "cell_type": "markdown",
   "metadata": {},
   "source": [
    "e) Which of the projections is closest to sample4 (in the sense that the difference (sample4_in_z**?**t - sample4) as the smallest 2-norm?"
   ]
  },
  {
   "cell_type": "code",
   "execution_count": 41,
   "metadata": {},
   "outputs": [
    {
     "name": "stdout",
     "output_type": "stream",
     "text": [
      "2.522092613201758e+17\n",
      "4.3014502616567204e+18\n"
     ]
    }
   ],
   "source": [
    "\n",
    "dist_s4_r4 = np.linalg.norm(sample4-sample4_in_r4)\n",
    "dist_s4_r9 = np.linalg.norm(sample4-sample4_in_r9)\n",
    "print(dist_s4_r4)\n",
    "print(dist_s4_r9)\n",
    "\n",
    "# projection r4 is closest to the sample4\n"
   ]
  },
  {
   "cell_type": "markdown",
   "metadata": {},
   "source": [
    "f) Create a function `split_data(data, data_labels, labels)` which takes a matrix of data (such as `training_data`), the labels of all rows (such as `training_labels`) and a vector of the labels (here the numbers 0,...,9) and returns a dictionary mapping a label to the matrix of all corresponding data. \n",
    "\n",
    "Here the dictionary would for instance have the key 2, and the corresponding value be the matrix of all the images in `data` classified as the number 2."
   ]
  },
  {
   "cell_type": "code",
   "execution_count": 22,
   "metadata": {},
   "outputs": [
    {
     "data": {
      "text/plain": [
       "{0: array([[0., 0., 5., ..., 0., 0., 0.],\n",
       "        [0., 0., 1., ..., 3., 0., 0.],\n",
       "        [0., 0., 3., ..., 4., 0., 0.],\n",
       "        ...,\n",
       "        [0., 0., 0., ..., 3., 0., 0.],\n",
       "        [0., 0., 2., ..., 1., 0., 0.],\n",
       "        [0., 0., 1., ..., 7., 0., 0.]]),\n",
       " 1: array([[ 0.,  0.,  0., ..., 10.,  0.,  0.],\n",
       "        [ 0.,  0.,  0., ..., 16.,  1.,  0.],\n",
       "        [ 0.,  0.,  0., ..., 15.,  4.,  0.],\n",
       "        ...,\n",
       "        [ 0.,  0., 10., ..., 16., 16., 11.],\n",
       "        [ 0.,  0.,  3., ..., 16., 15., 11.],\n",
       "        [ 0.,  0.,  5., ..., 16., 11.,  2.]]),\n",
       " 2: array([[ 0.,  0.,  0., ..., 16.,  9.,  0.],\n",
       "        [ 0.,  0.,  5., ..., 13., 12.,  4.],\n",
       "        [ 0.,  0.,  8., ..., 12., 13.,  1.],\n",
       "        ...,\n",
       "        [ 0.,  0.,  3., ..., 12., 14.,  7.],\n",
       "        [ 0.,  0.,  7., ..., 12., 12., 11.],\n",
       "        [ 0.,  0.,  9., ..., 16., 16.,  3.]]),\n",
       " 3: array([[ 0.,  0.,  7., ...,  9.,  0.,  0.],\n",
       "        [ 0.,  2.,  9., ..., 11.,  0.,  0.],\n",
       "        [ 0.,  1.,  8., ...,  2.,  0.,  0.],\n",
       "        ...,\n",
       "        [ 0.,  0.,  0., ..., 16., 11.,  0.],\n",
       "        [ 0.,  0.,  0., ..., 16.,  9.,  0.],\n",
       "        [ 0.,  0.,  1., ..., 16., 16.,  8.]]),\n",
       " 4: array([[0., 0., 0., ..., 4., 0., 0.],\n",
       "        [0., 0., 0., ..., 4., 0., 0.],\n",
       "        [0., 0., 0., ..., 8., 0., 0.],\n",
       "        ...,\n",
       "        [0., 0., 0., ..., 0., 0., 0.],\n",
       "        [0., 0., 0., ..., 0., 0., 0.],\n",
       "        [0., 0., 3., ..., 0., 0., 0.]]),\n",
       " 5: array([[ 0.,  0., 12., ..., 10.,  0.,  0.],\n",
       "        [ 0.,  5., 12., ...,  0.,  0.,  0.],\n",
       "        [ 0.,  0., 12., ...,  0.,  0.,  0.],\n",
       "        ...,\n",
       "        [ 0.,  0., 11., ...,  2.,  0.,  0.],\n",
       "        [ 0.,  1.,  9., ...,  1.,  0.,  0.],\n",
       "        [ 0.,  0.,  9., ...,  7.,  0.,  0.]]),\n",
       " 6: array([[ 0.,  0.,  0., ..., 11.,  3.,  0.],\n",
       "        [ 0.,  0.,  0., ..., 16., 11.,  0.],\n",
       "        [ 0.,  0.,  1., ..., 14.,  7.,  0.],\n",
       "        ...,\n",
       "        [ 0.,  0.,  0., ..., 16.,  7.,  0.],\n",
       "        [ 0.,  0.,  0., ...,  5.,  0.,  0.],\n",
       "        [ 0.,  0.,  0., ..., 12.,  0.,  0.]]),\n",
       " 7: array([[0., 0., 7., ..., 0., 0., 0.],\n",
       "        [0., 0., 1., ..., 0., 0., 0.],\n",
       "        [0., 0., 0., ..., 1., 0., 0.],\n",
       "        ...,\n",
       "        [0., 0., 9., ..., 0., 0., 0.],\n",
       "        [0., 0., 3., ..., 0., 0., 0.],\n",
       "        [0., 0., 6., ..., 0., 0., 0.]]),\n",
       " 8: array([[ 0.,  0.,  9., ..., 11.,  1.,  0.],\n",
       "        [ 0.,  0., 10., ...,  0.,  0.,  0.],\n",
       "        [ 0.,  0., 10., ...,  1.,  0.,  0.],\n",
       "        ...,\n",
       "        [ 0.,  0.,  0., ..., 16., 14.,  0.],\n",
       "        [ 0.,  0.,  0., ..., 15., 13.,  0.],\n",
       "        [ 0.,  0.,  0., ..., 15., 15.,  0.]]),\n",
       " 9: array([[ 0.,  0., 11., ...,  3.,  0.,  0.],\n",
       "        [ 0.,  0.,  6., ..., 13., 11.,  1.],\n",
       "        [ 0.,  0.,  9., ..., 12., 11.,  0.],\n",
       "        ...,\n",
       "        [ 0.,  0.,  2., ..., 16.,  6.,  0.],\n",
       "        [ 0.,  0.,  1., ...,  7.,  0.,  0.],\n",
       "        [ 0.,  0.,  6., ..., 12.,  0.,  0.]])}"
      ]
     },
     "execution_count": 22,
     "metadata": {},
     "output_type": "execute_result"
    }
   ],
   "source": [
    "\n",
    "def split_data(data,data_labels,labels):\n",
    "    dicts = {}\n",
    "    for i in labels:\n",
    "        dicts[i] = data[data_labels == i]\n",
    "    return(dicts)\n",
    "    \n",
    "split_data(training_digits,training_labels,digits.target_names)\n"
   ]
  },
  {
   "cell_type": "markdown",
   "metadata": {},
   "source": [
    "f) Create a function `subspaces(labelled_data, k = 3)` that takes a dictionary such as above, and returns a dictionary mapping every occurring label $d$ to the respective $Z_d$ matrix with at most $k$ rows. Here the $Z_d$ matrices is defined as above, the best norm-2-approximation. If a particular matrix has a rank $r < k$, we should only keep $r$ rows (say, if there were many more *different* digit 9-rows in the training set, than digit 1:s)!"
   ]
  },
  {
   "cell_type": "code",
   "execution_count": 142,
   "metadata": {},
   "outputs": [
    {
     "data": {
      "text/plain": [
       "{0: [array([ 0.,  0.,  4., 13., 12.,  1.,  0.,  0.,  0.,  2., 15., 14., 16.,\n",
       "         13.,  0.,  0.,  0.,  6., 16.,  4.,  6., 16.,  5.,  0.,  0.,  8.,\n",
       "         15.,  1.,  0., 12.,  8.,  0.,  0.,  8., 12.,  0.,  0., 12.,  8.,\n",
       "          0.,  0.,  5., 13.,  0.,  1., 13.,  8.,  0.,  0.,  1., 15., 10.,\n",
       "         12., 16.,  3.,  0.,  0.,  0.,  6., 16., 13.,  4.,  0.,  0.]),\n",
       "  array([ 0.,  0.,  2., 14., 13.,  0.,  0.,  0.,  0.,  0., 10., 15., 15.,\n",
       "          8.,  0.,  0.,  0.,  2., 16.,  7.,  4., 15.,  0.,  0.,  0.,  4.,\n",
       "         16.,  4.,  0., 13.,  7.,  0.,  0.,  4., 16.,  1.,  0., 10.,  8.,\n",
       "          0.,  0.,  4., 16.,  5.,  1., 12., 11.,  0.,  0.,  1., 15., 14.,\n",
       "         13., 16.,  3.,  0.,  0.,  0.,  3., 12., 13.,  5.,  0.,  0.]),\n",
       "  array([ 0.,  0.,  3., 12., 11.,  1.,  0.,  0.,  0.,  1., 14., 14., 15.,\n",
       "          8.,  0.,  0.,  0.,  3., 16.,  2.,  5., 16.,  1.,  0.,  0.,  4.,\n",
       "         16.,  0.,  0., 14.,  6.,  0.,  0.,  4., 16.,  0.,  0., 11.,  8.,\n",
       "          0.,  0.,  3., 16.,  2.,  0., 10.,  8.,  0.,  0.,  0., 10., 15.,\n",
       "         13., 16.,  3.,  0.,  0.,  0.,  1., 15., 14.,  6.,  0.,  0.])],\n",
       " 1: [array([ 0.,  0.,  4., 15., 11.,  1.,  0.,  0.,  0.,  2., 14., 14., 16.,\n",
       "          8.,  0.,  0.,  0.,  8., 15.,  2.,  3., 13.,  0.,  0.,  0.,  4.,\n",
       "         16.,  0.,  0., 12.,  7.,  0.,  0.,  7., 16.,  0.,  0., 12.,  8.,\n",
       "          0.,  0.,  3., 16.,  6.,  1., 14.,  9.,  0.,  0.,  0., 15., 16.,\n",
       "         16., 16.,  2.,  0.,  0.,  0.,  4., 13., 14.,  6.,  0.,  0.]),\n",
       "  array([ 0.,  0.,  2., 15., 10.,  1.,  0.,  0.,  0.,  2., 13., 12., 14.,\n",
       "          9.,  0.,  0.,  0.,  6., 16.,  1.,  1., 14.,  2.,  0.,  0.,  8.,\n",
       "         16.,  0.,  0., 10.,  5.,  0.,  0.,  8., 14.,  2.,  0.,  8.,  8.,\n",
       "          0.,  0.,  6., 14.,  0.,  0.,  8.,  8.,  0.,  0.,  1., 14., 12.,\n",
       "          8., 15.,  6.,  0.,  0.,  0.,  3., 13., 16.,  8.,  1.,  0.]),\n",
       "  array([ 0.,  0.,  4., 12., 10.,  1.,  0.,  0.,  0.,  3., 16., 13., 15.,\n",
       "         10.,  0.,  0.,  0.,  5., 16.,  2.,  1., 14.,  3.,  0.,  0.,  8.,\n",
       "         13.,  0.,  0., 10.,  8.,  0.,  0.,  8., 12.,  0.,  0.,  8.,  8.,\n",
       "          0.,  0.,  8., 14.,  0.,  0., 11.,  8.,  0.,  0.,  3., 16., 14.,\n",
       "         13., 16.,  2.,  0.,  0.,  0.,  8., 16., 13.,  5.,  0.,  0.])],\n",
       " 2: [array([ 0.,  0.,  2., 12., 14.,  4.,  0.,  0.,  0.,  0., 15., 12., 11.,\n",
       "         13.,  0.,  0.,  0.,  4., 16.,  4.,  1., 14.,  6.,  0.,  0.,  4.,\n",
       "         12.,  0.,  0.,  8.,  8.,  0.,  0.,  6.,  9.,  0.,  0.,  5.,  8.,\n",
       "          0.,  0.,  3., 12.,  1.,  0., 12.,  8.,  0.,  0.,  0.,  8., 12.,\n",
       "          9., 16.,  3.,  0.,  0.,  0.,  0., 10., 13.,  3.,  0.,  0.]),\n",
       "  array([ 0.,  0.,  5., 14., 10.,  7.,  0.,  0.,  0.,  0., 16., 16., 16.,\n",
       "         16.,  3.,  0.,  0.,  3., 16., 10.,  2., 16.,  7.,  0.,  0.,  7.,\n",
       "         16.,  3.,  0., 12.,  8.,  0.,  0.,  8., 16.,  1.,  0., 12.,  8.,\n",
       "          0.,  0.,  7., 16.,  5.,  2., 16.,  4.,  0.,  0.,  2., 16., 15.,\n",
       "         14., 13.,  0.,  0.,  0.,  0.,  7., 15., 13.,  2.,  0.,  0.]),\n",
       "  array([ 0.,  0.,  4., 14., 11.,  0.,  0.,  0.,  0.,  3., 15., 15., 16.,\n",
       "          9.,  0.,  0.,  0.,  8., 13.,  0.,  3., 15.,  1.,  0.,  0.,  8.,\n",
       "         12.,  0.,  0.,  8.,  6.,  0.,  0.,  8., 12.,  0.,  0.,  8.,  8.,\n",
       "          0.,  0.,  5., 13.,  1.,  0.,  8.,  8.,  0.,  0.,  2., 15., 14.,\n",
       "         12., 15.,  6.,  0.,  0.,  0.,  5., 16., 15.,  8.,  0.,  0.])],\n",
       " 3: [array([ 0.,  0.,  2., 15.,  8.,  0.,  0.,  0.,  0.,  0.,  7., 14., 15.,\n",
       "          8.,  0.,  0.,  0.,  7., 15.,  3.,  3., 15.,  0.,  0.,  0.,  6.,\n",
       "         16.,  1.,  0.,  9.,  8.,  0.,  0.,  4., 12.,  0.,  0.,  8.,  8.,\n",
       "          0.,  0.,  0., 12.,  3.,  0., 12.,  7.,  0.,  0.,  0.,  9., 13.,\n",
       "         13., 15.,  1.,  0.,  0.,  0.,  1.,  9., 12.,  5.,  0.,  0.]),\n",
       "  array([ 0.,  0.,  4., 15., 12.,  1.,  0.,  0.,  0.,  0., 12., 11., 13.,\n",
       "         13.,  1.,  0.,  0.,  3., 12.,  0.,  0., 14.,  6.,  0.,  0.,  8.,\n",
       "         12.,  0.,  0., 11.,  8.,  0.,  0.,  8., 12.,  0.,  0.,  8.,  8.,\n",
       "          0.,  0.,  6., 13.,  0.,  0., 11.,  7.,  0.,  0.,  4., 16.,  7.,\n",
       "         10., 15.,  2.,  0.,  0.,  0.,  7., 13., 12.,  2.,  0.,  0.]),\n",
       "  array([ 0.,  0.,  6., 15., 15.,  3.,  0.,  0.,  0.,  3., 16., 14., 14.,\n",
       "         13.,  0.,  0.,  0.,  6., 15.,  2.,  1., 14.,  5.,  0.,  0.,  8.,\n",
       "         14.,  2.,  0.,  9.,  8.,  0.,  0.,  8., 16.,  4.,  0.,  8.,  8.,\n",
       "          0.,  0.,  5., 16.,  6.,  0., 11.,  9.,  0.,  0.,  1., 16., 16.,\n",
       "         14., 16.,  9.,  0.,  0.,  0.,  5., 14., 15., 10.,  1.,  0.])],\n",
       " 4: [array([ 0.,  0.,  8., 14., 15.,  6.,  0.,  0.,  0.,  4., 16., 12., 14.,\n",
       "         11.,  0.,  0.,  0.,  4.,  8.,  1., 14.,  7.,  0.,  0.,  0.,  0.,\n",
       "          0., 14., 16.,  5.,  0.,  0.,  0.,  0.,  0., 11., 16., 16.,  2.,\n",
       "          0.,  0.,  0.,  0.,  0.,  1., 15.,  7.,  0.,  0.,  0.,  4., 11.,\n",
       "          8., 14.,  7.,  0.,  0.,  0., 11., 16., 16., 10.,  0.,  0.]),\n",
       "  array([ 0.,  0.,  5., 16., 15.,  1.,  0.,  0.,  0.,  1., 15.,  9., 10.,\n",
       "         12.,  0.,  0.,  0.,  3., 16.,  1.,  0., 16.,  4.,  0.,  0.,  6.,\n",
       "         16.,  0.,  0., 11.,  6.,  0.,  0.,  3., 16.,  1.,  0., 11.,  8.,\n",
       "          0.,  0.,  4., 16.,  4.,  3., 15.,  4.,  0.,  0.,  1., 13., 13.,\n",
       "         13., 14.,  1.,  0.,  0.,  0.,  4., 13., 14.,  1.,  0.,  0.]),\n",
       "  array([ 0.,  0.,  6., 15., 13.,  2.,  0.,  0.,  0.,  1., 15., 10., 11.,\n",
       "         14.,  0.,  0.,  0.,  2., 16.,  3.,  1., 16.,  4.,  0.,  0.,  4.,\n",
       "         12.,  0.,  1., 14.,  4.,  0.,  0.,  4., 10.,  0.,  0., 15.,  3.,\n",
       "          0.,  0.,  4., 12.,  0.,  0., 15.,  3.,  0.,  0.,  1., 13.,  9.,\n",
       "         11., 16.,  2.,  0.,  0.,  0.,  4., 12., 14.,  5.,  0.,  0.])],\n",
       " 5: [array([ 0.,  0.,  2., 12.,  9.,  0.,  0.,  0.,  0.,  0., 11., 15., 12.,\n",
       "          5.,  0.,  0.,  0.,  0., 15.,  5.,  0., 14.,  0.,  0.,  0.,  2.,\n",
       "         15.,  1.,  0.,  9.,  7.,  0.,  0.,  4., 10.,  0.,  0.,  7.,  8.,\n",
       "          0.,  0.,  0., 12.,  0.,  0.,  8., 10.,  0.,  0.,  2., 15.,  5.,\n",
       "         10., 16.,  1.,  0.,  0.,  0.,  5., 14., 12.,  4.,  0.,  0.]),\n",
       "  array([ 0.,  0.,  3., 12., 10.,  1.,  0.,  0.,  0.,  1., 16., 16., 16.,\n",
       "         10.,  0.,  0.,  0.,  5., 16., 13.,  6., 16.,  1.,  0.,  0.,  5.,\n",
       "         16.,  7.,  0., 13.,  3.,  0.,  0.,  5., 16.,  4.,  0., 13.,  7.,\n",
       "          0.,  0.,  1., 16.,  8.,  0., 14.,  7.,  0.,  0.,  0., 13., 14.,\n",
       "         13., 16.,  3.,  0.,  0.,  0.,  2., 13., 15.,  6.,  0.,  0.]),\n",
       "  array([ 0.,  0.,  7., 16., 16.,  3.,  0.,  0.,  0.,  7., 16.,  9., 14.,\n",
       "          7.,  0.,  0.,  0., 10.,  9.,  0., 14.,  5.,  0.,  0.,  0.,  3.,\n",
       "          3.,  4., 16.,  2.,  0.,  0.,  0.,  0.,  0., 12., 11.,  0.,  0.,\n",
       "          0.,  0.,  0.,  6., 16.,  3.,  0.,  0.,  0.,  0.,  0., 12., 15.,\n",
       "          8.,  8.,  3.,  0.,  0.,  0., 10., 16., 16., 16.,  9.,  0.])],\n",
       " 6: [array([ 0.,  0.,  0.,  9., 14.,  4.,  0.,  0.,  0.,  0.,  6., 16., 12.,\n",
       "          4.,  0.,  0.,  0.,  1., 16., 11.,  0.,  0.,  0.,  0.,  0.,  2.,\n",
       "         16.,  7.,  3.,  0.,  0.,  0.,  0.,  4., 16., 14., 16., 10.,  0.,\n",
       "          0.,  0.,  3., 16., 15., 10., 16.,  6.,  0.,  0.,  0., 12., 16.,\n",
       "          7., 13.,  9.,  0.,  0.,  0.,  1., 11., 16., 16.,  9.,  0.]),\n",
       "  array([ 0.,  0.,  0.,  9., 10.,  0.,  0.,  0.,  0.,  0.,  7., 16.,  7.,\n",
       "          0.,  0.,  0.,  0.,  0., 13., 13.,  1.,  0.,  0.,  0.,  0.,  0.,\n",
       "         15.,  7.,  0.,  0.,  0.,  0.,  0.,  4., 16., 15., 12.,  7.,  0.,\n",
       "          0.,  0.,  2., 16., 12.,  4., 11., 10.,  0.,  0.,  0.,  8., 14.,\n",
       "          5.,  9., 14.,  0.,  0.,  0.,  0.,  6., 12., 14.,  9.,  0.]),\n",
       "  array([ 0.,  0.,  1., 14., 15.,  4.,  0.,  0.,  0.,  0.,  9., 16., 10.,\n",
       "          5.,  0.,  0.,  0.,  1., 16., 10.,  0.,  0.,  0.,  0.,  0.,  3.,\n",
       "         16., 12.,  5.,  0.,  0.,  0.,  0.,  4., 16., 16., 16.,  8.,  0.,\n",
       "          0.,  0.,  1., 15.,  7.,  4., 16.,  4.,  0.,  0.,  0., 11., 13.,\n",
       "          4., 16.,  9.,  0.,  0.,  0.,  1., 12., 16., 16.,  9.,  0.])],\n",
       " 7: [array([ 0.,  0.,  0.,  8., 15.,  2.,  0.,  0.,  0.,  0.,  6., 16.,  5.,\n",
       "          0.,  0.,  0.,  0.,  0., 12.,  8.,  0.,  0.,  0.,  0.,  0.,  0.,\n",
       "         13.,  6.,  0.,  0.,  0.,  0.,  0.,  0., 12., 12., 16., 14.,  0.,\n",
       "          0.,  0.,  0., 14., 15.,  6.,  8., 11.,  0.,  0.,  3., 12., 14.,\n",
       "          5., 10., 13.,  0.,  0.,  0.,  0.,  9., 16., 13.,  5.,  0.]),\n",
       "  array([ 0.,  0.,  0.,  6., 14.,  3.,  0.,  0.,  0.,  0.,  2., 16., 11.,\n",
       "          0.,  0.,  0.,  0.,  0., 11., 15.,  2.,  0.,  0.,  0.,  0.,  1.,\n",
       "         15., 13.,  2.,  0.,  0.,  0.,  0.,  3., 16., 16., 16.,  7.,  0.,\n",
       "          0.,  0.,  4., 16., 14.,  8., 13.,  7.,  0.,  0.,  0., 12., 16.,\n",
       "          5., 12., 10.,  0.,  0.,  0.,  0.,  8., 14., 13.,  5.,  0.]),\n",
       "  array([ 0.,  0.,  3., 14., 10.,  1.,  0.,  0.,  0.,  2., 14., 12., 15.,\n",
       "         14.,  1.,  0.,  0.,  6., 13.,  0.,  3., 14.,  8.,  0.,  0.,  5.,\n",
       "         12.,  0.,  0., 11.,  8.,  0.,  0.,  4., 14.,  0.,  0., 12.,  7.,\n",
       "          0.,  0.,  1., 14.,  4.,  3., 16.,  3.,  0.,  0.,  0.,  8., 12.,\n",
       "         12., 12.,  0.,  0.,  0.,  0.,  2., 15., 10.,  3.,  0.,  0.])],\n",
       " 8: [array([ 0.,  0.,  4., 13.,  8.,  0.,  0.,  0.,  0.,  0., 13., 16., 15.,\n",
       "          7.,  0.,  0.,  0.,  3., 16.,  9.,  6., 15.,  6.,  0.,  0.,  8.,\n",
       "         14.,  0.,  0.,  4.,  8.,  0.,  0.,  8., 12.,  0.,  0.,  4.,  8.,\n",
       "          0.,  0.,  4., 12.,  0.,  0., 11.,  6.,  0.,  0.,  0., 14., 10.,\n",
       "         12., 14.,  1.,  0.,  0.,  0.,  7., 15., 11.,  2.,  0.,  0.]),\n",
       "  array([ 0.,  0.,  0., 11., 14.,  0.,  0.,  0.,  0.,  0., 10., 16.,  4.,\n",
       "          0.,  0.,  0.,  0.,  1., 15., 11.,  0.,  0.,  0.,  0.,  0.,  3.,\n",
       "         16., 12.,  8.,  2.,  0.,  0.,  0.,  7., 16., 16., 12., 14.,  3.,\n",
       "          0.,  0.,  4., 16.,  8.,  0., 10.,  9.,  0.,  0.,  1., 12., 15.,\n",
       "          9., 14., 10.,  0.,  0.,  0.,  2., 10., 13., 11.,  1.,  0.]),\n",
       "  array([ 0.,  0.,  1., 13.,  7.,  0.,  0.,  0.,  0.,  0.,  7., 14.,  2.,\n",
       "          0.,  0.,  0.,  0.,  0., 13.,  5.,  0.,  0.,  0.,  0.,  0.,  0.,\n",
       "         16.,  3.,  0.,  0.,  0.,  0.,  0.,  3., 16., 10., 12., 12.,  3.,\n",
       "          0.,  0.,  3., 16., 11.,  5.,  9., 12.,  0.,  0.,  1., 13., 11.,\n",
       "          4., 13., 11.,  0.,  0.,  0.,  1., 12., 16., 11.,  2.,  0.])],\n",
       " 9: [array([ 0.,  0.,  5., 13.,  9.,  1.,  0.,  0.,  0.,  0., 13., 15., 10.,\n",
       "         15.,  5.,  0.,  0.,  3., 15.,  2.,  0., 11.,  8.,  0.,  0.,  4.,\n",
       "         12.,  0.,  0.,  8.,  8.,  0.,  0.,  5.,  8.,  0.,  0.,  9.,  8.,\n",
       "          0.,  0.,  4., 11.,  0.,  1., 12.,  7.,  0.,  0.,  2., 14.,  5.,\n",
       "         10., 12.,  0.,  0.,  0.,  0.,  6., 13., 10.,  0.,  0.,  0.]),\n",
       "  array([ 0.,  0.,  7., 14., 16., 11.,  0.,  0.,  0.,  2., 16., 11., 11.,\n",
       "         16.,  2.,  0.,  0.,  0.,  3.,  3., 15.,  9.,  0.,  0.,  0.,  0.,\n",
       "          0., 10., 16.,  8.,  0.,  0.,  0.,  0.,  0.,  3., 14., 15.,  2.,\n",
       "          0.,  0.,  0.,  0.,  0.,  1., 16.,  6.,  0.,  0.,  0.,  3., 12.,\n",
       "         13., 15.,  2.,  0.,  0.,  0.,  6., 16., 12.,  5.,  0.,  0.]),\n",
       "  array([ 0.,  0.,  5., 15., 12.,  8.,  0.,  0.,  0.,  0., 13., 16., 10.,\n",
       "         13.,  3.,  0.,  0.,  5., 16.,  9.,  0.,  8.,  4.,  0.,  0.,  4.,\n",
       "         13.,  1.,  0.,  4.,  8.,  0.,  0.,  4.,  8.,  0.,  0.,  8.,  4.,\n",
       "          0.,  0.,  1., 14.,  0.,  0., 11.,  3.,  0.,  0.,  0., 12.,  9.,\n",
       "          9., 15.,  0.,  0.,  0.,  0.,  4., 14., 15.,  4.,  0.,  0.])]}"
      ]
     },
     "execution_count": 142,
     "metadata": {},
     "output_type": "execute_result"
    }
   ],
   "source": [
    "def subspaces(labelled_data, K = 3):\n",
    "    final_dict = {}\n",
    "    dist_sk_rk = {}\n",
    "    for k,v in labelled_data.items():\n",
    "        rk=np.linalg.svd(v)[2][0:1]\n",
    "                       \n",
    "        for row in v:\n",
    "            if(rk.dot(rk.T).all() == 0):                \n",
    "                samplek_in_rk = 0\n",
    "            elif (rk.dot(rk.T).any() != 0):                 \n",
    "                samplek_in_rk = (rk.dot(row))/rk.dot(rk.T) @ rk \n",
    "        \n",
    "            dist_sk_rk[np.linalg.norm(row-samplek_in_rk) ] = row\n",
    "            \n",
    "        dist_sk_rk_list = [dist_sk_rk.pop(min(dist_sk_rk.keys())) for i in range(min(K,len(dist_sk_rk.keys())))]\n",
    "        \n",
    "        final_dict = {**final_dict,**{k:dist_sk_rk_list}}\n",
    "        \n",
    "    return(final_dict) # reutning a dictionary with max k rows closest to its label\n",
    "            \n",
    "            \n",
    "        \n",
    "    \n",
    "\n",
    "getlabeleddata = split_data(training_digits,training_labels,digits.target_names)\n",
    "subspaces(getlabeleddata)\n"
   ]
  },
  {
   "cell_type": "markdown",
   "metadata": {},
   "source": [
    "g) Create a function `classification(spaces, x)` that takes a dictionary such as produced by `subspaces` above and a single vector and produces the label of the subspace with the smallest norm-2-distance. In the task above, this would have meant that classifying $sample4$ would have produced the label 4 rather than 9, since $sample4$ was closer to the subspace $Z_4$ than the subspace $Z_9$."
   ]
  },
  {
   "cell_type": "code",
   "execution_count": 146,
   "metadata": {},
   "outputs": [
    {
     "data": {
      "text/plain": [
       "1"
      ]
     },
     "execution_count": 146,
     "metadata": {},
     "output_type": "execute_result"
    }
   ],
   "source": [
    "def classify(spaces, x):\n",
    "    dist_sk_rk = {}\n",
    "    for k,v in spaces.items():        \n",
    "        rk=np.linalg.svd(v)[2][0:1]\n",
    "        \n",
    "        if(rk.dot(rk.T).all() == 0):            \n",
    "            samplek_in_rk = 0\n",
    "        elif (rk.dot(rk.T).any() != 0):             \n",
    "            samplek_in_rk = ((rk.dot(x))/rk.dot(rk.T)) @ rk            \n",
    "        \n",
    "        dist_sk_rk[np.linalg.norm(x-samplek_in_rk)] = k\n",
    "        \n",
    "    return(dist_sk_rk[min(dist_sk_rk)])\n",
    "\n",
    "getlabeleddata = split_data(training_digits,training_labels,digits.target_names)\n",
    "spaces = subspaces(getlabeleddata)\n",
    "classify(spaces,np.asarray([ 0.,  0.,  2., 15., 10.,  1.,  0.,  0.,  0.,  2., 13., 12., 14.,\n",
    "          9.,  0.,  0.,  0.,  6., 16.,  1.,  1., 14.,  2.,  0.,  0.,  8.,\n",
    "         16.,  0.,  0., 10.,  5.,  0.,  0.,  8., 14.,  2.,  0.,  8.,  8.,\n",
    "          0.,  0.,  6., 14.,  0.,  0.,  8.,  8.,  0.,  0.,  1., 14., 12.,\n",
    "          8., 15.,  6.,  0.,  0.,  0.,  3., 13., 16.,  8.,  1.,  0.]))\n"
   ]
  },
  {
   "cell_type": "markdown",
   "metadata": {},
   "source": [
    "h) Now pick the first 600 rows as training and the remaining (about 1100) as validation sets. What percentage does the classifier get right? What happens if you pick $k = 5, 10, 100, 1000$? Try it out. (The sharp-eyed student will notice that not all of these choices make sense from a mathematical perspective.)"
   ]
  },
  {
   "cell_type": "code",
   "execution_count": 38,
   "metadata": {},
   "outputs": [
    {
     "data": {
      "text/plain": [
       "56.00000000000001"
      ]
     },
     "execution_count": 38,
     "metadata": {},
     "output_type": "execute_result"
    }
   ],
   "source": [
    "\n",
    "\n",
    "getlabeleddata = split_data(training_digits,training_labels,digits.target_names)\n",
    "subspacedata = subspaces(getlabeleddata,5)\n",
    "#subspacedata = subspaces(getlabeleddata,10)\n",
    "#subspacedata = subspaces(getlabeleddata,100)\n",
    "#subspacedata = subspaces(getlabeleddata,1000)\n",
    "\n",
    "correct_classf_count = 0\n",
    "inncorrect_classf_count = 0\n",
    "for i in subspacedata:\n",
    "    for j in subspacedata[i]:\n",
    "        classifiedlabel = classify(subspacedata, np.asarray(j))\n",
    "        if(classifiedlabel == i):\n",
    "            correct_classf_count = correct_classf_count+1\n",
    "        else:\n",
    "            inncorrect_classf_count = inncorrect_classf_count+1\n",
    "        #print(f\"classfied label:{classifiedlabel}\")\n",
    "        #print(f\"actual label from subspace:{i}\")\n",
    "\n",
    "correct_percentage = (correct_classf_count/(correct_classf_count+inncorrect_classf_count))*100\n",
    "correct_percentage"
   ]
  },
  {
   "cell_type": "markdown",
   "metadata": {},
   "source": [
    "# 7. Encapsulating the classifier"
   ]
  },
  {
   "cell_type": "markdown",
   "metadata": {},
   "source": [
    "Above we have a set of functions floating around in a global namespace. If we change some data and rerun some cells, we might get unexpected results. We instead want to encapsulate this in a single class."
   ]
  },
  {
   "cell_type": "markdown",
   "metadata": {},
   "source": [
    "a) Create a class `NaiveProjection`. It should have the following properties:\n",
    "* An instance is created with `NaiveProjection(training_data, training_labels, all_labels, k)` where $k$ is optional (and defaults to 3). \n",
    "\n",
    "For instance, we should be able to run ```dig_class = NaiveProjection(training_data = digits.data[0:600,:], training_labels = digits.target[0:600], all_labels = digits.target_names)```.\n",
    "* The class should have a method called `classification` which takes vector and returns the classification of that vector as defined above (minimum 2-norm distance to the subspace).\n",
    "* The class should have a method called `hitrate` which takes a matrix of row vectors, a vector of correct labels and returns the rate of successfully classified \n",
    "* All data about subspaces and labels should be stored within the instance. We may not use any data stored outside (though it is of course OK to call outside functions). We should be able to create two (or more) independent classifiers\n",
    "\n",
    "```\n",
    "dig15 = NaiveProjection(digits.data[0:600, :], digits.target[0:600], k = 15)\n",
    "dig1 = NaiveProjection(digits.data[0:600, :], digits.target[0:600], k = 1)\n",
    "```\n",
    "which should be entirely independent."
   ]
  },
  {
   "cell_type": "code",
   "execution_count": 39,
   "metadata": {},
   "outputs": [],
   "source": [
    "import numpy as np\n",
    "class NaiveProjection:\n",
    "    def __init__(self,training_data, training_labels, all_labels, k=3):\n",
    "        self.getlabeleddata = split_data(training_digits,training_labels,digits.target_names)\n",
    "        self.subspace = subspaces(getlabeleddata,k)\n",
    "\n",
    "    def classification(self,vect):\n",
    "        return(classify(self.subspace,np.asarray(vect)))\n",
    "    \n",
    "    def hitrate(self,rowvect,correct_labels):\n",
    "        correct_classf_count = 0\n",
    "        inncorrect_classf_count = 0\n",
    "        for i in range(len(correct_labels)):\n",
    "            classifiedlabel = self.classification(rowvect[i])\n",
    "            if(classifiedlabel == i):\n",
    "                correct_classf_count = correct_classf_count+1\n",
    "            else:\n",
    "                inncorrect_classf_count = inncorrect_classf_count+1\n",
    "        correct_percentage = (correct_classf_count/(correct_classf_count+inncorrect_classf_count))*100\n",
    "        return(correct_percentage)\n",
    "   "
   ]
  },
  {
   "cell_type": "code",
   "execution_count": 40,
   "metadata": {},
   "outputs": [
    {
     "name": "stdout",
     "output_type": "stream",
     "text": [
      "Hit rate for k = 1: 0.0\n",
      "Hit rate for k = 15: 0.0835421888053467\n"
     ]
    }
   ],
   "source": [
    "# You can test here\n",
    "dig1 = NaiveProjection(digits.data[0:600, :], digits.target[0:600], digits.target_names, k = 1)\n",
    "dig15 = NaiveProjection(digits.data[0:600, :], digits.target[0:600], digits.target_names, k = 15)\n",
    "\n",
    "print(f\"Hit rate for k = 1: {dig1.hitrate(digits.data[600:], digits.target[600:])}\")\n",
    "print(f\"Hit rate for k = 15: {dig15.hitrate(digits.data[600:], digits.target[600:])}\")"
   ]
  },
  {
   "cell_type": "markdown",
   "metadata": {},
   "source": [
    "There are several noteworthy issues here.\n",
    "* We have taken a few mathematical shortcuts.\n",
    "* There is no error handling. \n",
    "* We have not discussed overlapping subspaces, sampling strategies or the like.\n",
    "* It might make a lot more sense to classify a matrix of vectors, rather than a single vector (to utilise the speed of computations). \n",
    "\n",
    "Most of this is left to an actual statistics course. The interested reader is referred to for instance Strang - Linear algebra and learning from data, or Golub & van Loan - Matrix computations."
   ]
  },
  {
   "cell_type": "markdown",
   "metadata": {},
   "source": [
    "b) Experiment with different values of $k$ and training data/validation data sets. Plot the results using the library ```matplotlib```."
   ]
  },
  {
   "cell_type": "code",
   "execution_count": 383,
   "metadata": {},
   "outputs": [
    {
     "data": {
      "image/png": "[encoded data removed]",
      "text/plain": [
       "<Figure size 432x288 with 1 Axes>"
      ]
     },
     "metadata": {
      "needs_background": "light"
     },
     "output_type": "display_data"
    }
   ],
   "source": [
    "%matplotlib inline\n",
    "from matplotlib import pyplot as plt\n",
    "training_digits = digits.data[0:600, :]\n",
    "training_labels = digits.target[0:600]\n",
    "training_corr_labels = digits.target_names[0:600]\n",
    "\n",
    "k1 = 1\n",
    "k2 = 30\n",
    "k3 = 50\n",
    "k4 = 300\n",
    "\n",
    "\n",
    "dig100 = NaiveProjection(training_digits, training_labels, training_corr_labels, k = k1)\n",
    "dig200 = NaiveProjection(training_digits, training_labels, training_corr_labels, k = k2)\n",
    "dig1000 = NaiveProjection(training_digits, training_labels, training_corr_labels, k = k3)\n",
    "dig2000 = NaiveProjection(training_digits, training_labels, training_corr_labels, k = k4)\n",
    "\n",
    "correctness1 = dig100.hitrate(digits.data[600:], digits.target[600:])\n",
    "correctness2 = dig200.hitrate(digits.data[600:], digits.target[600:])\n",
    "correctness3 = dig1000.hitrate(digits.data[600:], digits.target[600:])\n",
    "correctness4 = dig2000.hitrate(digits.data[600:], digits.target[600:])\n",
    "\n",
    "plt.plot([k1,k2,k3,k4],[correctness1,correctness2,correctness3,correctness4])\n",
    "plt.ylabel('correctness percentage')\n",
    "plt.xlabel('number of K')\n",
    "plt.show()\n"
   ]
  },
  {
   "cell_type": "markdown",
   "metadata": {},
   "source": [
    "## Acknowledgments"
   ]
  },
  {
   "cell_type": "markdown",
   "metadata": {},
   "source": [
    "This lab in 732A74 is by Anders Märak Leffler (2019), with a major revision in 2020. The introductory text is by Johan Falkenjack (2018).\n",
    "\n",
    "Licensed under [CC-BY-SA 4.0](https://creativecommons.org/licenses/by-sa/4.0/)."
   ]
  }
 ],
 "metadata": {
  "anaconda-cloud": {},
  "kernelspec": {
   "display_name": "Python 3",
   "language": "python",
   "name": "python3"
  },
  "language_info": {
   "codemirror_mode": {
    "name": "ipython",
    "version": 3
   },
   "file_extension": ".py",
   "mimetype": "text/x-python",
   "name": "python",
   "nbconvert_exporter": "python",
   "pygments_lexer": "ipython3",
   "version": "3.7.4"
  }
 },
 "nbformat": 4,
 "nbformat_minor": 2
}
